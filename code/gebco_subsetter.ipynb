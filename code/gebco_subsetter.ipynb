{
 "cells": [
  {
   "cell_type": "code",
   "execution_count": 3,
   "id": "ccd90654-373e-43f7-9d43-07971b1ac750",
   "metadata": {},
   "outputs": [],
   "source": [
    "from osgeo import gdal\n",
    "import pandas as pd\n",
    "import geopandas as gpd\n",
    "import rasterio as rio\n",
    "import numpy as np\n",
    "from rasterio.warp import reproject\n",
    "from atl_module.raster_interaction import subset_gebco"
   ]
  },
  {
   "cell_type": "code",
   "execution_count": 4,
   "id": "0e4809a0-c726-46b6-abc6-c22fd5b6be4f",
   "metadata": {},
   "outputs": [],
   "source": [
    "subset_gebco( '../data/test_sites/North_aus')"
   ]
  },
  {
   "cell_type": "code",
   "execution_count": 76,
   "id": "814fc950-a4d7-466e-9ec1-f9212c119322",
   "metadata": {},
   "outputs": [],
   "source": [
    "def subset_gebco(folderpath):\n",
    "    \n",
    "    out_raster_path = f'{folderpath}/bilinear.tif'\n",
    "    options = gdal.WarpOptions(\n",
    "        outputBounds=bounds_wgs84,\n",
    "        outputBoundsSRS='EPSG:4326',\n",
    "        srcSRS='EPSG:4326',\n",
    "        dstSRS=f'EPSG:{epsg_no}',\n",
    "        xRes=50,\n",
    "        yRes=50,\n",
    "        resampleAlg='bilinear',\n",
    "        srcNodata=-32767,\n",
    "        dstNodata=-32767,\n",
    "        outputType=gdal.GDT_Float64,\n",
    "        # format='GTiff'\n",
    "\n",
    "    )\n",
    "    ds = gdal.Warp(out_raster_path,'/mnt/c/Users/XCB/OneDrive - Van Oord/Documents/thesis/data/GEBCO/GEBCO_2021_sub_ice_topo.nc',options = options)\n",
    "    ds = None\n",
    "    \n",
    "    with rio.open(f'{folderpath}/bilinear.tif',mode='r+') as reprojected_raster:\n",
    "        raw_data = reprojected_raster.read(1,masked=True)\n",
    "        raw_data[raw_data > 2]=np.NaN\n",
    "        raw_data[raw_data < -40]=np.NaN\n",
    "\n",
    "        print(raw_data)\n",
    "        reprojected_raster.write(raw_data,1)"
   ]
  },
  {
   "cell_type": "code",
   "execution_count": null,
   "id": "afaf9db2-3d35-46a8-8fce-14b913833030",
   "metadata": {},
   "outputs": [],
   "source": []
  }
 ],
 "metadata": {
  "kernelspec": {
   "display_name": "Python 3 (ipykernel)",
   "language": "python",
   "name": "python3"
  },
  "language_info": {
   "codemirror_mode": {
    "name": "ipython",
    "version": 3
   },
   "file_extension": ".py",
   "mimetype": "text/x-python",
   "name": "python",
   "nbconvert_exporter": "python",
   "pygments_lexer": "ipython3",
   "version": "3.9.10"
  },
  "vscode": {
   "interpreter": {
    "hash": "ec7c7d4d013ec650dc8eb8b9310ce197f2a724f68d99fdc157fb921cb8b4fa41"
   }
  }
 },
 "nbformat": 4,
 "nbformat_minor": 5
}
