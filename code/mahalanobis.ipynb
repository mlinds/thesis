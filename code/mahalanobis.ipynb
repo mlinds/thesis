{
 "cells": [
  {
   "cell_type": "code",
   "execution_count": 2,
   "id": "3735d6c6-0a18-47eb-9c89-adf0410b6766",
   "metadata": {},
   "outputs": [],
   "source": []
  },
  {
   "cell_type": "code",
   "execution_count": null,
   "id": "d5b0861d-8cff-4e63-aae2-93b0ad8c4121",
   "metadata": {},
   "outputs": [],
   "source": [
    "\n",
    "\n",
    "np.meshgrid("
   ]
  }
 ],
 "metadata": {
  "kernelspec": {
   "display_name": "Python 3 (ipykernel)",
   "language": "python",
   "name": "python3"
  },
  "language_info": {
   "codemirror_mode": {
    "name": "ipython",
    "version": 3
   },
   "file_extension": ".py",
   "mimetype": "text/x-python",
   "name": "python",
   "nbconvert_exporter": "python",
   "pygments_lexer": "ipython3",
   "version": "3.9.10"
  }
 },
 "nbformat": 4,
 "nbformat_minor": 5
}
