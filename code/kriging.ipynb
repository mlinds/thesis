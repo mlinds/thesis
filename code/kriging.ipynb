{
 "cells": [
  {
   "cell_type": "code",
   "execution_count": null,
   "id": "d0c669d0-b066-409b-8d72-319c7fda4ac1",
   "metadata": {},
   "outputs": [],
   "source": [
    "from pykrige.ok import OrdinaryKriging\n",
    "from pykrige.uk import UniversalKriging\n",
    "# from pykrige.rk import RegressionKriging\n",
    "import geopandas as gpd\n",
    "import rasterio\n",
    "import rioxarray\n",
    "import pdal"
   ]
  },
  {
   "cell_type": "code",
   "execution_count": null,
   "id": "aa61b9f7-24c9-4c1d-88b5-5274cac621f5",
   "metadata": {},
   "outputs": [],
   "source": [
    "# load the bathy points\n",
    "\n",
    "pts_gdf_all = gpd.read_file('../data/test_sites/florida_keys/all_bathy_pts.gpkg')\n"
   ]
  },
  {
   "cell_type": "code",
   "execution_count": null,
   "id": "a92f40ea-0708-452a-bfc2-e9b4104afe53",
   "metadata": {},
   "outputs": [],
   "source": [
    "pts_gdf_all"
   ]
  },
  {
   "cell_type": "code",
   "execution_count": null,
   "id": "571b5141",
   "metadata": {},
   "outputs": [],
   "source": [
    "# # create a numpy array that PDAL can read by subsetting the columns and renaming the northing, easting, etc columns to the LAS defaults (Z,Y,Z)\n",
    "pdal_array = pts_gdf_all.loc[:,['northing','easting','z_kde']].rename(columns={'northing':'Y','easting':'X','z_kde':'Z'}).to_records(index=False)\n",
    "\n",
    "# pipeline = pdal.Filter.elm(cell=5).pipeline(pdal_array)\n",
    "# pipeline |= pdal.Writer.las(filename='../data/resample_test/all_pts.laz')\n",
    "\n",
    "# print(pipeline.execute())"
   ]
  },
  {
   "cell_type": "code",
   "execution_count": null,
   "metadata": {},
   "outputs": [],
   "source": [
    "\n",
    "# create a PDAL pipeline\n",
    "pipeline = pdal.Filter.relaxationdartthrowing(count=8000).pipeline(pdal_array)\n",
    "\n",
    "print(pipeline.execute())\n",
    "\n",
    "thinned_array = pipeline.arrays[0]\n",
    "\n",
    "pipeline = pdal.Writer.las(filename='../data/resample_test/filtered.laz').pipeline(thinned_array)\n",
    "print(pipeline.execute())"
   ]
  },
  {
   "cell_type": "code",
   "execution_count": null,
   "id": "8095e6eb",
   "metadata": {},
   "outputs": [],
   "source": [
    "pts_gdf = gpd.GeoDataFrame(thinned_array,geometry=gpd.points_from_xy(thinned_array['X'],thinned_array['Y'],crs='EPSG:32617'))"
   ]
  },
  {
   "cell_type": "code",
   "execution_count": null,
   "id": "8cffb517-46d3-4e12-9c26-d09250af5046",
   "metadata": {},
   "outputs": [],
   "source": [
    "# keep points within a half meter of the estimated seafloor\n",
    "# pts_gdf = pts_gdf[abs(pts_gdf.Z_g - pts_gdf.z_kde) < 0.005]"
   ]
  },
  {
   "cell_type": "code",
   "execution_count": null,
   "id": "4792f6a0",
   "metadata": {},
   "outputs": [],
   "source": [
    "def krige_bathy(pts_gdf,krmodel):\n",
    "    # pts_gdf = pts_gdf.sort_values('kde_val',ascending=False).iloc[:3000]\n",
    "    ras = rasterio.open('../data/resample_test/bilinear.tif')\n",
    "    ar = rioxarray.open_rasterio(ras)\n",
    "    gridx = ar.x.data\n",
    "    gridy = ar.y.data\n",
    "    # going to randomly downsample the lidar point dataframe to make the UK model faster\n",
    "\n",
    "    # pts_gdf = pts_gdf.sample(1000)\n",
    "    pts_gdf.to_file('../data/resample_test/keys_testpts.gpkg')\n",
    "\n",
    "    x_loc = pts_gdf.geometry.x.to_numpy()\n",
    "    y_loc = pts_gdf.geometry.y.to_numpy()\n",
    "    z_elev = pts_gdf.Z.to_numpy()\n",
    "    krigemodel = krmodel(\n",
    "        x=x_loc,\n",
    "        y=y_loc,\n",
    "        z=z_elev,\n",
    "        variogram_model='linear',\n",
    "        verbose=True,\n",
    "        coordinates_type = \"euclidean\",\n",
    "    )\n",
    "\n",
    "    # krigemodel = UniversalKriging(\n",
    "    #     x=x_loc,\n",
    "    #     y=y_loc,\n",
    "    #     z=z_elev,\n",
    "    #     variogram_model='linear',\n",
    "    #     verbose=True,\n",
    "    #     # coordinates_type = \"euclidean\",\n",
    "    # )\n",
    "        \n",
    "    z,ss = krigemodel.execute('grid',gridx,gridy)\n",
    "    # xarray/rioxarray are too complicated, going to just use rasterio\n",
    "\n",
    "    with rasterio.open('../data/resample_test/interp_OK.tif',mode='w+',crs=ras.crs,width=ras.width,height=ras.height,count=2,dtype=ras.dtypes[0],transform=ras.transform,) as rasout:\n",
    "        rasout.write(z,1)\n",
    "        rasout.write(ss,2)\n",
    "\n",
    "\n",
    "krige_bathy(pts_gdf=pts_gdf,krmodel=OrdinaryKriging)"
   ]
  },
  {
   "cell_type": "code",
   "execution_count": null,
   "id": "a9847e26",
   "metadata": {},
   "outputs": [],
   "source": []
  }
 ],
 "metadata": {
  "interpreter": {
   "hash": "ec7c7d4d013ec650dc8eb8b9310ce197f2a724f68d99fdc157fb921cb8b4fa41"
  },
  "kernelspec": {
   "display_name": "Python 3 (ipykernel)",
   "language": "python",
   "name": "python3"
  },
  "language_info": {
   "codemirror_mode": {
    "name": "ipython",
    "version": 3
   },
   "file_extension": ".py",
   "mimetype": "text/x-python",
   "name": "python",
   "nbconvert_exporter": "python",
   "pygments_lexer": "ipython3",
   "version": "3.9.10"
  }
 },
 "nbformat": 4,
 "nbformat_minor": 5
}
