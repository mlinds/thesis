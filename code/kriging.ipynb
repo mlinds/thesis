{
 "cells": [
  {
   "cell_type": "code",
   "execution_count": 2,
   "id": "d0c669d0-b066-409b-8d72-319c7fda4ac1",
   "metadata": {},
   "outputs": [],
   "source": [
    "from pykrige.ok import OrdinaryKriging\n",
    "# from pykrige.uk import UniversalKriging\n",
    "# from pykrige.rk import RegressionKriging\n",
    "import geopandas as gpd\n",
    "import rasterio\n",
    "import rioxarray\n",
    "import xarray"
   ]
  },
  {
   "cell_type": "code",
   "execution_count": 4,
   "id": "aa61b9f7-24c9-4c1d-88b5-5274cac621f5",
   "metadata": {},
   "outputs": [],
   "source": [
    "# load the bathy points\n",
    "\n",
    "pts_gdf_all = gpd.read_file('../data/resample_test/thinned.shp',mode='r')\n",
    "# pts_gdf = pts_gdf.drop(columns=['fema_elev']).dropna()"
   ]
  },
  {
   "cell_type": "code",
   "execution_count": 34,
   "id": "8cffb517-46d3-4e12-9c26-d09250af5046",
   "metadata": {},
   "outputs": [],
   "source": [
    "# keep points within a half meter of the estimated seafloor\n",
    "# pts_gdf = pts_gdf[abs(pts_gdf.Z_g - pts_gdf.z_kde) < 0.005]"
   ]
  },
  {
   "cell_type": "code",
   "execution_count": 5,
   "id": "5514c11c",
   "metadata": {},
   "outputs": [],
   "source": [
    "pts_gdf = pts_gdf_all.sample(5000)"
   ]
  },
  {
   "cell_type": "code",
   "execution_count": 6,
   "id": "4792f6a0",
   "metadata": {},
   "outputs": [],
   "source": [
    "# pts_gdf = pts_gdf.sort_values('kde_val',ascending=False).iloc[:3000]"
   ]
  },
  {
   "cell_type": "code",
   "execution_count": 7,
   "id": "49c89868-e3b0-4f0a-84c2-fc1bbb6a05f3",
   "metadata": {},
   "outputs": [],
   "source": [
    "ras = rasterio.open('../data/resample_test/bilinear.tif')"
   ]
  },
  {
   "cell_type": "code",
   "execution_count": 8,
   "id": "f63d5916-d642-4935-b75b-8171dbcb1feb",
   "metadata": {},
   "outputs": [],
   "source": [
    "ar = rioxarray.open_rasterio(ras)\n",
    "gridx = ar.x.data\n",
    "gridy = ar.y.data"
   ]
  },
  {
   "cell_type": "code",
   "execution_count": 10,
   "id": "bab4b011-e0ff-432e-ba1a-52134b3eedbf",
   "metadata": {},
   "outputs": [
    {
     "name": "stderr",
     "output_type": "stream",
     "text": [
      "/home/mlinds/mambaforge/envs/thesis_env/lib/python3.9/site-packages/geopandas/io/file.py:362: FutureWarning: pandas.Int64Index is deprecated and will be removed from pandas in a future version. Use pandas.Index with the appropriate dtype instead.\n",
      "  pd.Int64Index,\n"
     ]
    }
   ],
   "source": [
    "# going to randomly downsample the lidar point dataframe to make the UK model faster\n",
    "\n",
    "# pts_gdf = pts_gdf.sample(1000)\n",
    "pts_gdf.to_file('../data/resample_test/keys_testpts.gpkg')\n",
    "\n",
    "x_loc = pts_gdf.geometry.x.to_numpy()\n",
    "y_loc = pts_gdf.geometry.y.to_numpy()\n",
    "z_elev = pts_gdf.Mean.to_numpy()"
   ]
  },
  {
   "cell_type": "code",
   "execution_count": 11,
   "id": "d50f0a50-53d8-4a6a-b5e7-9dd3abbe7903",
   "metadata": {},
   "outputs": [
    {
     "name": "stdout",
     "output_type": "stream",
     "text": [
      "Adjusting data for anisotropy...\n",
      "Initializing variogram model...\n",
      "Coordinates type: 'euclidean' \n",
      "\n",
      "Using 'linear' Variogram Model\n",
      "Slope: 8.252191348406586e-05\n",
      "Nugget: 14.692171269129194 \n",
      "\n",
      "Calculating statistics on variogram model fit...\n"
     ]
    }
   ],
   "source": [
    "okmodel = OrdinaryKriging(\n",
    "    x=x_loc,\n",
    "    y=y_loc,\n",
    "    z=z_elev,\n",
    "    variogram_model='linear',\n",
    "    verbose=True,\n",
    "    coordinates_type = \"euclidean\",\n",
    ")\n",
    "\n",
    "# ukmodel = UniversalKriging(\n",
    "#     x=x_loc,\n",
    "#     y=y_loc,\n",
    "#     z=z_elev,\n",
    "#     variogram_model='linear',\n",
    "#     verbose=True,\n",
    "#     # coordinates_type = \"euclidean\",\n",
    "# )\n",
    "    "
   ]
  },
  {
   "cell_type": "code",
   "execution_count": 12,
   "id": "3b3caabc-238f-45b3-9852-1130a68a155e",
   "metadata": {},
   "outputs": [
    {
     "name": "stdout",
     "output_type": "stream",
     "text": [
      "Executing Ordinary Kriging...\n",
      "\n"
     ]
    }
   ],
   "source": [
    "z,ss = okmodel.execute('grid',gridx,gridy)"
   ]
  },
  {
   "cell_type": "code",
   "execution_count": 43,
   "id": "7baa4ec7-eb5e-42f7-8671-913b59175dc4",
   "metadata": {},
   "outputs": [
    {
     "data": {
      "text/plain": [
       "('float32',)"
      ]
     },
     "execution_count": 43,
     "metadata": {},
     "output_type": "execute_result"
    }
   ],
   "source": [
    "ras.dtypes"
   ]
  },
  {
   "cell_type": "code",
   "execution_count": 13,
   "id": "3c9719a8-9403-4c30-b3dd-41c665ab1ee5",
   "metadata": {
    "tags": []
   },
   "outputs": [],
   "source": [
    "# xarray and rioxarray are too fuckin complicated, going to just use rasterio if I can\n",
    "\n",
    "with rasterio.open('../data/resample_test/interp.tif',mode='w+',crs=ras.crs,width=ras.width,height=ras.height,count=2,dtype=ras.dtypes[0],transform=ras.transform,) as rasout:\n",
    "    rasout.write(z,1)\n",
    "    rasout.write(ss,2)\n"
   ]
  },
  {
   "cell_type": "code",
   "execution_count": 45,
   "id": "55851d59-e943-4995-9841-06c63a92cb31",
   "metadata": {},
   "outputs": [],
   "source": [
    "masks= ras.read_masks(1)"
   ]
  },
  {
   "cell_type": "code",
   "execution_count": null,
   "id": "1b2ee2dc-0e68-433f-8c12-d7e947311cd1",
   "metadata": {},
   "outputs": [],
   "source": []
  },
  {
   "cell_type": "code",
   "execution_count": null,
   "id": "bb6d1970-ce4b-4c68-ba1f-7358260f6f32",
   "metadata": {},
   "outputs": [],
   "source": []
  }
 ],
 "metadata": {
  "interpreter": {
   "hash": "ec7c7d4d013ec650dc8eb8b9310ce197f2a724f68d99fdc157fb921cb8b4fa41"
  },
  "kernelspec": {
   "display_name": "Python 3.9.10 ('thesis_env')",
   "language": "python",
   "name": "python3"
  },
  "language_info": {
   "codemirror_mode": {
    "name": "ipython",
    "version": 3
   },
   "file_extension": ".py",
   "mimetype": "text/x-python",
   "name": "python",
   "nbconvert_exporter": "python",
   "pygments_lexer": "ipython3",
   "version": "3.9.10"
  }
 },
 "nbformat": 4,
 "nbformat_minor": 5
}
