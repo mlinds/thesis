{
 "cells": [
  {
   "cell_type": "code",
   "execution_count": 1,
   "metadata": {},
   "outputs": [
    {
     "name": "stdout",
     "output_type": "stream",
     "text": [
      "/mnt/c/Users/maxli/OneDrive - Van Oord/Documents/thesis/code\n"
     ]
    }
   ],
   "source": [
    "%cd .."
   ]
  },
  {
   "cell_type": "code",
   "execution_count": 2,
   "metadata": {},
   "outputs": [],
   "source": [
    "from atl_module.geospatial_utils.raster_interaction import random_raster_gdf,subset_gebco\n",
    "from atl_module import GebcoUpscaler\n",
    "from atl_module.kriging import krige_bathy,_relaxation_dart_throwing\n",
    "from atl_module.error_calc import raster_RMSE_blocked\n",
    "from atl_module.kalman import gridded_kalman_update\n",
    "import geopandas as gpd"
   ]
  },
  {
   "cell_type": "code",
   "execution_count": 4,
   "metadata": {},
   "outputs": [],
   "source": [
    "truthraster_path = '../data/test_sites/florida_keys/in-situ-dem/truth.vrt'\n",
    "\n",
    "gdf = random_raster_gdf(truthraster_path,40000)"
   ]
  },
  {
   "cell_type": "code",
   "execution_count": null,
   "metadata": {},
   "outputs": [],
   "source": [
    "gdf = gdf.rename(columns={'truth raster elevation':'sf_elev_MSL'})\n",
    "gdf.plot()"
   ]
  },
  {
   "cell_type": "code",
   "execution_count": null,
   "metadata": {},
   "outputs": [],
   "source": [
    "gdf.to_file('../data/truthraster_sampling/all_bathy_pts.gpkg')\n",
    "gdf = gdf.to_crs(gdf.estimate_utm_crs())"
   ]
  },
  {
   "cell_type": "code",
   "execution_count": null,
   "metadata": {},
   "outputs": [],
   "source": [
    "# gdf = gdf.rename(columns={'truth raster elevation':'sf_elev_MSL'})\n"
   ]
  },
  {
   "cell_type": "code",
   "execution_count": null,
   "metadata": {},
   "outputs": [],
   "source": [
    "hres = 50\n",
    "subset_gebco('../data/truthraster_sampling',bathy_pts=gdf,epsg_no=gdf.crs.to_epsg(),hres=hres)"
   ]
  },
  {
   "cell_type": "code",
   "execution_count": null,
   "metadata": {},
   "outputs": [],
   "source": [
    "# gdf = gdf.rename(columns={'truth raster elevation':'sf_elev_MSL'})\n"
   ]
  },
  {
   "cell_type": "code",
   "execution_count": null,
   "metadata": {},
   "outputs": [],
   "source": [
    "gdf = gdf[gdf.sf_elev_MSL < 0]"
   ]
  },
  {
   "cell_type": "code",
   "execution_count": null,
   "metadata": {},
   "outputs": [],
   "source": [
    "import rasterio \n",
    "import matplotlib.pyplot as plt\n",
    "from rasterio.plot import show as rastershow"
   ]
  },
  {
   "cell_type": "code",
   "execution_count": null,
   "metadata": {},
   "outputs": [],
   "source": [
    "with rasterio.open('../data/special_sites/niiahu/in-situ-dem/Job761532_usace2013_niihau_dem.tif') as femaras:\n",
    "    fig, ax = plt.subplots(figsize=(20, 12))\n",
    "    ax.set_xlabel(f\"Degrees longitude in {femaras.crs}\")\n",
    "    ax.set_ylabel(f\"Degrees latitude in {femaras.crs}\")\n",
    "    # ax.set_title(\"\")\n",
    "    # cx.add_basemap(ax,source=cx.providers.OpenTopoMap,crs=femaras.crs)\n",
    "    image_hidden = ax.imshow(\n",
    "        femaras.read(1, masked=True),\n",
    "        cmap=\"inferno\",\n",
    "    )\n",
    "    rastershow(femaras, cmap=\"inferno\", ax=ax)\n",
    "\n",
    "    fig.colorbar(image_hidden, ax=ax)\n",
    "\n",
    "fig.savefig('../document/figures/truthraster_sampling_rasterplot.jpg',dpi=500,bbox_inches='tight')"
   ]
  },
  {
   "cell_type": "code",
   "execution_count": null,
   "metadata": {},
   "outputs": [],
   "source": [
    "gdf_sampled = gpd.read_file('../data/truthraster_sampling/kriging_pts/')\n"
   ]
  },
  {
   "cell_type": "code",
   "execution_count": null,
   "metadata": {},
   "outputs": [],
   "source": [
    "ax = gdf_sampled.plot(figsize=(20, 12))\n",
    "ax.get_figure().savefig('../document/figures/pts_sampled_from_truthraster.jpg')"
   ]
  },
  {
   "cell_type": "code",
   "execution_count": null,
   "metadata": {
    "tags": []
   },
   "outputs": [],
   "source": [
    "krige_bathy(kr_model='uk',folderpath='../data/truthraster_sampling',npts=2000,variogram_model='spherical',pts_gdf_all=gdf,crs=gdf.crs,samplemethod='dart', variogram_parameters={'range':10000,'nugget':0.7,'sill':23},\n",
    ")\n",
    "# .kriging(1500,kr_model='uk',samplemethod = 'dart')"
   ]
  },
  {
   "cell_type": "code",
   "execution_count": null,
   "metadata": {},
   "outputs": [],
   "source": [
    "bilinear_rmse = raster_RMSE_blocked(truth_raster_path=truthraster_path,measured_rasterpath='../data/truthraster_sampling/bilinear.tif')"
   ]
  },
  {
   "cell_type": "code",
   "execution_count": null,
   "metadata": {},
   "outputs": [],
   "source": [
    "purekriged_rmse = raster_RMSE_blocked(truth_raster_path=truthraster_path,measured_rasterpath='../data/truthraster_sampling/kriging_output.tif')"
   ]
  },
  {
   "cell_type": "code",
   "execution_count": null,
   "metadata": {},
   "outputs": [],
   "source": [
    "gridded_kalman_update('../data/truthraster_sampling/kalman_update.tif','../data/truthraster_sampling/bilinear.tif','../data/truthraster_sampling/kriging_output.tif',15)\n",
    "kalman_updated_rmse =raster_RMSE_blocked(truth_raster_path=truthraster_path,measured_rasterpath='../data/truthraster_sampling/kalman_update.tif')"
   ]
  },
  {
   "cell_type": "code",
   "execution_count": null,
   "metadata": {},
   "outputs": [],
   "source": [
    "import pandas as pd\n",
    "rmse_dict = {\n",
    "    f'Truth vs {hres}m bilinear resampling of GEBCO':bilinear_rmse,\n",
    "             'Truth vs Kriged raster output':purekriged_rmse,\n",
    "             'Truth vs GEBCO+Kriged raster':kalman_updated_rmse\n",
    "            }\n",
    "truthraster_sampling_table = pd.DataFrame.from_dict(rmse_dict,orient='columns').T"
   ]
  },
  {
   "cell_type": "code",
   "execution_count": null,
   "metadata": {},
   "outputs": [],
   "source": [
    "truthraster_sampling_table.style.to_latex('../document/tables/truth_raster_sample_error.tex',caption='Error between the various data products',label='tab:rmse-truth-raster-sampled')"
   ]
  },
  {
   "cell_type": "code",
   "execution_count": null,
   "metadata": {},
   "outputs": [],
   "source": [
    "truthraster_sampling_table"
   ]
  },
  {
   "cell_type": "markdown",
   "metadata": {},
   "source": [
    "old val to beat: 2.358246"
   ]
  },
  {
   "cell_type": "code",
   "execution_count": null,
   "metadata": {},
   "outputs": [],
   "source": []
  }
 ],
 "metadata": {
  "kernelspec": {
   "display_name": "Python 3 (ipykernel)",
   "language": "python",
   "name": "python3"
  },
  "language_info": {
   "codemirror_mode": {
    "name": "ipython",
    "version": 3
   },
   "file_extension": ".py",
   "mimetype": "text/x-python",
   "name": "python",
   "nbconvert_exporter": "python",
   "pygments_lexer": "ipython3",
   "version": "3.9.10"
  },
  "vscode": {
   "interpreter": {
    "hash": "ec7c7d4d013ec650dc8eb8b9310ce197f2a724f68d99fdc157fb921cb8b4fa41"
   }
  }
 },
 "nbformat": 4,
 "nbformat_minor": 4
}
