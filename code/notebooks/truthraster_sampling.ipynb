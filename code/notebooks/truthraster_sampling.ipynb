{
 "cells": [
  {
   "cell_type": "code",
   "execution_count": 1,
   "metadata": {},
   "outputs": [
    {
     "name": "stdout",
     "output_type": "stream",
     "text": [
      "/mnt/c/Users/maxli/OneDrive - Van Oord/Documents/thesis/code\n"
     ]
    }
   ],
   "source": [
    "%cd ..\n"
   ]
  },
  {
   "cell_type": "code",
   "execution_count": 2,
   "metadata": {},
   "outputs": [],
   "source": [
    "from atl_module.geospatial_utils.raster_interaction import random_raster_gdf,subset_gebco\n",
    "from atl_module import GebcoUpscaler\n",
    "from atl_module.kriging import krige_bathy\n",
    "from atl_module.error_calc import raster_RMSE_blocked\n",
    "from atl_module.kalman import gridded_kalman_update\n",
    "import geopandas as gpd"
   ]
  },
  {
   "cell_type": "code",
   "execution_count": 3,
   "metadata": {},
   "outputs": [],
   "source": [
    "truthraster_path = '../data/special_sites/niiahu/in-situ-dem/truth.vrt'\n",
    "\n",
    "gdf = random_raster_gdf(truthraster_path,3000)\n",
    "gdf.to_file('../data/truthraster_sampling/all_bathy_pts.gpkg')\n",
    "gdf = gdf.to_crs(gdf.estimate_utm_crs())"
   ]
  },
  {
   "cell_type": "code",
   "execution_count": 4,
   "metadata": {},
   "outputs": [
    {
     "data": {
      "text/html": [
       "<div>\n",
       "<style scoped>\n",
       "    .dataframe tbody tr th:only-of-type {\n",
       "        vertical-align: middle;\n",
       "    }\n",
       "\n",
       "    .dataframe tbody tr th {\n",
       "        vertical-align: top;\n",
       "    }\n",
       "\n",
       "    .dataframe thead th {\n",
       "        text-align: right;\n",
       "    }\n",
       "</style>\n",
       "<table border=\"1\" class=\"dataframe\">\n",
       "  <thead>\n",
       "    <tr style=\"text-align: right;\">\n",
       "      <th></th>\n",
       "      <th>truth raster elevation</th>\n",
       "      <th>geometry</th>\n",
       "    </tr>\n",
       "  </thead>\n",
       "  <tbody>\n",
       "    <tr>\n",
       "      <th>0</th>\n",
       "      <td>5.047521</td>\n",
       "      <td>POINT (385885.982 2432601.007)</td>\n",
       "    </tr>\n",
       "    <tr>\n",
       "      <th>1</th>\n",
       "      <td>-44.337727</td>\n",
       "      <td>POINT (374398.555 2425409.900)</td>\n",
       "    </tr>\n",
       "    <tr>\n",
       "      <th>2</th>\n",
       "      <td>-5.073222</td>\n",
       "      <td>POINT (381000.961 2426891.467)</td>\n",
       "    </tr>\n",
       "    <tr>\n",
       "      <th>3</th>\n",
       "      <td>-20.117380</td>\n",
       "      <td>POINT (375877.316 2426399.032)</td>\n",
       "    </tr>\n",
       "    <tr>\n",
       "      <th>4</th>\n",
       "      <td>-29.603466</td>\n",
       "      <td>POINT (379894.561 2428962.461)</td>\n",
       "    </tr>\n",
       "    <tr>\n",
       "      <th>...</th>\n",
       "      <td>...</td>\n",
       "      <td>...</td>\n",
       "    </tr>\n",
       "    <tr>\n",
       "      <th>2995</th>\n",
       "      <td>-9.569372</td>\n",
       "      <td>POINT (376808.974 2425590.905)</td>\n",
       "    </tr>\n",
       "    <tr>\n",
       "      <th>2996</th>\n",
       "      <td>-16.698721</td>\n",
       "      <td>POINT (376409.478 2426291.843)</td>\n",
       "    </tr>\n",
       "    <tr>\n",
       "      <th>2997</th>\n",
       "      <td>7.522849</td>\n",
       "      <td>POINT (391179.461 2431614.706)</td>\n",
       "    </tr>\n",
       "    <tr>\n",
       "      <th>2998</th>\n",
       "      <td>3.500359</td>\n",
       "      <td>POINT (391122.133 2432283.574)</td>\n",
       "    </tr>\n",
       "    <tr>\n",
       "      <th>2999</th>\n",
       "      <td>-2.415009</td>\n",
       "      <td>POINT (376318.306 2424052.954)</td>\n",
       "    </tr>\n",
       "  </tbody>\n",
       "</table>\n",
       "<p>3000 rows × 2 columns</p>\n",
       "</div>"
      ],
      "text/plain": [
       "      truth raster elevation                        geometry\n",
       "0                   5.047521  POINT (385885.982 2432601.007)\n",
       "1                 -44.337727  POINT (374398.555 2425409.900)\n",
       "2                  -5.073222  POINT (381000.961 2426891.467)\n",
       "3                 -20.117380  POINT (375877.316 2426399.032)\n",
       "4                 -29.603466  POINT (379894.561 2428962.461)\n",
       "...                      ...                             ...\n",
       "2995               -9.569372  POINT (376808.974 2425590.905)\n",
       "2996              -16.698721  POINT (376409.478 2426291.843)\n",
       "2997                7.522849  POINT (391179.461 2431614.706)\n",
       "2998                3.500359  POINT (391122.133 2432283.574)\n",
       "2999               -2.415009  POINT (376318.306 2424052.954)\n",
       "\n",
       "[3000 rows x 2 columns]"
      ]
     },
     "execution_count": 4,
     "metadata": {},
     "output_type": "execute_result"
    }
   ],
   "source": [
    "gdf"
   ]
  },
  {
   "cell_type": "code",
   "execution_count": 5,
   "metadata": {},
   "outputs": [
    {
     "name": "stderr",
     "output_type": "stream",
     "text": [
      "[D 220918 15:51:01 raster_interaction:128] GEBCO subset raster written to ../data/truthraster_sampling/bilinear.tif, with CRS EPSG:32604\n"
     ]
    }
   ],
   "source": [
    "hres = 50\n",
    "subset_gebco('../data/truthraster_sampling',bathy_pts=gdf,epsg_no=gdf.crs.to_epsg(),hres=hres)"
   ]
  },
  {
   "cell_type": "code",
   "execution_count": 6,
   "metadata": {},
   "outputs": [],
   "source": [
    "gdf = gdf.rename(columns={'truth raster elevation':'sf_elev_MSL'})"
   ]
  },
  {
   "cell_type": "code",
   "execution_count": 7,
   "metadata": {},
   "outputs": [],
   "source": [
    "gdf = gdf[gdf.sf_elev_MSL < 0]\n"
   ]
  },
  {
   "cell_type": "code",
   "execution_count": null,
   "metadata": {},
   "outputs": [],
   "source": [
    "import rasterio \n",
    "import matplotlib.pyplot as plt\n",
    "from rasterio.plot import show as rastershow\n",
    "\n",
    "with rasterio.open('../data/special_sites/niiahu/in-situ-dem/Job761532_usace2013_niihau_dem.tif') as femaras:\n",
    "    fig, ax = plt.subplots(figsize=(20, 12))\n",
    "    ax.set_xlabel(f\"Degrees longitude in {femaras.crs}\")\n",
    "    ax.set_ylabel(f\"Degrees latitude in {femaras.crs}\")\n",
    "    # ax.set_title(\"\")\n",
    "    # cx.add_basemap(ax,source=cx.providers.OpenTopoMap,crs=femaras.crs)\n",
    "    image_hidden = ax.imshow(\n",
    "        femaras.read(1, masked=True),\n",
    "        cmap=\"inferno\",\n",
    "    )\n",
    "    rastershow(femaras, cmap=\"inferno\", ax=ax)\n",
    "\n",
    "    fig.colorbar(image_hidden, ax=ax)\n",
    "\n",
    "fig.savefig('../document/figures/truthraster_sampling_rasterplot.jpg',dpi=500,bbox_inches='tight')"
   ]
  },
  {
   "cell_type": "code",
   "execution_count": null,
   "metadata": {},
   "outputs": [],
   "source": [
    "gdf_sampled = gpd.read_file('../data/truthraster_sampling/kriging_pts/')\n"
   ]
  },
  {
   "cell_type": "code",
   "execution_count": null,
   "metadata": {},
   "outputs": [],
   "source": [
    "ax = gdf_sampled.plot(figsize=(20, 12))\n",
    "ax.get_figure().savefig('../document/figures/pts_sampled_from_truthraster.jpg')"
   ]
  },
  {
   "cell_type": "code",
   "execution_count": null,
   "metadata": {
    "tags": []
   },
   "outputs": [],
   "source": [
    "krige_bathy(kr_model='uk',folderpath='../data/truthraster_sampling',npts=1500,variogram_model='spherical',pts_gdf_all=gdf,crs=gdf.crs,samplemethod='dart', variogram_parameters={'range':20000,'nugget':0.001,'sill':23},\n",
    ")\n",
    "# .kriging(1500,kr_model='uk',samplemethod = 'dart')"
   ]
  },
  {
   "cell_type": "code",
   "execution_count": null,
   "metadata": {},
   "outputs": [],
   "source": [
    "bilinear_rmse = raster_RMSE_blocked(truth_raster_path=truthraster_path,measured_rasterpath='../data/truthraster_sampling/bilinear.tif')"
   ]
  },
  {
   "cell_type": "code",
   "execution_count": null,
   "metadata": {},
   "outputs": [],
   "source": [
    "purekriged_rmse = raster_RMSE_blocked(truth_raster_path=truthraster_path,measured_rasterpath='../data/truthraster_sampling/kriging_output.tif')"
   ]
  },
  {
   "cell_type": "code",
   "execution_count": null,
   "metadata": {},
   "outputs": [],
   "source": [
    "gridded_kalman_update('../data/truthraster_sampling/kalman_update.tif','../data/truthraster_sampling/bilinear.tif','../data/truthraster_sampling/kriging_output.tif',3)\n",
    "kalman_updated_rmse =raster_RMSE_blocked(truth_raster_path=truthraster_path,measured_rasterpath='../data/truthraster_sampling/kalman_update.tif')"
   ]
  },
  {
   "cell_type": "code",
   "execution_count": null,
   "metadata": {},
   "outputs": [],
   "source": [
    "import pandas as pd\n",
    "rmse_dict = {\n",
    "    f'Truth vs {hres}m bilinear resampling of GEBCO':bilinear_rmse,\n",
    "             'Truth vs Kriged raster output':purekriged_rmse,\n",
    "             'Truth vs GEBCO+Kriged raster':kalman_updated_rmse\n",
    "            }\n",
    "truthraster_sampling_table = pd.DataFrame.from_dict(rmse_dict,orient='columns').T"
   ]
  },
  {
   "cell_type": "code",
   "execution_count": null,
   "metadata": {},
   "outputs": [],
   "source": [
    "truthraster_sampling_table.style.to_latex('../document/tables/truth_raster_sample_error.tex',caption='Error between the various data products',label='tab:rmse-truth-raster-sampled')"
   ]
  },
  {
   "cell_type": "code",
   "execution_count": null,
   "metadata": {},
   "outputs": [],
   "source": [
    "truthraster_sampling_table"
   ]
  },
  {
   "cell_type": "raw",
   "metadata": {},
   "source": []
  }
 ],
 "metadata": {
  "kernelspec": {
   "display_name": "Python 3 (ipykernel)",
   "language": "python",
   "name": "python3"
  },
  "language_info": {
   "codemirror_mode": {
    "name": "ipython",
    "version": 3
   },
   "file_extension": ".py",
   "mimetype": "text/x-python",
   "name": "python",
   "nbconvert_exporter": "python",
   "pygments_lexer": "ipython3",
   "version": "3.9.10"
  },
  "vscode": {
   "interpreter": {
    "hash": "ec7c7d4d013ec650dc8eb8b9310ce197f2a724f68d99fdc157fb921cb8b4fa41"
   }
  }
 },
 "nbformat": 4,
 "nbformat_minor": 4
}
