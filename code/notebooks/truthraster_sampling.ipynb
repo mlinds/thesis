{
 "cells": [
  {
   "cell_type": "code",
   "execution_count": 1,
   "metadata": {},
   "outputs": [
    {
     "name": "stdout",
     "output_type": "stream",
     "text": [
      "/mnt/c/Users/XCB/OneDrive - Van Oord/Documents/thesis/code\n"
     ]
    }
   ],
   "source": [
    "%cd .."
   ]
  },
  {
   "cell_type": "code",
   "execution_count": 2,
   "metadata": {},
   "outputs": [],
   "source": [
    "from atl_module.geospatial_utils.raster_interaction import random_raster_gdf,subset_gebco\n",
    "from atl_module import GebcoUpscaler\n",
    "from atl_module.kriging import krige_bathy,_relaxation_dart_throwing\n",
    "from atl_module.error_calc import raster_RMSE_blocked\n",
    "from atl_module.kalman import gridded_kalman_update\n",
    "from atl_module.geospatial_utils.raster_interaction import query_from_lines\n",
    "import geopandas as gpd\n",
    "import pandas as pd"
   ]
  },
  {
   "cell_type": "code",
   "execution_count": 3,
   "metadata": {
    "tags": []
   },
   "outputs": [],
   "source": [
    "truthraster_path = '../data/test_sites/florida_keys/in-situ-dem/truth.vrt'"
   ]
  },
  {
   "cell_type": "code",
   "execution_count": 4,
   "metadata": {},
   "outputs": [
    {
     "data": {
      "text/plain": [
       "<AxesSubplot:>"
      ]
     },
     "execution_count": 4,
     "metadata": {},
     "output_type": "execute_result"
    },
    {
     "data": {
      "image/png": "[encoded data removed]",
      "text/plain": [
       "<Figure size 432x288 with 1 Axes>"
      ]
     },
     "metadata": {
      "needs_background": "light"
     },
     "output_type": "display_data"
    }
   ],
   "source": [
    "gdf = random_raster_gdf(truthraster_path,20000)\n",
    "gdf = gdf.rename(columns={'truth raster elevation':'sf_elev_MSL'})\n",
    "gdf.plot()"
   ]
  },
  {
   "cell_type": "code",
   "execution_count": 5,
   "metadata": {},
   "outputs": [
    {
     "name": "stderr",
     "output_type": "stream",
     "text": [
      "/home/mlinds/mambaforge/envs/thesis_env/lib/python3.9/site-packages/geopandas/io/file.py:362: FutureWarning: pandas.Int64Index is deprecated and will be removed from pandas in a future version. Use pandas.Index with the appropriate dtype instead.\n",
      "  pd.Int64Index,\n",
      "/home/mlinds/mambaforge/envs/thesis_env/lib/python3.9/site-packages/geopandas/io/file.py:362: FutureWarning: pandas.Int64Index is deprecated and will be removed from pandas in a future version. Use pandas.Index with the appropriate dtype instead.\n",
      "  pd.Int64Index,\n"
     ]
    }
   ],
   "source": [
    "gdf.to_file('../data/truthraster_sampling/random_pts.gpkg')\n",
    "gpd.read_file('../data/truthraster_sampling/random_pts.gpkg').to_file('../data/truthraster_sampling/all_bathy_pts.gpkg')\n",
    "gdf = gdf.to_crs(gdf.estimate_utm_crs())"
   ]
  },
  {
   "cell_type": "code",
   "execution_count": 6,
   "metadata": {},
   "outputs": [],
   "source": [
    "gdf = gdf.rename(columns={'truth raster elevation':'sf_elev_MSL'})\n"
   ]
  },
  {
   "cell_type": "code",
   "execution_count": 7,
   "metadata": {},
   "outputs": [
    {
     "name": "stderr",
     "output_type": "stream",
     "text": [
      "[D 220926 23:46:41 raster_interaction:149] GEBCO subset raster written to ../data/truthraster_sampling/bilinear.tif, with CRS EPSG:32617\n"
     ]
    }
   ],
   "source": [
    "hres = 50\n",
    "subset_gebco('../data/truthraster_sampling',bathy_pts=gdf,epsg_no=gdf.crs.to_epsg(),hres=hres)"
   ]
  },
  {
   "cell_type": "code",
   "execution_count": 8,
   "metadata": {},
   "outputs": [],
   "source": [
    "# gdf = gdf.rename(columns={'truth raster elevation':'sf_elev_MSL'})\n"
   ]
  },
  {
   "cell_type": "code",
   "execution_count": 9,
   "metadata": {},
   "outputs": [],
   "source": [
    "gdf = gdf[gdf.sf_elev_MSL < 0]"
   ]
  },
  {
   "cell_type": "code",
   "execution_count": 10,
   "metadata": {},
   "outputs": [],
   "source": [
    "import rasterio \n",
    "import matplotlib.pyplot as plt\n",
    "from rasterio.plot import show as rastershow"
   ]
  },
  {
   "cell_type": "code",
   "execution_count": 11,
   "metadata": {},
   "outputs": [],
   "source": [
    "# with rasterio.open('../data/test_sites/florida_keys/in-situ-DEM/truth.vrt') as femaras:\n",
    "#     fig, ax = plt.subplots(figsize=(20, 12))\n",
    "#     ax.set_xlabel(f\"Degrees longitude in {femaras.crs}\")\n",
    "#     ax.set_ylabel(f\"Degrees latitude in {femaras.crs}\")\n",
    "#     # ax.set_title(\"\")\n",
    "#     # cx.add_basemap(ax,source=cx.providers.OpenTopoMap,crs=femaras.crs)\n",
    "#     image_hidden = ax.imshow(\n",
    "#         femaras.read(1, masked=True),\n",
    "#         cmap=\"inferno\",\n",
    "#     )\n",
    "#     rastershow(femaras, cmap=\"inferno\", ax=ax)\n",
    "\n",
    "#     fig.colorbar(image_hidden, ax=ax)\n",
    "\n",
    "# fig.savefig('../document/figures/truthraster_sampling_rasterplot.pdf',dpi=500,bbox_inches='tight')"
   ]
  },
  {
   "cell_type": "code",
   "execution_count": null,
   "metadata": {
    "tags": []
   },
   "outputs": [
    {
     "name": "stderr",
     "output_type": "stream",
     "text": [
      "[D 220926 23:46:41 kriging:29] The types of the numpy array that is sent to PDAL poisson dart throwing are: (numpy.record, [('Y', '<f8'), ('X', '<f8'), ('Z', '<f4')])\n",
      "[D 220926 23:46:41 kriging:35] 2000 points remaining after relaxation dart throwing culling\n",
      "/home/mlinds/mambaforge/envs/thesis_env/lib/python3.9/site-packages/geopandas/io/file.py:362: FutureWarning: pandas.Int64Index is deprecated and will be removed from pandas in a future version. Use pandas.Index with the appropriate dtype instead.\n",
      "  pd.Int64Index,\n",
      "[D 220926 23:46:42 kriging:79] 2000 points selected with dart written to ../data/truthraster_sampling/kriging_pts\n"
     ]
    },
    {
     "name": "stdout",
     "output_type": "stream",
     "text": [
      "Adjusting data for anisotropy...\n",
      "Initializing variogram model...\n",
      "Using 'spherical' Variogram Model\n",
      "Partial Sill: 22.3\n",
      "Full Sill: 23.0\n",
      "Range: 10000\n",
      "Nugget: 0.7 \n",
      "\n",
      "Calculating statistics on variogram model fit...\n"
     ]
    }
   ],
   "source": [
    "krige_bathy(kr_model='uk',folderpath='../data/truthraster_sampling',npts=2000,variogram_model='spherical',pts_gdf_all=gdf,crs=gdf.crs,samplemethod='dart', variogram_parameters={\n",
    "    'range':10000,\n",
    "    'nugget':0.7,\n",
    "    'sill':23\n",
    "},\n",
    ")\n",
    "# .kriging(1500,kr_model='uk',samplemethod = 'dart')"
   ]
  },
  {
   "cell_type": "code",
   "execution_count": null,
   "metadata": {},
   "outputs": [],
   "source": [
    "gdf_sampled = gpd.read_file('../data/truthraster_sampling/kriging_pts/')\n"
   ]
  },
  {
   "cell_type": "code",
   "execution_count": null,
   "metadata": {},
   "outputs": [],
   "source": [
    "ax = gdf_sampled.plot(figsize=(20, 12))\n",
    "ax.get_figure().savefig('../document/figures/pts_sampled_from_truthraster.pdf')"
   ]
  },
  {
   "cell_type": "code",
   "execution_count": null,
   "metadata": {},
   "outputs": [],
   "source": [
    "bilinear_rmse = raster_RMSE_blocked(truth_raster_path=truthraster_path,measured_rasterpath='../data/truthraster_sampling/bilinear.tif')"
   ]
  },
  {
   "cell_type": "code",
   "execution_count": null,
   "metadata": {},
   "outputs": [],
   "source": [
    "assumed_gebco_variance = 1.5"
   ]
  },
  {
   "cell_type": "code",
   "execution_count": null,
   "metadata": {},
   "outputs": [],
   "source": [
    "purekriged_rmse = raster_RMSE_blocked(truth_raster_path=truthraster_path,measured_rasterpath='../data/truthraster_sampling/kriging_output.tif')\n",
    "gridded_kalman_update('../data/truthraster_sampling/kalman_update.tif','../data/truthraster_sampling/bilinear.tif','../data/truthraster_sampling/kriging_output.tif',1.5)\n",
    "kalman_updated_rmse =raster_RMSE_blocked(truth_raster_path=truthraster_path,measured_rasterpath='../data/truthraster_sampling/kalman_update.tif')"
   ]
  },
  {
   "cell_type": "markdown",
   "metadata": {},
   "source": [
    "old val to beat: 2.358246"
   ]
  },
  {
   "cell_type": "markdown",
   "metadata": {},
   "source": [
    "# sampling along lines"
   ]
  },
  {
   "cell_type": "code",
   "execution_count": null,
   "metadata": {},
   "outputs": [],
   "source": [
    "tracklines = gpd.read_file('../data/test_sites/florida_keys/tracklines/')\n",
    "truthsampler = lambda x: query_from_lines(x,truthraster_path,1)"
   ]
  },
  {
   "cell_type": "code",
   "execution_count": null,
   "metadata": {},
   "outputs": [],
   "source": [
    "sampled_lines = tracklines.geometry.apply(truthsampler).apply(pd.Series)"
   ]
  },
  {
   "cell_type": "code",
   "execution_count": null,
   "metadata": {},
   "outputs": [],
   "source": [
    "xvals = sampled_lines[0].apply(pd.Series).to_numpy().flatten()\n",
    "yvals = sampled_lines[1].apply(pd.Series).to_numpy().flatten()\n",
    "zvals = sampled_lines[2].apply(pd.Series).to_numpy().flatten()"
   ]
  },
  {
   "cell_type": "code",
   "execution_count": null,
   "metadata": {},
   "outputs": [],
   "source": [
    "points_along_lines = gpd.GeoDataFrame(zvals,geometry=gpd.points_from_xy(xvals,yvals),crs='EPSG:4326')\n",
    "points_along_lines = points_along_lines.to_crs(points_along_lines.estimate_utm_crs())"
   ]
  },
  {
   "cell_type": "code",
   "execution_count": null,
   "metadata": {},
   "outputs": [],
   "source": [
    "points_along_lines = points_along_lines.rename(columns={0:'sf_elev_MSL'}).dropna()\n",
    "points_along_lines = points_along_lines[points_along_lines.sf_elev_MSL < 0]"
   ]
  },
  {
   "cell_type": "code",
   "execution_count": null,
   "metadata": {},
   "outputs": [],
   "source": [
    "points_along_lines.to_file('../data/truthraster_sampling/points_along_lines.gpkg')"
   ]
  },
  {
   "cell_type": "code",
   "execution_count": null,
   "metadata": {},
   "outputs": [],
   "source": [
    "hres = 50\n",
    "subset_gebco('../data/truthraster_sampling',bathy_pts=points_along_lines,epsg_no=points_along_lines.crs.to_epsg(),hres=hres)"
   ]
  },
  {
   "cell_type": "code",
   "execution_count": null,
   "metadata": {},
   "outputs": [],
   "source": [
    "# this is extremely ugly, but the kriging function requires a points path with this specific name\n",
    "krige_bathy(kr_model='uk',folderpath='../data/truthraster_sampling',npts=2000,variogram_model='spherical',pts_gdf_all=points_along_lines,crs=points_along_lines.crs,samplemethod='dart', variogram_parameters={\n",
    "    'range':10000,\n",
    "    'nugget':0.7,\n",
    "    'sill':23\n",
    "},\n",
    ")"
   ]
  },
  {
   "cell_type": "code",
   "execution_count": null,
   "metadata": {},
   "outputs": [],
   "source": [
    "purekriged_rmse_lines = raster_RMSE_blocked(truth_raster_path=truthraster_path,measured_rasterpath='../data/truthraster_sampling/kriging_output.tif')\n",
    "\n",
    "gridded_kalman_update('../data/truthraster_sampling/kalman_update.tif','../data/truthraster_sampling/bilinear.tif','../data/truthraster_sampling/kriging_output.tif',1.5)\n",
    "kalman_updated_rmse_lines =raster_RMSE_blocked(truth_raster_path=truthraster_path,measured_rasterpath='../data/truthraster_sampling/kalman_update.tif')"
   ]
  },
  {
   "cell_type": "code",
   "execution_count": null,
   "metadata": {},
   "outputs": [],
   "source": [
    "rmse_dict = {\n",
    "    f'Truth vs {hres}m bilinear resampling of GEBCO':bilinear_rmse,\n",
    "             # 'Truth vs Kriged raster output':purekriged_rmse,\n",
    "             # 'Truth vs GEBCO+Kriged raster':kalman_updated_rmse,\n",
    "            'Truth Vs kriged Raster - Sampling along lines':purekriged_rmse_lines,\n",
    "            'Gebco updated - sampling along lines':kalman_updated_rmse_lines\n",
    "}\n",
    "truthraster_sampling_table = pd.DataFrame.from_dict(rmse_dict,orient='columns').T\n",
    "\n",
    "truthraster_sampling_table.style.to_latex('../document/tables/truth_raster_sample_error.tex',caption='Error between the various data products',label='tab:rmse-truth-raster-sampled')\n",
    "\n",
    "truthraster_sampling_table"
   ]
  },
  {
   "cell_type": "code",
   "execution_count": null,
   "metadata": {},
   "outputs": [],
   "source": []
  }
 ],
 "metadata": {
  "kernelspec": {
   "display_name": "Python 3 (ipykernel)",
   "language": "python",
   "name": "python3"
  },
  "language_info": {
   "codemirror_mode": {
    "name": "ipython",
    "version": 3
   },
   "file_extension": ".py",
   "mimetype": "text/x-python",
   "name": "python",
   "nbconvert_exporter": "python",
   "pygments_lexer": "ipython3",
   "version": "3.9.10"
  },
  "vscode": {
   "interpreter": {
    "hash": "ec7c7d4d013ec650dc8eb8b9310ce197f2a724f68d99fdc157fb921cb8b4fa41"
   }
  }
 },
 "nbformat": 4,
 "nbformat_minor": 4
}
