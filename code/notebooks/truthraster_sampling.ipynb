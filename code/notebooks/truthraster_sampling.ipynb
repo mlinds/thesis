{
 "cells": [
  {
   "cell_type": "code",
   "execution_count": 1,
   "metadata": {},
   "outputs": [
    {
     "name": "stdout",
     "output_type": "stream",
     "text": [
      "/mnt/c/Users/XCB/OneDrive - Van Oord/Documents/thesis/code\n"
     ]
    }
   ],
   "source": [
    "%cd .."
   ]
  },
  {
   "cell_type": "code",
   "execution_count": 2,
   "metadata": {},
   "outputs": [],
   "source": [
    "from atl_module.geospatial_utils.raster_interaction import (\n",
    "    random_raster_gdf,\n",
    "    subset_gebco,\n",
    ")\n",
    "from atl_module import GebcoUpscaler\n",
    "from atl_module.kriging import krige_bathy\n",
    "from atl_module.error_calc import raster_RMSE_blocked\n",
    "from atl_module.kalman import gridded_kalman_update\n",
    "from atl_module.geospatial_utils.raster_interaction import query_from_lines\n",
    "import geopandas as gpd\n",
    "import pandas as pd\n",
    "from atl_module.plotting import set_size\n",
    "import rasterio\n",
    "import matplotlib.pyplot as plt\n",
    "from rasterio.plot import show as rastershow"
   ]
  },
  {
   "cell_type": "code",
   "execution_count": 3,
   "metadata": {
    "tags": []
   },
   "outputs": [],
   "source": [
    "site = \"stcroix\"\n",
    "truthraster_path = f\"../data/for_other_figures/stcroixvalidation.tif\"\n",
    "tracklines = gpd.read_file(f\"../data/test_sites/{site}/tracklines/\")"
   ]
  },
  {
   "cell_type": "code",
   "execution_count": 4,
   "metadata": {},
   "outputs": [
    {
     "data": {
      "image/png": "[encoded data removed]",
      "text/plain": [
       "<Figure size 446.457x551.862 with 2 Axes>"
      ]
     },
     "metadata": {
      "needs_background": "light"
     },
     "output_type": "display_data"
    }
   ],
   "source": [
    "fig, (topax, bottomax) = plt.subplots(\n",
    "    figsize=set_size(fraction=1, ratio=1.618 / 2), nrows=2\n",
    ")"
   ]
  },
  {
   "cell_type": "code",
   "execution_count": 5,
   "metadata": {},
   "outputs": [],
   "source": [
    "gdf = random_raster_gdf(truthraster_path, 10000)\n",
    "gdf = gdf.rename(columns={\"truth raster elevation\": \"sf_elev_MSL\"})"
   ]
  },
  {
   "cell_type": "code",
   "execution_count": 6,
   "metadata": {},
   "outputs": [
    {
     "name": "stderr",
     "output_type": "stream",
     "text": [
      "/home/mlinds/mambaforge/envs/thesis_env/lib/python3.9/site-packages/geopandas/io/file.py:362: FutureWarning: pandas.Int64Index is deprecated and will be removed from pandas in a future version. Use pandas.Index with the appropriate dtype instead.\n",
      "  pd.Int64Index,\n"
     ]
    }
   ],
   "source": [
    "gdf.to_file(\"../data/truthraster_sampling/random_pts.gpkg\")\n",
    "# the kriging function needs projected coordinates\n",
    "gdf = gdf.to_crs(gdf.estimate_utm_crs())\n",
    "# kriging function depends on these exact column names\n",
    "gdf = gdf.rename(columns={\"truth raster elevation\": \"sf_elev_MSL\"})"
   ]
  },
  {
   "cell_type": "code",
   "execution_count": 7,
   "metadata": {},
   "outputs": [
    {
     "name": "stderr",
     "output_type": "stream",
     "text": [
      "[D 220929 16:39:04 raster_interaction:149] GEBCO subset raster written to ../data/truthraster_sampling/bilinear.tif, with CRS EPSG:32620\n"
     ]
    }
   ],
   "source": [
    "# get the GEBCO subsample based on the current point extent\n",
    "hres = 50\n",
    "subset_gebco(\n",
    "    \"../data/truthraster_sampling\", bathy_pts=gdf, epsg_no=gdf.crs.to_epsg(), hres=hres\n",
    ")\n",
    "\n",
    "# mask any points that are above the seafloor\n",
    "gdf = gdf[gdf.sf_elev_MSL < 0]"
   ]
  },
  {
   "cell_type": "code",
   "execution_count": 8,
   "metadata": {
    "tags": []
   },
   "outputs": [
    {
     "name": "stderr",
     "output_type": "stream",
     "text": [
      "[D 220929 16:39:04 kriging:29] The types of the numpy array that is sent to PDAL poisson dart throwing are: (numpy.record, [('Y', '<f8'), ('X', '<f8'), ('Z', '<f4')])\n",
      "[D 220929 16:39:04 kriging:35] 2000 points remaining after relaxation dart throwing culling\n",
      "/home/mlinds/mambaforge/envs/thesis_env/lib/python3.9/site-packages/geopandas/io/file.py:362: FutureWarning: pandas.Int64Index is deprecated and will be removed from pandas in a future version. Use pandas.Index with the appropriate dtype instead.\n",
      "  pd.Int64Index,\n",
      "[D 220929 16:39:05 kriging:79] 2000 points selected with dart written to ../data/truthraster_sampling/kriging_pts\n"
     ]
    },
    {
     "name": "stdout",
     "output_type": "stream",
     "text": [
      "Adjusting data for anisotropy...\n",
      "Initializing variogram model...\n",
      "Using 'spherical' Variogram Model\n",
      "Partial Sill: 23\n",
      "Full Sill: 23\n",
      "Range: 10000\n",
      "Nugget: 0 \n",
      "\n",
      "Calculating statistics on variogram model fit...\n",
      "Q1 = 0.0315834601945838\n",
      "Q2 = 4.802751127075775\n",
      "cR = 2.1019577369901032 \n",
      "\n",
      "Initializing drift terms...\n",
      "Executing Universal Kriging...\n",
      "\n"
     ]
    },
    {
     "name": "stderr",
     "output_type": "stream",
     "text": [
      "[D 220929 16:43:13 kriging:134] finished kriging, now saving the output raster to ../data/truthraster_sampling/kriging_output.tif\n",
      "[D 220929 16:43:13 kriging:152] Output raster of kriged Z values and uncertainty saved sucessfully\n"
     ]
    }
   ],
   "source": [
    "# do the kriging of the random sampling points\n",
    "krige_bathy(\n",
    "    kr_model=\"uk\",\n",
    "    folderpath=\"../data/truthraster_sampling\",\n",
    "    npts=2000,\n",
    "    variogram_model=\"spherical\",\n",
    "    pts_gdf_all=gdf,\n",
    "    crs=gdf.crs,\n",
    "    samplemethod=\"dart\",\n",
    "    variogram_parameters={\"range\": 10000, \"nugget\": 0, \"sill\": 23},\n",
    ")\n",
    "gdf_sampled_random = gpd.read_file(\"../data/truthraster_sampling/kriging_pts/\")"
   ]
  },
  {
   "cell_type": "code",
   "execution_count": 9,
   "metadata": {},
   "outputs": [
    {
     "data": {
      "text/plain": [
       "<Figure size 432x288 with 0 Axes>"
      ]
     },
     "metadata": {},
     "output_type": "display_data"
    }
   ],
   "source": [
    "with rasterio.open(truthraster_path) as femaras:\n",
    "    topax.set_xlabel(f\"Degrees longitude in {femaras.crs}\")\n",
    "    topax.set_ylabel(f\"Degrees latitude in {femaras.crs}\")\n",
    "    # cx.add_basemap(ax,source=cx.providers.OpenTopoMap,crs=femaras.crs)\n",
    "    image_hidden = topax.imshow(\n",
    "        femaras.read(1, masked=True),\n",
    "        cmap=\"inferno\",\n",
    "    )\n",
    "    gdf_sampled_random.to_crs(\"EPSG:4269\").plot(\n",
    "        figsize=(20, 12), ax=topax, markersize=3\n",
    "    )\n",
    "    rastershow(femaras, cmap=\"inferno\", ax=topax, vmax=0)"
   ]
  },
  {
   "cell_type": "code",
   "execution_count": 10,
   "metadata": {},
   "outputs": [
    {
     "name": "stderr",
     "output_type": "stream",
     "text": [
      "/mnt/c/Users/XCB/OneDrive - Van Oord/Documents/thesis/code/atl_module/error_calc.py:172: RuntimeWarning: Mean of empty slice\n",
      "  mse = np.nanmean(error_data**2)\n",
      "/mnt/c/Users/XCB/OneDrive - Van Oord/Documents/thesis/code/atl_module/error_calc.py:174: RuntimeWarning: Mean of empty slice\n",
      "  mae = np.nanmean(np.abs(error_data))\n"
     ]
    }
   ],
   "source": [
    "bilinear_rmse = raster_RMSE_blocked(\n",
    "    truth_raster_path=truthraster_path,\n",
    "    measured_rasterpath=\"../data/truthraster_sampling/bilinear.tif\",\n",
    ")"
   ]
  },
  {
   "cell_type": "code",
   "execution_count": 11,
   "metadata": {},
   "outputs": [],
   "source": [
    "assumed_gebco_variance = 1.5"
   ]
  },
  {
   "cell_type": "code",
   "execution_count": 12,
   "metadata": {},
   "outputs": [
    {
     "name": "stderr",
     "output_type": "stream",
     "text": [
      "[I 220929 16:43:29 kalman:72] Wrote Kalman Updated Raster with GEBCO uncertainty 1.5 to ../data/truthraster_sampling/kalman_update.tif\n"
     ]
    }
   ],
   "source": [
    "purekriged_rmse = raster_RMSE_blocked(\n",
    "    truth_raster_path=truthraster_path,\n",
    "    measured_rasterpath=\"../data/truthraster_sampling/kriging_output.tif\",\n",
    ")\n",
    "gridded_kalman_update(\n",
    "    \"../data/truthraster_sampling/kalman_update.tif\",\n",
    "    \"../data/truthraster_sampling/bilinear.tif\",\n",
    "    \"../data/truthraster_sampling/kriging_output.tif\",\n",
    "    assumed_gebco_variance,\n",
    ")\n",
    "kalman_updated_rmse = raster_RMSE_blocked(\n",
    "    truth_raster_path=truthraster_path,\n",
    "    measured_rasterpath=\"../data/truthraster_sampling/kalman_update.tif\",\n",
    ")"
   ]
  },
  {
   "cell_type": "markdown",
   "metadata": {},
   "source": [
    "old val to beat: 2.358246"
   ]
  },
  {
   "cell_type": "markdown",
   "metadata": {},
   "source": [
    "# sampling along lines"
   ]
  },
  {
   "cell_type": "code",
   "execution_count": 13,
   "metadata": {},
   "outputs": [
    {
     "name": "stderr",
     "output_type": "stream",
     "text": [
      "/home/mlinds/mambaforge/envs/thesis_env/lib/python3.9/site-packages/geopandas/io/file.py:362: FutureWarning: pandas.Int64Index is deprecated and will be removed from pandas in a future version. Use pandas.Index with the appropriate dtype instead.\n",
      "  pd.Int64Index,\n"
     ]
    }
   ],
   "source": [
    "# set up a function that accepts a list of tuples, and returns a list of z values\n",
    "truthsampler = lambda x: query_from_lines(x, truthraster_path, 1)\n",
    "# apply the function to the geometry and split it into a series\n",
    "sampled_lines = tracklines.geometry.apply(truthsampler).apply(pd.Series)\n",
    "# get arrays of the xyz points\n",
    "xvals = sampled_lines[0].apply(pd.Series).to_numpy().flatten()\n",
    "yvals = sampled_lines[1].apply(pd.Series).to_numpy().flatten()\n",
    "zvals = sampled_lines[2].apply(pd.Series).to_numpy().flatten()\n",
    "# convert these xyz points to a gdf\n",
    "points_along_lines = gpd.GeoDataFrame(\n",
    "    zvals, geometry=gpd.points_from_xy(xvals, yvals), crs=\"EPSG:4326\"\n",
    ")\n",
    "# project to local UTM and save it\n",
    "points_along_lines = points_along_lines.to_crs(points_along_lines.estimate_utm_crs())\n",
    "# drop points where we have no value\n",
    "points_along_lines = points_along_lines.rename(columns={0: \"sf_elev_MSL\"}).dropna()\n",
    "# drop points on land\n",
    "points_along_lines = points_along_lines[points_along_lines.sf_elev_MSL < 0]\n",
    "points_along_lines.to_file(\"../data/truthraster_sampling/points_along_lines.gpkg\")"
   ]
  },
  {
   "cell_type": "code",
   "execution_count": 14,
   "metadata": {},
   "outputs": [
    {
     "name": "stderr",
     "output_type": "stream",
     "text": [
      "[D 220929 16:43:56 raster_interaction:149] GEBCO subset raster written to ../data/truthraster_sampling/bilinear.tif, with CRS EPSG:32620\n"
     ]
    }
   ],
   "source": [
    "# subset gebco again with the neew bathy points\n",
    "hres = 50\n",
    "subset_gebco(\n",
    "    \"../data/truthraster_sampling\",\n",
    "    bathy_pts=points_along_lines,\n",
    "    epsg_no=points_along_lines.crs.to_epsg(),\n",
    "    hres=hres,\n",
    ")"
   ]
  },
  {
   "cell_type": "code",
   "execution_count": 15,
   "metadata": {},
   "outputs": [
    {
     "name": "stderr",
     "output_type": "stream",
     "text": [
      "[D 220929 16:43:56 kriging:29] The types of the numpy array that is sent to PDAL poisson dart throwing are: (numpy.record, [('Y', '<f8'), ('X', '<f8'), ('Z', '<f8')])\n",
      "[D 220929 16:43:56 kriging:35] 2000 points remaining after relaxation dart throwing culling\n",
      "/home/mlinds/mambaforge/envs/thesis_env/lib/python3.9/site-packages/geopandas/io/file.py:362: FutureWarning: pandas.Int64Index is deprecated and will be removed from pandas in a future version. Use pandas.Index with the appropriate dtype instead.\n",
      "  pd.Int64Index,\n",
      "[D 220929 16:43:57 kriging:79] 2000 points selected with dart written to ../data/truthraster_sampling/kriging_pts\n"
     ]
    },
    {
     "name": "stdout",
     "output_type": "stream",
     "text": [
      "Adjusting data for anisotropy...\n",
      "Initializing variogram model...\n",
      "Using 'spherical' Variogram Model\n",
      "Partial Sill: 23\n",
      "Full Sill: 23\n",
      "Range: 10000\n",
      "Nugget: 0 \n",
      "\n",
      "Calculating statistics on variogram model fit...\n",
      "Q1 = 0.016649087548681125\n",
      "Q2 = 5.237062406602124\n",
      "cR = 1.6883416355559766 \n",
      "\n",
      "Initializing drift terms...\n",
      "Executing Universal Kriging...\n",
      "\n"
     ]
    },
    {
     "name": "stderr",
     "output_type": "stream",
     "text": [
      "[D 220929 16:49:08 kriging:134] finished kriging, now saving the output raster to ../data/truthraster_sampling/kriging_output.tif\n",
      "[D 220929 16:49:08 kriging:152] Output raster of kriged Z values and uncertainty saved sucessfully\n"
     ]
    }
   ],
   "source": [
    "# this is extremely ugly, but the kriging function requires a points path with this specific name\n",
    "krige_bathy(\n",
    "    kr_model=\"uk\",\n",
    "    folderpath=\"../data/truthraster_sampling\",\n",
    "    npts=2000,\n",
    "    variogram_model=\"spherical\",\n",
    "    pts_gdf_all=points_along_lines,\n",
    "    crs=points_along_lines.crs,\n",
    "    samplemethod=\"dart\",\n",
    "    variogram_parameters={\"range\": 10000, \"nugget\": 0, \"sill\": 23},\n",
    ")"
   ]
  },
  {
   "cell_type": "markdown",
   "metadata": {},
   "source": [
    "Add the data for the bottom axis"
   ]
  },
  {
   "cell_type": "code",
   "execution_count": 16,
   "metadata": {},
   "outputs": [
    {
     "data": {
      "text/plain": [
       "<matplotlib.colorbar.Colorbar at 0x7f2a1d7196d0>"
      ]
     },
     "execution_count": 16,
     "metadata": {},
     "output_type": "execute_result"
    },
    {
     "data": {
      "text/plain": [
       "<Figure size 432x288 with 0 Axes>"
      ]
     },
     "metadata": {},
     "output_type": "display_data"
    }
   ],
   "source": [
    "gdf_sampled_lines = gpd.read_file(\"../data/truthraster_sampling/kriging_pts/\")\n",
    "\n",
    "with rasterio.open(truthraster_path) as femaras:\n",
    "\n",
    "    bottomax.set_xlabel(f\"Degrees longitude in {femaras.crs}\")\n",
    "    bottomax.set_ylabel(f\"Degrees latitude in {femaras.crs}\")\n",
    "    # cx.add_basemap(ax,source=cx.providers.OpenTopoMap,crs=femaras.crs)\n",
    "    image_hidden = bottomax.imshow(femaras.read(1, masked=True), cmap=\"inferno\", vmax=0)\n",
    "    gdf_sampled_lines.to_crs(\"EPSG:4269\").plot(\n",
    "        figsize=(20, 12), ax=bottomax, markersize=4\n",
    "    )\n",
    "    rastershow(femaras, cmap=\"inferno\", ax=bottomax, vmax=0)\n",
    "\n",
    "fig.colorbar(image_hidden, ax=[topax, bottomax])"
   ]
  },
  {
   "cell_type": "markdown",
   "metadata": {},
   "source": [
    "save the final figure as a PDF"
   ]
  },
  {
   "cell_type": "code",
   "execution_count": 17,
   "metadata": {},
   "outputs": [],
   "source": [
    "fig.savefig(\n",
    "    \"../document/figures/truthraster_sampling_combined.pdf\",\n",
    "    dpi=500,\n",
    "    bbox_inches=\"tight\",\n",
    ")"
   ]
  },
  {
   "cell_type": "markdown",
   "metadata": {},
   "source": [
    "# Error summary and output to a table\n",
    "\n",
    "Get the error metrics between the various raster combinations"
   ]
  },
  {
   "cell_type": "code",
   "execution_count": 18,
   "metadata": {},
   "outputs": [
    {
     "name": "stderr",
     "output_type": "stream",
     "text": [
      "[I 220929 16:49:25 kalman:72] Wrote Kalman Updated Raster with GEBCO uncertainty 1.5 to ../data/truthraster_sampling/kalman_update.tif\n",
      "/mnt/c/Users/XCB/OneDrive - Van Oord/Documents/thesis/code/atl_module/error_calc.py:172: RuntimeWarning: Mean of empty slice\n",
      "  mse = np.nanmean(error_data**2)\n",
      "/mnt/c/Users/XCB/OneDrive - Van Oord/Documents/thesis/code/atl_module/error_calc.py:174: RuntimeWarning: Mean of empty slice\n",
      "  mae = np.nanmean(np.abs(error_data))\n"
     ]
    }
   ],
   "source": [
    "purekriged_rmse_lines = raster_RMSE_blocked(\n",
    "    truth_raster_path=truthraster_path,\n",
    "    measured_rasterpath=\"../data/truthraster_sampling/kriging_output.tif\",\n",
    ")\n",
    "\n",
    "gridded_kalman_update(\n",
    "    \"../data/truthraster_sampling/kalman_update.tif\",\n",
    "    \"../data/truthraster_sampling/bilinear.tif\",\n",
    "    \"../data/truthraster_sampling/kriging_output.tif\",\n",
    "    gebco_uncertainty_in=assumed_gebco_variance,\n",
    ")\n",
    "kalman_updated_rmse_lines = raster_RMSE_blocked(\n",
    "    truth_raster_path=truthraster_path,\n",
    "    measured_rasterpath=\"../data/truthraster_sampling/kalman_update.tif\",\n",
    ")"
   ]
  },
  {
   "cell_type": "markdown",
   "metadata": {},
   "source": []
  },
  {
   "cell_type": "code",
   "execution_count": 25,
   "metadata": {},
   "outputs": [
    {
     "data": {
      "text/html": [
       "<div>\n",
       "<style scoped>\n",
       "    .dataframe tbody tr th:only-of-type {\n",
       "        vertical-align: middle;\n",
       "    }\n",
       "\n",
       "    .dataframe tbody tr th {\n",
       "        vertical-align: top;\n",
       "    }\n",
       "\n",
       "    .dataframe thead th {\n",
       "        text-align: right;\n",
       "    }\n",
       "</style>\n",
       "<table border=\"1\" class=\"dataframe\">\n",
       "  <thead>\n",
       "    <tr style=\"text-align: right;\">\n",
       "      <th></th>\n",
       "      <th></th>\n",
       "      <th>RMSE</th>\n",
       "      <th>MAE</th>\n",
       "    </tr>\n",
       "  </thead>\n",
       "  <tbody>\n",
       "    <tr>\n",
       "      <th></th>\n",
       "      <th>Truth vs GEBCO</th>\n",
       "      <td>4.477120</td>\n",
       "      <td>3.308975</td>\n",
       "    </tr>\n",
       "    <tr>\n",
       "      <th rowspan=\"2\" valign=\"top\">Random sampling</th>\n",
       "      <th>Truth vs Kriging</th>\n",
       "      <td>3.128921</td>\n",
       "      <td>1.181509</td>\n",
       "    </tr>\n",
       "    <tr>\n",
       "      <th>Truth vs Kalman updated</th>\n",
       "      <td>1.379315</td>\n",
       "      <td>0.891389</td>\n",
       "    </tr>\n",
       "    <tr>\n",
       "      <th rowspan=\"2\" valign=\"top\">Colinear sampling</th>\n",
       "      <th>Truth Vs Kriging</th>\n",
       "      <td>4.486919</td>\n",
       "      <td>2.121551</td>\n",
       "    </tr>\n",
       "    <tr>\n",
       "      <th>Truth Vs Kalman updated</th>\n",
       "      <td>1.968372</td>\n",
       "      <td>1.316403</td>\n",
       "    </tr>\n",
       "  </tbody>\n",
       "</table>\n",
       "</div>"
      ],
      "text/plain": [
       "                                               RMSE       MAE\n",
       "                  Truth vs GEBCO           4.477120  3.308975\n",
       "Random sampling   Truth vs Kriging         3.128921  1.181509\n",
       "                  Truth vs Kalman updated  1.379315  0.891389\n",
       "Colinear sampling Truth Vs Kriging         4.486919  2.121551\n",
       "                  Truth Vs Kalman updated  1.968372  1.316403"
      ]
     },
     "execution_count": 25,
     "metadata": {},
     "output_type": "execute_result"
    }
   ],
   "source": [
    "rmse_dict = {\n",
    "    (\"\", f\"Truth vs GEBCO\"): bilinear_rmse,\n",
    "    (\"Random sampling\", \"Truth vs Kriging\"): purekriged_rmse,\n",
    "    (\"Random sampling\", \"Truth vs Kalman updated\"): kalman_updated_rmse,\n",
    "    (\"Colinear sampling\", \"Truth Vs Kriging\"): purekriged_rmse_lines,\n",
    "    (\"Colinear sampling\", \"Truth Vs Kalman updated\"): kalman_updated_rmse_lines,\n",
    "}\n",
    "truthraster_sampling_table = pd.DataFrame.from_dict(rmse_dict, orient=\"columns\").T\n",
    "\n",
    "truthraster_sampling_table.style.format(precision=2).to_latex(\n",
    "    \"../document/tables/truth_raster_sample_error.tex\",\n",
    "    caption=\"Comparison of error between the two different sampling strategies \",\n",
    "    hrules=True,\n",
    "    position_float=\"centering\",\n",
    "    clines=\"skip-last;index\",\n",
    "    label=\"tab:random-vs-colinear-sampling\",\n",
    ")\n",
    "\n",
    "truthraster_sampling_table"
   ]
  },
  {
   "cell_type": "code",
   "execution_count": null,
   "metadata": {},
   "outputs": [],
   "source": []
  }
 ],
 "metadata": {
  "kernelspec": {
   "display_name": "Python 3 (ipykernel)",
   "language": "python",
   "name": "python3"
  },
  "language_info": {
   "codemirror_mode": {
    "name": "ipython",
    "version": 3
   },
   "file_extension": ".py",
   "mimetype": "text/x-python",
   "name": "python",
   "nbconvert_exporter": "python",
   "pygments_lexer": "ipython3",
   "version": "3.9.10"
  },
  "vscode": {
   "interpreter": {
    "hash": "ec7c7d4d013ec650dc8eb8b9310ce197f2a724f68d99fdc157fb921cb8b4fa41"
   }
  }
 },
 "nbformat": 4,
 "nbformat_minor": 4
}
