{
 "cells": [
  {
   "cell_type": "markdown",
   "id": "f0318e7a-2f53-4c4b-9dad-f4c3c8786cf1",
   "metadata": {},
   "source": [
    "basic idea for this notebook:\n",
    "\n",
    "load every single point of each beam for a site into a single df, do a groupby based on date and beam to get statistics for every single transect\n",
    "\n",
    "load the bathymetry points found for a site into a df, do a groupby date and site and get rmse, mae, and the count of points for transects with bathymetry\n",
    "\n",
    "do an outer merge between the two dataframes - see which variables predict no bathymetry being present\n"
   ]
  }
 ],
 "metadata": {
  "kernelspec": {
   "display_name": "Python 3 (ipykernel)",
   "language": "python",
   "name": "python3"
  },
  "language_info": {
   "codemirror_mode": {
    "name": "ipython",
    "version": 3
   },
   "file_extension": ".py",
   "mimetype": "text/x-python",
   "name": "python",
   "nbconvert_exporter": "python",
   "pygments_lexer": "ipython3",
   "version": "3.9.10"
  }
 },
 "nbformat": 4,
 "nbformat_minor": 5
}
