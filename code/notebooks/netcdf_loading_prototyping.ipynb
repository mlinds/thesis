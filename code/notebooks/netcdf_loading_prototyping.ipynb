{
 "cells": [
  {
   "cell_type": "markdown",
   "metadata": {},
   "source": [
    "# data loading prototyping\n",
    "\n",
    "This notebook is just a scratchpad for experimenting with how to load data from the ATL03 files"
   ]
  },
  {
   "cell_type": "code",
   "execution_count": 1,
   "metadata": {},
   "outputs": [
    {
     "name": "stdout",
     "output_type": "stream",
     "text": [
      "/mnt/c/Users/XCB/OneDrive - Van Oord/Documents/thesis/code\n"
     ]
    }
   ],
   "source": [
    "%cd .."
   ]
  },
  {
   "cell_type": "code",
   "execution_count": 2,
   "metadata": {
    "tags": []
   },
   "outputs": [],
   "source": [
    "from netCDF4 import Dataset\n",
    "import xarray as xr\n",
    "import numpy as np\n",
    "import pandas as pd\n",
    "from cftime import num2date, date2num, num2pydate\n",
    "from datetime import datetime, timedelta\n",
    "from atl_module.io.atl03_netcdf_loading import get_beams\n",
    "import pdal\n",
    "\n",
    "from atl_module.io.atl03_netcdf_loading import load_beam_array_ncds"
   ]
  },
  {
   "cell_type": "code",
   "execution_count": 3,
   "metadata": {},
   "outputs": [],
   "source": [
    "h5filepath = (\n",
    "    \"../data/test_sites/stcroix/ATL03/processed_ATL03_20191215232113_12230501_005_01.nc\"\n",
    ")\n",
    "beam = \"gt1r\"\n",
    "# \"C:\\Users\\maxli\\OneDrive - Van Oord\\Documents\\thesis\\data\\ATL12_FL\\239711552\\processed_ATL12_20210613064553_12291101_005_02.nc\""
   ]
  },
  {
   "cell_type": "code",
   "execution_count": 4,
   "metadata": {
    "tags": []
   },
   "outputs": [
    {
     "data": {
      "text/plain": [
       "237"
      ]
     },
     "execution_count": 4,
     "metadata": {},
     "output_type": "execute_result"
    }
   ],
   "source": [
    "ncds = Dataset(h5filepath)\n",
    "ncds.groups[beam].groups[\"geolocation\"].variables[\"segment_ph_cnt\"][:].filled(0).max()"
   ]
  },
  {
   "cell_type": "code",
   "execution_count": 5,
   "metadata": {},
   "outputs": [],
   "source": [
    "df = load_beam_array_ncds(h5filepath, beam)"
   ]
  },
  {
   "cell_type": "code",
   "execution_count": 7,
   "metadata": {},
   "outputs": [
    {
     "ename": "FileNotFoundError",
     "evalue": "[Errno 2] No such file or directory: b'../data/global_analysis/ATL03/processed_ATL03_20181103000920_05400108_005_01.nc'",
     "output_type": "error",
     "traceback": [
      "\u001b[0;31m---------------------------------------------------------------------------\u001b[0m",
      "\u001b[0;31mFileNotFoundError\u001b[0m                         Traceback (most recent call last)",
      "Input \u001b[0;32mIn [7]\u001b[0m, in \u001b[0;36m<cell line: 3>\u001b[0;34m()\u001b[0m\n\u001b[1;32m      1\u001b[0m globcolorpath \u001b[38;5;241m=\u001b[39m \u001b[38;5;124m\"\u001b[39m\u001b[38;5;124m../data/global_analysis/ATL03/processed_ATL03_20181103000920_05400108_005_01.nc\u001b[39m\u001b[38;5;124m\"\u001b[39m\n\u001b[0;32m----> 3\u001b[0m ds \u001b[38;5;241m=\u001b[39m \u001b[43mDataset\u001b[49m\u001b[43m(\u001b[49m\u001b[43mglobcolorpath\u001b[49m\u001b[43m)\u001b[49m\n",
      "File \u001b[0;32msrc/netCDF4/_netCDF4.pyx:2307\u001b[0m, in \u001b[0;36mnetCDF4._netCDF4.Dataset.__init__\u001b[0;34m()\u001b[0m\n",
      "File \u001b[0;32msrc/netCDF4/_netCDF4.pyx:1925\u001b[0m, in \u001b[0;36mnetCDF4._netCDF4._ensure_nc_success\u001b[0;34m()\u001b[0m\n",
      "\u001b[0;31mFileNotFoundError\u001b[0m: [Errno 2] No such file or directory: b'../data/global_analysis/ATL03/processed_ATL03_20181103000920_05400108_005_01.nc'"
     ]
    }
   ],
   "source": [
    "globcolorpath = (\n",
    "    \"../data/global_analysis/ATL03/processed_ATL03_20181103000920_05400108_005_01.nc\"\n",
    ")\n",
    "\n",
    "ds = Dataset(globcolorpath)"
   ]
  },
  {
   "cell_type": "code",
   "execution_count": 4,
   "metadata": {},
   "outputs": [
    {
     "ename": "NameError",
     "evalue": "name 'ds' is not defined",
     "output_type": "error",
     "traceback": [
      "\u001b[0;31m---------------------------------------------------------------------------\u001b[0m",
      "\u001b[0;31mNameError\u001b[0m                                 Traceback (most recent call last)",
      "Input \u001b[0;32mIn [4]\u001b[0m, in \u001b[0;36m<cell line: 1>\u001b[0;34m()\u001b[0m\n\u001b[0;32m----> 1\u001b[0m \u001b[43mds\u001b[49m\n",
      "\u001b[0;31mNameError\u001b[0m: name 'ds' is not defined"
     ]
    }
   ],
   "source": [
    "ds"
   ]
  },
  {
   "cell_type": "code",
   "execution_count": 5,
   "metadata": {},
   "outputs": [],
   "source": [
    "jarkus_path = \"/home/mlinds/wsl_data/transect.nc\""
   ]
  },
  {
   "cell_type": "code",
   "execution_count": 6,
   "metadata": {},
   "outputs": [],
   "source": [
    "arraylist = []\n",
    "with xr.open_dataset(jarkus_path) as ds:\n",
    "    # get a dataframe of the 2021 data\n",
    "    for indexnum in range(1, 18):\n",
    "        subset = ds.where(ds.areacode == indexnum, drop=True)\n",
    "        subset = (\n",
    "            subset.altitude.to_dataframe()\n",
    "            .dropna()\n",
    "            .reset_index()\n",
    "            .rename(columns={\"lat\": \"Y\", \"lon\": \"X\", \"altitude\": \"Z\", \"time\": \"date\"})\n",
    "            .drop(columns=[\"alongshore\", \"cross_shore\"])\n",
    "        )\n",
    "        subset[\"date\"] = pd.DatetimeIndex(subset[\"date\"]).year\n",
    "        subset_array = subset.to_records(index=False)\n",
    "        arraylist.append(subset_array)"
   ]
  },
  {
   "cell_type": "code",
   "execution_count": 7,
   "metadata": {},
   "outputs": [],
   "source": [
    "concat_array = np.concatenate(arraylist)"
   ]
  },
  {
   "cell_type": "code",
   "execution_count": 8,
   "metadata": {},
   "outputs": [
    {
     "data": {
      "text/plain": [
       "0"
      ]
     },
     "execution_count": 8,
     "metadata": {},
     "output_type": "execute_result"
    }
   ],
   "source": [
    "p = pdal.Filter.reprojection(\n",
    "    in_srs=\"EPSG:4326\", out_srs=\"EPSG:7415\"\n",
    ").pipeline() | pdal.Writer.las(f\"../data/jarkus/jarkus_{indexnum}.laz\")\n",
    "\n",
    "p.execute()"
   ]
  },
  {
   "cell_type": "code",
   "execution_count": null,
   "metadata": {},
   "outputs": [],
   "source": [
    "pd_dict = {\n",
    "    \"qa_perc_signal_conf_ph_high_ocean\": 25.57604792974856,\n",
    "    \"qa_perc_signal_conf_ph_high_land\": 15.58688869980957,\n",
    "    \"qa_perc_signal_conf_ph_low_ocean\": 11.3459701986225,\n",
    "    \"qa_perc_signal_conf_ph_low_land\": 60.38438713275513,\n",
    "    \"qa_perc_signal_conf_ph_med_ocean\": 35.24949184009902,\n",
    "    \"qa_perc_signal_conf_ph_med_land\": 13.202344265772433,\n",
    "    \"qa_perc_surf_type_ocean\": 7.7244733010033,\n",
    "    \"qa_perc_surf_type_land\": 22.280336125472594,\n",
    "    \"qa_total_signal_conf_ph_high_ocean\": 47940,\n",
    "    \"qa_total_signal_conf_ph_high_land\": 65399,\n",
    "    \"qa_total_signal_conf_ph_low_ocean\": 21267,\n",
    "    \"qa_total_signal_conf_ph_low_land\": 253359,\n",
    "    \"qa_total_signal_conf_ph_med_ocean\": 66072,\n",
    "    \"qa_total_signal_conf_ph_med_land\": 55394,\n",
    "}\n",
    "\n",
    "pd.DataFrame(pd_dict, index=[0])"
   ]
  },
  {
   "cell_type": "code",
   "execution_count": null,
   "metadata": {},
   "outputs": [],
   "source": []
  },
  {
   "cell_type": "code",
   "execution_count": null,
   "metadata": {},
   "outputs": [],
   "source": [
    "print(get_beams(h5filepath))"
   ]
  },
  {
   "cell_type": "code",
   "execution_count": null,
   "metadata": {},
   "outputs": [],
   "source": [
    "ncds.groups[\"gt2l\"].groups[\"heights\"].variables[\"delta_time\"]"
   ]
  },
  {
   "cell_type": "code",
   "execution_count": null,
   "metadata": {
    "tags": []
   },
   "outputs": [],
   "source": [
    "ma = ncds.groups[\"gt2l\"].groups[\"geolocation\"].variables[\"ref_azimuth\"][:]\n",
    "ma"
   ]
  },
  {
   "cell_type": "code",
   "execution_count": null,
   "metadata": {},
   "outputs": [],
   "source": [
    "print(ncds.groups[\"gt3l\"])"
   ]
  },
  {
   "cell_type": "code",
   "execution_count": null,
   "metadata": {},
   "outputs": [],
   "source": [
    "ncds.groups[\"gt3l\"].groups[\"geophys_corr\"].variables[\"tide_ocean\"][:]"
   ]
  },
  {
   "cell_type": "code",
   "execution_count": 11,
   "metadata": {},
   "outputs": [
    {
     "ename": "NameError",
     "evalue": "name 'ncds' is not defined",
     "output_type": "error",
     "traceback": [
      "\u001b[0;31m---------------------------------------------------------------------------\u001b[0m",
      "\u001b[0;31mNameError\u001b[0m                                 Traceback (most recent call last)",
      "Input \u001b[0;32mIn [11]\u001b[0m, in \u001b[0;36m<cell line: 1>\u001b[0;34m()\u001b[0m\n\u001b[0;32m----> 1\u001b[0m \u001b[38;5;124m\"\u001b[39m\u001b[38;5;124mheights\u001b[39m\u001b[38;5;124m\"\u001b[39m \u001b[38;5;129;01min\u001b[39;00m \u001b[43mncds\u001b[49m\u001b[38;5;241m.\u001b[39mgroups[\u001b[38;5;124m\"\u001b[39m\u001b[38;5;124mgt1l\u001b[39m\u001b[38;5;124m\"\u001b[39m]\u001b[38;5;241m.\u001b[39mnc\n",
      "\u001b[0;31mNameError\u001b[0m: name 'ncds' is not defined"
     ]
    }
   ],
   "source": [
    "\"heights\" in ncds.groups[\"gt1l\"].nc"
   ]
  },
  {
   "cell_type": "code",
   "execution_count": 70,
   "metadata": {},
   "outputs": [
    {
     "name": "stdout",
     "output_type": "stream",
     "text": [
      "{'qa_perc_signal_conf_ph_high_ocean': 20.2397372931732, 'qa_perc_signal_conf_ph_high_land': 8.261628004495211, 'qa_perc_signal_conf_ph_low_ocean': 13.601657500014428, 'qa_perc_signal_conf_ph_low_land': 67.2428252738221, 'qa_perc_signal_conf_ph_med_ocean': 38.63902627645392, 'qa_perc_signal_conf_ph_med_land': 13.559156197409104, 'qa_perc_surf_type_ocean': 7.402508917478257, 'qa_perc_surf_type_land': 23.131337421345837, 'qa_total_signal_conf_ph_high_ocean': 35070, 'qa_total_signal_conf_ph_high_land': 29553, 'qa_total_signal_conf_ph_low_ocean': 23568, 'qa_total_signal_conf_ph_low_land': 240537, 'qa_total_signal_conf_ph_med_ocean': 66951, 'qa_total_signal_conf_ph_med_land': 48503}\n"
     ]
    }
   ],
   "source": [
    "QA_data = {}\n",
    "\n",
    "for varname, values in (\n",
    "    ncds.groups[\"quality_assessment\"].groups[\"gt3l\"].variables.items()\n",
    "):\n",
    "    QA_data[varname + \"_ocean\"] = values[:].data[0][1]\n",
    "    QA_data[varname + \"_land\"] = values[:].data[0][0]\n",
    "print(QA_data)"
   ]
  },
  {
   "cell_type": "code",
   "execution_count": 80,
   "metadata": {},
   "outputs": [
    {
     "name": "stdout",
     "output_type": "stream",
     "text": [
      "{'qa_perc_signal_conf_ph_high_ocean': 20.2397372931732, 'qa_perc_signal_conf_ph_high_land': 8.261628004495211, 'qa_perc_signal_conf_ph_low_ocean': 13.601657500014428, 'qa_perc_signal_conf_ph_low_land': 67.2428252738221, 'qa_perc_signal_conf_ph_med_ocean': 38.63902627645392, 'qa_perc_signal_conf_ph_med_land': 13.559156197409104, 'qa_perc_surf_type_ocean': 7.402508917478257, 'qa_perc_surf_type_land': 23.131337421345837, 'qa_total_signal_conf_ph_high_ocean': 35070, 'qa_total_signal_conf_ph_high_land': 29553, 'qa_total_signal_conf_ph_low_ocean': 23568, 'qa_total_signal_conf_ph_low_land': 240537, 'qa_total_signal_conf_ph_med_ocean': 66951, 'qa_total_signal_conf_ph_med_land': 48503, 'testdict': 1}\n"
     ]
    }
   ],
   "source": [
    "existing_dict = {\"testdict\": 1}\n",
    "QA_data.update(existing_dict)\n",
    "print(QA_data)"
   ]
  },
  {
   "cell_type": "code",
   "execution_count": 54,
   "metadata": {},
   "outputs": [
    {
     "data": {
      "text/plain": [
       "[array([[ 8.261628  , 20.23973729,  0.        ,  0.        , 10.5309377 ]]),\n",
       " array([[67.24282527, 13.6016575 ,  0.        ,  0.        , 38.27739431]]),\n",
       " array([[13.5591562 , 38.63902628,  0.        ,  0.        , 38.35642904]]),\n",
       " array([[23.13133742,  7.40250892,  0.        ,  0.        ,  3.04129427]]),\n",
       " array([[29553, 35070,     0,     0,  5996]]),\n",
       " array([[240537,  23568,      0,      0,  21794]]),\n",
       " array([[48503, 66951,     0,     0, 21839]])]"
      ]
     },
     "execution_count": 54,
     "metadata": {},
     "output_type": "execute_result"
    }
   ],
   "source": [
    "[np.array(varname[:])]"
   ]
  },
  {
   "cell_type": "code",
   "execution_count": 20,
   "metadata": {
    "tags": []
   },
   "outputs": [],
   "source": [
    "with xr.open_dataset(h5filepath, group=\"gt2l/heights\") as xrds:\n",
    "    xrds"
   ]
  },
  {
   "cell_type": "code",
   "execution_count": 32,
   "metadata": {
    "tags": []
   },
   "outputs": [
    {
     "data": {
      "text/plain": [
       "array([1.53976639e+18, 1.53976639e+18, 1.53976639e+18, ...,\n",
       "       1.53976639e+18, 1.53976639e+18, 1.53976639e+18])"
      ]
     },
     "execution_count": 32,
     "metadata": {},
     "output_type": "execute_result"
    }
   ],
   "source": [
    "xrds = xr.open_dataset(h5filepath, group=\"gt2l/heights\")\n",
    "\n",
    "xrds.delta_time.to_numpy().astype(\"float\")"
   ]
  },
  {
   "cell_type": "code",
   "execution_count": 15,
   "metadata": {},
   "outputs": [
    {
     "data": {
      "text/html": [
       "<div><svg style=\"position: absolute; width: 0; height: 0; overflow: hidden\">\n",
       "<defs>\n",
       "<symbol id=\"icon-database\" viewBox=\"0 0 32 32\">\n",
       "<path d=\"M16 0c-8.837 0-16 2.239-16 5v4c0 2.761 7.163 5 16 5s16-2.239 16-5v-4c0-2.761-7.163-5-16-5z\"></path>\n",
       "<path d=\"M16 17c-8.837 0-16-2.239-16-5v6c0 2.761 7.163 5 16 5s16-2.239 16-5v-6c0 2.761-7.163 5-16 5z\"></path>\n",
       "<path d=\"M16 26c-8.837 0-16-2.239-16-5v6c0 2.761 7.163 5 16 5s16-2.239 16-5v-6c0 2.761-7.163 5-16 5z\"></path>\n",
       "</symbol>\n",
       "<symbol id=\"icon-file-text2\" viewBox=\"0 0 32 32\">\n",
       "<path d=\"M28.681 7.159c-0.694-0.947-1.662-2.053-2.724-3.116s-2.169-2.030-3.116-2.724c-1.612-1.182-2.393-1.319-2.841-1.319h-15.5c-1.378 0-2.5 1.121-2.5 2.5v27c0 1.378 1.122 2.5 2.5 2.5h23c1.378 0 2.5-1.122 2.5-2.5v-19.5c0-0.448-0.137-1.23-1.319-2.841zM24.543 5.457c0.959 0.959 1.712 1.825 2.268 2.543h-4.811v-4.811c0.718 0.556 1.584 1.309 2.543 2.268zM28 29.5c0 0.271-0.229 0.5-0.5 0.5h-23c-0.271 0-0.5-0.229-0.5-0.5v-27c0-0.271 0.229-0.5 0.5-0.5 0 0 15.499-0 15.5 0v7c0 0.552 0.448 1 1 1h7v19.5z\"></path>\n",
       "<path d=\"M23 26h-14c-0.552 0-1-0.448-1-1s0.448-1 1-1h14c0.552 0 1 0.448 1 1s-0.448 1-1 1z\"></path>\n",
       "<path d=\"M23 22h-14c-0.552 0-1-0.448-1-1s0.448-1 1-1h14c0.552 0 1 0.448 1 1s-0.448 1-1 1z\"></path>\n",
       "<path d=\"M23 18h-14c-0.552 0-1-0.448-1-1s0.448-1 1-1h14c0.552 0 1 0.448 1 1s-0.448 1-1 1z\"></path>\n",
       "</symbol>\n",
       "</defs>\n",
       "</svg>\n",
       "<style>/* CSS stylesheet for displaying xarray objects in jupyterlab.\n",
       " *\n",
       " */\n",
       "\n",
       ":root {\n",
       "  --xr-font-color0: var(--jp-content-font-color0, rgba(0, 0, 0, 1));\n",
       "  --xr-font-color2: var(--jp-content-font-color2, rgba(0, 0, 0, 0.54));\n",
       "  --xr-font-color3: var(--jp-content-font-color3, rgba(0, 0, 0, 0.38));\n",
       "  --xr-border-color: var(--jp-border-color2, #e0e0e0);\n",
       "  --xr-disabled-color: var(--jp-layout-color3, #bdbdbd);\n",
       "  --xr-background-color: var(--jp-layout-color0, white);\n",
       "  --xr-background-color-row-even: var(--jp-layout-color1, white);\n",
       "  --xr-background-color-row-odd: var(--jp-layout-color2, #eeeeee);\n",
       "}\n",
       "\n",
       "html[theme=dark],\n",
       "body.vscode-dark {\n",
       "  --xr-font-color0: rgba(255, 255, 255, 1);\n",
       "  --xr-font-color2: rgba(255, 255, 255, 0.54);\n",
       "  --xr-font-color3: rgba(255, 255, 255, 0.38);\n",
       "  --xr-border-color: #1F1F1F;\n",
       "  --xr-disabled-color: #515151;\n",
       "  --xr-background-color: #111111;\n",
       "  --xr-background-color-row-even: #111111;\n",
       "  --xr-background-color-row-odd: #313131;\n",
       "}\n",
       "\n",
       ".xr-wrap {\n",
       "  display: block !important;\n",
       "  min-width: 300px;\n",
       "  max-width: 700px;\n",
       "}\n",
       "\n",
       ".xr-text-repr-fallback {\n",
       "  /* fallback to plain text repr when CSS is not injected (untrusted notebook) */\n",
       "  display: none;\n",
       "}\n",
       "\n",
       ".xr-header {\n",
       "  padding-top: 6px;\n",
       "  padding-bottom: 6px;\n",
       "  margin-bottom: 4px;\n",
       "  border-bottom: solid 1px var(--xr-border-color);\n",
       "}\n",
       "\n",
       ".xr-header > div,\n",
       ".xr-header > ul {\n",
       "  display: inline;\n",
       "  margin-top: 0;\n",
       "  margin-bottom: 0;\n",
       "}\n",
       "\n",
       ".xr-obj-type,\n",
       ".xr-array-name {\n",
       "  margin-left: 2px;\n",
       "  margin-right: 10px;\n",
       "}\n",
       "\n",
       ".xr-obj-type {\n",
       "  color: var(--xr-font-color2);\n",
       "}\n",
       "\n",
       ".xr-sections {\n",
       "  padding-left: 0 !important;\n",
       "  display: grid;\n",
       "  grid-template-columns: 150px auto auto 1fr 20px 20px;\n",
       "}\n",
       "\n",
       ".xr-section-item {\n",
       "  display: contents;\n",
       "}\n",
       "\n",
       ".xr-section-item input {\n",
       "  display: none;\n",
       "}\n",
       "\n",
       ".xr-section-item input + label {\n",
       "  color: var(--xr-disabled-color);\n",
       "}\n",
       "\n",
       ".xr-section-item input:enabled + label {\n",
       "  cursor: pointer;\n",
       "  color: var(--xr-font-color2);\n",
       "}\n",
       "\n",
       ".xr-section-item input:enabled + label:hover {\n",
       "  color: var(--xr-font-color0);\n",
       "}\n",
       "\n",
       ".xr-section-summary {\n",
       "  grid-column: 1;\n",
       "  color: var(--xr-font-color2);\n",
       "  font-weight: 500;\n",
       "}\n",
       "\n",
       ".xr-section-summary > span {\n",
       "  display: inline-block;\n",
       "  padding-left: 0.5em;\n",
       "}\n",
       "\n",
       ".xr-section-summary-in:disabled + label {\n",
       "  color: var(--xr-font-color2);\n",
       "}\n",
       "\n",
       ".xr-section-summary-in + label:before {\n",
       "  display: inline-block;\n",
       "  content: '►';\n",
       "  font-size: 11px;\n",
       "  width: 15px;\n",
       "  text-align: center;\n",
       "}\n",
       "\n",
       ".xr-section-summary-in:disabled + label:before {\n",
       "  color: var(--xr-disabled-color);\n",
       "}\n",
       "\n",
       ".xr-section-summary-in:checked + label:before {\n",
       "  content: '▼';\n",
       "}\n",
       "\n",
       ".xr-section-summary-in:checked + label > span {\n",
       "  display: none;\n",
       "}\n",
       "\n",
       ".xr-section-summary,\n",
       ".xr-section-inline-details {\n",
       "  padding-top: 4px;\n",
       "  padding-bottom: 4px;\n",
       "}\n",
       "\n",
       ".xr-section-inline-details {\n",
       "  grid-column: 2 / -1;\n",
       "}\n",
       "\n",
       ".xr-section-details {\n",
       "  display: none;\n",
       "  grid-column: 1 / -1;\n",
       "  margin-bottom: 5px;\n",
       "}\n",
       "\n",
       ".xr-section-summary-in:checked ~ .xr-section-details {\n",
       "  display: contents;\n",
       "}\n",
       "\n",
       ".xr-array-wrap {\n",
       "  grid-column: 1 / -1;\n",
       "  display: grid;\n",
       "  grid-template-columns: 20px auto;\n",
       "}\n",
       "\n",
       ".xr-array-wrap > label {\n",
       "  grid-column: 1;\n",
       "  vertical-align: top;\n",
       "}\n",
       "\n",
       ".xr-preview {\n",
       "  color: var(--xr-font-color3);\n",
       "}\n",
       "\n",
       ".xr-array-preview,\n",
       ".xr-array-data {\n",
       "  padding: 0 5px !important;\n",
       "  grid-column: 2;\n",
       "}\n",
       "\n",
       ".xr-array-data,\n",
       ".xr-array-in:checked ~ .xr-array-preview {\n",
       "  display: none;\n",
       "}\n",
       "\n",
       ".xr-array-in:checked ~ .xr-array-data,\n",
       ".xr-array-preview {\n",
       "  display: inline-block;\n",
       "}\n",
       "\n",
       ".xr-dim-list {\n",
       "  display: inline-block !important;\n",
       "  list-style: none;\n",
       "  padding: 0 !important;\n",
       "  margin: 0;\n",
       "}\n",
       "\n",
       ".xr-dim-list li {\n",
       "  display: inline-block;\n",
       "  padding: 0;\n",
       "  margin: 0;\n",
       "}\n",
       "\n",
       ".xr-dim-list:before {\n",
       "  content: '(';\n",
       "}\n",
       "\n",
       ".xr-dim-list:after {\n",
       "  content: ')';\n",
       "}\n",
       "\n",
       ".xr-dim-list li:not(:last-child):after {\n",
       "  content: ',';\n",
       "  padding-right: 5px;\n",
       "}\n",
       "\n",
       ".xr-has-index {\n",
       "  font-weight: bold;\n",
       "}\n",
       "\n",
       ".xr-var-list,\n",
       ".xr-var-item {\n",
       "  display: contents;\n",
       "}\n",
       "\n",
       ".xr-var-item > div,\n",
       ".xr-var-item label,\n",
       ".xr-var-item > .xr-var-name span {\n",
       "  background-color: var(--xr-background-color-row-even);\n",
       "  margin-bottom: 0;\n",
       "}\n",
       "\n",
       ".xr-var-item > .xr-var-name:hover span {\n",
       "  padding-right: 5px;\n",
       "}\n",
       "\n",
       ".xr-var-list > li:nth-child(odd) > div,\n",
       ".xr-var-list > li:nth-child(odd) > label,\n",
       ".xr-var-list > li:nth-child(odd) > .xr-var-name span {\n",
       "  background-color: var(--xr-background-color-row-odd);\n",
       "}\n",
       "\n",
       ".xr-var-name {\n",
       "  grid-column: 1;\n",
       "}\n",
       "\n",
       ".xr-var-dims {\n",
       "  grid-column: 2;\n",
       "}\n",
       "\n",
       ".xr-var-dtype {\n",
       "  grid-column: 3;\n",
       "  text-align: right;\n",
       "  color: var(--xr-font-color2);\n",
       "}\n",
       "\n",
       ".xr-var-preview {\n",
       "  grid-column: 4;\n",
       "}\n",
       "\n",
       ".xr-var-name,\n",
       ".xr-var-dims,\n",
       ".xr-var-dtype,\n",
       ".xr-preview,\n",
       ".xr-attrs dt {\n",
       "  white-space: nowrap;\n",
       "  overflow: hidden;\n",
       "  text-overflow: ellipsis;\n",
       "  padding-right: 10px;\n",
       "}\n",
       "\n",
       ".xr-var-name:hover,\n",
       ".xr-var-dims:hover,\n",
       ".xr-var-dtype:hover,\n",
       ".xr-attrs dt:hover {\n",
       "  overflow: visible;\n",
       "  width: auto;\n",
       "  z-index: 1;\n",
       "}\n",
       "\n",
       ".xr-var-attrs,\n",
       ".xr-var-data {\n",
       "  display: none;\n",
       "  background-color: var(--xr-background-color) !important;\n",
       "  padding-bottom: 5px !important;\n",
       "}\n",
       "\n",
       ".xr-var-attrs-in:checked ~ .xr-var-attrs,\n",
       ".xr-var-data-in:checked ~ .xr-var-data {\n",
       "  display: block;\n",
       "}\n",
       "\n",
       ".xr-var-data > table {\n",
       "  float: right;\n",
       "}\n",
       "\n",
       ".xr-var-name span,\n",
       ".xr-var-data,\n",
       ".xr-attrs {\n",
       "  padding-left: 25px !important;\n",
       "}\n",
       "\n",
       ".xr-attrs,\n",
       ".xr-var-attrs,\n",
       ".xr-var-data {\n",
       "  grid-column: 1 / -1;\n",
       "}\n",
       "\n",
       "dl.xr-attrs {\n",
       "  padding: 0;\n",
       "  margin: 0;\n",
       "  display: grid;\n",
       "  grid-template-columns: 125px auto;\n",
       "}\n",
       "\n",
       ".xr-attrs dt,\n",
       ".xr-attrs dd {\n",
       "  padding: 0;\n",
       "  margin: 0;\n",
       "  float: left;\n",
       "  padding-right: 10px;\n",
       "  width: auto;\n",
       "}\n",
       "\n",
       ".xr-attrs dt {\n",
       "  font-weight: normal;\n",
       "  grid-column: 1;\n",
       "}\n",
       "\n",
       ".xr-attrs dt:hover span {\n",
       "  display: inline-block;\n",
       "  background: var(--xr-background-color);\n",
       "  padding-right: 10px;\n",
       "}\n",
       "\n",
       ".xr-attrs dd {\n",
       "  grid-column: 2;\n",
       "  white-space: pre-wrap;\n",
       "  word-break: break-all;\n",
       "}\n",
       "\n",
       ".xr-icon-database,\n",
       ".xr-icon-file-text2 {\n",
       "  display: inline-block;\n",
       "  vertical-align: middle;\n",
       "  width: 1em;\n",
       "  height: 1.5em !important;\n",
       "  stroke-width: 0;\n",
       "  stroke: currentColor;\n",
       "  fill: currentColor;\n",
       "}\n",
       "</style><pre class='xr-text-repr-fallback'>&lt;xarray.DataArray (delta_time: 1420)&gt;\n",
       "array([nan, nan, nan, ..., nan, nan, nan], dtype=float32)\n",
       "Coordinates:\n",
       "  * delta_time  (delta_time) datetime64[ns] 2019-09-28T03:21:07.445421456 ......</pre><div class='xr-wrap' style='display:none'><div class='xr-header'><div class='xr-obj-type'>xarray.DataArray</div><div class='xr-array-name'></div><ul class='xr-dim-list'><li><span class='xr-has-index'>delta_time</span>: 1420</li></ul></div><ul class='xr-sections'><li class='xr-section-item'><div class='xr-array-wrap'><input id='section-1dfd3634-5fae-46bd-9e84-fbcbeaf2ade8' class='xr-array-in' type='checkbox' checked><label for='section-1dfd3634-5fae-46bd-9e84-fbcbeaf2ade8' title='Show/hide data repr'><svg class='icon xr-icon-database'><use xlink:href='#icon-database'></use></svg></label><div class='xr-array-preview xr-preview'><span>nan nan nan nan nan nan nan nan ... nan nan nan nan nan nan nan nan</span></div><div class='xr-array-data'><pre>array([nan, nan, nan, ..., nan, nan, nan], dtype=float32)</pre></div></div></li><li class='xr-section-item'><input id='section-b1176249-d8b8-494e-8681-53d4c1a8a85a' class='xr-section-summary-in' type='checkbox'  checked><label for='section-b1176249-d8b8-494e-8681-53d4c1a8a85a' class='xr-section-summary' >Coordinates: <span>(1)</span></label><div class='xr-section-inline-details'></div><div class='xr-section-details'><ul class='xr-var-list'><li class='xr-var-item'><div class='xr-var-name'><span class='xr-has-index'>delta_time</span></div><div class='xr-var-dims'>(delta_time)</div><div class='xr-var-dtype'>datetime64[ns]</div><div class='xr-var-preview xr-preview'>2019-09-28T03:21:07.445421456 .....</div><input id='attrs-a15cf085-1b7c-4ad6-8925-8d9fda8e2093' class='xr-var-attrs-in' type='checkbox' ><label for='attrs-a15cf085-1b7c-4ad6-8925-8d9fda8e2093' title='Show/Hide attributes'><svg class='icon xr-icon-file-text2'><use xlink:href='#icon-file-text2'></use></svg></label><input id='data-2acdeaf8-fd35-4614-ac7b-808873bec905' class='xr-var-data-in' type='checkbox'><label for='data-2acdeaf8-fd35-4614-ac7b-808873bec905' title='Show/Hide data repr'><svg class='icon xr-icon-database'><use xlink:href='#icon-database'></use></svg></label><div class='xr-var-attrs'><dl class='xr-attrs'><dt><span>long_name :</span></dt><dd>Elapsed GPS seconds</dd><dt><span>standard_name :</span></dt><dd>time</dd><dt><span>source :</span></dt><dd>Operations</dd><dt><span>contentType :</span></dt><dd>referenceInformation</dd><dt><span>description :</span></dt><dd>Elapsed seconds from the ATLAS SDP GPS Epoch, corresponding to the transmit time of the reference photon. The ATLAS Standard Data Products (SDP) epoch offset is defined within /ancillary_data/atlas_sdp_gps_epoch as the number of GPS seconds between the GPS epoch (1980-01-06T00:00:00.000000Z UTC) and the ATLAS SDP epoch. By adding the offset contained within atlas_sdp_gps_epoch to delta time parameters, the time in gps_seconds relative to the GPS epoch can be computed.</dd></dl></div><div class='xr-var-data'><pre>array([&#x27;2019-09-28T03:21:07.445421456&#x27;, &#x27;2019-09-28T03:21:07.448240352&#x27;,\n",
       "       &#x27;2019-09-28T03:21:07.451059256&#x27;, ..., &#x27;2019-09-28T03:21:11.439798504&#x27;,\n",
       "       &#x27;2019-09-28T03:21:11.442617400&#x27;, &#x27;2019-09-28T03:21:11.445436296&#x27;],\n",
       "      dtype=&#x27;datetime64[ns]&#x27;)</pre></div></li></ul></div></li><li class='xr-section-item'><input id='section-b26eb5f7-e97a-45a1-971a-9283ef99a700' class='xr-section-summary-in' type='checkbox' disabled ><label for='section-b26eb5f7-e97a-45a1-971a-9283ef99a700' class='xr-section-summary'  title='Expand/collapse section'>Attributes: <span>(0)</span></label><div class='xr-section-inline-details'></div><div class='xr-section-details'><dl class='xr-attrs'></dl></div></li></ul></div></div>"
      ],
      "text/plain": [
       "<xarray.DataArray (delta_time: 1420)>\n",
       "array([nan, nan, nan, ..., nan, nan, nan], dtype=float32)\n",
       "Coordinates:\n",
       "  * delta_time  (delta_time) datetime64[ns] 2019-09-28T03:21:07.445421456 ......"
      ]
     },
     "execution_count": 15,
     "metadata": {},
     "output_type": "execute_result"
    }
   ],
   "source": [
    "z_correction = xrds.geoid_free2mean + xrds.geoid * -1 + xrds.tide_ocean\n",
    "z_correction"
   ]
  },
  {
   "cell_type": "code",
   "execution_count": 15,
   "metadata": {},
   "outputs": [],
   "source": [
    "st_rgt = Dataset(h5filepath).groups\n",
    "\n",
    "# ['ancillary_data'].variables['start_rgt'][:]"
   ]
  },
  {
   "cell_type": "code",
   "execution_count": 31,
   "metadata": {},
   "outputs": [
    {
     "data": {
      "text/plain": [
       "(1284,)"
      ]
     },
     "execution_count": 31,
     "metadata": {},
     "output_type": "execute_result"
    }
   ],
   "source": [
    "xrds = xr.open_dataset(h5filepath, group=\"gt3l/geophys_corr\")\n",
    "xrds.delta_time.shape"
   ]
  },
  {
   "cell_type": "code",
   "execution_count": 40,
   "metadata": {},
   "outputs": [
    {
     "data": {
      "text/plain": [
       "array([4, 4, 4, ..., 4, 4, 4], dtype=int8)"
      ]
     },
     "execution_count": 40,
     "metadata": {},
     "output_type": "execute_result"
    }
   ],
   "source": [
    "a = ncds.groups[\"gt3l\"].groups[\"heights\"].variables[\"signal_conf_ph\"][:, 1]\n",
    "np.array(a)"
   ]
  },
  {
   "cell_type": "code",
   "execution_count": 95,
   "metadata": {},
   "outputs": [
    {
     "data": {
      "text/plain": [
       "<class 'netCDF4._netCDF4.Dataset'>\n",
       "root group (NETCDF4 data model, file format HDF5):\n",
       "    geospatial_lon_min: -81.35265359722906\n",
       "    level: L2\n",
       "    identifier_product_doi: doi:10.5067/ATLAS/ATL03.005\n",
       "    contributor_name: Thomas E Neumann (thomas.neumann@nasa.gov), Thorsten Markus (thorsten.markus@nasa.gov), Suneel Bhardwaj (suneel.bhardwaj@nasa.gov) David W Hancock III (david.w.hancock@nasa.gov)\n",
       "    keywords: EARTH SCIENCE > CRYOSPHERE > SEA ICE > NONE > NONE > NONE > NONE\n",
       "    Processing Parameters: This file was gernerated by the ICESat-2 Service version 1.0 which performed the following operations on ATL03_20201202073402_10560901_005_01.h5\n",
       "Extracted the datasets named:\n",
       "/Metadata/\n",
       "/ancillary_data/data_end_utc/\n",
       "/ancillary_data/data_start_utc/\n",
       "/ancillary_data/end_rgt/\n",
       "/ancillary_data/start_rgt/\n",
       "/quality_assessment/qa_granule_pass_fail/\n",
       "/gt1l/geolocation/segment_id/\n",
       "/gt1l/geolocation/sigma_h/\n",
       "/gt1l/geophys_corr/delta_time/\n",
       "/gt1l/geophys_corr/dem_h/\n",
       "/gt1l/geophys_corr/geoid/\n",
       "/gt1l/geophys_corr/geoid_free2mean/\n",
       "/gt1l/geophys_corr/tide_ocean/\n",
       "/gt1l/heights/delta_time/\n",
       "/gt1l/heights/dist_ph_along/\n",
       "/gt1l/heights/h_ph/\n",
       "/gt1l/heights/lat_ph/\n",
       "/gt1l/heights/lon_ph/\n",
       "/gt1l/heights/signal_conf_ph/\n",
       "/gt1r/geolocation/segment_dist_x/\n",
       "/gt1r/geolocation/segment_id/\n",
       "/gt1r/geolocation/sigma_h/\n",
       "/gt1r/geophys_corr/delta_time/\n",
       "/gt1r/geophys_corr/dem_h/\n",
       "/gt1r/geophys_corr/geoid/\n",
       "/gt1r/geophys_corr/geoid_free2mean/\n",
       "/gt1r/geophys_corr/tide_ocean/\n",
       "/gt1r/heights/delta_time/\n",
       "/gt1r/heights/dist_ph_along/\n",
       "/gt1r/heights/h_ph/\n",
       "/gt1r/heights/lat_ph/\n",
       "/gt1r/heights/lon_ph/\n",
       "/gt1r/heights/signal_conf_ph/\n",
       "/gt2l/geolocation/segment_dist_x/\n",
       "/gt2l/geolocation/segment_id/\n",
       "/gt2l/geolocation/sigma_h/\n",
       "/gt2l/geophys_corr/delta_time/\n",
       "/gt2l/geophys_corr/dem_h/\n",
       "/gt2l/geophys_corr/geoid/\n",
       "/gt2l/geophys_corr/geoid_free2mean/\n",
       "/gt2l/geophys_corr/tide_ocean/\n",
       "/gt2l/heights/delta_time/\n",
       "/gt2l/heights/dist_ph_along/\n",
       "/gt2l/heights/h_ph/\n",
       "/gt2l/heights/lat_ph/\n",
       "/gt2l/heights/lon_ph/\n",
       "/gt2l/heights/signal_conf_ph/\n",
       "/gt2r/geolocation/segment_dist_x/\n",
       "/gt2r/geolocation/segment_id/\n",
       "/gt2r/geolocation/sigma_h/\n",
       "/gt2r/geophys_corr/delta_time/\n",
       "/gt2r/geophys_corr/dem_h/\n",
       "/gt2r/geophys_corr/geoid/\n",
       "/gt2r/geophys_corr/geoid_free2mean/\n",
       "/gt2r/geophys_corr/tide_ocean/\n",
       "/gt2r/heights/delta_time/\n",
       "/gt2r/heights/dist_ph_along/\n",
       "/gt2r/heights/h_ph/\n",
       "/gt2r/heights/lat_ph/\n",
       "/gt2r/heights/lon_ph/\n",
       "/gt2r/heights/signal_conf_ph/\n",
       "/gt3l/geolocation/segment_dist_x/\n",
       "/gt3l/geolocation/segment_id/\n",
       "/gt3l/geolocation/sigma_h/\n",
       "/gt3l/geophys_corr/delta_time/\n",
       "/gt3l/geophys_corr/dem_h/\n",
       "/gt3l/geophys_corr/geoid/\n",
       "/gt3l/geophys_corr/geoid_free2mean/\n",
       "/gt3l/geophys_corr/tide_ocean/\n",
       "/gt3l/heights/delta_time/\n",
       "/gt3l/heights/dist_ph_along/\n",
       "/gt3l/heights/h_ph/\n",
       "/gt3l/heights/lat_ph/\n",
       "/gt3l/heights/lon_ph/\n",
       "/gt3l/heights/signal_conf_ph/\n",
       "/gt3r/geolocation/segment_dist_x/\n",
       "/gt3r/geolocation/segment_id/\n",
       "/gt3r/geolocation/sigma_h/\n",
       "/gt3r/geophys_corr/delta_time/\n",
       "/gt3r/geophys_corr/dem_h/\n",
       "/gt3r/geophys_corr/geoid/\n",
       "/gt3r/geophys_corr/geoid_free2mean/\n",
       "/gt3r/geophys_corr/tide_ocean/\n",
       "/gt3r/heights/delta_time/\n",
       "/gt3r/heights/dist_ph_along/\n",
       "/gt3r/heights/h_ph/\n",
       "/gt3r/heights/lat_ph/\n",
       "/gt3r/heights/lon_ph/\n",
       "/gt3r/heights/signal_conf_ph/\n",
       "/quality_assessment/gt1l/qa_perc_signal_conf_ph_high/\n",
       "/quality_assessment/gt1l/qa_perc_signal_conf_ph_low/\n",
       "/quality_assessment/gt1l/qa_perc_signal_conf_ph_med/\n",
       "/quality_assessment/gt1l/qa_perc_surf_type/\n",
       "/quality_assessment/gt1l/qa_total_signal_conf_ph_high/\n",
       "/quality_assessment/gt1l/qa_total_signal_conf_ph_low/\n",
       "/quality_assessment/gt1l/qa_total_signal_conf_ph_med/\n",
       "/quality_assessment/gt1r/qa_perc_signal_conf_ph_high/\n",
       "/quality_assessment/gt1r/qa_perc_signal_conf_ph_low/\n",
       "/quality_assessment/gt1r/qa_perc_signal_conf_ph_med/\n",
       "/quality_assessment/gt1r/qa_perc_surf_type/\n",
       "/quality_assessment/gt1r/qa_total_signal_conf_ph_high/\n",
       "/quality_assessment/gt1r/qa_total_signal_conf_ph_low/\n",
       "/quality_assessment/gt1r/qa_total_signal_conf_ph_med/\n",
       "/quality_assessment/gt2l/qa_perc_signal_conf_ph_high/\n",
       "/quality_assessment/gt2l/qa_perc_signal_conf_ph_low/\n",
       "/quality_assessment/gt2l/qa_perc_signal_conf_ph_med/\n",
       "/quality_assessment/gt2l/qa_perc_surf_type/\n",
       "/quality_assessment/gt2l/qa_total_signal_conf_ph_high/\n",
       "/quality_assessment/gt2l/qa_total_signal_conf_ph_low/\n",
       "/quality_assessment/gt2l/qa_total_signal_conf_ph_med/\n",
       "/quality_assessment/gt2r/qa_perc_signal_conf_ph_high/\n",
       "/quality_assessment/gt2r/qa_perc_signal_conf_ph_low/\n",
       "/quality_assessment/gt2r/qa_perc_signal_conf_ph_med/\n",
       "/quality_assessment/gt2r/qa_perc_surf_type/\n",
       "/quality_assessment/gt2r/qa_total_signal_conf_ph_high/\n",
       "/quality_assessment/gt2r/qa_total_signal_conf_ph_low/\n",
       "/quality_assessment/gt2r/qa_total_signal_conf_ph_med/\n",
       "/quality_assessment/gt3l/qa_perc_signal_conf_ph_high/\n",
       "/quality_assessment/gt3l/qa_perc_signal_conf_ph_low/\n",
       "/quality_assessment/gt3l/qa_perc_signal_conf_ph_med/\n",
       "/quality_assessment/gt3l/qa_perc_surf_type/\n",
       "/quality_assessment/gt3l/qa_total_signal_conf_ph_high/\n",
       "/quality_assessment/gt3l/qa_total_signal_conf_ph_low/\n",
       "/quality_assessment/gt3l/qa_total_signal_conf_ph_med/\n",
       "/quality_assessment/gt3r/gt1l/geolocation/segment_dist_x/\n",
       "within the spatial constraint defined by the bounding box (-81.124080000000006, 24.579660000000001, -80.890699999999995, 24.810939999999999)\n",
       "\n",
       "    geospatial_lat_units: degrees_north\n",
       "    geospatial_lon_units: degrees_east\n",
       "    granule_type: ATL03\n",
       "    time_coverage_start: 2020-12-02T07:34:02.000000Z\n",
       "    identifier_file_uuid: a0e00c89-2c53-3bd6-bfc7-a2a4289b7fb5\n",
       "    summary: The purpose of ATL03 is to provide along-track photon data for all 6 ATLAS beams and associated statistics.\n",
       "    keywords_vocabulary: NASA/GCMD Science Keywords\n",
       "    short_name: ATL03\n",
       "    institution: National Aeronautics and Space Administration (NASA)\n",
       "    creator_name: GSFC I-SIPS > ICESat-2 Science Investigator-led Processing System\n",
       "    processing_level: 2A\n",
       "    publisher_name: NSIDC DAAC > NASA National Snow and Ice Data Center Distributed Active Archive Center\n",
       "    time_coverage_end: 2020-12-02T07:41:04.000000Z\n",
       "    geospatial_lat_max: 26.99977733841897\n",
       "    time_coverage_duration: 422.0\n",
       "    naming_authority: http://dx.doi.org\n",
       "    identifier_product_format_version: 3.5\n",
       "    source: Spacecraft\n",
       "    title: SET_BY_META\n",
       "    featureType: trajectory\n",
       "    standard_name_vocabulary: CF-1.6\n",
       "    instrument: ATLAS > Advanced Topographic Laser Altimeter System\n",
       "    geospatial_lon_max: -78.51550436350274\n",
       "    identifier_product_doi_authority: http://dx.doi.org\n",
       "    identifier_product_type: ATL03\n",
       "    date_type: UTC\n",
       "    spatial_coverage_type: Horizontal\n",
       "    Conventions: CF-1.6\n",
       "    hdfversion: HDF5 1.10.7\n",
       "    platform: ICESat-2 > Ice, Cloud, and land Elevation Satellite-2\n",
       "    project: ICESat-2 > Ice, Cloud, and land Elevation Satellite-2\n",
       "    citation: Cite these data in publications as follows: The data used in this study were produced by the ICESat-2 Science Project Office at NASA/GSFC. The data archive site is the NASA National Snow and Ice Data Center Distributed Active Archive Center.\n",
       "    history: 2021-10-04T04:42:47.000000Z;a0e00c89-2c53-3bd6-bfc7-a2a4289b7fb5;Created by PGE atlas_l2a_alt Version 3.5\n",
       "    references: http://nsidc.org/data/icesat2/data.html\n",
       "    time_type: CCSDS UTC-A\n",
       "    publisher_url: http://nsidc.org/daac/\n",
       "    geospatial_lat_min: -0.0060284948053208704\n",
       "    contributor_role: Instrument Engineer, Investigator, Principle Investigator, Data Producer, Data Producer\n",
       "    publisher_email: nsidc@nsidc.org\n",
       "    description: This data set (ATL03) contains height above the WGS 84 ellipsoid (ITRF2014 reference frame), latitude, longitude, and time for all photons downlinked by the Advanced Topographic Laser Altimeter System (ATLAS) instrument on board the Ice, Cloud and land Elevation Satellite-2 (ICESat-2).\n",
       "    date_created: 2021-10-04T04:42:47.000000Z\n",
       "    license: Data may not be reproduced or distributed without including the citation for this product included in this metadata. Data may not be distributed in an altered form without the written permission of the ICESat-2 Science Project Office at NASA/GSFC.\n",
       "    dimensions(sizes): \n",
       "    variables(dimensions): \n",
       "    groups: METADATA, ancillary_data, gt1l, gt1r, gt2l, gt2r, gt3l, gt3r, quality_assessment"
      ]
     },
     "execution_count": 95,
     "metadata": {},
     "output_type": "execute_result"
    }
   ],
   "source": [
    "ncds"
   ]
  },
  {
   "cell_type": "code",
   "execution_count": 99,
   "metadata": {},
   "outputs": [
    {
     "data": {
      "text/plain": [
       "['Description', 'data_rate']"
      ]
     },
     "execution_count": 99,
     "metadata": {},
     "output_type": "execute_result"
    }
   ],
   "source": [
    "ncds.groups[\"gt1l\"].groups[\"heights\"].ncattrs()"
   ]
  },
  {
   "cell_type": "code",
   "execution_count": 103,
   "metadata": {},
   "outputs": [
    {
     "data": {
      "text/plain": [
       "'This data set (ATL03) contains height above the WGS 84 ellipsoid (ITRF2014 reference frame), latitude, longitude, and time for all photons downlinked by the Advanced Topographic Laser Altimeter System (ATLAS) instrument on board the Ice, Cloud and land Elevation Satellite-2 (ICESat-2).'"
      ]
     },
     "execution_count": 103,
     "metadata": {},
     "output_type": "execute_result"
    }
   ],
   "source": [
    "ncds.description"
   ]
  },
  {
   "cell_type": "code",
   "execution_count": 4,
   "metadata": {},
   "outputs": [
    {
     "data": {
      "text/plain": [
       "array([75, 95,  1, 37, 76, 67, 27, 58, 75, 21, 16, 13, 35, 52, 49, 27, 31,\n",
       "        5, 91, 76, 43, 82, 53, 82, 15, 66, 54, 13,  9, 61, 42, 98, 73, 13,\n",
       "       57, 43, 43, 24, 52, 52, 65, 81, 85, 87,  9, 99, 95, 77, 49, 22, 10,\n",
       "        8, 19, 53, 45, 18, 73, 44, 54,  1, 91, 40, 31, 33, 75, 26, 75, 78,\n",
       "       41, 94, 23, 49, 89, 58, 74, 24, 84,  1, 89, 33, 30, 60,  5, 12,  9,\n",
       "       33, 49, 68, 33, 85, 87, 56, 33, 87, 89, 36, 69, 91, 13, 57])"
      ]
     },
     "execution_count": 4,
     "metadata": {},
     "output_type": "execute_result"
    },
    {
     "name": "stdout",
     "output_type": "stream",
     "text": [
      "ERROR! Session/line number was not unique in database. History logging moved to new session 11\n"
     ]
    }
   ],
   "source": [
    "a = np.random.randint(0, 100, size=100)\n",
    "b = np.random.normal(size=100)\n",
    "a"
   ]
  },
  {
   "cell_type": "code",
   "execution_count": 5,
   "metadata": {},
   "outputs": [
    {
     "data": {
      "text/plain": [
       "array([-0.31503933, -0.05620716,  2.42325741,  0.79477423, -2.10528555,\n",
       "        1.07067168,  0.15873523, -1.23223445, -0.00848203, -0.74975272,\n",
       "        0.34598842,  0.17813241,  0.14363086, -1.81393551,  0.85364658,\n",
       "       -0.85540962, -1.22403159, -1.55932301, -0.82171545,  0.04725742,\n",
       "        0.994554  ,  1.5668754 , -1.07671755,  0.33862805, -1.26887244,\n",
       "        0.46925538, -0.04374728,  0.95065031, -0.50043123, -0.31495834,\n",
       "        0.78901074, -0.51898357,  0.24886347,  2.31458535,  1.46723933,\n",
       "       -0.33569775, -0.33512831, -1.3762444 ,  0.74343667,  0.28107771,\n",
       "        0.37403211, -0.09868099,  0.10666268, -1.77198646, -0.49649269,\n",
       "        0.03095494,  0.49872536, -0.20331527,  0.09356994,  1.62534325,\n",
       "       -0.47315099,  0.49935274, -0.90913035,  0.58820077, -1.23216652,\n",
       "       -0.1809294 ,  0.60483326, -0.18931249, -0.92608823, -0.54023788,\n",
       "        0.15859822,  0.30248788,  2.54711181, -0.78851716, -1.99073433,\n",
       "       -1.83204399,  0.2311412 , -0.06764748,  0.13356877, -0.33491332,\n",
       "        0.94403303, -0.35816944,  0.05373496,  0.853073  ,  0.3171029 ,\n",
       "        2.39243215, -1.19442236, -0.7705766 ,  0.76043694,  0.26890102,\n",
       "        0.74534563, -0.78610994, -0.70920447,  1.29103071,  1.20951258,\n",
       "        0.85110346,  0.28260899, -0.97782272,  1.19046849, -0.15054688,\n",
       "        0.19730959,  0.41489713,  0.23842604, -0.81041939,  0.11119293,\n",
       "        1.18410766, -0.12875497, -1.13939248,  1.40705002,  1.74299051])"
      ]
     },
     "execution_count": 5,
     "metadata": {},
     "output_type": "execute_result"
    }
   ],
   "source": [
    "b"
   ]
  },
  {
   "cell_type": "code",
   "execution_count": null,
   "metadata": {},
   "outputs": [],
   "source": [
    "np.array((a, b), dtype=[(\"aname\", \"<i8\"), (\"bname\", \"<f8\")])"
   ]
  },
  {
   "cell_type": "code",
   "execution_count": null,
   "metadata": {},
   "outputs": [],
   "source": []
  }
 ],
 "metadata": {
  "interpreter": {
   "hash": "ec7c7d4d013ec650dc8eb8b9310ce197f2a724f68d99fdc157fb921cb8b4fa41"
  },
  "kernelspec": {
   "display_name": "Python 3 (ipykernel)",
   "language": "python",
   "name": "python3"
  },
  "language_info": {
   "codemirror_mode": {
    "name": "ipython",
    "version": 3
   },
   "file_extension": ".py",
   "mimetype": "text/x-python",
   "name": "python",
   "nbconvert_exporter": "python",
   "pygments_lexer": "ipython3",
   "version": "3.9.10"
  }
 },
 "nbformat": 4,
 "nbformat_minor": 4
}
