{
 "cells": [
  {
   "cell_type": "markdown",
   "metadata": {},
   "source": [
    "# data loading prototyping\n",
    "\n",
    "This notebook is just a scratchpad for experimenting with how to load data from the ATL03 files"
   ]
  },
  {
   "cell_type": "code",
   "execution_count": 2,
   "metadata": {},
   "outputs": [
    {
     "name": "stdout",
     "output_type": "stream",
     "text": [
      "/mnt/c/Users/XCB/OneDrive - Van Oord/Documents/thesis/code\n"
     ]
    }
   ],
   "source": [
    "%cd .."
   ]
  },
  {
   "cell_type": "code",
   "execution_count": 3,
   "metadata": {
    "tags": []
   },
   "outputs": [],
   "source": [
    "from netCDF4 import Dataset\n",
    "import xarray as xr\n",
    "import numpy as np\n",
    "import pandas as pd\n",
    "from cftime import num2date, date2num, num2pydate\n",
    "from datetime import datetime, timedelta\n",
    "from atl_module.io.atl03_netcdf_loading import get_beams\n",
    "import pdal\n",
    "\n",
    "from atl_module.io.atl03_netcdf_loading import load_beam_array_ncds"
   ]
  },
  {
   "cell_type": "code",
   "execution_count": 4,
   "metadata": {},
   "outputs": [],
   "source": [
    "h5filepath = \"../data/test_sites/big_island/ATL03/processed_ATL03_20210301202807_10361007_005_01.nc\"\n",
    "beam = \"gt3l\"\n",
    "# \"C:\\Users\\maxli\\OneDrive - Van Oord\\Documents\\thesis\\data\\ATL12_FL\\239711552\\processed_ATL12_20210613064553_12291101_005_02.nc\""
   ]
  },
  {
   "cell_type": "code",
   "execution_count": 5,
   "metadata": {
    "tags": []
   },
   "outputs": [],
   "source": [
    "ncds = Dataset(h5filepath)"
   ]
  },
  {
   "cell_type": "code",
   "execution_count": 6,
   "metadata": {},
   "outputs": [],
   "source": [
    "delta_time_geophys = ncds.groups[beam].groups[\"geophys_corr\"].variables[\"delta_time\"][:]\n",
    "delta_time_geoloc = ncds.groups[beam].groups[\"geolocation\"].variables[\"delta_time\"][:]"
   ]
  },
  {
   "cell_type": "code",
   "execution_count": 7,
   "metadata": {},
   "outputs": [
    {
     "data": {
      "text/plain": [
       "True"
      ]
     },
     "execution_count": 7,
     "metadata": {},
     "output_type": "execute_result"
    }
   ],
   "source": [
    "np.all(delta_time_geophys == delta_time_geoloc)"
   ]
  },
  {
   "cell_type": "code",
   "execution_count": 8,
   "metadata": {
    "tags": []
   },
   "outputs": [],
   "source": [
    "beamarray = ncds.groups[beam].groups[\"geolocation\"].variables[\"segment_ph_cnt\"][:]\n",
    "# delta_time ="
   ]
  },
  {
   "cell_type": "code",
   "execution_count": null,
   "metadata": {},
   "outputs": [],
   "source": []
  },
  {
   "cell_type": "code",
   "execution_count": 9,
   "metadata": {},
   "outputs": [
    {
     "data": {
      "text/plain": [
       "array([  0,   0,   0,   0,   0,   0,   0,   0,   0,   0,   0,   0,   0,\n",
       "         0,   0,   0,   0,   0, 781, 177,  89,   4,  84, 148, 100,  60,\n",
       "        45, 115, 115,  50,  51,  89, 116,  58, 107,  51,  56, 130,  27,\n",
       "       106,  72,  96,  49,  73, 118,  63,  59, 111,  57, 109,  82, 289,\n",
       "       180, 179, 300, 177,  15, 329,  16,  99,  42, 140,  88,  57,  67,\n",
       "        93,  69,  54,  99, 103,  37, 134, 103, 126,  83, 186, 185,  22,\n",
       "       238,  41, 381,  47,  32, 187, 104,  11, 216,  65, 171, 126, 175,\n",
       "        53, 128,  48, 127,  54, 108, 111, 149,  53, 102,  53, 169,  75,\n",
       "        78,  60,  69,  96,  73,  67,  93,  82, 156,  52, 103,  55],\n",
       "      dtype=int32)"
      ]
     },
     "execution_count": 9,
     "metadata": {},
     "output_type": "execute_result"
    }
   ],
   "source": [
    "beamarray.filled()"
   ]
  },
  {
   "cell_type": "code",
   "execution_count": 10,
   "metadata": {},
   "outputs": [],
   "source": [
    "df = load_beam_array_ncds(h5filepath, beam)"
   ]
  },
  {
   "cell_type": "code",
   "execution_count": 11,
   "metadata": {},
   "outputs": [
    {
     "data": {
      "text/plain": [
       "array([(-155.96004986, 19.86305704, -358.42383,        nan,       nan,         nan,        nan, '2021-03-01T20:29:54.269658', 0, 0,        nan,       nan,         nan,  0, nan),\n",
       "       (-155.95985778, 19.86378328,  492.05646,        nan,       nan,         nan,        nan, '2021-03-01T20:29:54.269758', 0, 0,        nan,       nan,         nan,  0, nan),\n",
       "       (-155.95986375, 19.86376054,  465.65384,        nan,       nan,         nan,        nan, '2021-03-01T20:29:54.269758', 0, 0,        nan,       nan,         nan,  0, nan),\n",
       "       ...,\n",
       "       (-155.96063612, 19.84549374,  119.74539,   99.97316, 19.687885, -0.26121876, 0.08435138, '2021-03-01T20:29:54.547658', 0, 0, 0.24075064, 1.4728825, -0.08638553, 55,  0.),\n",
       "       (-155.96069214, 19.84527778, -130.78923, -150.56146, 19.687885, -0.26121876, 0.08435138, '2021-03-01T20:29:54.547658', 0, 0, 0.24075064, 1.4728825, -0.08638553, 55,  0.),\n",
       "       (-155.96070489, 19.84522862, -187.81543, -207.58766, 19.687885, -0.26121876, 0.08435138, '2021-03-01T20:29:54.547658', 0, 0, 0.24075064, 1.4728825, -0.08638553, 55,  0.)],\n",
       "      dtype=[('X', '<f8'), ('Y', '<f8'), ('Z_ellip', '<f4'), ('Z_geoid', '<f4'), ('geoid_corr', '<f4'), ('tide_ocean_corr', '<f4'), ('geof2m_corr', '<f4'), ('delta_time', '<M8[us]'), ('oc_sig_conf', 'i1'), ('land_sig_conf', 'i1'), ('p_vec_az', '<f4'), ('p_vec_elev', '<f4'), ('dac_corr', '<f4'), ('ph_count', '<i4'), ('full_sat', '<f4')])"
      ]
     },
     "execution_count": 11,
     "metadata": {},
     "output_type": "execute_result"
    }
   ],
   "source": [
    "df"
   ]
  },
  {
   "cell_type": "code",
   "execution_count": null,
   "metadata": {},
   "outputs": [],
   "source": []
  }
 ],
 "metadata": {
  "interpreter": {
   "hash": "ec7c7d4d013ec650dc8eb8b9310ce197f2a724f68d99fdc157fb921cb8b4fa41"
  },
  "kernelspec": {
   "display_name": "Python 3 (ipykernel)",
   "language": "python",
   "name": "python3"
  },
  "language_info": {
   "codemirror_mode": {
    "name": "ipython",
    "version": 3
   },
   "file_extension": ".py",
   "mimetype": "text/x-python",
   "name": "python",
   "nbconvert_exporter": "python",
   "pygments_lexer": "ipython3",
   "version": "3.9.10"
  }
 },
 "nbformat": 4,
 "nbformat_minor": 4
}
