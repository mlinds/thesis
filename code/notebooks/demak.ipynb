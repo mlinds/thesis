{
 "cells": [
  {
   "cell_type": "code",
   "execution_count": 1,
   "id": "500812c6-bd17-4f99-b0b2-8390c6988b12",
   "metadata": {},
   "outputs": [
    {
     "name": "stdout",
     "output_type": "stream",
     "text": [
      "/mnt/c/Users/XCB/OneDrive - Van Oord/Documents/thesis/code\n"
     ]
    }
   ],
   "source": [
    "%cd .."
   ]
  },
  {
   "cell_type": "code",
   "execution_count": 2,
   "id": "95776b01-23db-4695-9f56-b0e2b9162a0c",
   "metadata": {},
   "outputs": [],
   "source": [
    "from atl_module import GebcoUpscaler"
   ]
  },
  {
   "cell_type": "code",
   "execution_count": 3,
   "id": "482505cd-6997-4a72-862c-8ca651b14fe5",
   "metadata": {},
   "outputs": [
    {
     "name": "stderr",
     "output_type": "stream",
     "text": [
      "[I 221005 14:10:32 core:66] Trackline geodata not found - recalculate from netcdf files\n"
     ]
    },
    {
     "name": "stdout",
     "output_type": "stream",
     "text": [
      "Bathy Points geodata not found: run `find_bathy_from_icesat()`\n",
      "should subset gebco\n"
     ]
    }
   ],
   "source": [
    "site = GebcoUpscaler(\"../data/special_sites/demak\", \"Demak\")"
   ]
  },
  {
   "cell_type": "code",
   "execution_count": 4,
   "id": "be144aea-3772-4b74-bc27-d2f2a04a69b5",
   "metadata": {},
   "outputs": [
    {
     "name": "stdout",
     "output_type": "stream",
     "text": [
      "The most recent version of ATL03 is 005\n",
      "There are 92 granules of ATL03 version 005 over my area and time of interest.\n",
      "The average size of each granule is 855.48 MB and the total size of all 92 granules is 78704.27 MB\n",
      "These reformatting options are available: ['TABULAR_ASCII', 'NetCDF4-CF', 'NetCDF-3']\n",
      "No reprojection options are supported with your requested format\n",
      "There will be 1 total order(s) processed for our ATL03 request.\n",
      "entering streaming request function\n",
      "Order:  1\n",
      "Requesting...\n",
      "{'Date': 'Wed, 05 Oct 2022 12:09:55 GMT', 'Server': 'Apache/2.4.51 (Unix) OpenSSL/1.1.1k', 'X-DataAccess-Message': 'Request produced no output', 'Content-Type': 'application/xml', 'Keep-Alive': 'timeout=5, max=99', 'Connection': 'Keep-Alive'}\n",
      "https://n5eil02u.ecs.nsidc.org/egi/request?short_name=ATL03&version=005&format=NetCDF4-CF&Coverage=%2Fancillary_data%2Fstart_rgt%2F%2C%2Fancillary_data%2Fend_rgt%2F%2C%2Fancillary_data%2Fdata_start_utc%2F%2C%2Fancillary_data%2Fdata_end_utc%2F%2C%2Fquality_assessment%2Fqa_granule_pass_fail%2F%2C%2Fquality_assessment%2Fgt1l%2F%2C%2Fquality_assessment%2Fgt1r%2F%2C%2Fquality_assessment%2Fgt2l%2F%2C%2Fquality_assessment%2Fgt2r%2C%2Fquality_assessment%2Fgt3l%2C%2Fquality_assessment%2Fgt3r%2C%2Forbit_info%2Fgt1l%2Fgeolocation%2Fsegment_dist_x%2C%2Fgt1l%2Fgeolocation%2Fsegment_id%2C%2Fgt1l%2Fgeolocation%2Fsigma_h%2C%2Fgt1l%2Fgeolocation%2Fref_azimuth%2C%2Fgt1l%2Fgeolocation%2Fref_elev%2C%2Fgt1l%2Fgeolocation%2Fsegment_ph_cnt%2C%2Fgt1l%2Fgeolocation%2Freference_photon_lon%2C%2Fgt1l%2Fgeolocation%2Freference_photon_lat%2C%2Fgt1l%2Fgeolocation%2Fdelta_time%2C%2Fgt1l%2Fgeolocation%2Fsurf_type%2C%2Fgt1l%2Fgeolocation%2Ffull_sat_fract%2C%2Fgt1l%2Fgeolocation%2Fnear_sat_fract%2C%2Fgt1l%2Fheights%2Fh_ph%2C%2Fgt1l%2Fheights%2Flat_ph%2C%2Fgt1l%2Fheights%2Flon_ph%2C%2Fgt1l%2Fheights%2Fdist_ph_along%2C%2Fgt1l%2Fheights%2Fdelta_time%2C%2Fgt1l%2Fheights%2Fsignal_conf_ph%2C%2Fgt1l%2Fgeophys_corr%2Fdem_h%2C%2Fgt1l%2Fgeophys_corr%2Ftide_ocean%2C%2Fgt1l%2Fgeophys_corr%2Fdelta_time%2C%2Fgt1l%2Fgeophys_corr%2Fgeoid%2C%2Fgt1l%2Fgeophys_corr%2Fgeoid_free2mean%2C%2Fgt1l%2Fgeophys_corr%2Fdac%2C%2Fgt1r%2Fgeolocation%2Fsegment_dist_x%2C%2Fgt1r%2Fgeolocation%2Fsegment_id%2C%2Fgt1r%2Fgeolocation%2Fsigma_h%2C%2Fgt1r%2Fgeolocation%2Fref_azimuth%2C%2Fgt1r%2Fgeolocation%2Fref_elev%2C%2Fgt1r%2Fgeolocation%2Fsegment_ph_cnt%2C%2Fgt1r%2Fgeolocation%2Freference_photon_lon%2C%2Fgt1r%2Fgeolocation%2Freference_photon_lat%2C%2Fgt1r%2Fgeolocation%2Fdelta_time%2C%2Fgt1r%2Fgeolocation%2Fsurf_type%2C%2Fgt1r%2Fgeolocation%2Ffull_sat_fract%2C%2Fgt1r%2Fgeolocation%2Fnear_sat_fract%2C%2Fgt1r%2Fheights%2Fh_ph%2C%2Fgt1r%2Fheights%2Flat_ph%2C%2Fgt1r%2Fheights%2Flon_ph%2C%2Fgt1r%2Fheights%2Fdist_ph_along%2C%2Fgt1r%2Fheights%2Fdelta_time%2C%2Fgt1r%2Fheights%2Fsignal_conf_ph%2C%2Fgt1r%2Fgeophys_corr%2Fdem_h%2C%2Fgt1r%2Fgeophys_corr%2Ftide_ocean%2C%2Fgt1r%2Fgeophys_corr%2Fdelta_time%2C%2Fgt1r%2Fgeophys_corr%2Fgeoid%2C%2Fgt1r%2Fgeophys_corr%2Fgeoid_free2mean%2C%2Fgt1r%2Fgeophys_corr%2Fdac%2C%2Fgt2l%2Fgeolocation%2Fsegment_dist_x%2C%2Fgt2l%2Fgeolocation%2Fsegment_id%2C%2Fgt2l%2Fgeolocation%2Fsigma_h%2C%2Fgt2l%2Fgeolocation%2Fref_azimuth%2C%2Fgt2l%2Fgeolocation%2Fref_elev%2C%2Fgt2l%2Fgeolocation%2Fsegment_ph_cnt%2C%2Fgt2l%2Fgeolocation%2Freference_photon_lon%2C%2Fgt2l%2Fgeolocation%2Freference_photon_lat%2C%2Fgt2l%2Fgeolocation%2Fdelta_time%2C%2Fgt2l%2Fgeolocation%2Fsurf_type%2C%2Fgt2l%2Fgeolocation%2Ffull_sat_fract%2C%2Fgt2l%2Fgeolocation%2Fnear_sat_fract%2C%2Fgt2l%2Fheights%2Fh_ph%2C%2Fgt2l%2Fheights%2Flat_ph%2C%2Fgt2l%2Fheights%2Flon_ph%2C%2Fgt2l%2Fheights%2Fdist_ph_along%2C%2Fgt2l%2Fheights%2Fdelta_time%2C%2Fgt2l%2Fheights%2Fsignal_conf_ph%2C%2Fgt2l%2Fgeophys_corr%2Fdem_h%2C%2Fgt2l%2Fgeophys_corr%2Ftide_ocean%2C%2Fgt2l%2Fgeophys_corr%2Fdelta_time%2C%2Fgt2l%2Fgeophys_corr%2Fgeoid%2C%2Fgt2l%2Fgeophys_corr%2Fgeoid_free2mean%2C%2Fgt2l%2Fgeophys_corr%2Fdac%2C%2Fgt2r%2Fgeolocation%2Fsegment_dist_x%2C%2Fgt2r%2Fgeolocation%2Fsegment_id%2C%2Fgt2r%2Fgeolocation%2Fsigma_h%2C%2Fgt2r%2Fgeolocation%2Fref_azimuth%2C%2Fgt2r%2Fgeolocation%2Fref_elev%2C%2Fgt2r%2Fgeolocation%2Fsegment_ph_cnt%2C%2Fgt2r%2Fgeolocation%2Freference_photon_lon%2C%2Fgt2r%2Fgeolocation%2Freference_photon_lat%2C%2Fgt2r%2Fgeolocation%2Fdelta_time%2C%2Fgt2r%2Fgeolocation%2Fsurf_type%2C%2Fgt2r%2Fgeolocation%2Ffull_sat_fract%2C%2Fgt2r%2Fgeolocation%2Fnear_sat_fract%2C%2Fgt2r%2Fheights%2Fh_ph%2C%2Fgt2r%2Fheights%2Flat_ph%2C%2Fgt2r%2Fheights%2Flon_ph%2C%2Fgt2r%2Fheights%2Fdist_ph_along%2C%2Fgt2r%2Fheights%2Fdelta_time%2C%2Fgt2r%2Fheights%2Fsignal_conf_ph%2C%2Fgt2r%2Fgeophys_corr%2Fdem_h%2C%2Fgt2r%2Fgeophys_corr%2Ftide_ocean%2C%2Fgt2r%2Fgeophys_corr%2Fdelta_time%2C%2Fgt2r%2Fgeophys_corr%2Fgeoid%2C%2Fgt2r%2Fgeophys_corr%2Fgeoid_free2mean%2C%2Fgt2r%2Fgeophys_corr%2Fdac%2C%2Fgt3l%2Fgeolocation%2Fsegment_dist_x%2C%2Fgt3l%2Fgeolocation%2Fsegment_id%2C%2Fgt3l%2Fgeolocation%2Fsigma_h%2C%2Fgt3l%2Fgeolocation%2Fref_azimuth%2C%2Fgt3l%2Fgeolocation%2Fref_elev%2C%2Fgt3l%2Fgeolocation%2Fsegment_ph_cnt%2C%2Fgt3l%2Fgeolocation%2Freference_photon_lon%2C%2Fgt3l%2Fgeolocation%2Freference_photon_lat%2C%2Fgt3l%2Fgeolocation%2Fdelta_time%2C%2Fgt3l%2Fgeolocation%2Fsurf_type%2C%2Fgt3l%2Fgeolocation%2Ffull_sat_fract%2C%2Fgt3l%2Fgeolocation%2Fnear_sat_fract%2C%2Fgt3l%2Fheights%2Fh_ph%2C%2Fgt3l%2Fheights%2Flat_ph%2C%2Fgt3l%2Fheights%2Flon_ph%2C%2Fgt3l%2Fheights%2Fdist_ph_along%2C%2Fgt3l%2Fheights%2Fdelta_time%2C%2Fgt3l%2Fheights%2Fsignal_conf_ph%2C%2Fgt3l%2Fgeophys_corr%2Fdem_h%2C%2Fgt3l%2Fgeophys_corr%2Ftide_ocean%2C%2Fgt3l%2Fgeophys_corr%2Fdelta_time%2C%2Fgt3l%2Fgeophys_corr%2Fgeoid%2C%2Fgt3l%2Fgeophys_corr%2Fgeoid_free2mean%2C%2Fgt3l%2Fgeophys_corr%2Fdac%2C%2Fgt3r%2Fgeolocation%2Fsegment_dist_x%2C%2Fgt3r%2Fgeolocation%2Fsegment_id%2C%2Fgt3r%2Fgeolocation%2Fsigma_h%2C%2Fgt3r%2Fgeolocation%2Fref_azimuth%2C%2Fgt3r%2Fgeolocation%2Fref_elev%2C%2Fgt3r%2Fgeolocation%2Fsegment_ph_cnt%2C%2Fgt3r%2Fgeolocation%2Freference_photon_lon%2C%2Fgt3r%2Fgeolocation%2Freference_photon_lat%2C%2Fgt3r%2Fgeolocation%2Fdelta_time%2C%2Fgt3r%2Fgeolocation%2Fsurf_type%2C%2Fgt3r%2Fgeolocation%2Ffull_sat_fract%2C%2Fgt3r%2Fgeolocation%2Fnear_sat_fract%2C%2Fgt3r%2Fheights%2Fh_ph%2C%2Fgt3r%2Fheights%2Flat_ph%2C%2Fgt3r%2Fheights%2Flon_ph%2C%2Fgt3r%2Fheights%2Fdist_ph_along%2C%2Fgt3r%2Fheights%2Fdelta_time%2C%2Fgt3r%2Fheights%2Fsignal_conf_ph%2C%2Fgt3r%2Fgeophys_corr%2Fdem_h%2C%2Fgt3r%2Fgeophys_corr%2Ftide_ocean%2C%2Fgt3r%2Fgeophys_corr%2Fdelta_time%2C%2Fgt3r%2Fgeophys_corr%2Fgeoid%2C%2Fgt3r%2Fgeophys_corr%2Fgeoid_free2mean%2C%2Fgt3r%2Fgeophys_corr%2Fdac%2C&page_size=100&email=max.lindsay95%40gmail.com&Boundingshape=%7B%22type%22%3A%22FeatureCollection%22%2C%22features%22%3A%5B%7B%22id%22%3A%220%22%2C%22type%22%3A%22Feature%22%2C%22properties%22%3A%7B%7D%2C%22geometry%22%3A%7B%22type%22%3A%22Polygon%22%2C%22coordinates%22%3A%5B%5B%5B110.51681501614618%2C-6.844099642644021%5D%2C%5B110.45442599834752%2C-6.939029652121199%5D%2C%5B110.48930485477658%2C-6.960244626650215%5D%2C%5B110.50060400310905%2C-6.95728091561219%5D%2C%5B110.54699030628693%2C-6.885655006293383%5D%2C%5B110.58423287639795%2C-6.811110547228028%5D%2C%5B110.55007317164784%2C-6.787378541822688%5D%2C%5B110.51681501614618%2C-6.844099642644021%5D%5D%5D%7D%2C%22bbox%22%3A%5B110.45442599834752%2C-6.960244626650215%2C110.58423287639795%2C-6.787378541822688%5D%7D%5D%2C%22bbox%22%3A%5B110.45442599834752%2C-6.960244626650215%2C110.58423287639795%2C-6.787378541822688%5D%7D&polygon=110.51681501614618%2C-6.844099642644021%2C110.45442599834752%2C-6.939029652121199%2C110.48930485477658%2C-6.960244626650215%2C110.50060400310905%2C-6.95728091561219%2C110.54699030628693%2C-6.885655006293383%2C110.58423287639795%2C-6.811110547228028%2C110.55007317164784%2C-6.787378541822688%2C110.51681501614618%2C-6.844099642644021&request_mode=stream\n",
      "HTTP response from order response URL:  204\n"
     ]
    },
    {
     "ename": "KeyError",
     "evalue": "'content-disposition'",
     "output_type": "error",
     "traceback": [
      "\u001b[0;31m---------------------------------------------------------------------------\u001b[0m",
      "\u001b[0;31mKeyError\u001b[0m                                  Traceback (most recent call last)",
      "Input \u001b[0;32mIn [4]\u001b[0m, in \u001b[0;36m<cell line: 1>\u001b[0;34m()\u001b[0m\n\u001b[0;32m----> 1\u001b[0m \u001b[43msite\u001b[49m\u001b[38;5;241;43m.\u001b[39;49m\u001b[43mdownload_ATL03\u001b[49m\u001b[43m(\u001b[49m\u001b[43m)\u001b[49m\n",
      "File \u001b[0;32m/mnt/c/Users/XCB/OneDrive - Van Oord/Documents/thesis/code/atl_module/core.py:81\u001b[0m, in \u001b[0;36mGebcoUpscaler.download_ATL03\u001b[0;34m(self)\u001b[0m\n\u001b[1;32m     79\u001b[0m \u001b[38;5;28;01mdef\u001b[39;00m \u001b[38;5;21mdownload_ATL03\u001b[39m(\u001b[38;5;28mself\u001b[39m):\n\u001b[1;32m     80\u001b[0m     \u001b[38;5;124;03m\"\"\"Request a data download with the extent determined by the AOI.gpkg in the folder\"\"\"\u001b[39;00m\n\u001b[0;32m---> 81\u001b[0m     \u001b[43mrequest_full_data_shapefile\u001b[49m\u001b[43m(\u001b[49m\n\u001b[1;32m     82\u001b[0m \u001b[43m        \u001b[49m\u001b[43mfolderpath\u001b[49m\u001b[38;5;241;43m=\u001b[39;49m\u001b[38;5;28;43mself\u001b[39;49m\u001b[38;5;241;43m.\u001b[39;49m\u001b[43mfolderpath\u001b[49m\u001b[43m,\u001b[49m\u001b[43m \u001b[49m\u001b[43mshapefile_filepath\u001b[49m\u001b[38;5;241;43m=\u001b[39;49m\u001b[38;5;28;43mself\u001b[39;49m\u001b[38;5;241;43m.\u001b[39;49m\u001b[43mAOI_path\u001b[49m\n\u001b[1;32m     83\u001b[0m \u001b[43m    \u001b[49m\u001b[43m)\u001b[49m\n\u001b[1;32m     84\u001b[0m     detail_logger\u001b[38;5;241m.\u001b[39minfo(\u001b[38;5;124mf\u001b[39m\u001b[38;5;124m\"\u001b[39m\u001b[38;5;124mATL03 Data downloaded sucessfully to \u001b[39m\u001b[38;5;132;01m{\u001b[39;00m\u001b[38;5;28mself\u001b[39m\u001b[38;5;241m.\u001b[39mfolderpath\u001b[38;5;132;01m}\u001b[39;00m\u001b[38;5;124m/ATL03\u001b[39m\u001b[38;5;124m\"\u001b[39m)\n",
      "File \u001b[0;32m/mnt/c/Users/XCB/OneDrive - Van Oord/Documents/thesis/code/atl_module/io/download.py:530\u001b[0m, in \u001b[0;36mrequest_full_data_shapefile\u001b[0;34m(shapefile_filepath, folderpath)\u001b[0m\n\u001b[1;32m    529\u001b[0m \u001b[38;5;28;01mdef\u001b[39;00m \u001b[38;5;21mrequest_full_data_shapefile\u001b[39m(shapefile_filepath, folderpath):\n\u001b[0;32m--> 530\u001b[0m     \u001b[43mrequest_data_download\u001b[49m\u001b[43m(\u001b[49m\n\u001b[1;32m    531\u001b[0m \u001b[43m        \u001b[49m\u001b[38;5;124;43m\"\u001b[39;49m\u001b[38;5;124;43mATL03\u001b[39;49m\u001b[38;5;124;43m\"\u001b[39;49m\u001b[43m,\u001b[49m\n\u001b[1;32m    532\u001b[0m \u001b[43m        \u001b[49m\u001b[43mvars_\u001b[49m\u001b[38;5;241;43m=\u001b[39;49m\u001b[43matl_03_vars\u001b[49m\u001b[43m,\u001b[49m\n\u001b[1;32m    533\u001b[0m \u001b[43m        \u001b[49m\u001b[43mbounds_filepath\u001b[49m\u001b[38;5;241;43m=\u001b[39;49m\u001b[43mshapefile_filepath\u001b[49m\u001b[43m,\u001b[49m\n\u001b[1;32m    534\u001b[0m \u001b[43m        \u001b[49m\u001b[43mbounding_box\u001b[49m\u001b[38;5;241;43m=\u001b[39;49m\u001b[38;5;124;43m\"\u001b[39;49m\u001b[38;5;124;43m\"\u001b[39;49m\u001b[43m,\u001b[49m\n\u001b[1;32m    535\u001b[0m \u001b[43m        \u001b[49m\u001b[43mfolderpath\u001b[49m\u001b[38;5;241;43m=\u001b[39;49m\u001b[43mfolderpath\u001b[49m\u001b[43m,\u001b[49m\n\u001b[1;32m    536\u001b[0m \u001b[43m    \u001b[49m\u001b[43m)\u001b[49m\n",
      "File \u001b[0;32m/mnt/c/Users/XCB/OneDrive - Van Oord/Documents/thesis/code/atl_module/io/download.py:513\u001b[0m, in \u001b[0;36mrequest_data_download\u001b[0;34m(product_short_name, bounding_box, folderpath, vars_, bounds_filepath)\u001b[0m\n\u001b[1;32m    511\u001b[0m     _request_async_func(page_num, session, param_dict, BASE_URL, path)\n\u001b[1;32m    512\u001b[0m \u001b[38;5;28;01melse\u001b[39;00m:\n\u001b[0;32m--> 513\u001b[0m     \u001b[43m_request_streaming\u001b[49m\u001b[43m(\u001b[49m\u001b[43mpage_num\u001b[49m\u001b[43m,\u001b[49m\u001b[43m \u001b[49m\u001b[43msession\u001b[49m\u001b[43m,\u001b[49m\u001b[43m \u001b[49m\u001b[43mparam_dict\u001b[49m\u001b[43m,\u001b[49m\u001b[43m \u001b[49m\u001b[43mBASE_URL\u001b[49m\u001b[43m,\u001b[49m\u001b[43m \u001b[49m\u001b[43mpath\u001b[49m\u001b[43m)\u001b[49m\n\u001b[1;32m    514\u001b[0m     _unzip_output_file(path)\n\u001b[1;32m    516\u001b[0m _clean_output_folders(path)\n",
      "File \u001b[0;32m/mnt/c/Users/XCB/OneDrive - Van Oord/Documents/thesis/code/atl_module/io/download.py:375\u001b[0m, in \u001b[0;36m_request_streaming\u001b[0;34m(page_num, session, param_dict, base_url, path)\u001b[0m\n\u001b[1;32m    373\u001b[0m \u001b[38;5;28mprint\u001b[39m(\u001b[38;5;124m\"\u001b[39m\u001b[38;5;124mHTTP response from order response URL: \u001b[39m\u001b[38;5;124m\"\u001b[39m, request\u001b[38;5;241m.\u001b[39mstatus_code)\n\u001b[1;32m    374\u001b[0m request\u001b[38;5;241m.\u001b[39mraise_for_status()\n\u001b[0;32m--> 375\u001b[0m d \u001b[38;5;241m=\u001b[39m \u001b[43mrequest\u001b[49m\u001b[38;5;241;43m.\u001b[39;49m\u001b[43mheaders\u001b[49m\u001b[43m[\u001b[49m\u001b[38;5;124;43m\"\u001b[39;49m\u001b[38;5;124;43mcontent-disposition\u001b[39;49m\u001b[38;5;124;43m\"\u001b[39;49m\u001b[43m]\u001b[49m\n\u001b[1;32m    376\u001b[0m fname \u001b[38;5;241m=\u001b[39m re\u001b[38;5;241m.\u001b[39mfindall(\u001b[38;5;124m\"\u001b[39m\u001b[38;5;124mfilename=(.+)\u001b[39m\u001b[38;5;124m\"\u001b[39m, d)\n\u001b[1;32m    378\u001b[0m dirname \u001b[38;5;241m=\u001b[39m os\u001b[38;5;241m.\u001b[39mpath\u001b[38;5;241m.\u001b[39mjoin(path, fname[\u001b[38;5;241m0\u001b[39m]\u001b[38;5;241m.\u001b[39mstrip(\u001b[38;5;124m'\u001b[39m\u001b[38;5;124m\"\u001b[39m\u001b[38;5;124m'\u001b[39m))\n",
      "File \u001b[0;32m~/mambaforge/envs/thesis_env/lib/python3.9/site-packages/requests/structures.py:54\u001b[0m, in \u001b[0;36mCaseInsensitiveDict.__getitem__\u001b[0;34m(self, key)\u001b[0m\n\u001b[1;32m     53\u001b[0m \u001b[38;5;28;01mdef\u001b[39;00m \u001b[38;5;21m__getitem__\u001b[39m(\u001b[38;5;28mself\u001b[39m, key):\n\u001b[0;32m---> 54\u001b[0m     \u001b[38;5;28;01mreturn\u001b[39;00m \u001b[38;5;28;43mself\u001b[39;49m\u001b[38;5;241;43m.\u001b[39;49m\u001b[43m_store\u001b[49m\u001b[43m[\u001b[49m\u001b[43mkey\u001b[49m\u001b[38;5;241;43m.\u001b[39;49m\u001b[43mlower\u001b[49m\u001b[43m(\u001b[49m\u001b[43m)\u001b[49m\u001b[43m]\u001b[49m[\u001b[38;5;241m1\u001b[39m]\n",
      "\u001b[0;31mKeyError\u001b[0m: 'content-disposition'"
     ]
    }
   ],
   "source": [
    "site.download_ATL03()"
   ]
  },
  {
   "cell_type": "code",
   "execution_count": null,
   "id": "c4f00645-2e3a-4823-b3d7-611f16c89617",
   "metadata": {},
   "outputs": [],
   "source": []
  }
 ],
 "metadata": {
  "kernelspec": {
   "display_name": "Python 3 (ipykernel)",
   "language": "python",
   "name": "python3"
  },
  "language_info": {
   "codemirror_mode": {
    "name": "ipython",
    "version": 3
   },
   "file_extension": ".py",
   "mimetype": "text/x-python",
   "name": "python",
   "nbconvert_exporter": "python",
   "pygments_lexer": "ipython3",
   "version": "3.9.10"
  }
 },
 "nbformat": 4,
 "nbformat_minor": 5
}
