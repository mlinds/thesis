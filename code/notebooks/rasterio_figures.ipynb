{
 "cells": [
  {
   "cell_type": "code",
   "execution_count": 1,
   "id": "d33af809-410b-49a4-a789-61de81f55b6a",
   "metadata": {},
   "outputs": [
    {
     "name": "stdout",
     "output_type": "stream",
     "text": [
      "/mnt/c/Users/maxli/OneDrive - Van Oord/Documents/thesis/code\n"
     ]
    }
   ],
   "source": [
    "%cd .."
   ]
  },
  {
   "cell_type": "code",
   "execution_count": 43,
   "id": "dddb6df0-7bd5-4232-8ba6-31239b1ec6f2",
   "metadata": {},
   "outputs": [],
   "source": [
    "import rasterio as rio\n",
    "import numpy as np\n",
    "import geopandas as gpd"
   ]
  },
  {
   "cell_type": "code",
   "execution_count": 18,
   "id": "852c1d21-f3ad-46fb-978b-174956fbe24d",
   "metadata": {},
   "outputs": [
    {
     "data": {
      "text/plain": [
       "(1, 928, 1174)"
      ]
     },
     "execution_count": 18,
     "metadata": {},
     "output_type": "execute_result"
    }
   ],
   "source": [
    "validation = rio.open(\"../data/raster_reproj_figures/validation_data.tif\")\n",
    "validation_array = validation.read()\n",
    "validation_array.shape"
   ]
  },
  {
   "cell_type": "code",
   "execution_count": 19,
   "id": "86a06564-ca4d-41e9-94f0-3f2eb1db3a89",
   "metadata": {},
   "outputs": [
    {
     "data": {
      "text/plain": [
       "(1, 18, 22)"
      ]
     },
     "execution_count": 19,
     "metadata": {},
     "output_type": "execute_result"
    }
   ],
   "source": [
    "bi = rio.open(\"../data/raster_reproj_figures/bilinear.tif\")\n",
    "bi_arrays = bi.read()\n",
    "bi_arrays.shape"
   ]
  },
  {
   "cell_type": "code",
   "execution_count": 39,
   "id": "9ac72250-cdab-4182-bdcf-07bf2fed5df7",
   "metadata": {},
   "outputs": [],
   "source": [
    "bi_consecutive = np.arange(1, len(bi_arrays.flatten()) + 1).reshape(bi_arrays.shape)\n",
    "validation_consecutive_array = np.arange(\n",
    "    1, len(validation_array.flatten()) + 1\n",
    ").reshape(validation_array.shape)"
   ]
  },
  {
   "cell_type": "code",
   "execution_count": 41,
   "id": "6b680827-d461-4146-b854-5550c00d5307",
   "metadata": {},
   "outputs": [],
   "source": [
    "with rio.open(\n",
    "    \"../data/raster_reproj_figures/valid_consec.tif\", **validation.meta, mode=\"w\"\n",
    ") as valid_consec:\n",
    "    valid_consec.write(validation_consecutive_array)"
   ]
  },
  {
   "cell_type": "code",
   "execution_count": 42,
   "id": "941f1502-f0ca-40b0-8c8f-2348dfa0c91e",
   "metadata": {},
   "outputs": [],
   "source": [
    "with rio.open(\n",
    "    \"../data/raster_reproj_figures/bi_consec.tif\", **bi.meta, mode=\"w\"\n",
    ") as bi_consec:\n",
    "    bi_consec.write(bi_consecutive)"
   ]
  },
  {
   "cell_type": "code",
   "execution_count": 60,
   "id": "8c64fccc-633c-4877-acfe-93bcf3dfc0a9",
   "metadata": {},
   "outputs": [],
   "source": [
    "bi_vector = gpd.read_file(\"../data/raster_reproj_figures/bi_vector.gpkg\")\n",
    "valid_vector = gpd.read_file(\n",
    "    \"../data/raster_reproj_figures/consec_smaller_subset_vector.gpkg\"\n",
    ").to_crs(bi_vector.crs)\n",
    "bounds = valid_vector.to_crs(bi_vector.crs).geometry.total_bounds\n",
    "bi_vector = bi_vector.clip(bounds)"
   ]
  },
  {
   "cell_type": "code",
   "execution_count": 66,
   "id": "fda22c2a-d993-4867-ae7f-583e6ed2c2a5",
   "metadata": {},
   "outputs": [
    {
     "data": {
      "text/plain": [
       "<AxesSubplot:>"
      ]
     },
     "execution_count": 66,
     "metadata": {},
     "output_type": "execute_result"
    },
    {
     "data": {
      "image/png": "[encoded data removed]",
      "text/plain": [
       "<Figure size 432x288 with 1 Axes>"
      ]
     },
     "metadata": {
      "needs_background": "light"
     },
     "output_type": "display_data"
    }
   ],
   "source": [
    "ax = valid_vector.plot(edgecolor=\"red\", color=\"white\")\n",
    "bi_vector.plot(edgecolor=\"black\", color=\"white\", ax=ax)"
   ]
  },
  {
   "cell_type": "code",
   "execution_count": null,
   "id": "f72914d6-d95e-4493-a42d-bf69a1af37bb",
   "metadata": {},
   "outputs": [],
   "source": []
  }
 ],
 "metadata": {
  "kernelspec": {
   "display_name": "Python 3 (ipykernel)",
   "language": "python",
   "name": "python3"
  },
  "language_info": {
   "codemirror_mode": {
    "name": "ipython",
    "version": 3
   },
   "file_extension": ".py",
   "mimetype": "text/x-python",
   "name": "python",
   "nbconvert_exporter": "python",
   "pygments_lexer": "ipython3",
   "version": "3.9.10"
  }
 },
 "nbformat": 4,
 "nbformat_minor": 5
}
