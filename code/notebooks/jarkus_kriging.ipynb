{
 "cells": [
  {
   "cell_type": "code",
   "execution_count": 1,
   "id": "7f139147-95cb-4f3e-8562-96b4cf344d70",
   "metadata": {},
   "outputs": [
    {
     "name": "stdout",
     "output_type": "stream",
     "text": [
      "/mnt/c/Users/XCB/OneDrive - Van Oord/Documents/thesis/code\n"
     ]
    }
   ],
   "source": [
    "%cd .."
   ]
  },
  {
   "cell_type": "code",
   "execution_count": 2,
   "id": "a2977dc5-6565-40b9-a531-3ef1877c1e63",
   "metadata": {},
   "outputs": [],
   "source": [
    "from atl_module import kriging\n",
    "import geopandas as gpd\n",
    "from atl_module import GebcoUpscaler\n",
    "import rasterio as rio\n",
    "from shapely.geometry import box"
   ]
  },
  {
   "cell_type": "code",
   "execution_count": 3,
   "id": "aad566da-969c-45d7-b4e9-e0e7733ac200",
   "metadata": {},
   "outputs": [],
   "source": [
    "jarkuspts = gpd.read_file(\"../data/jarkus/jarkus-2021_Noord-Holland.gpkg\")"
   ]
  },
  {
   "cell_type": "code",
   "execution_count": 4,
   "id": "8447d497-9488-4eca-8a89-fe6e65e15ab0",
   "metadata": {},
   "outputs": [],
   "source": [
    "jarkuspts = jarkuspts.assign(X=jarkuspts.geometry.x, Y=jarkuspts.geometry.y)"
   ]
  },
  {
   "cell_type": "code",
   "execution_count": 5,
   "id": "e3d262d9-ee54-40cc-9c47-34e9fca3a45d",
   "metadata": {},
   "outputs": [],
   "source": [
    "truth = rio.open(\"../data/special_sites/petten/in-situ-DEM/truth.vrt\")\n",
    "truthrascrs = truth.crs\n",
    "truth_ras_bounds = truth.bounds"
   ]
  },
  {
   "cell_type": "code",
   "execution_count": 6,
   "id": "8abb284b-0df0-41f0-8428-3c82bc8e1415",
   "metadata": {},
   "outputs": [
    {
     "ename": "TypeError",
     "evalue": "'mask' should be GeoDataFrame, GeoSeries or(Multi)Polygon, got <class 'rasterio.coords.BoundingBox'>",
     "output_type": "error",
     "traceback": [
      "\u001b[0;31m---------------------------------------------------------------------------\u001b[0m",
      "\u001b[0;31mTypeError\u001b[0m                                 Traceback (most recent call last)",
      "Input \u001b[0;32mIn [6]\u001b[0m, in \u001b[0;36m<cell line: 2>\u001b[0;34m()\u001b[0m\n\u001b[1;32m      1\u001b[0m subset_jarkus \u001b[38;5;241m=\u001b[39m (\n\u001b[0;32m----> 2\u001b[0m     \u001b[43mjarkuspts\u001b[49m\u001b[38;5;241;43m.\u001b[39;49m\u001b[43mto_crs\u001b[49m\u001b[43m(\u001b[49m\u001b[43mtruthrascrs\u001b[49m\u001b[43m)\u001b[49m\n\u001b[1;32m      3\u001b[0m \u001b[43m    \u001b[49m\u001b[38;5;241;43m.\u001b[39;49m\u001b[43mclip\u001b[49m\u001b[43m(\u001b[49m\u001b[43mtruth_ras_bounds\u001b[49m\u001b[43m)\u001b[49m\n\u001b[1;32m      4\u001b[0m     \u001b[38;5;241m.\u001b[39mto_crs(jarkuspts\u001b[38;5;241m.\u001b[39mestimate_utm_crs())\n\u001b[1;32m      5\u001b[0m )\n\u001b[1;32m      6\u001b[0m \u001b[38;5;66;03m# add the location in local UTM system as a columns\u001b[39;00m\n\u001b[1;32m      7\u001b[0m subset_jarkus \u001b[38;5;241m=\u001b[39m subset_jarkus\u001b[38;5;241m.\u001b[39massign(\n\u001b[1;32m      8\u001b[0m     northing\u001b[38;5;241m=\u001b[39msubset_jarkus\u001b[38;5;241m.\u001b[39mgeometry\u001b[38;5;241m.\u001b[39my,\n\u001b[1;32m      9\u001b[0m     easting\u001b[38;5;241m=\u001b[39msubset_jarkus\u001b[38;5;241m.\u001b[39mgeometry\u001b[38;5;241m.\u001b[39mx,\n\u001b[1;32m     10\u001b[0m     sf_elev_MSL\u001b[38;5;241m=\u001b[39msubset_jarkus\u001b[38;5;241m.\u001b[39mgeometry\u001b[38;5;241m.\u001b[39mz,\n\u001b[1;32m     11\u001b[0m )\u001b[38;5;241m.\u001b[39mloc[:, [\u001b[38;5;124m\"\u001b[39m\u001b[38;5;124mX\u001b[39m\u001b[38;5;124m\"\u001b[39m, \u001b[38;5;124m\"\u001b[39m\u001b[38;5;124mY\u001b[39m\u001b[38;5;124m\"\u001b[39m, \u001b[38;5;124m\"\u001b[39m\u001b[38;5;124mnorthing\u001b[39m\u001b[38;5;124m\"\u001b[39m, \u001b[38;5;124m\"\u001b[39m\u001b[38;5;124measting\u001b[39m\u001b[38;5;124m\"\u001b[39m, \u001b[38;5;124m\"\u001b[39m\u001b[38;5;124msf_elev_MSL\u001b[39m\u001b[38;5;124m\"\u001b[39m, \u001b[38;5;124m\"\u001b[39m\u001b[38;5;124mgeometry\u001b[39m\u001b[38;5;124m\"\u001b[39m]]\n",
      "File \u001b[0;32m~/mambaforge/envs/thesis_env/lib/python3.9/site-packages/geopandas/geodataframe.py:2106\u001b[0m, in \u001b[0;36mGeoDataFrame.clip\u001b[0;34m(self, mask, keep_geom_type)\u001b[0m\n\u001b[1;32m   2060\u001b[0m \u001b[38;5;28;01mdef\u001b[39;00m \u001b[38;5;21mclip\u001b[39m(\u001b[38;5;28mself\u001b[39m, mask, keep_geom_type\u001b[38;5;241m=\u001b[39m\u001b[38;5;28;01mFalse\u001b[39;00m):\n\u001b[1;32m   2061\u001b[0m     \u001b[38;5;124;03m\"\"\"Clip points, lines, or polygon geometries to the mask extent.\u001b[39;00m\n\u001b[1;32m   2062\u001b[0m \n\u001b[1;32m   2063\u001b[0m \u001b[38;5;124;03m    Both layers must be in the same Coordinate Reference System (CRS).\u001b[39;00m\n\u001b[0;32m   (...)\u001b[0m\n\u001b[1;32m   2104\u001b[0m \u001b[38;5;124;03m    (12, 2)\u001b[39;00m\n\u001b[1;32m   2105\u001b[0m \u001b[38;5;124;03m    \"\"\"\u001b[39;00m\n\u001b[0;32m-> 2106\u001b[0m     \u001b[38;5;28;01mreturn\u001b[39;00m \u001b[43mgeopandas\u001b[49m\u001b[38;5;241;43m.\u001b[39;49m\u001b[43mclip\u001b[49m\u001b[43m(\u001b[49m\u001b[38;5;28;43mself\u001b[39;49m\u001b[43m,\u001b[49m\u001b[43m \u001b[49m\u001b[43mmask\u001b[49m\u001b[38;5;241;43m=\u001b[39;49m\u001b[43mmask\u001b[49m\u001b[43m,\u001b[49m\u001b[43m \u001b[49m\u001b[43mkeep_geom_type\u001b[49m\u001b[38;5;241;43m=\u001b[39;49m\u001b[43mkeep_geom_type\u001b[49m\u001b[43m)\u001b[49m\n",
      "File \u001b[0;32m~/mambaforge/envs/thesis_env/lib/python3.9/site-packages/geopandas/tools/clip.py:114\u001b[0m, in \u001b[0;36mclip\u001b[0;34m(gdf, mask, keep_geom_type)\u001b[0m\n\u001b[1;32m    109\u001b[0m     \u001b[38;5;28;01mraise\u001b[39;00m \u001b[38;5;167;01mTypeError\u001b[39;00m(\n\u001b[1;32m    110\u001b[0m         \u001b[38;5;124m\"\u001b[39m\u001b[38;5;124m'\u001b[39m\u001b[38;5;124mgdf\u001b[39m\u001b[38;5;124m'\u001b[39m\u001b[38;5;124m should be GeoDataFrame or GeoSeries, got \u001b[39m\u001b[38;5;132;01m{}\u001b[39;00m\u001b[38;5;124m\"\u001b[39m\u001b[38;5;241m.\u001b[39mformat(\u001b[38;5;28mtype\u001b[39m(gdf))\n\u001b[1;32m    111\u001b[0m     )\n\u001b[1;32m    113\u001b[0m \u001b[38;5;28;01mif\u001b[39;00m \u001b[38;5;129;01mnot\u001b[39;00m \u001b[38;5;28misinstance\u001b[39m(mask, (GeoDataFrame, GeoSeries, Polygon, MultiPolygon)):\n\u001b[0;32m--> 114\u001b[0m     \u001b[38;5;28;01mraise\u001b[39;00m \u001b[38;5;167;01mTypeError\u001b[39;00m(\n\u001b[1;32m    115\u001b[0m         \u001b[38;5;124m\"\u001b[39m\u001b[38;5;124m'\u001b[39m\u001b[38;5;124mmask\u001b[39m\u001b[38;5;124m'\u001b[39m\u001b[38;5;124m should be GeoDataFrame, GeoSeries or\u001b[39m\u001b[38;5;124m\"\u001b[39m\n\u001b[1;32m    116\u001b[0m         \u001b[38;5;124m\"\u001b[39m\u001b[38;5;124m(Multi)Polygon, got \u001b[39m\u001b[38;5;132;01m{}\u001b[39;00m\u001b[38;5;124m\"\u001b[39m\u001b[38;5;241m.\u001b[39mformat(\u001b[38;5;28mtype\u001b[39m(mask))\n\u001b[1;32m    117\u001b[0m     )\n\u001b[1;32m    119\u001b[0m \u001b[38;5;28;01mif\u001b[39;00m \u001b[38;5;28misinstance\u001b[39m(mask, (GeoDataFrame, GeoSeries)):\n\u001b[1;32m    120\u001b[0m     \u001b[38;5;28;01mif\u001b[39;00m \u001b[38;5;129;01mnot\u001b[39;00m _check_crs(gdf, mask):\n",
      "\u001b[0;31mTypeError\u001b[0m: 'mask' should be GeoDataFrame, GeoSeries or(Multi)Polygon, got <class 'rasterio.coords.BoundingBox'>"
     ]
    }
   ],
   "source": [
    "subset_jarkus = (\n",
    "    jarkuspts.to_crs(truthrascrs)\n",
    "    .clip(truth_ras_bounds)\n",
    "    .to_crs(jarkuspts.estimate_utm_crs())\n",
    ")\n",
    "# add the location in local UTM system as a columns\n",
    "subset_jarkus = subset_jarkus.assign(\n",
    "    northing=subset_jarkus.geometry.y,\n",
    "    easting=subset_jarkus.geometry.x,\n",
    "    sf_elev_MSL=subset_jarkus.geometry.z,\n",
    ").loc[:, [\"X\", \"Y\", \"northing\", \"easting\", \"sf_elev_MSL\", \"geometry\"]]\n",
    "sub_jarkus = subset_jarkus[subset_jarkus.sf_elev_MSL < 1]"
   ]
  },
  {
   "cell_type": "code",
   "execution_count": null,
   "id": "4805397b-0918-4d0b-abbd-28138b99aee6",
   "metadata": {},
   "outputs": [],
   "source": [
    "subset_jarkus.to_file(\"../data/special_sites/petten/all_bathy_pts.gpkg\")"
   ]
  },
  {
   "cell_type": "code",
   "execution_count": 7,
   "id": "dadbd4ed-bb45-4f9f-b20b-109b083e3c12",
   "metadata": {},
   "outputs": [],
   "source": [
    "site = GebcoUpscaler(\n",
    "    \"../data/special_sites/petten\",\n",
    "    \"Petten\",\n",
    "    \"../data/special_sites/petten/in-situ-DEM/truth.vrt\",\n",
    ")"
   ]
  },
  {
   "cell_type": "code",
   "execution_count": 8,
   "id": "9b29dfd7-1d6c-4b6a-a12b-83f8a5e0c00f",
   "metadata": {},
   "outputs": [
    {
     "name": "stderr",
     "output_type": "stream",
     "text": [
      "[D 220928 17:58:00 raster_interaction:149] GEBCO subset raster written to ../data/special_sites/petten/bilinear.tif, with CRS EPSG:32631\n"
     ]
    }
   ],
   "source": [
    "site.subset_gebco(50)"
   ]
  },
  {
   "cell_type": "code",
   "execution_count": 9,
   "id": "2c1ce25a-3e2a-4776-af11-4bd3e8889ca3",
   "metadata": {
    "tags": []
   },
   "outputs": [
    {
     "name": "stderr",
     "output_type": "stream",
     "text": [
      "[I 220928 17:58:05 core:196] Kriging Petten site using 2000 points with crs epsg:32631 with options {'variogram_parameters': {'range': 10000, 'nugget': 0.7, 'sill': 23}, 'samplemethod': 'dart'}\n",
      "[D 220928 17:58:06 kriging:29] The types of the numpy array that is sent to PDAL poisson dart throwing are: (numpy.record, [('Y', '<f8'), ('X', '<f8'), ('Z', '<f8')])\n",
      "[D 220928 17:58:06 kriging:35] 2000 points remaining after relaxation dart throwing culling\n",
      "/home/mlinds/mambaforge/envs/thesis_env/lib/python3.9/site-packages/geopandas/io/file.py:362: FutureWarning: pandas.Int64Index is deprecated and will be removed from pandas in a future version. Use pandas.Index with the appropriate dtype instead.\n",
      "  pd.Int64Index,\n",
      "[D 220928 17:58:06 kriging:79] 2000 points selected with dart written to ../data/special_sites/petten/kriging_pts\n"
     ]
    },
    {
     "name": "stdout",
     "output_type": "stream",
     "text": [
      "Adjusting data for anisotropy...\n",
      "Initializing variogram model...\n",
      "Using 'spherical' Variogram Model\n",
      "Partial Sill: 22.3\n",
      "Full Sill: 23.0\n",
      "Range: 10000\n",
      "Nugget: 0.7 \n",
      "\n",
      "Calculating statistics on variogram model fit...\n",
      "Q1 = 0.05330746775934529\n",
      "Q2 = 4.354712439335329\n",
      "cR = 5.427811804628765 \n",
      "\n",
      "Initializing drift terms...\n",
      "Executing Universal Kriging...\n",
      "\n"
     ]
    },
    {
     "name": "stderr",
     "output_type": "stream",
     "text": [
      "[D 220928 18:03:12 kriging:134] finished kriging, now saving the output raster to ../data/special_sites/petten/kriging_output.tif\n",
      "[D 220928 18:03:12 kriging:152] Output raster of kriged Z values and uncertainty saved sucessfully\n"
     ]
    },
    {
     "name": "stdout",
     "output_type": "stream",
     "text": [
      "CPU times: user 40min 57s, sys: 33min 4s, total: 1h 14min 2s\n",
      "Wall time: 5min 7s\n"
     ]
    }
   ],
   "source": [
    "%%time\n",
    "site.kriging(\n",
    "    kr_model=\"uk\",\n",
    "    npts=2000,\n",
    "    variogram_parameters={\"range\": 10000, \"nugget\": 0.7, \"sill\": 23},\n",
    "    samplemethod=\"dart\",\n",
    ")"
   ]
  },
  {
   "cell_type": "code",
   "execution_count": 10,
   "id": "dd9e44ce-d146-4538-a8f2-24d4ccc24168",
   "metadata": {},
   "outputs": [
    {
     "name": "stderr",
     "output_type": "stream",
     "text": [
      "[I 220928 18:03:12 kalman:72] Wrote Kalman Updated Raster with GEBCO uncertainty 1.5 to ../data/special_sites/petten/kalman_updated.tif\n",
      "[I 220928 18:03:12 core:229] Sucessful Kalman update of GEBCO bathymetry for Petten using a gebco standard deviation of 1.5 saved to ../data/special_sites/petten/kalman_updated.tif\n",
      "/mnt/c/Users/XCB/OneDrive - Van Oord/Documents/thesis/code/atl_module/error_calc.py:172: RuntimeWarning: Mean of empty slice\n",
      "  mse = np.nanmean(error_data**2)\n",
      "/mnt/c/Users/XCB/OneDrive - Van Oord/Documents/thesis/code/atl_module/error_calc.py:174: RuntimeWarning: Mean of empty slice\n",
      "  mae = np.nanmean(np.abs(error_data))\n",
      "[I 220928 18:04:24 core:298] site:Petten - {\"RMSE\":{\"Naive Bilinear Interpolation\":1.4757187466,\"Kalman Updated Raster\":1.0270230913,\"Kriged Raster\":1.2916240326},\"MAE\":{\"Naive Bilinear Interpolation\":1.3139332533,\"Kalman Updated Raster\":0.7696832418,\"Kriged Raster\":0.7243122458}}\n"
     ]
    },
    {
     "data": {
      "text/html": [
       "<div>\n",
       "<style scoped>\n",
       "    .dataframe tbody tr th:only-of-type {\n",
       "        vertical-align: middle;\n",
       "    }\n",
       "\n",
       "    .dataframe tbody tr th {\n",
       "        vertical-align: top;\n",
       "    }\n",
       "\n",
       "    .dataframe thead th {\n",
       "        text-align: right;\n",
       "    }\n",
       "</style>\n",
       "<table border=\"1\" class=\"dataframe\">\n",
       "  <thead>\n",
       "    <tr style=\"text-align: right;\">\n",
       "      <th></th>\n",
       "      <th>RMSE</th>\n",
       "      <th>MAE</th>\n",
       "    </tr>\n",
       "  </thead>\n",
       "  <tbody>\n",
       "    <tr>\n",
       "      <th>Naive Bilinear Interpolation</th>\n",
       "      <td>1.475719</td>\n",
       "      <td>1.313933</td>\n",
       "    </tr>\n",
       "    <tr>\n",
       "      <th>Kalman Updated Raster</th>\n",
       "      <td>1.027023</td>\n",
       "      <td>0.769683</td>\n",
       "    </tr>\n",
       "    <tr>\n",
       "      <th>Kriged Raster</th>\n",
       "      <td>1.291624</td>\n",
       "      <td>0.724312</td>\n",
       "    </tr>\n",
       "  </tbody>\n",
       "</table>\n",
       "</div>"
      ],
      "text/plain": [
       "                                  RMSE       MAE\n",
       "Naive Bilinear Interpolation  1.475719  1.313933\n",
       "Kalman Updated Raster         1.027023  0.769683\n",
       "Kriged Raster                 1.291624  0.724312"
      ]
     },
     "execution_count": 10,
     "metadata": {},
     "output_type": "execute_result"
    }
   ],
   "source": [
    "site.kalman_update(1.5)\n",
    "site.raster_rmse(check_kriged=True)"
   ]
  },
  {
   "cell_type": "code",
   "execution_count": 11,
   "id": "79ffa288-2270-4f63-b3fb-5840f7a528e6",
   "metadata": {},
   "outputs": [
    {
     "name": "stderr",
     "output_type": "stream",
     "text": [
      "[I 220928 18:05:01 core:257] Truth data added to Bathymetric Points dataframe for site: Petten\n"
     ]
    }
   ],
   "source": [
    "site.bathy_pts_gdf = site.bathy_pts_gdf.assign(easting_corr=0, northing_corr=0)\n",
    "site.add_truth_data()"
   ]
  },
  {
   "cell_type": "code",
   "execution_count": 12,
   "id": "9ccb44b0-0365-4e3c-9f2a-faabfa48b1db",
   "metadata": {},
   "outputs": [
    {
     "name": "stderr",
     "output_type": "stream",
     "text": [
      "[I 220928 18:05:01 core:238] Petten: RMSE between icesat and truth 0.46928823888558663, MAE: 0.29491203201446353\n"
     ]
    },
    {
     "data": {
      "text/html": [
       "<div>\n",
       "<style scoped>\n",
       "    .dataframe tbody tr th:only-of-type {\n",
       "        vertical-align: middle;\n",
       "    }\n",
       "\n",
       "    .dataframe tbody tr th {\n",
       "        vertical-align: top;\n",
       "    }\n",
       "\n",
       "    .dataframe thead th {\n",
       "        text-align: right;\n",
       "    }\n",
       "</style>\n",
       "<table border=\"1\" class=\"dataframe\">\n",
       "  <thead>\n",
       "    <tr style=\"text-align: right;\">\n",
       "      <th></th>\n",
       "      <th>MAE</th>\n",
       "      <th>RMSE</th>\n",
       "      <th>Median Abs error</th>\n",
       "      <th>R2 Score</th>\n",
       "      <th>Average Error</th>\n",
       "    </tr>\n",
       "  </thead>\n",
       "  <tbody>\n",
       "    <tr>\n",
       "      <th>Petten</th>\n",
       "      <td>0.294912</td>\n",
       "      <td>0.469288</td>\n",
       "      <td>0.145</td>\n",
       "      <td>0.995713</td>\n",
       "      <td>-0.038357</td>\n",
       "    </tr>\n",
       "  </tbody>\n",
       "</table>\n",
       "</div>"
      ],
      "text/plain": [
       "             MAE      RMSE  Median Abs error  R2 Score  Average Error\n",
       "Petten  0.294912  0.469288             0.145  0.995713      -0.038357"
      ]
     },
     "execution_count": 12,
     "metadata": {},
     "output_type": "execute_result"
    }
   ],
   "source": [
    "site.lidar_error()"
   ]
  },
  {
   "cell_type": "code",
   "execution_count": 13,
   "id": "89083930-9d81-47bc-944c-65e2d462ebc9",
   "metadata": {},
   "outputs": [
    {
     "name": "stderr",
     "output_type": "stream",
     "text": [
      "[I 220928 18:05:02 core:340] Petten: Saved lidar error plot to ../document/figures/Petten_lidar_estimated_vs_truth.pdf\n"
     ]
    },
    {
     "data": {
      "image/png": "[encoded data removed]",
      "text/plain": [
       "<Figure size 446.457x446.457 with 1 Axes>"
      ]
     },
     "metadata": {
      "needs_background": "light"
     },
     "output_type": "display_data"
    }
   ],
   "source": [
    "site.bathy_pts_gdf = site.bathy_pts_gdf[site.bathy_pts_gdf.true_elevation < 0]\n",
    "site.plot_lidar_error()"
   ]
  },
  {
   "cell_type": "code",
   "execution_count": null,
   "id": "b1282c86-b2f3-45cb-8335-3a3437c1888a",
   "metadata": {},
   "outputs": [],
   "source": []
  }
 ],
 "metadata": {
  "kernelspec": {
   "display_name": "Python 3 (ipykernel)",
   "language": "python",
   "name": "python3"
  },
  "language_info": {
   "codemirror_mode": {
    "name": "ipython",
    "version": 3
   },
   "file_extension": ".py",
   "mimetype": "text/x-python",
   "name": "python",
   "nbconvert_exporter": "python",
   "pygments_lexer": "ipython3",
   "version": "3.9.10"
  },
  "vscode": {
   "interpreter": {
    "hash": "ec7c7d4d013ec650dc8eb8b9310ce197f2a724f68d99fdc157fb921cb8b4fa41"
   }
  }
 },
 "nbformat": 4,
 "nbformat_minor": 5
}
