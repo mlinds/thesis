{
 "cells": [
  {
   "cell_type": "code",
   "execution_count": 1,
   "id": "a2977dc5-6565-40b9-a531-3ef1877c1e63",
   "metadata": {},
   "outputs": [],
   "source": [
    "from atl_module import kriging\n",
    "import geopandas as gpd\n",
    "from atl_module import GebcoUpscaler\n",
    "import rasterio as rio\n",
    "from shapely.geometry import box"
   ]
  },
  {
   "cell_type": "code",
   "execution_count": 2,
   "id": "7f139147-95cb-4f3e-8562-96b4cf344d70",
   "metadata": {},
   "outputs": [
    {
     "name": "stdout",
     "output_type": "stream",
     "text": [
      "/mnt/c/Users/maxli/OneDrive - Van Oord/Documents/thesis/code\n"
     ]
    }
   ],
   "source": [
    "%cd .."
   ]
  },
  {
   "cell_type": "code",
   "execution_count": 3,
   "id": "aad566da-969c-45d7-b4e9-e0e7733ac200",
   "metadata": {},
   "outputs": [],
   "source": [
    "jarkuspts = gpd.read_file(\"../data/jarkus/jarkus-2021_Noord-Holland.gpkg\")"
   ]
  },
  {
   "cell_type": "code",
   "execution_count": 4,
   "id": "8447d497-9488-4eca-8a89-fe6e65e15ab0",
   "metadata": {},
   "outputs": [],
   "source": [
    "jarkuspts = jarkuspts.assign(X=jarkuspts.geometry.x, Y=jarkuspts.geometry.y)"
   ]
  },
  {
   "cell_type": "code",
   "execution_count": 5,
   "id": "e3d262d9-ee54-40cc-9c47-34e9fca3a45d",
   "metadata": {},
   "outputs": [],
   "source": [
    "truth = rio.open(\"../data/special_sites/petten/in-situ-DEM/truth.vrt\")\n",
    "truthrascrs = truth.crs\n",
    "truth_ras_bounds = truth.bounds"
   ]
  },
  {
   "cell_type": "code",
   "execution_count": 6,
   "id": "8abb284b-0df0-41f0-8428-3c82bc8e1415",
   "metadata": {},
   "outputs": [],
   "source": [
    "subset_jarkus = (\n",
    "    jarkuspts.to_crs(truthrascrs)\n",
    "    .clip(truth_ras_bounds)\n",
    "    .to_crs(jarkuspts.estimate_utm_crs())\n",
    ")\n",
    "# add the location in local UTM system as a columns\n",
    "subset_jarkus = subset_jarkus.assign(\n",
    "    northing=subset_jarkus.geometry.y,\n",
    "    easting=subset_jarkus.geometry.x,\n",
    "    sf_elev_MSL=subset_jarkus.geometry.z,\n",
    ").loc[:, [\"X\", \"Y\", \"northing\", \"easting\", \"sf_elev_MSL\", \"geometry\"]]\n",
    "sub_jarkus = subset_jarkus[subset_jarkus.sf_elev_MSL < 1]"
   ]
  },
  {
   "cell_type": "code",
   "execution_count": 7,
   "id": "4805397b-0918-4d0b-abbd-28138b99aee6",
   "metadata": {},
   "outputs": [],
   "source": [
    "subset_jarkus.to_file(\"../data/special_sites/petten/all_bathy_pts.gpkg\")"
   ]
  },
  {
   "cell_type": "code",
   "execution_count": 8,
   "id": "dadbd4ed-bb45-4f9f-b20b-109b083e3c12",
   "metadata": {},
   "outputs": [],
   "source": [
    "site = GebcoUpscaler(\n",
    "    \"../data/special_sites/petten\",\n",
    "    \"Petten\",\n",
    "    \"../data/special_sites/petten/in-situ-DEM/truth.vrt\",\n",
    ")"
   ]
  },
  {
   "cell_type": "code",
   "execution_count": 9,
   "id": "9b29dfd7-1d6c-4b6a-a12b-83f8a5e0c00f",
   "metadata": {},
   "outputs": [
    {
     "name": "stderr",
     "output_type": "stream",
     "text": [
      "[D 220919 02:30:10 raster_interaction:128] GEBCO subset raster written to ../data/special_sites/petten/bilinear.tif, with CRS EPSG:32631\n"
     ]
    }
   ],
   "source": [
    "site.subset_gebco(50)"
   ]
  },
  {
   "cell_type": "code",
   "execution_count": 10,
   "id": "2c1ce25a-3e2a-4776-af11-4bd3e8889ca3",
   "metadata": {
    "tags": []
   },
   "outputs": [
    {
     "name": "stderr",
     "output_type": "stream",
     "text": [
      "[I 220919 02:30:10 core:194] Kriging Petten site using 2000 points with crs epsg:32631 with options {'variogram_parameters': {'range': 10000, 'nugget': 0.7, 'sill': 23}, 'samplemethod': 'dart'}\n",
      "[D 220919 02:30:12 kriging:23] The types of the numpy array that is sent to PDAL poisson dart throwing are: (numpy.record, [('Y', '<f8'), ('X', '<f8'), ('Z', '<f8')])\n",
      "[D 220919 02:30:12 kriging:29] 2000 points remaining after relaxation dart throwing culling\n",
      "[D 220919 02:30:13 kriging:71] 2000 points selected with dart written to ../data/special_sites/petten/kriging_pts\n"
     ]
    },
    {
     "name": "stdout",
     "output_type": "stream",
     "text": [
      "Adjusting data for anisotropy...\n",
      "Initializing variogram model...\n",
      "Using 'spherical' Variogram Model\n",
      "Partial Sill: 22.3\n",
      "Full Sill: 23.0\n",
      "Range: 10000\n",
      "Nugget: 0.7 \n",
      "\n",
      "Calculating statistics on variogram model fit...\n",
      "Q1 = 0.010970558987859631\n",
      "Q2 = 4.0510144545902635\n",
      "cR = 5.061498516531757 \n",
      "\n",
      "Initializing drift terms...\n",
      "Executing Universal Kriging...\n",
      "\n"
     ]
    },
    {
     "name": "stderr",
     "output_type": "stream",
     "text": [
      "[D 220919 02:39:26 kriging:126] finished kriging, now saving the output raster to ../data/special_sites/petten/kriging_output.tif\n",
      "[D 220919 02:39:27 kriging:144] Output raster of kriged Z values and uncertainty saved sucessfully\n"
     ]
    },
    {
     "name": "stdout",
     "output_type": "stream",
     "text": [
      "CPU times: user 1h 3min 28s, sys: 26min 34s, total: 1h 30min 2s\n",
      "Wall time: 9min 16s\n"
     ]
    }
   ],
   "source": [
    "%%time\n",
    "site.kriging(\n",
    "    kr_model=\"uk\",\n",
    "    npts=2000,\n",
    "    variogram_parameters={\"range\": 10000, \"nugget\": 0.7, \"sill\": 23},\n",
    "    samplemethod=\"dart\",\n",
    ")"
   ]
  },
  {
   "cell_type": "code",
   "execution_count": 11,
   "id": "dd9e44ce-d146-4538-a8f2-24d4ccc24168",
   "metadata": {},
   "outputs": [
    {
     "name": "stderr",
     "output_type": "stream",
     "text": [
      "[I 220919 02:39:27 kalman:72] Wrote Kalman Updated Raster with GEBCO uncertainty 1.5 to ../data/special_sites/petten/kalman_updated.tif\n",
      "[I 220919 02:39:27 core:227] Sucessful Kalman update of GEBCO bathymetry for Petten using a gebco standard deviation of 1.5 saved to ../data/special_sites/petten/kalman_updated.tif\n",
      "/mnt/c/Users/maxli/OneDrive - Van Oord/Documents/thesis/code/atl_module/error_calc.py:172: RuntimeWarning: Mean of empty slice\n",
      "  mse = np.nanmean(error_data**2)\n",
      "/mnt/c/Users/maxli/OneDrive - Van Oord/Documents/thesis/code/atl_module/error_calc.py:174: RuntimeWarning: Mean of empty slice\n",
      "  mae = np.nanmean(np.abs(error_data))\n",
      "[I 220919 02:40:49 core:296] site:Petten - {\"RMSE\":{\"Naive Bilinear Interpolation\":1.4757187466,\"Kalman Updated Raster\":0.9668572301,\"Kriged Raster\":1.1405451498},\"MAE\":{\"Naive Bilinear Interpolation\":1.3139332533,\"Kalman Updated Raster\":0.7460160255,\"Kriged Raster\":0.6753032207}}\n"
     ]
    },
    {
     "data": {
      "text/html": [
       "<div>\n",
       "<style scoped>\n",
       "    .dataframe tbody tr th:only-of-type {\n",
       "        vertical-align: middle;\n",
       "    }\n",
       "\n",
       "    .dataframe tbody tr th {\n",
       "        vertical-align: top;\n",
       "    }\n",
       "\n",
       "    .dataframe thead th {\n",
       "        text-align: right;\n",
       "    }\n",
       "</style>\n",
       "<table border=\"1\" class=\"dataframe\">\n",
       "  <thead>\n",
       "    <tr style=\"text-align: right;\">\n",
       "      <th></th>\n",
       "      <th>RMSE</th>\n",
       "      <th>MAE</th>\n",
       "    </tr>\n",
       "  </thead>\n",
       "  <tbody>\n",
       "    <tr>\n",
       "      <th>Naive Bilinear Interpolation</th>\n",
       "      <td>1.475719</td>\n",
       "      <td>1.313933</td>\n",
       "    </tr>\n",
       "    <tr>\n",
       "      <th>Kalman Updated Raster</th>\n",
       "      <td>0.966857</td>\n",
       "      <td>0.746016</td>\n",
       "    </tr>\n",
       "    <tr>\n",
       "      <th>Kriged Raster</th>\n",
       "      <td>1.140545</td>\n",
       "      <td>0.675303</td>\n",
       "    </tr>\n",
       "  </tbody>\n",
       "</table>\n",
       "</div>"
      ],
      "text/plain": [
       "                                  RMSE       MAE\n",
       "Naive Bilinear Interpolation  1.475719  1.313933\n",
       "Kalman Updated Raster         0.966857  0.746016\n",
       "Kriged Raster                 1.140545  0.675303"
      ]
     },
     "execution_count": 11,
     "metadata": {},
     "output_type": "execute_result"
    }
   ],
   "source": [
    "site.kalman_update(1.5)\n",
    "site.raster_rmse(check_kriged=True)"
   ]
  },
  {
   "cell_type": "code",
   "execution_count": 12,
   "id": "79ffa288-2270-4f63-b3fb-5840f7a528e6",
   "metadata": {},
   "outputs": [
    {
     "name": "stderr",
     "output_type": "stream",
     "text": [
      "[I 220919 02:41:36 core:255] Truth data added to Bathymetric Points dataframe for site: Petten\n"
     ]
    }
   ],
   "source": [
    "site.bathy_pts_gdf = site.bathy_pts_gdf.assign(easting_corr=0, northing_corr=0)\n",
    "site.add_truth_data()"
   ]
  },
  {
   "cell_type": "code",
   "execution_count": 13,
   "id": "9ccb44b0-0365-4e3c-9f2a-faabfa48b1db",
   "metadata": {},
   "outputs": [
    {
     "name": "stderr",
     "output_type": "stream",
     "text": [
      "[I 220919 02:41:36 core:236] Petten: RMSE between icesat and truth 0.46928823888558663, MAE: 0.29491203201446353\n"
     ]
    },
    {
     "data": {
      "text/html": [
       "<div>\n",
       "<style scoped>\n",
       "    .dataframe tbody tr th:only-of-type {\n",
       "        vertical-align: middle;\n",
       "    }\n",
       "\n",
       "    .dataframe tbody tr th {\n",
       "        vertical-align: top;\n",
       "    }\n",
       "\n",
       "    .dataframe thead th {\n",
       "        text-align: right;\n",
       "    }\n",
       "</style>\n",
       "<table border=\"1\" class=\"dataframe\">\n",
       "  <thead>\n",
       "    <tr style=\"text-align: right;\">\n",
       "      <th></th>\n",
       "      <th>MAE</th>\n",
       "      <th>RMSE</th>\n",
       "      <th>Median Abs error</th>\n",
       "      <th>R2 Score</th>\n",
       "      <th>Average Error</th>\n",
       "    </tr>\n",
       "  </thead>\n",
       "  <tbody>\n",
       "    <tr>\n",
       "      <th>Petten</th>\n",
       "      <td>0.294912</td>\n",
       "      <td>0.469288</td>\n",
       "      <td>0.145</td>\n",
       "      <td>0.995713</td>\n",
       "      <td>-0.038357</td>\n",
       "    </tr>\n",
       "  </tbody>\n",
       "</table>\n",
       "</div>"
      ],
      "text/plain": [
       "             MAE      RMSE  Median Abs error  R2 Score  Average Error\n",
       "Petten  0.294912  0.469288             0.145  0.995713      -0.038357"
      ]
     },
     "execution_count": 13,
     "metadata": {},
     "output_type": "execute_result"
    }
   ],
   "source": [
    "site.lidar_error()"
   ]
  },
  {
   "cell_type": "code",
   "execution_count": 14,
   "id": "89083930-9d81-47bc-944c-65e2d462ebc9",
   "metadata": {},
   "outputs": [
    {
     "name": "stderr",
     "output_type": "stream",
     "text": [
      "[I 220919 02:41:37 core:334] Petten: Saved lidar error plot to ../document/figures/Petten_lidar_estimated_vs_truth.jpg\n"
     ]
    },
    {
     "data": {
      "image/png": "[encoded data removed]",
      "text/plain": [
       "<Figure size 360x360 with 1 Axes>"
      ]
     },
     "metadata": {
      "needs_background": "light"
     },
     "output_type": "display_data"
    }
   ],
   "source": [
    "site.bathy_pts_gdf = site.bathy_pts_gdf[site.bathy_pts_gdf.true_elevation < 0]\n",
    "site.plot_lidar_error()"
   ]
  },
  {
   "cell_type": "code",
   "execution_count": 15,
   "id": "e6a07f02-8f8c-45ec-b011-9e3aae1c0158",
   "metadata": {
    "tags": []
   },
   "outputs": [
    {
     "ename": "SyntaxError",
     "evalue": "invalid syntax (1705002862.py, line 1)",
     "output_type": "error",
     "traceback": [
      "\u001b[0;36m  Input \u001b[0;32mIn [15]\u001b[0;36m\u001b[0m\n\u001b[0;31m    site.\u001b[0m\n\u001b[0m         ^\u001b[0m\n\u001b[0;31mSyntaxError\u001b[0m\u001b[0;31m:\u001b[0m invalid syntax\n"
     ]
    }
   ],
   "source": [
    "site."
   ]
  },
  {
   "cell_type": "code",
   "execution_count": null,
   "id": "43e37479-b3a1-4bf9-b46d-a99f077a4215",
   "metadata": {},
   "outputs": [],
   "source": []
  }
 ],
 "metadata": {
  "kernelspec": {
   "display_name": "Python 3 (ipykernel)",
   "language": "python",
   "name": "python3"
  },
  "language_info": {
   "codemirror_mode": {
    "name": "ipython",
    "version": 3
   },
   "file_extension": ".py",
   "mimetype": "text/x-python",
   "name": "python",
   "nbconvert_exporter": "python",
   "pygments_lexer": "ipython3",
   "version": "3.9.10"
  },
  "vscode": {
   "interpreter": {
    "hash": "ec7c7d4d013ec650dc8eb8b9310ce197f2a724f68d99fdc157fb921cb8b4fa41"
   }
  }
 },
 "nbformat": 4,
 "nbformat_minor": 5
}
