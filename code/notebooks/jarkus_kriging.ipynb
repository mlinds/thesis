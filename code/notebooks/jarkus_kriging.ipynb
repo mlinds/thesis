{
 "cells": [
  {
   "cell_type": "code",
   "execution_count": 1,
   "id": "7f139147-95cb-4f3e-8562-96b4cf344d70",
   "metadata": {},
   "outputs": [
    {
     "name": "stdout",
     "output_type": "stream",
     "text": [
      "/mnt/c/Users/XCB/OneDrive - Van Oord/Documents/thesis/code\n"
     ]
    }
   ],
   "source": [
    "%cd .."
   ]
  },
  {
   "cell_type": "code",
   "execution_count": 2,
   "id": "a2977dc5-6565-40b9-a531-3ef1877c1e63",
   "metadata": {},
   "outputs": [],
   "source": [
    "from atl_module import kriging\n",
    "import geopandas as gpd\n",
    "from atl_module import GebcoUpscaler\n",
    "import rasterio as rio\n",
    "from shapely.geometry import box"
   ]
  },
  {
   "cell_type": "code",
   "execution_count": 3,
   "id": "aad566da-969c-45d7-b4e9-e0e7733ac200",
   "metadata": {},
   "outputs": [],
   "source": [
    "jarkuspts = gpd.read_file(\"../data/jarkus/jarkus-2021_Noord-Holland.gpkg\")"
   ]
  },
  {
   "cell_type": "code",
   "execution_count": 4,
   "id": "8447d497-9488-4eca-8a89-fe6e65e15ab0",
   "metadata": {},
   "outputs": [],
   "source": [
    "jarkuspts = jarkuspts.assign(X=jarkuspts.geometry.x, Y=jarkuspts.geometry.y)"
   ]
  },
  {
   "cell_type": "code",
   "execution_count": 5,
   "id": "e3d262d9-ee54-40cc-9c47-34e9fca3a45d",
   "metadata": {},
   "outputs": [],
   "source": [
    "truth = rio.open(\"../data/special_sites/petten/in-situ-DEM/truth.vrt\")\n",
    "truthrascrs = truth.crs\n",
    "truth_ras_bounds = box(*truth.bounds)"
   ]
  },
  {
   "cell_type": "code",
   "execution_count": 6,
   "id": "8abb284b-0df0-41f0-8428-3c82bc8e1415",
   "metadata": {},
   "outputs": [],
   "source": [
    "subset_jarkus = (\n",
    "    jarkuspts.to_crs(truthrascrs)\n",
    "    .clip(truth_ras_bounds)\n",
    "    .to_crs(jarkuspts.estimate_utm_crs())\n",
    ")\n",
    "# add the location in local UTM system as a columns\n",
    "subset_jarkus = subset_jarkus.assign(\n",
    "    northing=subset_jarkus.geometry.y,\n",
    "    easting=subset_jarkus.geometry.x,\n",
    "    sf_elev_MSL=subset_jarkus.geometry.z,\n",
    ").loc[:, [\"X\", \"Y\", \"northing\", \"easting\", \"sf_elev_MSL\", \"geometry\"]]\n",
    "sub_jarkus = subset_jarkus[subset_jarkus.sf_elev_MSL < 1]"
   ]
  },
  {
   "cell_type": "code",
   "execution_count": 7,
   "id": "4805397b-0918-4d0b-abbd-28138b99aee6",
   "metadata": {},
   "outputs": [
    {
     "name": "stderr",
     "output_type": "stream",
     "text": [
      "/home/mlinds/mambaforge/envs/thesis_env/lib/python3.9/site-packages/geopandas/io/file.py:362: FutureWarning: pandas.Int64Index is deprecated and will be removed from pandas in a future version. Use pandas.Index with the appropriate dtype instead.\n",
      "  pd.Int64Index,\n"
     ]
    }
   ],
   "source": [
    "subset_jarkus.to_file(\"../data/special_sites/petten/all_bathy_pts.gpkg\")"
   ]
  },
  {
   "cell_type": "code",
   "execution_count": 8,
   "id": "dadbd4ed-bb45-4f9f-b20b-109b083e3c12",
   "metadata": {},
   "outputs": [],
   "source": [
    "site = GebcoUpscaler(\n",
    "    \"../data/special_sites/petten\",\n",
    "    \"Petten\",\n",
    "    \"../data/special_sites/petten/in-situ-DEM/truth.vrt\",\n",
    ")"
   ]
  },
  {
   "cell_type": "code",
   "execution_count": 9,
   "id": "9b29dfd7-1d6c-4b6a-a12b-83f8a5e0c00f",
   "metadata": {},
   "outputs": [
    {
     "name": "stderr",
     "output_type": "stream",
     "text": [
      "[D 220930 17:59:14 raster_interaction:149] GEBCO subset raster written to ../data/special_sites/petten/bilinear.tif, with CRS EPSG:32631\n"
     ]
    }
   ],
   "source": [
    "site.subset_gebco(50)"
   ]
  },
  {
   "cell_type": "code",
   "execution_count": 10,
   "id": "c0bbec79-7688-4e7c-9218-369d4a6958f5",
   "metadata": {
    "tags": []
   },
   "outputs": [],
   "source": [
    "# %%time\n",
    "# site.kriging(\n",
    "#     kr_model=\"uk\",\n",
    "#     npts=2000,\n",
    "#     variogram_parameters={\"range\": 10000, \"nugget\": 0.7, \"sill\": 23},\n",
    "#     samplemethod=\"dart\",\n",
    "# )"
   ]
  },
  {
   "cell_type": "code",
   "execution_count": 11,
   "id": "e358ff39-fb97-46d0-a3e2-af812349f720",
   "metadata": {},
   "outputs": [
    {
     "name": "stderr",
     "output_type": "stream",
     "text": [
      "[I 220930 17:59:14 kalman:72] Wrote Kalman Updated Raster with GEBCO uncertainty 1.5 to ../data/special_sites/petten/kalman_updated.tif\n",
      "[I 220930 17:59:14 core:229] Sucessful Kalman update of GEBCO bathymetry for Petten using a gebco standard deviation of 1.5 saved to ../data/special_sites/petten/kalman_updated.tif\n",
      "/mnt/c/Users/XCB/OneDrive - Van Oord/Documents/thesis/code/atl_module/error_calc.py:173: RuntimeWarning: Mean of empty slice\n",
      "  mse = np.nanmean(error_data**2)\n",
      "/mnt/c/Users/XCB/OneDrive - Van Oord/Documents/thesis/code/atl_module/error_calc.py:175: RuntimeWarning: Mean of empty slice\n",
      "  mae = np.nanmean(np.abs(error_data))\n",
      "/mnt/c/Users/XCB/OneDrive - Van Oord/Documents/thesis/code/atl_module/error_calc.py:176: RuntimeWarning: Mean of empty slice\n",
      "  me = np.nanmean(error_data)\n",
      "[I 220930 18:00:27 core:298] site:Petten - {\"RMSE [m]\":{\"Naive Bilinear Interpolation\":1.4757187466,\"Kriged Raster\":1.2156655822,\"Kalman Updated Raster\":0.9959420481},\"MAE [m]\":{\"Naive Bilinear Interpolation\":1.3139332533,\"Kriged Raster\":0.6965481639,\"Kalman Updated Raster\":0.7592682838},\"Mean Error [m]\":{\"Naive Bilinear Interpolation\":-1.0094496012,\"Kriged Raster\":-0.3149978518,\"Kalman Updated Raster\":-0.5028777719}}\n",
      "[I 220930 18:00:27 core:315] raster error table written to ../document/tables/Petten_kalman_improvement.tex\n"
     ]
    }
   ],
   "source": [
    "site.kalman_update(1.5)\n",
    "site.raster_rmse(check_kriged=True)\n",
    "site.write_raster_error_tables()"
   ]
  },
  {
   "cell_type": "code",
   "execution_count": 12,
   "id": "79ffa288-2270-4f63-b3fb-5840f7a528e6",
   "metadata": {},
   "outputs": [
    {
     "name": "stderr",
     "output_type": "stream",
     "text": [
      "[I 220930 18:01:04 core:257] Truth data added to Bathymetric Points dataframe for site: Petten\n"
     ]
    }
   ],
   "source": [
    "site.bathy_pts_gdf = site.bathy_pts_gdf.assign(easting_corr=0, northing_corr=0)\n",
    "site.add_truth_data()"
   ]
  },
  {
   "cell_type": "code",
   "execution_count": 13,
   "id": "9ccb44b0-0365-4e3c-9f2a-faabfa48b1db",
   "metadata": {},
   "outputs": [
    {
     "name": "stderr",
     "output_type": "stream",
     "text": [
      "[I 220930 18:01:04 core:238] Petten: RMSE between icesat and truth 0.46928823888558663, MAE: 0.29491203201446353\n"
     ]
    },
    {
     "data": {
      "text/html": [
       "<div>\n",
       "<style scoped>\n",
       "    .dataframe tbody tr th:only-of-type {\n",
       "        vertical-align: middle;\n",
       "    }\n",
       "\n",
       "    .dataframe tbody tr th {\n",
       "        vertical-align: top;\n",
       "    }\n",
       "\n",
       "    .dataframe thead th {\n",
       "        text-align: right;\n",
       "    }\n",
       "</style>\n",
       "<table border=\"1\" class=\"dataframe\">\n",
       "  <thead>\n",
       "    <tr style=\"text-align: right;\">\n",
       "      <th></th>\n",
       "      <th>MAE</th>\n",
       "      <th>RMSE</th>\n",
       "      <th>Median Abs error</th>\n",
       "      <th>R2 Score</th>\n",
       "      <th>Average Error</th>\n",
       "    </tr>\n",
       "  </thead>\n",
       "  <tbody>\n",
       "    <tr>\n",
       "      <th>Petten</th>\n",
       "      <td>0.294912</td>\n",
       "      <td>0.469288</td>\n",
       "      <td>0.145</td>\n",
       "      <td>0.995713</td>\n",
       "      <td>-0.038357</td>\n",
       "    </tr>\n",
       "  </tbody>\n",
       "</table>\n",
       "</div>"
      ],
      "text/plain": [
       "             MAE      RMSE  Median Abs error  R2 Score  Average Error\n",
       "Petten  0.294912  0.469288             0.145  0.995713      -0.038357"
      ]
     },
     "execution_count": 13,
     "metadata": {},
     "output_type": "execute_result"
    }
   ],
   "source": [
    "site.lidar_error()"
   ]
  },
  {
   "cell_type": "code",
   "execution_count": 14,
   "id": "435c5af1-c9bb-4cce-b677-35a1dec7df4e",
   "metadata": {},
   "outputs": [
    {
     "name": "stderr",
     "output_type": "stream",
     "text": [
      "[I 220930 18:01:05 core:341] Petten: Saved lidar error plot to ../document/figures/Petten_lidar_estimated_vs_truth.pdf\n"
     ]
    },
    {
     "data": {
      "image/png": "[encoded data removed]",
      "text/plain": [
       "<Figure size 223.228x223.228 with 1 Axes>"
      ]
     },
     "metadata": {
      "needs_background": "light"
     },
     "output_type": "display_data"
    }
   ],
   "source": [
    "site.bathy_pts_gdf = site.bathy_pts_gdf[site.bathy_pts_gdf.true_elevation < 0]\n",
    "fig = site.plot_lidar_error()"
   ]
  },
  {
   "cell_type": "code",
   "execution_count": 15,
   "id": "c3e84d97-da38-4ff7-a2c2-0e5892b16b5d",
   "metadata": {},
   "outputs": [],
   "source": [
    "ax = fig.axes[0]\n",
    "ax.set_xlabel(\"Elevation from Van Oord Survey [m +NAP]\")\n",
    "ax.set_ylabel(\"Jarkus Elevation [m +NAP]\")\n",
    "fig.tight_layout()\n",
    "fig.savefig(\"../document/figures/Petten_lidar_estimated_vs_truth.pdf\")"
   ]
  },
  {
   "cell_type": "code",
   "execution_count": 16,
   "id": "de4cc0ae-e661-4070-ad89-18b39a8d3478",
   "metadata": {},
   "outputs": [
    {
     "ename": "TypeError",
     "evalue": "plot_icesat_points() got an unexpected keyword argument 'ratio'",
     "output_type": "error",
     "traceback": [
      "\u001b[0;31m---------------------------------------------------------------------------\u001b[0m",
      "\u001b[0;31mTypeError\u001b[0m                                 Traceback (most recent call last)",
      "Input \u001b[0;32mIn [16]\u001b[0m, in \u001b[0;36m<cell line: 2>\u001b[0;34m()\u001b[0m\n\u001b[1;32m      1\u001b[0m \u001b[38;5;66;03m# site.bathy_pts_gdf = gpd.read_file('../data/special_sites/petten/kriging_pts/').rename(columns={'Z':'sf_elev_MSL'})\u001b[39;00m\n\u001b[0;32m----> 2\u001b[0m fig \u001b[38;5;241m=\u001b[39m \u001b[43msite\u001b[49m\u001b[38;5;241;43m.\u001b[39;49m\u001b[43mplot_icesat_points\u001b[49m\u001b[43m(\u001b[49m\u001b[43mfraction\u001b[49m\u001b[38;5;241;43m=\u001b[39;49m\u001b[38;5;241;43m0.5\u001b[39;49m\u001b[43m,\u001b[49m\u001b[43m \u001b[49m\u001b[43mratio\u001b[49m\u001b[38;5;241;43m=\u001b[39;49m\u001b[38;5;241;43m0.57\u001b[39;49m\u001b[43m)\u001b[49m\n",
      "\u001b[0;31mTypeError\u001b[0m: plot_icesat_points() got an unexpected keyword argument 'ratio'"
     ]
    }
   ],
   "source": [
    "# site.bathy_pts_gdf = gpd.read_file('../data/special_sites/petten/kriging_pts/').rename(columns={'Z':'sf_elev_MSL'})\n",
    "fig = site.plot_icesat_points(fraction=0.5, ratio=0.57)"
   ]
  },
  {
   "cell_type": "code",
   "execution_count": null,
   "id": "385300fe-6ecf-4623-bdd2-d2cd550f41d7",
   "metadata": {},
   "outputs": [],
   "source": [
    "# remove the accreditdation text\n",
    "ax = fig.axes[0]\n",
    "text = ax.texts[0]\n",
    "text.set_visible(False)"
   ]
  },
  {
   "cell_type": "code",
   "execution_count": null,
   "id": "c70636f1-03b0-4ed4-a71c-c52341675555",
   "metadata": {},
   "outputs": [],
   "source": [
    "fig.savefig(\"../document/figures/Petten_photon_map.pdf\")"
   ]
  }
 ],
 "metadata": {
  "kernelspec": {
   "display_name": "Python 3 (ipykernel)",
   "language": "python",
   "name": "python3"
  },
  "language_info": {
   "codemirror_mode": {
    "name": "ipython",
    "version": 3
   },
   "file_extension": ".py",
   "mimetype": "text/x-python",
   "name": "python",
   "nbconvert_exporter": "python",
   "pygments_lexer": "ipython3",
   "version": "3.9.10"
  },
  "vscode": {
   "interpreter": {
    "hash": "ec7c7d4d013ec650dc8eb8b9310ce197f2a724f68d99fdc157fb921cb8b4fa41"
   }
  }
 },
 "nbformat": 4,
 "nbformat_minor": 5
}
