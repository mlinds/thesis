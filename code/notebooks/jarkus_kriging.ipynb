{
 "cells": [
  {
   "cell_type": "code",
   "execution_count": null,
   "id": "a2977dc5-6565-40b9-a531-3ef1877c1e63",
   "metadata": {},
   "outputs": [],
   "source": [
    "from atl_module import kriging\n",
    "import geopandas as gpd\n",
    "from atl_module import GebcoUpscaler"
   ]
  },
  {
   "cell_type": "code",
   "execution_count": null,
   "id": "7f139147-95cb-4f3e-8562-96b4cf344d70",
   "metadata": {},
   "outputs": [],
   "source": [
    "%cd ..\n"
   ]
  },
  {
   "cell_type": "code",
   "execution_count": null,
   "id": "51e6d6ad-5462-447c-a5b2-fecf7e0a574e",
   "metadata": {},
   "outputs": [],
   "source": [
    "site = GebcoUpscaler('petten','../data/test_sites/petten/in-situ-DEM/truth.vrt')"
   ]
  },
  {
   "cell_type": "code",
   "execution_count": null,
   "id": "9b29dfd7-1d6c-4b6a-a12b-83f8a5e0c00f",
   "metadata": {},
   "outputs": [],
   "source": [
    "site.subset_gebco(50)"
   ]
  },
  {
   "cell_type": "code",
   "execution_count": null,
   "id": "2c1ce25a-3e2a-4776-af11-4bd3e8889ca3",
   "metadata": {
    "tags": []
   },
   "outputs": [],
   "source": [
    "%%time\n",
    "site.kriging(\n",
    "    npts=2000,\n",
    "    variogram_parameters={'range':33734,'nugget':0.2,'sill':12},\n",
    "    samplemethod='random'\n",
    "    )"
   ]
  },
  {
   "cell_type": "code",
   "execution_count": null,
   "id": "3c17898f-1d21-4d3e-b341-61dbeb29a121",
   "metadata": {},
   "outputs": [],
   "source": [
    "site.kalman_update(0.75,)\n",
    "site.raster_rmse(check_kriged=True)"
   ]
  },
  {
   "cell_type": "code",
   "execution_count": null,
   "id": "f66d22c3-6a67-4c66-af3f-43657690a3df",
   "metadata": {},
   "outputs": [],
   "source": [
    "site.kalman_update(1)\n",
    "site.raster_rmse()"
   ]
  },
  {
   "cell_type": "code",
   "execution_count": null,
   "id": "dd9e44ce-d146-4538-a8f2-24d4ccc24168",
   "metadata": {},
   "outputs": [],
   "source": [
    "site.kalman_update(1.5)\n",
    "site.raster_rmse()"
   ]
  },
  {
   "cell_type": "code",
   "execution_count": null,
   "id": "c4adce37-11f1-4a2d-b5fe-62747a6c3935",
   "metadata": {},
   "outputs": [],
   "source": [
    "site.kalman_update(2)\n",
    "site.raster_rmse()"
   ]
  },
  {
   "cell_type": "code",
   "execution_count": null,
   "id": "efab0dd2-d7da-470f-bbf3-0d7b27b37100",
   "metadata": {},
   "outputs": [],
   "source": [
    "site.kalman_update(3)\n",
    "site.raster_rmse()"
   ]
  },
  {
   "cell_type": "code",
   "execution_count": null,
   "id": "e6a07f02-8f8c-45ec-b011-9e3aae1c0158",
   "metadata": {},
   "outputs": [],
   "source": []
  }
 ],
 "metadata": {
  "kernelspec": {
   "display_name": "Python 3.9.10 ('thesis_env')",
   "language": "python",
   "name": "python3"
  },
  "language_info": {
   "codemirror_mode": {
    "name": "ipython",
    "version": 3
   },
   "file_extension": ".py",
   "mimetype": "text/x-python",
   "name": "python",
   "nbconvert_exporter": "python",
   "pygments_lexer": "ipython3",
   "version": "3.9.10"
  },
  "vscode": {
   "interpreter": {
    "hash": "ec7c7d4d013ec650dc8eb8b9310ce197f2a724f68d99fdc157fb921cb8b4fa41"
   }
  }
 },
 "nbformat": 4,
 "nbformat_minor": 5
}
