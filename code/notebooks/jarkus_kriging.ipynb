{
 "cells": [
  {
   "cell_type": "code",
   "execution_count": 1,
   "id": "a2977dc5-6565-40b9-a531-3ef1877c1e63",
   "metadata": {},
   "outputs": [],
   "source": [
    "from atl_module import kriging\n",
    "import geopandas as gpd\n",
    "from atl_module import GebcoUpscaler\n",
    "import rasterio as rio\n",
    "from shapely.geometry import box"
   ]
  },
  {
   "cell_type": "code",
   "execution_count": 2,
   "id": "7f139147-95cb-4f3e-8562-96b4cf344d70",
   "metadata": {},
   "outputs": [
    {
     "name": "stdout",
     "output_type": "stream",
     "text": [
      "/mnt/c/Users/maxli/OneDrive - Van Oord/Documents/thesis/code\n"
     ]
    }
   ],
   "source": [
    "%cd ..\n"
   ]
  },
  {
   "cell_type": "code",
   "execution_count": 3,
   "id": "aad566da-969c-45d7-b4e9-e0e7733ac200",
   "metadata": {},
   "outputs": [],
   "source": [
    "jarkuspts = gpd.read_file('../data/jarkus/jarkus-2021_Noord-Holland.gpkg')\n"
   ]
  },
  {
   "cell_type": "code",
   "execution_count": 4,
   "id": "8447d497-9488-4eca-8a89-fe6e65e15ab0",
   "metadata": {},
   "outputs": [],
   "source": [
    "jarkuspts = jarkuspts.assign(X=jarkuspts.geometry.x,Y=jarkuspts.geometry.y)"
   ]
  },
  {
   "cell_type": "code",
   "execution_count": 5,
   "id": "e3d262d9-ee54-40cc-9c47-34e9fca3a45d",
   "metadata": {},
   "outputs": [],
   "source": [
    "truth = rio.open('../data/special_sites/petten/in-situ-DEM/truth.vrt')\n",
    "truthrascrs= truth.crs\n",
    "truth_ras_bounds = truth.bounds"
   ]
  },
  {
   "cell_type": "code",
   "execution_count": 6,
   "id": "8abb284b-0df0-41f0-8428-3c82bc8e1415",
   "metadata": {},
   "outputs": [],
   "source": [
    "subset_jarkus = jarkuspts.to_crs(truthrascrs).clip(truth_ras_bounds).to_crs(jarkuspts.estimate_utm_crs())\n",
    "# add the location in local UTM system as a columns\n",
    "subset_jarkus = subset_jarkus.assign(northing=subset_jarkus.geometry.y,easting=subset_jarkus.geometry.x,sf_elev_MSL=subset_jarkus.geometry.z).loc[:,['X','Y','northing','easting','sf_elev_MSL','geometry']]\n",
    "sub_jarkus = subset_jarkus[subset_jarkus.sf_elev_MSL < 1]"
   ]
  },
  {
   "cell_type": "code",
   "execution_count": 7,
   "id": "4805397b-0918-4d0b-abbd-28138b99aee6",
   "metadata": {},
   "outputs": [],
   "source": [
    "subset_jarkus.to_file('../data/special_sites/petten/all_bathy_pts.gpkg')"
   ]
  },
  {
   "cell_type": "code",
   "execution_count": 8,
   "id": "dadbd4ed-bb45-4f9f-b20b-109b083e3c12",
   "metadata": {},
   "outputs": [],
   "source": [
    "site = GebcoUpscaler('../data/special_sites/petten','petten','../data/special_sites/petten/in-situ-DEM/truth.vrt')"
   ]
  },
  {
   "cell_type": "code",
   "execution_count": 9,
   "id": "9b29dfd7-1d6c-4b6a-a12b-83f8a5e0c00f",
   "metadata": {},
   "outputs": [
    {
     "name": "stderr",
     "output_type": "stream",
     "text": [
      "[D 220918 16:41:09 raster_interaction:128] GEBCO subset raster written to ../data/special_sites/petten/bilinear.tif, with CRS EPSG:32631\n"
     ]
    }
   ],
   "source": [
    "site.subset_gebco(50)"
   ]
  },
  {
   "cell_type": "code",
   "execution_count": null,
   "id": "2c1ce25a-3e2a-4776-af11-4bd3e8889ca3",
   "metadata": {
    "tags": []
   },
   "outputs": [
    {
     "name": "stderr",
     "output_type": "stream",
     "text": [
      "[I 220918 16:41:09 core:194] Kriging petten site using 2000 points with crs epsg:32631 with options {'variogram_parameters': {'range': 10000, 'nugget': 0.7, 'sill': 23}, 'samplemethod': 'dart'}\n",
      "[D 220918 16:41:10 kriging:23] The types of the numpy array that is sent to PDAL poisson dart throwing are: (numpy.record, [('Y', '<f8'), ('X', '<f8'), ('Z', '<f8')])\n",
      "[D 220918 16:41:10 kriging:29] 2000 points remaining after relaxation dart throwing culling\n",
      "[D 220918 16:41:12 kriging:71] 2000 points selected with dart written to ../data/special_sites/petten/kriging_pts\n"
     ]
    },
    {
     "name": "stdout",
     "output_type": "stream",
     "text": [
      "Adjusting data for anisotropy...\n",
      "Initializing variogram model...\n",
      "Using 'spherical' Variogram Model\n",
      "Partial Sill: 22.3\n",
      "Full Sill: 23.0\n",
      "Range: 10000\n",
      "Nugget: 0.7 \n",
      "\n",
      "Calculating statistics on variogram model fit...\n"
     ]
    }
   ],
   "source": [
    "%%time\n",
    "site.kriging(\n",
    "    kr_model='uk',\n",
    "    npts=2000,\n",
    "    variogram_parameters={'range':10000,'nugget':0.7,'sill':23},\n",
    "    samplemethod='dart'\n",
    "    )"
   ]
  },
  {
   "cell_type": "code",
   "execution_count": null,
   "id": "3c17898f-1d21-4d3e-b341-61dbeb29a121",
   "metadata": {
    "tags": []
   },
   "outputs": [],
   "source": [
    "site.kalman_update(0.75,)\n",
    "site.raster_rmse(check_kriged=True)"
   ]
  },
  {
   "cell_type": "code",
   "execution_count": null,
   "id": "f66d22c3-6a67-4c66-af3f-43657690a3df",
   "metadata": {},
   "outputs": [],
   "source": [
    "site.kalman_update(1)\n",
    "site.raster_rmse()"
   ]
  },
  {
   "cell_type": "code",
   "execution_count": null,
   "id": "dd9e44ce-d146-4538-a8f2-24d4ccc24168",
   "metadata": {},
   "outputs": [],
   "source": [
    "site.kalman_update(1.5)\n",
    "site.raster_rmse()"
   ]
  },
  {
   "cell_type": "code",
   "execution_count": null,
   "id": "c4adce37-11f1-4a2d-b5fe-62747a6c3935",
   "metadata": {},
   "outputs": [],
   "source": [
    "site.kalman_update(2)\n",
    "site.raster_rmse()"
   ]
  },
  {
   "cell_type": "code",
   "execution_count": null,
   "id": "efab0dd2-d7da-470f-bbf3-0d7b27b37100",
   "metadata": {},
   "outputs": [],
   "source": [
    "site.kalman_update(3)\n",
    "site.raster_rmse()"
   ]
  },
  {
   "cell_type": "code",
   "execution_count": null,
   "id": "79ffa288-2270-4f63-b3fb-5840f7a528e6",
   "metadata": {},
   "outputs": [],
   "source": [
    "site.bathy_pts_gdf = site.bathy_pts_gdf.assign(easting_corr=0,northing_corr=0)\n",
    "site.add_truth_data()"
   ]
  },
  {
   "cell_type": "code",
   "execution_count": null,
   "id": "9ccb44b0-0365-4e3c-9f2a-faabfa48b1db",
   "metadata": {},
   "outputs": [],
   "source": [
    "site.lidar_error()"
   ]
  },
  {
   "cell_type": "code",
   "execution_count": null,
   "id": "89083930-9d81-47bc-944c-65e2d462ebc9",
   "metadata": {},
   "outputs": [],
   "source": [
    "site.plot_lidar_error()"
   ]
  },
  {
   "cell_type": "code",
   "execution_count": null,
   "id": "e6a07f02-8f8c-45ec-b011-9e3aae1c0158",
   "metadata": {
    "tags": []
   },
   "outputs": [],
   "source": [
    "site.write_error_tables()"
   ]
  },
  {
   "cell_type": "code",
   "execution_count": null,
   "id": "43e37479-b3a1-4bf9-b46d-a99f077a4215",
   "metadata": {},
   "outputs": [],
   "source": []
  }
 ],
 "metadata": {
  "kernelspec": {
   "display_name": "Python 3 (ipykernel)",
   "language": "python",
   "name": "python3"
  },
  "language_info": {
   "codemirror_mode": {
    "name": "ipython",
    "version": 3
   },
   "file_extension": ".py",
   "mimetype": "text/x-python",
   "name": "python",
   "nbconvert_exporter": "python",
   "pygments_lexer": "ipython3",
   "version": "3.9.10"
  },
  "vscode": {
   "interpreter": {
    "hash": "ec7c7d4d013ec650dc8eb8b9310ce197f2a724f68d99fdc157fb921cb8b4fa41"
   }
  }
 },
 "nbformat": 4,
 "nbformat_minor": 5
}
