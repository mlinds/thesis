{
 "cells": [
  {
   "cell_type": "code",
   "execution_count": 1,
   "id": "25cb4fcb-9fa7-4175-8707-07a7625e9912",
   "metadata": {},
   "outputs": [
    {
     "name": "stdout",
     "output_type": "stream",
     "text": [
      "/mnt/c/Users/XCB/OneDrive - Van Oord/Documents/thesis/code\n",
      "/mnt/c/Users/XCB/OneDrive - Van Oord/Documents/thesis\n"
     ]
    }
   ],
   "source": [
    "import pandas as pd\n",
    "from glob import glob\n",
    "import geopandas as gpd\n",
    "%cd ..\n",
    "%cd .."
   ]
  },
  {
   "cell_type": "code",
   "execution_count": 2,
   "id": "3f1113f8-7c13-45b3-950b-df03029aa436",
   "metadata": {},
   "outputs": [],
   "source": [
    "site_file_list = [aoifile for aoifile in glob('./data/test_sites/*/AOI.gpkg')]"
   ]
  },
  {
   "cell_type": "code",
   "execution_count": 7,
   "id": "128c5ede-b4de-4d00-a372-70fd9a15efcf",
   "metadata": {},
   "outputs": [],
   "source": [
    "site_dict = {site_file.split('/')[3]:site_file for site_file in site_file_list}"
   ]
  },
  {
   "cell_type": "code",
   "execution_count": 11,
   "id": "13fa6291-45e6-4d51-8b50-99bfc0c7448c",
   "metadata": {},
   "outputs": [],
   "source": [
    "gdflist = []\n",
    "\n",
    "for sitename,filepath in site_dict.items():\n",
    "    \n",
    "    tempgdf = gpd.read_file(filepath)\n",
    "    assert len(tempgdf) == 1\n",
    "    tempgdf['name']=sitename\n",
    "    # get area in local UTM, divide to get square km\n",
    "    tempgdf['area'] = tempgdf.to_crs(tempgdf.estimate_utm_crs()).geometry.area/(1000**2)\n",
    "    gdflist.append(tempgdf)"
   ]
  },
  {
   "cell_type": "code",
   "execution_count": 12,
   "id": "71f4cab2-d273-4222-824b-f1bf63e6faa9",
   "metadata": {},
   "outputs": [],
   "source": [
    "mastergdf = pd.concat(gdflist)"
   ]
  },
  {
   "cell_type": "code",
   "execution_count": 15,
   "id": "63dff43a-c827-45e4-bb3a-9f651d3c4d0b",
   "metadata": {},
   "outputs": [
    {
     "name": "stderr",
     "output_type": "stream",
     "text": [
      "/home/mlinds/mambaforge/envs/thesis_env/lib/python3.9/site-packages/geopandas/io/file.py:362: FutureWarning: pandas.Int64Index is deprecated and will be removed from pandas in a future version. Use pandas.Index with the appropriate dtype instead.\n",
      "  pd.Int64Index,\n"
     ]
    }
   ],
   "source": [
    "mastergdf.to_file('./data/test_sites/site_masterlist.gpkg')"
   ]
  },
  {
   "cell_type": "code",
   "execution_count": 17,
   "id": "619f829e-1cc7-4109-ac1b-5786bab514b8",
   "metadata": {},
   "outputs": [
    {
     "data": {
      "text/html": [
       "<div>\n",
       "<style scoped>\n",
       "    .dataframe tbody tr th:only-of-type {\n",
       "        vertical-align: middle;\n",
       "    }\n",
       "\n",
       "    .dataframe tbody tr th {\n",
       "        vertical-align: top;\n",
       "    }\n",
       "\n",
       "    .dataframe thead th {\n",
       "        text-align: right;\n",
       "    }\n",
       "</style>\n",
       "<table border=\"1\" class=\"dataframe\">\n",
       "  <thead>\n",
       "    <tr style=\"text-align: right;\">\n",
       "      <th></th>\n",
       "      <th>area</th>\n",
       "    </tr>\n",
       "  </thead>\n",
       "  <tbody>\n",
       "    <tr>\n",
       "      <th>count</th>\n",
       "      <td>12.000000</td>\n",
       "    </tr>\n",
       "    <tr>\n",
       "      <th>mean</th>\n",
       "      <td>256.307190</td>\n",
       "    </tr>\n",
       "    <tr>\n",
       "      <th>std</th>\n",
       "      <td>234.169455</td>\n",
       "    </tr>\n",
       "    <tr>\n",
       "      <th>min</th>\n",
       "      <td>56.419998</td>\n",
       "    </tr>\n",
       "    <tr>\n",
       "      <th>25%</th>\n",
       "      <td>100.352919</td>\n",
       "    </tr>\n",
       "    <tr>\n",
       "      <th>50%</th>\n",
       "      <td>138.484811</td>\n",
       "    </tr>\n",
       "    <tr>\n",
       "      <th>75%</th>\n",
       "      <td>342.524687</td>\n",
       "    </tr>\n",
       "    <tr>\n",
       "      <th>max</th>\n",
       "      <td>698.066052</td>\n",
       "    </tr>\n",
       "  </tbody>\n",
       "</table>\n",
       "</div>"
      ],
      "text/plain": [
       "             area\n",
       "count   12.000000\n",
       "mean   256.307190\n",
       "std    234.169455\n",
       "min     56.419998\n",
       "25%    100.352919\n",
       "50%    138.484811\n",
       "75%    342.524687\n",
       "max    698.066052"
      ]
     },
     "execution_count": 17,
     "metadata": {},
     "output_type": "execute_result"
    }
   ],
   "source": [
    "mastergdf.describe()"
   ]
  },
  {
   "cell_type": "code",
   "execution_count": null,
   "id": "d3bf184d-2e18-40c5-9d7c-048abd499b5d",
   "metadata": {},
   "outputs": [],
   "source": []
  }
 ],
 "metadata": {
  "kernelspec": {
   "display_name": "Python 3 (ipykernel)",
   "language": "python",
   "name": "python3"
  },
  "language_info": {
   "codemirror_mode": {
    "name": "ipython",
    "version": 3
   },
   "file_extension": ".py",
   "mimetype": "text/x-python",
   "name": "python",
   "nbconvert_exporter": "python",
   "pygments_lexer": "ipython3",
   "version": "3.9.10"
  }
 },
 "nbformat": 4,
 "nbformat_minor": 5
}
