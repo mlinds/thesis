{
 "cells": [
  {
   "cell_type": "code",
   "execution_count": 1,
   "id": "bf3ab382-68af-4ad2-a23b-828618f8d61d",
   "metadata": {},
   "outputs": [
    {
     "name": "stdout",
     "output_type": "stream",
     "text": [
      "/mnt/c/Users/maxli/OneDrive - Van Oord/Documents/thesis/code\n"
     ]
    }
   ],
   "source": [
    "%cd .."
   ]
  },
  {
   "cell_type": "code",
   "execution_count": 2,
   "id": "c727e7fd-cb56-4f03-8567-4243a369d882",
   "metadata": {},
   "outputs": [],
   "source": [
    "import pandas as pd\n",
    "import geopandas as gpd\n",
    "from glob import glob\n",
    "import seaborn as sns\n",
    "from atl_module.plotting import (\n",
    "    error_lidar_pt_vs_truth_pt,\n",
    "    plot_photon_map,\n",
    "    plot_tracklines_overview,\n",
    ")\n",
    "from sklearn.metrics import r2_score\n",
    "import numpy as np\n",
    "from atl_module.geospatial_utils.raster_interaction import (\n",
    "    query_raster,\n",
    "    query_from_lines,\n",
    ")\n"
   ]
  },
  {
   "cell_type": "code",
   "execution_count": 3,
   "id": "c755d2cc-886d-431a-a163-a6d07c6f43f6",
   "metadata": {},
   "outputs": [],
   "source": [
    "aoidflist = []\n",
    "for aoifile in glob(\"../data/test_sites/*/AOI.gpkg\"):\n",
    "    # get the name of each site\n",
    "    sitename = aoifile.split(\"/\")[3]\n",
    "    df = gpd.read_file(aoifile)\n",
    "    df[\"site\"] = sitename\n",
    "    aoidflist.append(df)\n",
    "\n",
    "aoi_combined = pd.concat(aoidflist)\n"
   ]
  },
  {
   "cell_type": "code",
   "execution_count": 4,
   "id": "0f09e4fd-cc4f-48bb-afbe-b959bab6958d",
   "metadata": {},
   "outputs": [],
   "source": [
    "secchi_pt_list = []\n",
    "for file in glob(\"../data/test_sites/*/secchi_pts.gpkg\"):\n",
    "    # get the name of each site\n",
    "    sitename = file.split(\"/\")[3]\n",
    "    df = gpd.read_file(file)\n",
    "    df[\"site\"] = sitename\n",
    "    secchi_pt_list.append(df)\n",
    "\n",
    "secchi_pt_combined = pd.concat(secchi_pt_list).reset_index(drop=True)\n",
    "\n",
    "secchi_pt_combined = secchi_pt_combined.assign(\n",
    "    X=secchi_pt_combined.geometry.x, Y=secchi_pt_combined.geometry.y\n",
    ")\n"
   ]
  },
  {
   "cell_type": "code",
   "execution_count": 5,
   "id": "b24b5665-ab89-4f09-b743-6b629a9b7752",
   "metadata": {},
   "outputs": [],
   "source": [
    "# tracklines_dflist = [gpd.read_file(file) for file in glob('../data/test_sites/*/tracklines')]\n",
    "\n",
    "tracklinesdflist = []\n",
    "for file in glob(\"../data/test_sites/*/tracklines\"):\n",
    "    # get the name of each site\n",
    "    sitename = file.split(\"/\")[3]\n",
    "    df = gpd.read_file(file)\n",
    "    df[\"site\"] = sitename\n",
    "    tracklinesdflist.append(df)\n",
    "\n",
    "tracklines_combined = pd.concat(tracklinesdflist).reset_index(drop=True)\n"
   ]
  },
  {
   "cell_type": "markdown",
   "id": "be4ce332-833b-4efa-8a86-a8f84b7b360e",
   "metadata": {},
   "source": [
    "# Concatenate all bathymetry points from all sites"
   ]
  },
  {
   "cell_type": "code",
   "execution_count": 6,
   "id": "38b9af17-3b09-4b22-b7dc-fb10c02c59af",
   "metadata": {},
   "outputs": [],
   "source": [
    "dflist = []\n",
    "for file in glob(\"../data/test_sites/*/all_bathy_pts.gpkg\"):\n",
    "    # get the name of each site\n",
    "    sitename = file.split(\"/\")[3]\n",
    "    df = gpd.read_file(file)\n",
    "    df[\"site\"] = sitename\n",
    "    dflist.append(df)\n",
    "\n",
    "bathy_pts_df = pd.concat(dflist).reset_index(drop=True).dropna()\n"
   ]
  },
  {
   "cell_type": "markdown",
   "id": "26560f58-0969-4e1a-b4e4-5eb2bf9ea0f6",
   "metadata": {},
   "source": [
    "## Some stats about all the total batymetry points found\n",
    "\n",
    "do we see a spike around 2.3 or 4.2 due to ringing?\n"
   ]
  },
  {
   "cell_type": "code",
   "execution_count": 7,
   "id": "54037248-704c-4d8c-8768-56674d144c5b",
   "metadata": {},
   "outputs": [],
   "source": [
    "# set bin edges to encapsulate the location where ringing occurs\n",
    "binedges = np.arange(-25.05, 0.6, 0.1)\n",
    "# 2.3 or 4.2 m\n"
   ]
  },
  {
   "cell_type": "code",
   "execution_count": 8,
   "id": "bc99b964-470b-48a6-ae5f-58bedbba379b",
   "metadata": {},
   "outputs": [
    {
     "data": {
      "text/plain": [
       "<matplotlib.legend.Legend at 0x7fe5724c03d0>"
      ]
     },
     "execution_count": 8,
     "metadata": {},
     "output_type": "execute_result"
    },
    {
     "name": "stderr",
     "output_type": "stream",
     "text": [
      "findfont: Font family ['serif'] not found. Falling back to DejaVu Sans.\n",
      "findfont: Generic family 'serif' not found because none of the following families were found: Utopia, Computer Modern Roman, New Century Schoolbook, Century Schoolbook L, ITC Bookman, Bookman, Nimbus Roman No9 L, Times New Roman, Times, Palatino, Charter, serif\n",
      "findfont: Font family ['serif'] not found. Falling back to DejaVu Sans.\n",
      "findfont: Generic family 'serif' not found because none of the following families were found: Utopia, Computer Modern Roman, New Century Schoolbook, Century Schoolbook L, ITC Bookman, Bookman, Nimbus Roman No9 L, Times New Roman, Times, Palatino, Charter, serif\n"
     ]
    },
    {
     "data": {
      "image/png": "[encoded data removed]",
      "text/plain": [
       "<Figure size 1440x720 with 1 Axes>"
      ]
     },
     "metadata": {
      "needs_background": "light"
     },
     "output_type": "display_data"
    }
   ],
   "source": [
    "ax = bathy_pts_df.sf_elev_MSL.plot.hist(\n",
    "    bins=binedges,\n",
    "    histtype=\"step\",\n",
    "    density=True,\n",
    "    label=\"ICESat-2 Estimate\",\n",
    "    figsize=(20, 10),\n",
    ")\n",
    "bathy_pts_df.true_elevation.plot.hist(\n",
    "    ax=ax, bins=binedges, histtype=\"step\", density=True, label=\"Actual Value\"\n",
    ")\n",
    "# ax.set_xlim((-25,0))\n",
    "ax.axvline(-2.3)\n",
    "ax.axvline(-4.2)\n",
    "ax.legend(loc=\"upper left\")\n"
   ]
  },
  {
   "cell_type": "code",
   "execution_count": 9,
   "id": "535a354f-50f2-4f6f-92a2-25f4060c982c",
   "metadata": {},
   "outputs": [
    {
     "data": {
      "text/html": [
       "<div>\n",
       "<style scoped>\n",
       "    .dataframe tbody tr th:only-of-type {\n",
       "        vertical-align: middle;\n",
       "    }\n",
       "\n",
       "    .dataframe tbody tr th {\n",
       "        vertical-align: top;\n",
       "    }\n",
       "\n",
       "    .dataframe thead th {\n",
       "        text-align: right;\n",
       "    }\n",
       "</style>\n",
       "<table border=\"1\" class=\"dataframe\">\n",
       "  <thead>\n",
       "    <tr style=\"text-align: right;\">\n",
       "      <th></th>\n",
       "      <th>error</th>\n",
       "      <th>error_abs</th>\n",
       "    </tr>\n",
       "    <tr>\n",
       "      <th>site</th>\n",
       "      <th></th>\n",
       "      <th></th>\n",
       "    </tr>\n",
       "  </thead>\n",
       "  <tbody>\n",
       "    <tr>\n",
       "      <th>stcroix</th>\n",
       "      <td>0.54</td>\n",
       "      <td>0.30</td>\n",
       "    </tr>\n",
       "    <tr>\n",
       "      <th>oahu8</th>\n",
       "      <td>0.67</td>\n",
       "      <td>0.52</td>\n",
       "    </tr>\n",
       "    <tr>\n",
       "      <th>oahu5</th>\n",
       "      <td>0.73</td>\n",
       "      <td>0.50</td>\n",
       "    </tr>\n",
       "    <tr>\n",
       "      <th>oahu4</th>\n",
       "      <td>0.75</td>\n",
       "      <td>0.57</td>\n",
       "    </tr>\n",
       "    <tr>\n",
       "      <th>big_island</th>\n",
       "      <td>0.78</td>\n",
       "      <td>0.51</td>\n",
       "    </tr>\n",
       "    <tr>\n",
       "      <th>florida_keys</th>\n",
       "      <td>0.83</td>\n",
       "      <td>0.32</td>\n",
       "    </tr>\n",
       "    <tr>\n",
       "      <th>charlotteamalie</th>\n",
       "      <td>1.09</td>\n",
       "      <td>0.56</td>\n",
       "    </tr>\n",
       "    <tr>\n",
       "      <th>oahu7</th>\n",
       "      <td>1.11</td>\n",
       "      <td>0.72</td>\n",
       "    </tr>\n",
       "    <tr>\n",
       "      <th>oahu1</th>\n",
       "      <td>1.16</td>\n",
       "      <td>0.77</td>\n",
       "    </tr>\n",
       "    <tr>\n",
       "      <th>oahu3</th>\n",
       "      <td>1.24</td>\n",
       "      <td>0.46</td>\n",
       "    </tr>\n",
       "    <tr>\n",
       "      <th>oahu6</th>\n",
       "      <td>2.42</td>\n",
       "      <td>1.76</td>\n",
       "    </tr>\n",
       "    <tr>\n",
       "      <th>petten</th>\n",
       "      <td>8.86</td>\n",
       "      <td>7.96</td>\n",
       "    </tr>\n",
       "    <tr>\n",
       "      <th>oahu2</th>\n",
       "      <td>10.60</td>\n",
       "      <td>1.45</td>\n",
       "    </tr>\n",
       "  </tbody>\n",
       "</table>\n",
       "</div>"
      ],
      "text/plain": [
       "                 error  error_abs\n",
       "site                             \n",
       "stcroix           0.54       0.30\n",
       "oahu8             0.67       0.52\n",
       "oahu5             0.73       0.50\n",
       "oahu4             0.75       0.57\n",
       "big_island        0.78       0.51\n",
       "florida_keys      0.83       0.32\n",
       "charlotteamalie   1.09       0.56\n",
       "oahu7             1.11       0.72\n",
       "oahu1             1.16       0.77\n",
       "oahu3             1.24       0.46\n",
       "oahu6             2.42       1.76\n",
       "petten            8.86       7.96\n",
       "oahu2            10.60       1.45"
      ]
     },
     "execution_count": 9,
     "metadata": {},
     "output_type": "execute_result"
    }
   ],
   "source": [
    "bathy_pts_df.groupby(\"site\").agg(\n",
    "    {\"error\": lambda x: np.sqrt(np.mean(np.square(x))), \"error_abs\": \"mean\"}\n",
    ").sort_values(\"error\").round(2)\n"
   ]
  },
  {
   "cell_type": "markdown",
   "id": "1ddbbdfc-311c-480b-b74b-a10592f0ce01",
   "metadata": {},
   "source": [
    "based on the graph above we do not see significant deviation from the overall distribution of true bathymetry."
   ]
  },
  {
   "cell_type": "markdown",
   "id": "2cb864de-a02e-40e7-81e8-2586c134d19c",
   "metadata": {},
   "source": [
    "# Sites by Secchi Depth"
   ]
  },
  {
   "cell_type": "code",
   "execution_count": 10,
   "id": "dc6d36bc-c3e6-464c-84ee-7b46bbc855bb",
   "metadata": {
    "tags": []
   },
   "outputs": [],
   "source": [
    "secchi_pt_combined = secchi_pt_combined.assign(\n",
    "    gebco_elev=query_raster(\n",
    "        secchi_pt_combined.assign(\n",
    "            X=secchi_pt_combined.geometry.x, Y=secchi_pt_combined.geometry.y\n",
    "        ),\n",
    "        \"../data/GEBCO/GEBCO_2021_sub_ice_topo.nc\",\n",
    "    )\n",
    ")\n",
    "# mask out values based on GEBCO elevation\n",
    "secchi_pt_combined = secchi_pt_combined[secchi_pt_combined.gebco_elev < 0]\n"
   ]
  },
  {
   "cell_type": "code",
   "execution_count": 11,
   "id": "76d57333-0805-4e48-9ac1-eec211a25e00",
   "metadata": {},
   "outputs": [],
   "source": [
    "zsd_date_beam = (\n",
    "    secchi_pt_combined.dropna()\n",
    "    .groupby([\"site\", secchi_pt_combined.date, \"beam\"])\n",
    "    .mean()\n",
    "    .reset_index()\n",
    ")\n"
   ]
  },
  {
   "cell_type": "code",
   "execution_count": 12,
   "id": "586a84d2-232d-4023-b643-cc4fa58f6168",
   "metadata": {},
   "outputs": [
    {
     "data": {
      "text/html": [
       "<div>\n",
       "<style scoped>\n",
       "    .dataframe tbody tr th:only-of-type {\n",
       "        vertical-align: middle;\n",
       "    }\n",
       "\n",
       "    .dataframe tbody tr th {\n",
       "        vertical-align: top;\n",
       "    }\n",
       "\n",
       "    .dataframe thead tr th {\n",
       "        text-align: left;\n",
       "    }\n",
       "\n",
       "    .dataframe thead tr:last-of-type th {\n",
       "        text-align: right;\n",
       "    }\n",
       "</style>\n",
       "<table border=\"1\" class=\"dataframe\">\n",
       "  <thead>\n",
       "    <tr>\n",
       "      <th></th>\n",
       "      <th colspan=\"8\" halign=\"left\">zsd</th>\n",
       "      <th colspan=\"8\" halign=\"left\">sigma_zsd</th>\n",
       "    </tr>\n",
       "    <tr>\n",
       "      <th></th>\n",
       "      <th>count</th>\n",
       "      <th>mean</th>\n",
       "      <th>std</th>\n",
       "      <th>min</th>\n",
       "      <th>25%</th>\n",
       "      <th>50%</th>\n",
       "      <th>75%</th>\n",
       "      <th>max</th>\n",
       "      <th>count</th>\n",
       "      <th>mean</th>\n",
       "      <th>std</th>\n",
       "      <th>min</th>\n",
       "      <th>25%</th>\n",
       "      <th>50%</th>\n",
       "      <th>75%</th>\n",
       "      <th>max</th>\n",
       "    </tr>\n",
       "    <tr>\n",
       "      <th>site</th>\n",
       "      <th></th>\n",
       "      <th></th>\n",
       "      <th></th>\n",
       "      <th></th>\n",
       "      <th></th>\n",
       "      <th></th>\n",
       "      <th></th>\n",
       "      <th></th>\n",
       "      <th></th>\n",
       "      <th></th>\n",
       "      <th></th>\n",
       "      <th></th>\n",
       "      <th></th>\n",
       "      <th></th>\n",
       "      <th></th>\n",
       "      <th></th>\n",
       "    </tr>\n",
       "  </thead>\n",
       "  <tbody>\n",
       "    <tr>\n",
       "      <th>big_island</th>\n",
       "      <td>113.0</td>\n",
       "      <td>31.255669</td>\n",
       "      <td>4.686183</td>\n",
       "      <td>22.445070</td>\n",
       "      <td>28.005468</td>\n",
       "      <td>31.954956</td>\n",
       "      <td>33.723164</td>\n",
       "      <td>41.398205</td>\n",
       "      <td>113.0</td>\n",
       "      <td>27.884690</td>\n",
       "      <td>17.554555</td>\n",
       "      <td>5.000000</td>\n",
       "      <td>11.800000</td>\n",
       "      <td>22.590000</td>\n",
       "      <td>50.000000</td>\n",
       "      <td>53.099998</td>\n",
       "    </tr>\n",
       "    <tr>\n",
       "      <th>charlotteamalie</th>\n",
       "      <td>1438.0</td>\n",
       "      <td>23.519592</td>\n",
       "      <td>4.663948</td>\n",
       "      <td>8.719503</td>\n",
       "      <td>20.158108</td>\n",
       "      <td>23.515282</td>\n",
       "      <td>26.582520</td>\n",
       "      <td>35.288673</td>\n",
       "      <td>1438.0</td>\n",
       "      <td>27.538031</td>\n",
       "      <td>14.436921</td>\n",
       "      <td>5.000000</td>\n",
       "      <td>16.680000</td>\n",
       "      <td>23.920000</td>\n",
       "      <td>38.629997</td>\n",
       "      <td>55.899998</td>\n",
       "    </tr>\n",
       "    <tr>\n",
       "      <th>florida_keys</th>\n",
       "      <td>954.0</td>\n",
       "      <td>9.098454</td>\n",
       "      <td>4.504793</td>\n",
       "      <td>2.689436</td>\n",
       "      <td>5.600915</td>\n",
       "      <td>8.286758</td>\n",
       "      <td>12.343508</td>\n",
       "      <td>23.233147</td>\n",
       "      <td>954.0</td>\n",
       "      <td>56.458615</td>\n",
       "      <td>6.171537</td>\n",
       "      <td>21.039999</td>\n",
       "      <td>53.317499</td>\n",
       "      <td>56.009998</td>\n",
       "      <td>60.629997</td>\n",
       "      <td>70.809998</td>\n",
       "    </tr>\n",
       "    <tr>\n",
       "      <th>oahu1</th>\n",
       "      <td>271.0</td>\n",
       "      <td>29.390123</td>\n",
       "      <td>7.405490</td>\n",
       "      <td>9.267249</td>\n",
       "      <td>26.395187</td>\n",
       "      <td>29.702919</td>\n",
       "      <td>34.944828</td>\n",
       "      <td>42.039185</td>\n",
       "      <td>271.0</td>\n",
       "      <td>31.881881</td>\n",
       "      <td>20.444198</td>\n",
       "      <td>5.000000</td>\n",
       "      <td>10.520000</td>\n",
       "      <td>29.519999</td>\n",
       "      <td>53.394999</td>\n",
       "      <td>66.059998</td>\n",
       "    </tr>\n",
       "    <tr>\n",
       "      <th>oahu2</th>\n",
       "      <td>187.0</td>\n",
       "      <td>31.356634</td>\n",
       "      <td>5.922471</td>\n",
       "      <td>16.962162</td>\n",
       "      <td>28.430064</td>\n",
       "      <td>31.586966</td>\n",
       "      <td>35.448635</td>\n",
       "      <td>41.294418</td>\n",
       "      <td>187.0</td>\n",
       "      <td>29.035026</td>\n",
       "      <td>18.822219</td>\n",
       "      <td>5.000000</td>\n",
       "      <td>5.905000</td>\n",
       "      <td>28.969999</td>\n",
       "      <td>50.020000</td>\n",
       "      <td>57.930000</td>\n",
       "    </tr>\n",
       "    <tr>\n",
       "      <th>oahu3</th>\n",
       "      <td>263.0</td>\n",
       "      <td>27.922139</td>\n",
       "      <td>7.416992</td>\n",
       "      <td>11.582570</td>\n",
       "      <td>22.555813</td>\n",
       "      <td>28.434975</td>\n",
       "      <td>33.376316</td>\n",
       "      <td>40.763424</td>\n",
       "      <td>263.0</td>\n",
       "      <td>37.607033</td>\n",
       "      <td>23.028304</td>\n",
       "      <td>5.000000</td>\n",
       "      <td>12.985000</td>\n",
       "      <td>50.919998</td>\n",
       "      <td>58.129997</td>\n",
       "      <td>76.919998</td>\n",
       "    </tr>\n",
       "    <tr>\n",
       "      <th>oahu4</th>\n",
       "      <td>162.0</td>\n",
       "      <td>27.687269</td>\n",
       "      <td>9.458749</td>\n",
       "      <td>1.724082</td>\n",
       "      <td>24.194033</td>\n",
       "      <td>28.425524</td>\n",
       "      <td>34.969597</td>\n",
       "      <td>39.729691</td>\n",
       "      <td>162.0</td>\n",
       "      <td>38.737653</td>\n",
       "      <td>25.072508</td>\n",
       "      <td>5.030000</td>\n",
       "      <td>13.820000</td>\n",
       "      <td>27.139999</td>\n",
       "      <td>61.647498</td>\n",
       "      <td>84.750000</td>\n",
       "    </tr>\n",
       "    <tr>\n",
       "      <th>oahu5</th>\n",
       "      <td>275.0</td>\n",
       "      <td>30.066747</td>\n",
       "      <td>5.226162</td>\n",
       "      <td>15.181838</td>\n",
       "      <td>26.405718</td>\n",
       "      <td>29.843815</td>\n",
       "      <td>34.337933</td>\n",
       "      <td>39.749001</td>\n",
       "      <td>275.0</td>\n",
       "      <td>28.724290</td>\n",
       "      <td>17.066985</td>\n",
       "      <td>5.000000</td>\n",
       "      <td>12.704999</td>\n",
       "      <td>25.480000</td>\n",
       "      <td>44.149998</td>\n",
       "      <td>61.219997</td>\n",
       "    </tr>\n",
       "    <tr>\n",
       "      <th>oahu6</th>\n",
       "      <td>83.0</td>\n",
       "      <td>29.058203</td>\n",
       "      <td>5.423295</td>\n",
       "      <td>17.814608</td>\n",
       "      <td>26.141502</td>\n",
       "      <td>28.927444</td>\n",
       "      <td>33.093269</td>\n",
       "      <td>38.677238</td>\n",
       "      <td>83.0</td>\n",
       "      <td>32.908554</td>\n",
       "      <td>19.916148</td>\n",
       "      <td>5.000000</td>\n",
       "      <td>15.809999</td>\n",
       "      <td>31.820000</td>\n",
       "      <td>52.689999</td>\n",
       "      <td>60.219997</td>\n",
       "    </tr>\n",
       "    <tr>\n",
       "      <th>oahu7</th>\n",
       "      <td>172.0</td>\n",
       "      <td>30.446110</td>\n",
       "      <td>6.454633</td>\n",
       "      <td>15.926512</td>\n",
       "      <td>25.633107</td>\n",
       "      <td>32.762161</td>\n",
       "      <td>34.566116</td>\n",
       "      <td>39.917496</td>\n",
       "      <td>172.0</td>\n",
       "      <td>29.839069</td>\n",
       "      <td>17.973875</td>\n",
       "      <td>5.000000</td>\n",
       "      <td>13.950000</td>\n",
       "      <td>25.539999</td>\n",
       "      <td>51.579998</td>\n",
       "      <td>59.889999</td>\n",
       "    </tr>\n",
       "    <tr>\n",
       "      <th>oahu8</th>\n",
       "      <td>192.0</td>\n",
       "      <td>33.329513</td>\n",
       "      <td>4.928834</td>\n",
       "      <td>19.053534</td>\n",
       "      <td>30.526306</td>\n",
       "      <td>33.262213</td>\n",
       "      <td>36.800028</td>\n",
       "      <td>43.927235</td>\n",
       "      <td>192.0</td>\n",
       "      <td>25.372708</td>\n",
       "      <td>16.082403</td>\n",
       "      <td>5.000000</td>\n",
       "      <td>10.929999</td>\n",
       "      <td>23.750000</td>\n",
       "      <td>34.562499</td>\n",
       "      <td>55.860001</td>\n",
       "    </tr>\n",
       "    <tr>\n",
       "      <th>stcroix</th>\n",
       "      <td>997.0</td>\n",
       "      <td>26.510072</td>\n",
       "      <td>5.451457</td>\n",
       "      <td>11.930245</td>\n",
       "      <td>23.606426</td>\n",
       "      <td>26.890457</td>\n",
       "      <td>29.822977</td>\n",
       "      <td>38.878567</td>\n",
       "      <td>997.0</td>\n",
       "      <td>36.650862</td>\n",
       "      <td>17.582392</td>\n",
       "      <td>5.000000</td>\n",
       "      <td>18.600000</td>\n",
       "      <td>41.200001</td>\n",
       "      <td>52.199997</td>\n",
       "      <td>63.090000</td>\n",
       "    </tr>\n",
       "  </tbody>\n",
       "</table>\n",
       "</div>"
      ],
      "text/plain": [
       "                    zsd                                                        \\\n",
       "                  count       mean       std        min        25%        50%   \n",
       "site                                                                            \n",
       "big_island        113.0  31.255669  4.686183  22.445070  28.005468  31.954956   \n",
       "charlotteamalie  1438.0  23.519592  4.663948   8.719503  20.158108  23.515282   \n",
       "florida_keys      954.0   9.098454  4.504793   2.689436   5.600915   8.286758   \n",
       "oahu1             271.0  29.390123  7.405490   9.267249  26.395187  29.702919   \n",
       "oahu2             187.0  31.356634  5.922471  16.962162  28.430064  31.586966   \n",
       "oahu3             263.0  27.922139  7.416992  11.582570  22.555813  28.434975   \n",
       "oahu4             162.0  27.687269  9.458749   1.724082  24.194033  28.425524   \n",
       "oahu5             275.0  30.066747  5.226162  15.181838  26.405718  29.843815   \n",
       "oahu6              83.0  29.058203  5.423295  17.814608  26.141502  28.927444   \n",
       "oahu7             172.0  30.446110  6.454633  15.926512  25.633107  32.762161   \n",
       "oahu8             192.0  33.329513  4.928834  19.053534  30.526306  33.262213   \n",
       "stcroix           997.0  26.510072  5.451457  11.930245  23.606426  26.890457   \n",
       "\n",
       "                                      sigma_zsd                        \\\n",
       "                       75%        max     count       mean        std   \n",
       "site                                                                    \n",
       "big_island       33.723164  41.398205     113.0  27.884690  17.554555   \n",
       "charlotteamalie  26.582520  35.288673    1438.0  27.538031  14.436921   \n",
       "florida_keys     12.343508  23.233147     954.0  56.458615   6.171537   \n",
       "oahu1            34.944828  42.039185     271.0  31.881881  20.444198   \n",
       "oahu2            35.448635  41.294418     187.0  29.035026  18.822219   \n",
       "oahu3            33.376316  40.763424     263.0  37.607033  23.028304   \n",
       "oahu4            34.969597  39.729691     162.0  38.737653  25.072508   \n",
       "oahu5            34.337933  39.749001     275.0  28.724290  17.066985   \n",
       "oahu6            33.093269  38.677238      83.0  32.908554  19.916148   \n",
       "oahu7            34.566116  39.917496     172.0  29.839069  17.973875   \n",
       "oahu8            36.800028  43.927235     192.0  25.372708  16.082403   \n",
       "stcroix          29.822977  38.878567     997.0  36.650862  17.582392   \n",
       "\n",
       "                                                                        \n",
       "                       min        25%        50%        75%        max  \n",
       "site                                                                    \n",
       "big_island        5.000000  11.800000  22.590000  50.000000  53.099998  \n",
       "charlotteamalie   5.000000  16.680000  23.920000  38.629997  55.899998  \n",
       "florida_keys     21.039999  53.317499  56.009998  60.629997  70.809998  \n",
       "oahu1             5.000000  10.520000  29.519999  53.394999  66.059998  \n",
       "oahu2             5.000000   5.905000  28.969999  50.020000  57.930000  \n",
       "oahu3             5.000000  12.985000  50.919998  58.129997  76.919998  \n",
       "oahu4             5.030000  13.820000  27.139999  61.647498  84.750000  \n",
       "oahu5             5.000000  12.704999  25.480000  44.149998  61.219997  \n",
       "oahu6             5.000000  15.809999  31.820000  52.689999  60.219997  \n",
       "oahu7             5.000000  13.950000  25.539999  51.579998  59.889999  \n",
       "oahu8             5.000000  10.929999  23.750000  34.562499  55.860001  \n",
       "stcroix           5.000000  18.600000  41.200001  52.199997  63.090000  "
      ]
     },
     "execution_count": 12,
     "metadata": {},
     "output_type": "execute_result"
    }
   ],
   "source": [
    "secchi_pt_combined.loc[:, [\"site\", \"zsd\", \"sigma_zsd\"]].dropna().groupby(\n",
    "    \"site\"\n",
    ").describe()\n"
   ]
  },
  {
   "cell_type": "code",
   "execution_count": 13,
   "id": "2fbd8af6-9fae-4591-8680-7f3a99b41dd2",
   "metadata": {},
   "outputs": [
    {
     "name": "stderr",
     "output_type": "stream",
     "text": [
      "findfont: Font family ['serif'] not found. Falling back to DejaVu Sans.\n",
      "findfont: Generic family 'serif' not found because none of the following families were found: Utopia, Computer Modern Roman, New Century Schoolbook, Century Schoolbook L, ITC Bookman, Bookman, Nimbus Roman No9 L, Times New Roman, Times, Palatino, Charter, serif\n"
     ]
    },
    {
     "data": {
      "image/png": "[encoded data removed]",
      "text/plain": [
       "<Figure size 432x288 with 1 Axes>"
      ]
     },
     "metadata": {
      "needs_background": "light"
     },
     "output_type": "display_data"
    }
   ],
   "source": [
    "ax = secchi_pt_combined.boxplot(column=\"zsd\", by=\"site\")\n",
    "_ = ax.set_xticklabels(ax.get_xticklabels(), rotation=45)\n"
   ]
  },
  {
   "cell_type": "code",
   "execution_count": 14,
   "id": "2c581a49-dea4-4e54-a039-b49a737dc8c3",
   "metadata": {},
   "outputs": [
    {
     "data": {
      "text/html": [
       "<div>\n",
       "<style scoped>\n",
       "    .dataframe tbody tr th:only-of-type {\n",
       "        vertical-align: middle;\n",
       "    }\n",
       "\n",
       "    .dataframe tbody tr th {\n",
       "        vertical-align: top;\n",
       "    }\n",
       "\n",
       "    .dataframe thead th {\n",
       "        text-align: right;\n",
       "    }\n",
       "</style>\n",
       "<table border=\"1\" class=\"dataframe\">\n",
       "  <thead>\n",
       "    <tr style=\"text-align: right;\">\n",
       "      <th></th>\n",
       "      <th>zsd</th>\n",
       "      <th>sigma_zsd</th>\n",
       "      <th>X</th>\n",
       "      <th>Y</th>\n",
       "      <th>gebco_elev</th>\n",
       "    </tr>\n",
       "    <tr>\n",
       "      <th>site</th>\n",
       "      <th></th>\n",
       "      <th></th>\n",
       "      <th></th>\n",
       "      <th></th>\n",
       "      <th></th>\n",
       "    </tr>\n",
       "  </thead>\n",
       "  <tbody>\n",
       "    <tr>\n",
       "      <th>big_island</th>\n",
       "      <td>31.954956</td>\n",
       "      <td>22.590000</td>\n",
       "      <td>-155.932170</td>\n",
       "      <td>19.863307</td>\n",
       "      <td>-37.0</td>\n",
       "    </tr>\n",
       "    <tr>\n",
       "      <th>charlotteamalie</th>\n",
       "      <td>23.515282</td>\n",
       "      <td>23.920000</td>\n",
       "      <td>-64.911919</td>\n",
       "      <td>18.345750</td>\n",
       "      <td>-31.0</td>\n",
       "    </tr>\n",
       "    <tr>\n",
       "      <th>florida_keys</th>\n",
       "      <td>8.286758</td>\n",
       "      <td>56.009998</td>\n",
       "      <td>-80.986446</td>\n",
       "      <td>24.744184</td>\n",
       "      <td>-3.0</td>\n",
       "    </tr>\n",
       "    <tr>\n",
       "      <th>oahu1</th>\n",
       "      <td>29.702919</td>\n",
       "      <td>29.519999</td>\n",
       "      <td>-157.910539</td>\n",
       "      <td>21.276661</td>\n",
       "      <td>-40.0</td>\n",
       "    </tr>\n",
       "    <tr>\n",
       "      <th>oahu2</th>\n",
       "      <td>31.586966</td>\n",
       "      <td>28.969999</td>\n",
       "      <td>-157.679485</td>\n",
       "      <td>21.270529</td>\n",
       "      <td>-47.0</td>\n",
       "    </tr>\n",
       "    <tr>\n",
       "      <th>oahu3</th>\n",
       "      <td>28.434975</td>\n",
       "      <td>50.919998</td>\n",
       "      <td>-157.682220</td>\n",
       "      <td>21.363550</td>\n",
       "      <td>-29.0</td>\n",
       "    </tr>\n",
       "    <tr>\n",
       "      <th>oahu4</th>\n",
       "      <td>28.425524</td>\n",
       "      <td>27.139999</td>\n",
       "      <td>-157.747833</td>\n",
       "      <td>21.474975</td>\n",
       "      <td>-45.0</td>\n",
       "    </tr>\n",
       "    <tr>\n",
       "      <th>oahu5</th>\n",
       "      <td>29.843815</td>\n",
       "      <td>25.480000</td>\n",
       "      <td>-157.917571</td>\n",
       "      <td>21.672136</td>\n",
       "      <td>-34.0</td>\n",
       "    </tr>\n",
       "    <tr>\n",
       "      <th>oahu6</th>\n",
       "      <td>28.927444</td>\n",
       "      <td>31.820000</td>\n",
       "      <td>-157.987923</td>\n",
       "      <td>21.718169</td>\n",
       "      <td>-39.5</td>\n",
       "    </tr>\n",
       "    <tr>\n",
       "      <th>oahu7</th>\n",
       "      <td>32.762161</td>\n",
       "      <td>25.539999</td>\n",
       "      <td>-158.191102</td>\n",
       "      <td>21.599575</td>\n",
       "      <td>-32.0</td>\n",
       "    </tr>\n",
       "    <tr>\n",
       "      <th>oahu8</th>\n",
       "      <td>33.262213</td>\n",
       "      <td>23.750000</td>\n",
       "      <td>-158.183378</td>\n",
       "      <td>21.407275</td>\n",
       "      <td>-20.0</td>\n",
       "    </tr>\n",
       "    <tr>\n",
       "      <th>stcroix</th>\n",
       "      <td>26.890457</td>\n",
       "      <td>41.200001</td>\n",
       "      <td>-64.739123</td>\n",
       "      <td>17.739170</td>\n",
       "      <td>-421.5</td>\n",
       "    </tr>\n",
       "  </tbody>\n",
       "</table>\n",
       "</div>"
      ],
      "text/plain": [
       "                       zsd  sigma_zsd           X          Y  gebco_elev\n",
       "site                                                                    \n",
       "big_island       31.954956  22.590000 -155.932170  19.863307       -37.0\n",
       "charlotteamalie  23.515282  23.920000  -64.911919  18.345750       -31.0\n",
       "florida_keys      8.286758  56.009998  -80.986446  24.744184        -3.0\n",
       "oahu1            29.702919  29.519999 -157.910539  21.276661       -40.0\n",
       "oahu2            31.586966  28.969999 -157.679485  21.270529       -47.0\n",
       "oahu3            28.434975  50.919998 -157.682220  21.363550       -29.0\n",
       "oahu4            28.425524  27.139999 -157.747833  21.474975       -45.0\n",
       "oahu5            29.843815  25.480000 -157.917571  21.672136       -34.0\n",
       "oahu6            28.927444  31.820000 -157.987923  21.718169       -39.5\n",
       "oahu7            32.762161  25.539999 -158.191102  21.599575       -32.0\n",
       "oahu8            33.262213  23.750000 -158.183378  21.407275       -20.0\n",
       "stcroix          26.890457  41.200001  -64.739123  17.739170      -421.5"
      ]
     },
     "execution_count": 14,
     "metadata": {},
     "output_type": "execute_result"
    }
   ],
   "source": [
    "secchi_pt_combined.groupby(\"site\").median()\n"
   ]
  },
  {
   "cell_type": "markdown",
   "id": "e649f60f-ce43-4cdf-b898-2b3bb5b27478",
   "metadata": {
    "tags": []
   },
   "source": [
    "# Analysis of tracklines by site"
   ]
  },
  {
   "cell_type": "code",
   "execution_count": null,
   "id": "29d4a6ac-eae7-49d4-bc88-6db5eb5f2d01",
   "metadata": {},
   "outputs": [],
   "source": [
    "tracklines_combined.groupby([\"site\"]).mean()\n"
   ]
  },
  {
   "cell_type": "markdown",
   "id": "7ca761e5-a34c-4a59-bfa9-73525ea6c5c9",
   "metadata": {},
   "source": [
    "# analyzing all bathymetry points from all sites"
   ]
  },
  {
   "cell_type": "code",
   "execution_count": null,
   "id": "d119c8c8-fc18-4d59-8f54-62b207642271",
   "metadata": {},
   "outputs": [],
   "source": [
    "# normalize the datetimes so that they can both match each other\n",
    "bathy_pts_df = bathy_pts_df.assign(date=pd.to_datetime(bathy_pts_df.delta_time).dt.date)\n",
    "zsd_date_beam = zsd_date_beam.assign(date=pd.to_datetime(zsd_date_beam.date).dt.date)\n"
   ]
  },
  {
   "cell_type": "code",
   "execution_count": null,
   "id": "0f75aa45-b9cf-4f6a-8b45-4fa58bcc6741",
   "metadata": {},
   "outputs": [],
   "source": [
    "joined_df = bathy_pts_df.merge(\n",
    "    zsd_date_beam, how=\"outer\", on=[\"beam\", \"date\", \"site\"]\n",
    ").drop(columns=[\"X_y\", \"Y_y\", \"gebco_elev_y\"])\n",
    "\n",
    "joined_df = joined_df.assign(depth_ph=joined_df.Z_geoid - joined_df.sea_level_interp)\n",
    "joined_df\n"
   ]
  },
  {
   "cell_type": "code",
   "execution_count": null,
   "id": "a6c3dd05-c7ae-431d-a213-e284db95665a",
   "metadata": {},
   "outputs": [],
   "source": [
    "joined_df = joined_df[joined_df.error_abs < 5]\n"
   ]
  },
  {
   "cell_type": "code",
   "execution_count": null,
   "id": "359006f2-c1b1-4832-b0c8-27b7c8be386f",
   "metadata": {},
   "outputs": [],
   "source": [
    "joined_df.groupby([\"date\", \"beam\"]).count()\n"
   ]
  },
  {
   "cell_type": "markdown",
   "id": "a0a9e80e-588f-409b-83f6-0151f386c54f",
   "metadata": {},
   "source": [
    "It is possible that for each site there will be a "
   ]
  },
  {
   "cell_type": "code",
   "execution_count": null,
   "id": "a35ff30c-18f9-4887-983a-74c30bb51fad",
   "metadata": {},
   "outputs": [],
   "source": [
    "tracklines_averaged = joined_df.groupby([\"date\", \"beam\"]).mean()\n",
    "tracklines_averaged\n"
   ]
  },
  {
   "cell_type": "code",
   "execution_count": null,
   "id": "db528c83-d60a-4151-9d08-26d960ca23e8",
   "metadata": {},
   "outputs": [],
   "source": [
    "joined_df.corr(\"spearman\")[\"error_abs\"].sort_values()\n"
   ]
  },
  {
   "cell_type": "code",
   "execution_count": null,
   "id": "efb84273-fbea-45ea-a42e-10caad634fd2",
   "metadata": {},
   "outputs": [],
   "source": [
    "tracklines_averaged.plot.scatter(x=\"land_sig_conf\", y=\"error_abs\")\n"
   ]
  },
  {
   "cell_type": "code",
   "execution_count": null,
   "id": "947c2e30-e3d5-474d-be37-bfc38d29d2fe",
   "metadata": {},
   "outputs": [],
   "source": [
    "tracklines_averaged.plot.scatter(x=\"oc_hconf_perc\", y=\"error_abs\")\n"
   ]
  },
  {
   "cell_type": "code",
   "execution_count": null,
   "id": "7c84ec53-2f79-4e16-bc16-8e1e06790ec2",
   "metadata": {},
   "outputs": [],
   "source": [
    "tracklines_averaged[tracklines_averaged.error_abs < 5].plot.scatter(\n",
    "    x=\"true_elevation\", y=\"error_abs\"\n",
    ")\n"
   ]
  },
  {
   "cell_type": "code",
   "execution_count": null,
   "id": "f19a4954-89e6-432f-92c2-955276db2a95",
   "metadata": {},
   "outputs": [],
   "source": [
    "ax = joined_df.plot.scatter(x=\"kde_val\", y=\"error_abs\", alpha=0.01)\n",
    "# ax.axvline(0.15)\n"
   ]
  },
  {
   "cell_type": "code",
   "execution_count": null,
   "id": "7e355870-f549-47db-8eb7-47a7910b946b",
   "metadata": {},
   "outputs": [],
   "source": [
    "joined_df.groupby(\"site\").mean().plot.scatter(x=\"zsd\", y=\"error_abs\")\n"
   ]
  },
  {
   "cell_type": "code",
   "execution_count": null,
   "id": "9c22107f-60e3-41fe-9b6e-f7d0bcbc99a9",
   "metadata": {},
   "outputs": [],
   "source": [
    "joined_df.plot.scatter(x=\"sf_elev_MSL\", y=\"true_elevation\")\n"
   ]
  },
  {
   "cell_type": "code",
   "execution_count": null,
   "id": "ae9c85de-9b8c-449f-b327-f979dfbfec84",
   "metadata": {},
   "outputs": [],
   "source": [
    "# are estimates from areas below the secchi depth worse?\n",
    "joined_df.groupby(-1 * joined_df.sf_elev_MSL < (joined_df.zsd + 10)).median()\n"
   ]
  },
  {
   "cell_type": "code",
   "execution_count": null,
   "id": "1c9e1594-2f10-4626-b23d-1cf1f9fa23fd",
   "metadata": {},
   "outputs": [],
   "source": [
    "joined_df.assign(d_below_zsd=(-1 * joined_df.sf_elev_MSL) - joined_df.zsd).plot.scatter(\n",
    "    x=\"d_below_zsd\", y=\"error_abs\"\n",
    ")\n"
   ]
  },
  {
   "cell_type": "code",
   "execution_count": null,
   "id": "c712cdba-b244-4230-ad77-6a778696e9fc",
   "metadata": {},
   "outputs": [],
   "source": []
  },
  {
   "cell_type": "code",
   "execution_count": null,
   "id": "e5194f33-964d-48c8-a548-1fe7bff15c24",
   "metadata": {},
   "outputs": [],
   "source": [
    "errordict = {\n",
    "    \"RMSE\": df.error.pow(2).mean() ** 0.5,\n",
    "    \"R2 Score\": r2_score(df.true_elevation, df.sf_elev_MSL),\n",
    "}\n",
    "ax = error_lidar_pt_vs_truth_pt(df, \"All sites combined\", errordict)\n"
   ]
  },
  {
   "cell_type": "code",
   "execution_count": null,
   "id": "3569390c-8e54-4394-a4ac-50b0998de7cd",
   "metadata": {},
   "outputs": [],
   "source": [
    "ax.a\n"
   ]
  },
  {
   "cell_type": "code",
   "execution_count": null,
   "id": "efab771c-ca9b-4588-8b4c-86a5586669f5",
   "metadata": {},
   "outputs": [],
   "source": [
    "df = df[df.true_elevation < 0]\n",
    "errordict = {\n",
    "    \"RMSE\": df.error.pow(2).mean() ** 0.5,\n",
    "    \"R2 Score\": r2_score(df.true_elevation, df.sf_elev_MSL),\n",
    "}\n",
    "ax = error_lidar_pt_vs_truth_pt(df, \"All Sites Excluding mountains\", errordict)\n",
    "ax.get_figure().savefig(\"../document/figures/all_site_combined_biasplot.jpg\")\n",
    "ax.get_figure().savefig(\"../document/figures/all_site_combined_biasplot.pdf\")\n",
    "\n",
    "# TODO rasterize scatterplot backgrounds\n"
   ]
  },
  {
   "cell_type": "code",
   "execution_count": null,
   "id": "7d0ef536-ea12-4360-8b9d-8a6ed24cefe2",
   "metadata": {},
   "outputs": [],
   "source": [
    "df.describe()\n"
   ]
  },
  {
   "cell_type": "code",
   "execution_count": null,
   "id": "082fd838-7029-40e7-b78e-95d97fdeb595",
   "metadata": {
    "tags": []
   },
   "outputs": [],
   "source": [
    "df.groupby(pd.cut(df.true_elevation, 30)).agg(\n",
    "    {\"error\": lambda x: np.mean(x**2) ** 0.5}\n",
    ").rename({\"error\": \"RMS error\"})\n"
   ]
  },
  {
   "cell_type": "code",
   "execution_count": null,
   "id": "4eec293d-a384-482f-8f04-2c644e113b07",
   "metadata": {},
   "outputs": [],
   "source": [
    "tracklines_df = df.groupby([pd.to_datetime(df.delta_time).dt.date, \"beam\"]).mean()\n"
   ]
  },
  {
   "cell_type": "code",
   "execution_count": null,
   "id": "7bc582b8-f9d2-4af9-8d35-46375c65a231",
   "metadata": {},
   "outputs": [],
   "source": [
    "tracklines_combined.count()\n"
   ]
  },
  {
   "cell_type": "code",
   "execution_count": null,
   "id": "bcdf316f-c8d8-4092-8399-2a854c302987",
   "metadata": {},
   "outputs": [],
   "source": []
  },
  {
   "cell_type": "markdown",
   "id": "1a1a97c8-9184-4b8f-9228-4c66d4b3bdc7",
   "metadata": {},
   "source": [
    "# 178"
   ]
  },
  {
   "cell_type": "code",
   "execution_count": null,
   "id": "43f3688e-31dc-4bd8-b450-a707fcfe0364",
   "metadata": {},
   "outputs": [],
   "source": []
  }
 ],
 "metadata": {
  "kernelspec": {
   "display_name": "Python 3 (ipykernel)",
   "language": "python",
   "name": "python3"
  },
  "language_info": {
   "codemirror_mode": {
    "name": "ipython",
    "version": 3
   },
   "file_extension": ".py",
   "mimetype": "text/x-python",
   "name": "python",
   "nbconvert_exporter": "python",
   "pygments_lexer": "ipython3",
   "version": "3.9.10"
  },
  "vscode": {
   "interpreter": {
    "hash": "ec7c7d4d013ec650dc8eb8b9310ce197f2a724f68d99fdc157fb921cb8b4fa41"
   }
  }
 },
 "nbformat": 4,
 "nbformat_minor": 5
}
