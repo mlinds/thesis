{
 "cells": [
  {
   "cell_type": "code",
   "execution_count": 1,
   "id": "bf3ab382-68af-4ad2-a23b-828618f8d61d",
   "metadata": {},
   "outputs": [
    {
     "name": "stdout",
     "output_type": "stream",
     "text": [
      "/mnt/c/Users/maxli/OneDrive - Van Oord/Documents/thesis/code\n"
     ]
    }
   ],
   "source": [
    "%cd .."
   ]
  },
  {
   "cell_type": "code",
   "execution_count": 2,
   "id": "c727e7fd-cb56-4f03-8567-4243a369d882",
   "metadata": {},
   "outputs": [],
   "source": [
    "import pandas as pd\n",
    "import geopandas as gpd\n",
    "from glob import glob\n",
    "import seaborn as sns\n",
    "from atl_module.plotting import error_lidar_pt_vs_truth_pt,plot_photon_map,plot_tracklines_overview\n",
    "from sklearn.metrics import r2_score\n",
    "import numpy as np\n",
    "from atl_module.geospatial_utils.raster_interaction import query_raster,query_from_lines"
   ]
  },
  {
   "cell_type": "code",
   "execution_count": null,
   "id": "c755d2cc-886d-431a-a163-a6d07c6f43f6",
   "metadata": {},
   "outputs": [],
   "source": [
    "aoidflist = []\n",
    "for aoifile in glob('../data/test_sites/*/AOI.gpkg'):\n",
    "    # get the name of each site\n",
    "    sitename = aoifile.split('/')[3]\n",
    "    df = gpd.read_file(aoifile)\n",
    "    df['site']=sitename\n",
    "    aoidflist.append(df)\n",
    "    \n",
    "aoi_combined = pd.concat(aoidflist)\n"
   ]
  },
  {
   "cell_type": "code",
   "execution_count": null,
   "id": "0f09e4fd-cc4f-48bb-afbe-b959bab6958d",
   "metadata": {},
   "outputs": [],
   "source": [
    "secchi_pt_list= []\n",
    "for file in glob('../data/test_sites/*/secchi_pts.gpkg'):\n",
    "    # get the name of each site\n",
    "    sitename = file.split('/')[3]\n",
    "    df = gpd.read_file(file)\n",
    "    df['site']=sitename\n",
    "    secchi_pt_list.append(df)\n",
    "    \n",
    "secchi_pt_combined = pd.concat(secchi_pt_list).reset_index(drop=True)\n",
    "\n",
    "secchi_pt_combined = secchi_pt_combined.assign(X=secchi_pt_combined.geometry.x,Y=secchi_pt_combined.geometry.y)"
   ]
  },
  {
   "cell_type": "code",
   "execution_count": 3,
   "id": "b24b5665-ab89-4f09-b743-6b629a9b7752",
   "metadata": {},
   "outputs": [],
   "source": [
    "# tracklines_dflist = [gpd.read_file(file) for file in glob('../data/test_sites/*/tracklines')]\n",
    "\n",
    "tracklinesdflist = []\n",
    "for file in glob('../data/test_sites/*/tracklines'):\n",
    "    # get the name of each site\n",
    "    sitename = file.split('/')[3]\n",
    "    df = gpd.read_file(file)\n",
    "    df['site']=sitename\n",
    "    tracklinesdflist.append(df)\n",
    "    \n",
    "tracklines_combined = pd.concat(tracklinesdflist).reset_index(drop=True)\n"
   ]
  },
  {
   "cell_type": "code",
   "execution_count": null,
   "id": "05bbbd78-9554-4d91-b198-cb0510aac6e7",
   "metadata": {},
   "outputs": [],
   "source": [
    "tracklines_combined"
   ]
  },
  {
   "cell_type": "code",
   "execution_count": 6,
   "id": "8308d9fc-044a-4f11-9e60-3218fd8e720f",
   "metadata": {
    "tags": []
   },
   "outputs": [
    {
     "name": "stdout",
     "output_type": "stream",
     "text": [
      "[6.3121395111084, 6.22054290771484, 6.13508319854736, 5.93313837051392, 6.00024318695068, 5.97113418579102, 10.5731658935547, 11.6974954605103, 11.7275915145874, 10.2527008056641, 8.61267566680908, 8.17540454864502, 6.85472917556763, 5.90798044204712, 6.47728204727173, 7.95343589782715, 8.8941764831543, 9.29537010192871, 9.39352703094482, 9.39365482330322, 9.40244483947754, 9.40257167816162, 9.4026985168457, 9.40282535552979, 9.51572132110596, 9.59680652618408, 9.2241096496582, 9.05634880065918, 8.81542682647705, 8.61695194244385, 8.51882839202881, 8.5090160369873, 8.18749523162842, 7.68021202087402, 7.34809541702271, 6.69640445709229, 6.36734104156494, 6.28194713592529, 6.2074556350708, 6.12779235839844, 6.05902004241943, 6.08176136016846, 6.01813745498657, 6.13130807876587, 5.96999406814575, 5.92264890670776, 5.90067434310913, 5.90369987487793, 5.89364957809448, 5.99273014068604, 5.63175487518311, 5.66159772872925, 5.73489475250244, 5.85992383956909, 6.69456386566162, 7.08734226226807, 7.39270925521851, 7.47631740570068, 7.61492919921875, 7.79561138153076, 8.069993019104, 8.26223278045654, 8.55317878723145, 8.819167137146, 8.99519634246826, 9.18169403076172, 9.34937477111816, 9.92652606964111, 9.611159324646, 9.62895107269287, 10.0055913925171, 9.90001583099365, 10.0281000137329, 10.7656145095825, 9.91702461242676, 10.0747442245483, 9.26506614685059, 10.0372066497803, 10.7545471191406, 11.182520866394, 11.7662725448608, 11.9519910812378, 11.8737840652466, 11.6604385375977, 11.3777408599854, 11.2366075515747, 11.239182472229, 11.1810808181763, 11.1172676086426, 11.174072265625, 11.2597494125366, 11.3192186355591, 11.5036506652832, 11.6999340057373, 11.9227476119995, 12.0333995819092, 12.16858959198, 12.1207542419434, 11.9454069137573, 12.0080862045288, 11.9931058883667, 11.9304618835449, 11.8574638366699, 11.9823236465454, 12.0340938568115, 12.016092300415, 11.875524520874, 11.5773658752441, 11.3025989532471, 11.2218379974365, 10.8184947967529, 10.9671792984009, 10.9630641937256, 11.2517127990723, 11.1176862716675, 11.27064037323, 11.6589756011963, 11.5783176422119, 11.2308540344238, 11.0647611618042, 11.1735153198242, 11.1433515548706, 11.0847454071045, 10.9993467330933, 10.8226194381714, 10.8665628433228, 11.2768020629883, 11.4409599304199, 11.5966949462891, 11.6327466964722, 11.7033967971802, 11.6935815811157, 11.6823291778564, 11.6621618270874, 11.7588376998901, 11.6206398010254, 11.1528768539429, 10.1812772750854, 10.642388343811, 10.3251094818115, 10.0078411102295, 9.98975849151611, 9.79569339752197, 9.78005313873291, 9.79652309417725, 9.90160179138184, 10.1459150314331, 11.3079423904419, 11.2935523986816, 11.2042446136475, 11.1396217346191, 11.6080684661865, 11.6100425720215, 11.3566427230835, 11.2381143569946, 11.1360521316528, 11.0640602111816, 9.49532413482666, 9.82770442962646, 9.64273262023926, 9.23936653137207, 9.495285987854, 9.09643650054932, 8.99029064178467, 8.25938606262207, 7.64508819580078, 7.45504236221313, 8.29197025299072, 10.5827436447144, 11.2386159896851, 12.3695058822632, 13.2189693450928, 13.4822254180908, 13.50119972229, 13.342414855957, 13.2880954742432, 12.9749135971069, 13.0647563934326, 13.2187976837158, 13.1419153213501, 13.1287155151367, 13.0792503356934, 12.9080286026001, 12.7246360778809, 12.5976676940918, 12.4347620010376, 12.3144111633301, 12.3118934631348, 12.794451713562, 12.671875, 13.2434930801392, 12.748104095459, 12.770528793335, 12.4119443893433, 12.3227195739746, 12.1308317184448, 12.2490358352661, 12.1962547302246, 12.9689140319824, 14.0345487594604]\n"
     ]
    }
   ],
   "source": [
    "interp_points = np.linspace(0,1,200)\n",
    "\n",
    "line = tracklines_combined.geometry[0]\n",
    "line_point_list = [line.interpolate(fraction,normalized=True) for fraction in interp_points]\n",
    "xpoints = [point.x for point in line_point_list]\n",
    "ypoints = [point.y for point in line_point_list]\n",
    "\n",
    "df = pd.DataFrame({\"X\":xpoints,\"Y\":ypoints})\n",
    "from atl_module.geospatial_utils.raster_interaction import query_raster\n",
    "\n",
    "print(query_raster(df,'../data/test_sites/big_island/in-situ-DEM/truth.vrt'))"
   ]
  },
  {
   "cell_type": "code",
   "execution_count": 5,
   "id": "71d265f3-e695-4120-8091-8177b28c1fff",
   "metadata": {
    "tags": []
   },
   "outputs": [
    {
     "name": "stdout",
     "output_type": "stream",
     "text": [
      "[6.3121395111084, 6.22054290771484, 6.13508319854736, 5.93313837051392, 6.00024318695068, 5.97113418579102, 10.5731658935547, 11.6974954605103, 11.7275915145874, 10.2527008056641, 8.61267566680908, 8.17540454864502, 6.85472917556763, 5.90798044204712, 6.47728204727173, 7.95343589782715, 8.8941764831543, 9.29537010192871, 9.39352703094482, 9.39365482330322, 9.40244483947754, 9.40257167816162, 9.4026985168457, 9.40282535552979, 9.51572132110596, 9.59680652618408, 9.2241096496582, 9.05634880065918, 8.81542682647705, 8.61695194244385, 8.51882839202881, 8.5090160369873, 8.18749523162842, 7.68021202087402, 7.34809541702271, 6.69640445709229, 6.36734104156494, 6.28194713592529, 6.2074556350708, 6.12779235839844, 6.05902004241943, 6.08176136016846, 6.01813745498657, 6.13130807876587, 5.96999406814575, 5.92264890670776, 5.90067434310913, 5.90369987487793, 5.89364957809448, 5.99273014068604, 5.63175487518311, 5.66159772872925, 5.73489475250244, 5.85992383956909, 6.69456386566162, 7.08734226226807, 7.39270925521851, 7.47631740570068, 7.61492919921875, 7.79561138153076, 8.069993019104, 8.26223278045654, 8.55317878723145, 8.819167137146, 8.99519634246826, 9.18169403076172, 9.34937477111816, 9.92652606964111, 9.611159324646, 9.62895107269287, 10.0055913925171, 9.90001583099365, 10.0281000137329, 10.7656145095825, 9.91702461242676, 10.0747442245483, 9.26506614685059, 10.0372066497803, 10.7545471191406, 11.182520866394, 11.7662725448608, 11.9519910812378, 11.8737840652466, 11.6604385375977, 11.3777408599854, 11.2366075515747, 11.239182472229, 11.1810808181763, 11.1172676086426, 11.174072265625, 11.2597494125366, 11.3192186355591, 11.5036506652832, 11.6999340057373, 11.9227476119995, 12.0333995819092, 12.16858959198, 12.1207542419434, 11.9454069137573, 12.0080862045288, 11.9931058883667, 11.9304618835449, 11.8574638366699, 11.9823236465454, 12.0340938568115, 12.016092300415, 11.875524520874, 11.5773658752441, 11.3025989532471, 11.2218379974365, 10.8184947967529, 10.9671792984009, 10.9630641937256, 11.2517127990723, 11.1176862716675, 11.27064037323, 11.6589756011963, 11.5783176422119, 11.2308540344238, 11.0647611618042, 11.1735153198242, 11.1433515548706, 11.0847454071045, 10.9993467330933, 10.8226194381714, 10.8665628433228, 11.2768020629883, 11.4409599304199, 11.5966949462891, 11.6327466964722, 11.7033967971802, 11.6935815811157, 11.6823291778564, 11.6621618270874, 11.7588376998901, 11.6206398010254, 11.1528768539429, 10.1812772750854, 10.642388343811, 10.3251094818115, 10.0078411102295, 9.98975849151611, 9.79569339752197, 9.78005313873291, 9.79652309417725, 9.90160179138184, 10.1459150314331, 11.3079423904419, 11.2935523986816, 11.2042446136475, 11.1396217346191, 11.6080684661865, 11.6100425720215, 11.3566427230835, 11.2381143569946, 11.1360521316528, 11.0640602111816, 9.49532413482666, 9.82770442962646, 9.64273262023926, 9.23936653137207, 9.495285987854, 9.09643650054932, 8.99029064178467, 8.25938606262207, 7.64508819580078, 7.45504236221313, 8.29197025299072, 10.5827436447144, 11.2386159896851, 12.3695058822632, 13.2189693450928, 13.4822254180908, 13.50119972229, 13.342414855957, 13.2880954742432, 12.9749135971069, 13.0647563934326, 13.2187976837158, 13.1419153213501, 13.1287155151367, 13.0792503356934, 12.9080286026001, 12.7246360778809, 12.5976676940918, 12.4347620010376, 12.3144111633301, 12.3118934631348, 12.794451713562, 12.671875, 13.2434930801392, 12.748104095459, 12.770528793335, 12.4119443893433, 12.3227195739746, 12.1308317184448, 12.2490358352661, 12.1962547302246, 12.9689140319824, 14.0345487594604]\n"
     ]
    }
   ],
   "source": [
    "test = query_from_lines(line,'../data/test_sites/big_island/in-situ-DEM/truth.vrt')\n",
    "print(test)"
   ]
  },
  {
   "cell_type": "markdown",
   "id": "be4ce332-833b-4efa-8a86-a8f84b7b360e",
   "metadata": {},
   "source": [
    "# Concatenate all bathymetry points from all sites"
   ]
  },
  {
   "cell_type": "code",
   "execution_count": null,
   "id": "38b9af17-3b09-4b22-b7dc-fb10c02c59af",
   "metadata": {},
   "outputs": [],
   "source": [
    "dflist = []\n",
    "for file in glob('../data/test_sites/*/all_bathy_pts.gpkg'):\n",
    "    # get the name of each site\n",
    "    sitename = file.split('/')[3]\n",
    "    df = gpd.read_file(file)\n",
    "    df['site']=sitename\n",
    "    dflist.append(df)\n",
    "\n",
    "bathy_pts_df = pd.concat(dflist).reset_index(drop=True).dropna()"
   ]
  },
  {
   "cell_type": "markdown",
   "id": "26560f58-0969-4e1a-b4e4-5eb2bf9ea0f6",
   "metadata": {},
   "source": [
    "## Some stats about all the total batymetry points found\n",
    "\n",
    "do we see a spike around 2.3 or 4.2 due to ringing?\n"
   ]
  },
  {
   "cell_type": "code",
   "execution_count": null,
   "id": "54037248-704c-4d8c-8768-56674d144c5b",
   "metadata": {},
   "outputs": [],
   "source": [
    "# set bin edges to encapsulate the location where ringing occurs\n",
    "binedges = np.arange(-25.05,0.6,0.1)\n",
    "# 2.3 or 4.2 m"
   ]
  },
  {
   "cell_type": "code",
   "execution_count": null,
   "id": "bc99b964-470b-48a6-ae5f-58bedbba379b",
   "metadata": {},
   "outputs": [],
   "source": [
    "ax = bathy_pts_df.sf_elev_MSL.plot.hist(bins=binedges,histtype='step',density=True,label='ICESat-2 Estimate',figsize=(20,10))\n",
    "bathy_pts_df.true_elevation.plot.hist(ax=ax,bins=binedges,histtype='step',density=True,label='Actual Value')\n",
    "# ax.set_xlim((-25,0))\n",
    "ax.axvline(-2.3)\n",
    "ax.axvline(-4.2)\n",
    "ax.legend(loc='upper left')\n"
   ]
  },
  {
   "cell_type": "code",
   "execution_count": null,
   "id": "535a354f-50f2-4f6f-92a2-25f4060c982c",
   "metadata": {},
   "outputs": [],
   "source": [
    "bathy_pts_df.groupby('site').agg({'error':lambda x:np.sqrt(np.mean(np.square(x))),'error_abs':'mean'}).sort_values('error').round(2)"
   ]
  },
  {
   "cell_type": "markdown",
   "id": "1ddbbdfc-311c-480b-b74b-a10592f0ce01",
   "metadata": {},
   "source": [
    "based on the graph above we do not see significant deviation from the overall distribution of true bathymetry."
   ]
  },
  {
   "cell_type": "markdown",
   "id": "2cb864de-a02e-40e7-81e8-2586c134d19c",
   "metadata": {},
   "source": [
    "# Sites by Secchi Depth"
   ]
  },
  {
   "cell_type": "code",
   "execution_count": null,
   "id": "dc6d36bc-c3e6-464c-84ee-7b46bbc855bb",
   "metadata": {
    "tags": []
   },
   "outputs": [],
   "source": [
    "secchi_pt_combined = secchi_pt_combined.assign(gebco_elev = query_raster(secchi_pt_combined.assign(X=secchi_pt_combined.geometry.x,Y=secchi_pt_combined.geometry.y),'../data/GEBCO/GEBCO_2021_sub_ice_topo.nc'))\n",
    "# mask out values based on GEBCO elevation \n",
    "secchi_pt_combined = secchi_pt_combined[secchi_pt_combined.gebco_elev<0]"
   ]
  },
  {
   "cell_type": "code",
   "execution_count": null,
   "id": "76d57333-0805-4e48-9ac1-eec211a25e00",
   "metadata": {},
   "outputs": [],
   "source": [
    "zsd_date_beam = secchi_pt_combined.dropna().groupby(['site',secchi_pt_combined.date,'beam']).mean().reset_index()"
   ]
  },
  {
   "cell_type": "code",
   "execution_count": null,
   "id": "586a84d2-232d-4023-b643-cc4fa58f6168",
   "metadata": {},
   "outputs": [],
   "source": [
    "secchi_pt_combined.loc[:,['site','zsd','sigma_zsd']].dropna().groupby('site').describe()"
   ]
  },
  {
   "cell_type": "code",
   "execution_count": null,
   "id": "2fbd8af6-9fae-4591-8680-7f3a99b41dd2",
   "metadata": {},
   "outputs": [],
   "source": [
    "ax = secchi_pt_combined.boxplot(column='zsd',by='site')\n",
    "_ = ax.set_xticklabels(ax.get_xticklabels(), rotation = 45)"
   ]
  },
  {
   "cell_type": "code",
   "execution_count": null,
   "id": "2c581a49-dea4-4e54-a039-b49a737dc8c3",
   "metadata": {},
   "outputs": [],
   "source": [
    "secchi_pt_combined.groupby('site').median()"
   ]
  },
  {
   "cell_type": "markdown",
   "id": "e649f60f-ce43-4cdf-b898-2b3bb5b27478",
   "metadata": {
    "tags": []
   },
   "source": [
    "# Analysis of tracklines by site"
   ]
  },
  {
   "cell_type": "code",
   "execution_count": null,
   "id": "29d4a6ac-eae7-49d4-bc88-6db5eb5f2d01",
   "metadata": {},
   "outputs": [],
   "source": [
    "tracklines_combined.groupby(['site']).mean()"
   ]
  },
  {
   "cell_type": "markdown",
   "id": "7ca761e5-a34c-4a59-bfa9-73525ea6c5c9",
   "metadata": {},
   "source": [
    "# analyzing all bathymetry points from all sites"
   ]
  },
  {
   "cell_type": "code",
   "execution_count": null,
   "id": "d119c8c8-fc18-4d59-8f54-62b207642271",
   "metadata": {},
   "outputs": [],
   "source": [
    "# normalize the datetimes so that they can both match each other\n",
    "bathy_pts_df = bathy_pts_df.assign(date=pd.to_datetime(bathy_pts_df.delta_time).dt.date)\n",
    "zsd_date_beam = zsd_date_beam.assign(date=pd.to_datetime(zsd_date_beam.date).dt.date)\n"
   ]
  },
  {
   "cell_type": "code",
   "execution_count": null,
   "id": "0f75aa45-b9cf-4f6a-8b45-4fa58bcc6741",
   "metadata": {},
   "outputs": [],
   "source": [
    "joined_df = bathy_pts_df.merge(zsd_date_beam,how='outer',on=['beam','date','site']).drop(columns=['X_y','Y_y','gebco_elev_y'])\n",
    "\n",
    "joined_df = joined_df.assign(depth_ph = joined_df.Z_geoid - joined_df.sea_level_interp)\n",
    "joined_df"
   ]
  },
  {
   "cell_type": "code",
   "execution_count": null,
   "id": "a6c3dd05-c7ae-431d-a213-e284db95665a",
   "metadata": {},
   "outputs": [],
   "source": [
    "joined_df = joined_df[joined_df.error_abs<5]"
   ]
  },
  {
   "cell_type": "code",
   "execution_count": null,
   "id": "359006f2-c1b1-4832-b0c8-27b7c8be386f",
   "metadata": {},
   "outputs": [],
   "source": [
    "joined_df.groupby(['date','beam']).count()"
   ]
  },
  {
   "cell_type": "markdown",
   "id": "a0a9e80e-588f-409b-83f6-0151f386c54f",
   "metadata": {},
   "source": [
    "It is possible that for each site there will be a "
   ]
  },
  {
   "cell_type": "code",
   "execution_count": null,
   "id": "a35ff30c-18f9-4887-983a-74c30bb51fad",
   "metadata": {},
   "outputs": [],
   "source": [
    "tracklines_averaged = joined_df.groupby(['date','beam']).mean()\n",
    "tracklines_averaged"
   ]
  },
  {
   "cell_type": "code",
   "execution_count": null,
   "id": "db528c83-d60a-4151-9d08-26d960ca23e8",
   "metadata": {},
   "outputs": [],
   "source": [
    "joined_df.corr('spearman')['error_abs'].sort_values()"
   ]
  },
  {
   "cell_type": "code",
   "execution_count": null,
   "id": "efb84273-fbea-45ea-a42e-10caad634fd2",
   "metadata": {},
   "outputs": [],
   "source": [
    "tracklines_averaged.plot.scatter(x='land_sig_conf',y='error_abs')"
   ]
  },
  {
   "cell_type": "code",
   "execution_count": null,
   "id": "947c2e30-e3d5-474d-be37-bfc38d29d2fe",
   "metadata": {},
   "outputs": [],
   "source": [
    "tracklines_averaged.plot.scatter(x='oc_hconf_perc',y='error_abs')"
   ]
  },
  {
   "cell_type": "code",
   "execution_count": null,
   "id": "7c84ec53-2f79-4e16-bc16-8e1e06790ec2",
   "metadata": {},
   "outputs": [],
   "source": [
    "tracklines_averaged[tracklines_averaged.error_abs<5].plot.scatter(x='true_elevation',y='error_abs')"
   ]
  },
  {
   "cell_type": "code",
   "execution_count": null,
   "id": "f19a4954-89e6-432f-92c2-955276db2a95",
   "metadata": {},
   "outputs": [],
   "source": [
    "ax = joined_df.plot.scatter(x='kde_val',y='error_abs',alpha=0.01)\n",
    "# ax.axvline(0.15)"
   ]
  },
  {
   "cell_type": "code",
   "execution_count": null,
   "id": "7e355870-f549-47db-8eb7-47a7910b946b",
   "metadata": {},
   "outputs": [],
   "source": [
    "joined_df.groupby('site').mean().plot.scatter(x='zsd',y='error_abs')"
   ]
  },
  {
   "cell_type": "code",
   "execution_count": null,
   "id": "9c22107f-60e3-41fe-9b6e-f7d0bcbc99a9",
   "metadata": {},
   "outputs": [],
   "source": [
    "joined_df.plot.scatter(x='sf_elev_MSL',y='true_elevation')"
   ]
  },
  {
   "cell_type": "code",
   "execution_count": null,
   "id": "ae9c85de-9b8c-449f-b327-f979dfbfec84",
   "metadata": {},
   "outputs": [],
   "source": [
    "# are estimates from areas below the secchi depth worse?\n",
    "joined_df.groupby(-1*joined_df.sf_elev_MSL < (joined_df.zsd+10)).median()"
   ]
  },
  {
   "cell_type": "code",
   "execution_count": null,
   "id": "1c9e1594-2f10-4626-b23d-1cf1f9fa23fd",
   "metadata": {},
   "outputs": [],
   "source": [
    "joined_df.assign(d_below_zsd=(-1*joined_df.sf_elev_MSL) - joined_df.zsd).plot.scatter(x='d_below_zsd',y='error_abs')"
   ]
  },
  {
   "cell_type": "code",
   "execution_count": null,
   "id": "c712cdba-b244-4230-ad77-6a778696e9fc",
   "metadata": {},
   "outputs": [],
   "source": []
  },
  {
   "cell_type": "code",
   "execution_count": null,
   "id": "e5194f33-964d-48c8-a548-1fe7bff15c24",
   "metadata": {},
   "outputs": [],
   "source": [
    "errordict = {'RMSE':df.error.pow(2).mean()**0.5,'R2 Score':r2_score(df.true_elevation,df.sf_elev_MSL)}\n",
    "ax = error_lidar_pt_vs_truth_pt(df,'All sites combined',errordict)\n"
   ]
  },
  {
   "cell_type": "code",
   "execution_count": null,
   "id": "3569390c-8e54-4394-a4ac-50b0998de7cd",
   "metadata": {},
   "outputs": [],
   "source": [
    "ax.a"
   ]
  },
  {
   "cell_type": "code",
   "execution_count": null,
   "id": "efab771c-ca9b-4588-8b4c-86a5586669f5",
   "metadata": {},
   "outputs": [],
   "source": [
    "df = df[df.true_elevation<0]\n",
    "errordict = {'RMSE':df.error.pow(2).mean()**0.5,'R2 Score':r2_score(df.true_elevation,df.sf_elev_MSL)}\n",
    "ax= error_lidar_pt_vs_truth_pt(df,'All Sites Excluding mountains',errordict)\n",
    "ax.get_figure().savefig('../document/figures/all_site_combined_biasplot.jpg')\n",
    "ax.get_figure().savefig('../document/figures/all_site_combined_biasplot.pdf')\n",
    "\n",
    "# TODO rasterize scatterplot backgrounds"
   ]
  },
  {
   "cell_type": "code",
   "execution_count": null,
   "id": "7d0ef536-ea12-4360-8b9d-8a6ed24cefe2",
   "metadata": {},
   "outputs": [],
   "source": [
    "df.describe()"
   ]
  },
  {
   "cell_type": "code",
   "execution_count": null,
   "id": "082fd838-7029-40e7-b78e-95d97fdeb595",
   "metadata": {
    "tags": []
   },
   "outputs": [],
   "source": [
    "df.groupby(pd.cut(df.true_elevation,30)).agg({'error':lambda x: np.mean(x**2)**0.5}).rename({'error':'RMS error'})"
   ]
  },
  {
   "cell_type": "code",
   "execution_count": null,
   "id": "4eec293d-a384-482f-8f04-2c644e113b07",
   "metadata": {},
   "outputs": [],
   "source": [
    "tracklines_df = df.groupby([pd.to_datetime(df.delta_time).dt.date,'beam']).mean()"
   ]
  },
  {
   "cell_type": "code",
   "execution_count": null,
   "id": "7bc582b8-f9d2-4af9-8d35-46375c65a231",
   "metadata": {},
   "outputs": [],
   "source": [
    "tracklines_combined.count()"
   ]
  },
  {
   "cell_type": "code",
   "execution_count": null,
   "id": "bcdf316f-c8d8-4092-8399-2a854c302987",
   "metadata": {},
   "outputs": [],
   "source": []
  },
  {
   "cell_type": "markdown",
   "id": "1a1a97c8-9184-4b8f-9228-4c66d4b3bdc7",
   "metadata": {},
   "source": [
    "# 178"
   ]
  },
  {
   "cell_type": "code",
   "execution_count": null,
   "id": "43f3688e-31dc-4bd8-b450-a707fcfe0364",
   "metadata": {},
   "outputs": [],
   "source": []
  }
 ],
 "metadata": {
  "kernelspec": {
   "display_name": "Python 3 (ipykernel)",
   "language": "python",
   "name": "python3"
  },
  "language_info": {
   "codemirror_mode": {
    "name": "ipython",
    "version": 3
   },
   "file_extension": ".py",
   "mimetype": "text/x-python",
   "name": "python",
   "nbconvert_exporter": "python",
   "pygments_lexer": "ipython3",
   "version": "3.9.10"
  },
  "vscode": {
   "interpreter": {
    "hash": "ec7c7d4d013ec650dc8eb8b9310ce197f2a724f68d99fdc157fb921cb8b4fa41"
   }
  }
 },
 "nbformat": 4,
 "nbformat_minor": 5
}
