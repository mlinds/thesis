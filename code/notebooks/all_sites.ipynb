{
 "cells": [
  {
   "cell_type": "code",
   "execution_count": 1,
   "id": "bf3ab382-68af-4ad2-a23b-828618f8d61d",
   "metadata": {},
   "outputs": [
    {
     "name": "stdout",
     "output_type": "stream",
     "text": [
      "/mnt/c/Users/XCB/OneDrive - Van Oord/Documents/thesis/code\n"
     ]
    }
   ],
   "source": [
    "%cd .."
   ]
  },
  {
   "cell_type": "code",
   "execution_count": 2,
   "id": "c727e7fd-cb56-4f03-8567-4243a369d882",
   "metadata": {},
   "outputs": [],
   "source": [
    "import pandas as pd\n",
    "import geopandas as gpd\n",
    "from glob import glob\n",
    "import seaborn as sns\n",
    "from atl_module.plotting import (\n",
    "    error_lidar_pt_vs_truth_pt,\n",
    "    plot_photon_map,\n",
    "    plot_tracklines_overview,\n",
    ")\n",
    "from sklearn.metrics import r2_score\n",
    "import numpy as np\n",
    "from atl_module.geospatial_utils.raster_interaction import (\n",
    "    query_raster,\n",
    "    query_from_lines,\n",
    ")\n",
    "import matplotlib.pyplot as plt\n",
    "from atl_module.bathymetry_extraction.refraction_correction import correct_refr\n",
    "from atl_module.plotting import set_size"
   ]
  },
  {
   "cell_type": "markdown",
   "id": "39bb6666-98fe-4e64-9bc2-0dc7cd7a51d1",
   "metadata": {},
   "source": [
    "# aggregation functions"
   ]
  },
  {
   "cell_type": "code",
   "execution_count": 3,
   "id": "be23b026-01f4-4f71-a0ed-9c7e6cb2ce99",
   "metadata": {},
   "outputs": [],
   "source": [
    "# defining some useful aggregation functions\n",
    "\n",
    "rms_lambda = lambda x: np.sqrt(np.mean(np.square(x)))\n",
    "mae_lambda = lambda x: np.mean(np.abs(x))\n",
    "\n",
    "# this is just for by-trackline groupbys\n",
    "def agg_photon_counts(arr):\n",
    "    assert np.all(\n",
    "        arr == arr[0]\n",
    "    ), \"the groupby must be by tracklines with identical values for `n_subsurf_points` and `n_total_points`\"\n",
    "    return arr[0]\n",
    "\n",
    "\n",
    "# this dictionary can be unpacked into .agg() to create summary table with named columns. can only be used with the bathymetry points GDF since its based on the expected column names\n",
    "unpackable_error_dict = {\n",
    "    \"RMS Error [m]\": pd.NamedAgg(column=\"error\", aggfunc=rms_lambda),\n",
    "    \"MAE [m]\": pd.NamedAgg(column=\"error\", aggfunc=mae_lambda),\n",
    "    \"Mean Error [M]\": pd.NamedAgg(column=\"error\", aggfunc=np.mean),\n",
    "    # the total number of points for any grouping is the count of entries in the bathy points gdf\n",
    "    # the column X, which is the latitude, its used because it always has a valid value\n",
    "    \"n bathy points\": pd.NamedAgg(column=\"X\", aggfunc=\"count\"),\n",
    "    # to get the number of subsurface photons, we can take the mean because it will be the same if we are averaging by site and unique trackline\n",
    "    # uses a function that raises an error if the points aren't all the same\n",
    "    # \"n photons\":pd.NamedAgg(column='n_total_points',aggfunc=agg_photon_counts),\n",
    "    # \"n subsurf photons\":pd.NamedAgg(column='n_subsurf_points',aggfunc=agg_photon_counts)\n",
    "}"
   ]
  },
  {
   "cell_type": "markdown",
   "id": "8c702503-1b44-4fd1-a131-625b3ac4182a",
   "metadata": {},
   "source": [
    "# get all AOIs"
   ]
  },
  {
   "cell_type": "code",
   "execution_count": 4,
   "id": "c755d2cc-886d-431a-a163-a6d07c6f43f6",
   "metadata": {},
   "outputs": [],
   "source": [
    "aoidflist = []\n",
    "for aoifile in glob(\"../data/test_sites/*/AOI.gpkg\"):\n",
    "    # get the name of each site\n",
    "    sitename = aoifile.split(\"/\")[3]\n",
    "    df = gpd.read_file(aoifile)\n",
    "    df[\"site\"] = sitename\n",
    "    aoidflist.append(df)\n",
    "\n",
    "aoi_combined = pd.concat(aoidflist)"
   ]
  },
  {
   "cell_type": "markdown",
   "id": "2f4fad01-6c44-43f4-99a8-732d1be1e085",
   "metadata": {},
   "source": [
    "# get all secchi depth points"
   ]
  },
  {
   "cell_type": "code",
   "execution_count": 5,
   "id": "0f09e4fd-cc4f-48bb-afbe-b959bab6958d",
   "metadata": {},
   "outputs": [],
   "source": [
    "secchi_pt_list = []\n",
    "for file in glob(\"../data/test_sites/*/secchi_pts.gpkg\"):\n",
    "    # get the name of each site\n",
    "    sitename = file.split(\"/\")[3]\n",
    "    df = gpd.read_file(file)\n",
    "    df[\"site\"] = sitename\n",
    "    secchi_pt_list.append(df)\n",
    "\n",
    "secchi_pt_combined = pd.concat(secchi_pt_list).reset_index(drop=True)\n",
    "\n",
    "secchi_pt_combined = secchi_pt_combined.assign(\n",
    "    X=secchi_pt_combined.geometry.x, Y=secchi_pt_combined.geometry.y\n",
    ")"
   ]
  },
  {
   "cell_type": "markdown",
   "id": "731e7517-68d7-43c5-9068-6ae07a649361",
   "metadata": {},
   "source": [
    "# get all tracklines"
   ]
  },
  {
   "cell_type": "code",
   "execution_count": 6,
   "id": "b24b5665-ab89-4f09-b743-6b629a9b7752",
   "metadata": {},
   "outputs": [
    {
     "data": {
      "text/html": [
       "<div>\n",
       "<style scoped>\n",
       "    .dataframe tbody tr th:only-of-type {\n",
       "        vertical-align: middle;\n",
       "    }\n",
       "\n",
       "    .dataframe tbody tr th {\n",
       "        vertical-align: top;\n",
       "    }\n",
       "\n",
       "    .dataframe thead th {\n",
       "        text-align: right;\n",
       "    }\n",
       "</style>\n",
       "<table border=\"1\" class=\"dataframe\">\n",
       "  <thead>\n",
       "    <tr style=\"text-align: right;\">\n",
       "      <th></th>\n",
       "      <th>file</th>\n",
       "      <th>beam</th>\n",
       "      <th>rgt</th>\n",
       "      <th>date</th>\n",
       "      <th>beam_type</th>\n",
       "      <th>n_photons</th>\n",
       "      <th>p_hconf</th>\n",
       "      <th>avg_ph_cou</th>\n",
       "      <th>avg_fsat</th>\n",
       "      <th>length</th>\n",
       "      <th>geometry</th>\n",
       "      <th>site</th>\n",
       "    </tr>\n",
       "  </thead>\n",
       "  <tbody>\n",
       "    <tr>\n",
       "      <th>898</th>\n",
       "      <td>processed_ATL03_20190115094052_02740207_005_01</td>\n",
       "      <td>gt1l</td>\n",
       "      <td>274</td>\n",
       "      <td>2019-01-15</td>\n",
       "      <td>strong</td>\n",
       "      <td>5</td>\n",
       "      <td>96.328679</td>\n",
       "      <td>1.000000</td>\n",
       "      <td>0.000000</td>\n",
       "      <td>184.521091</td>\n",
       "      <td>LINESTRING (-157.83223 21.56362, -157.83208 21...</td>\n",
       "      <td>oahu5</td>\n",
       "    </tr>\n",
       "    <tr>\n",
       "      <th>583</th>\n",
       "      <td>processed_ATL03_20200713073941_02740807_005_01</td>\n",
       "      <td>gt2r</td>\n",
       "      <td>274</td>\n",
       "      <td>2020-07-13</td>\n",
       "      <td>weak</td>\n",
       "      <td>34</td>\n",
       "      <td>95.260816</td>\n",
       "      <td>1.147059</td>\n",
       "      <td>0.000000</td>\n",
       "      <td>6218.042512</td>\n",
       "      <td>LINESTRING (-157.95395 21.27779, -157.95125 21...</td>\n",
       "      <td>oahu1</td>\n",
       "    </tr>\n",
       "    <tr>\n",
       "      <th>1200</th>\n",
       "      <td>processed_ATL03_20210507051755_06631101_005_01</td>\n",
       "      <td>gt3r</td>\n",
       "      <td>663</td>\n",
       "      <td>2021-05-07</td>\n",
       "      <td>strong</td>\n",
       "      <td>20</td>\n",
       "      <td>96.302326</td>\n",
       "      <td>1.150000</td>\n",
       "      <td>0.000000</td>\n",
       "      <td>638.312852</td>\n",
       "      <td>LINESTRING (-158.28003 21.55493, -158.28069 21...</td>\n",
       "      <td>oahu8</td>\n",
       "    </tr>\n",
       "    <tr>\n",
       "      <th>510</th>\n",
       "      <td>processed_ATL03_20220531053325_10561501_005_02</td>\n",
       "      <td>gt2l</td>\n",
       "      <td>1056</td>\n",
       "      <td>2022-05-31</td>\n",
       "      <td>strong</td>\n",
       "      <td>216</td>\n",
       "      <td>96.222648</td>\n",
       "      <td>1.310185</td>\n",
       "      <td>0.000000</td>\n",
       "      <td>14332.084721</td>\n",
       "      <td>LINESTRING (-81.14391 24.61500, -81.15778 24.7...</td>\n",
       "      <td>florida_keys</td>\n",
       "    </tr>\n",
       "    <tr>\n",
       "      <th>570</th>\n",
       "      <td>processed_ATL03_20200413115954_02740707_005_01</td>\n",
       "      <td>gt3l</td>\n",
       "      <td>274</td>\n",
       "      <td>2020-04-13</td>\n",
       "      <td>weak</td>\n",
       "      <td>55</td>\n",
       "      <td>95.813700</td>\n",
       "      <td>1.327273</td>\n",
       "      <td>0.000000</td>\n",
       "      <td>6129.874607</td>\n",
       "      <td>LINESTRING (-157.97985 21.27356, -157.97778 21...</td>\n",
       "      <td>oahu1</td>\n",
       "    </tr>\n",
       "    <tr>\n",
       "      <th>...</th>\n",
       "      <td>...</td>\n",
       "      <td>...</td>\n",
       "      <td>...</td>\n",
       "      <td>...</td>\n",
       "      <td>...</td>\n",
       "      <td>...</td>\n",
       "      <td>...</td>\n",
       "      <td>...</td>\n",
       "      <td>...</td>\n",
       "      <td>...</td>\n",
       "      <td>...</td>\n",
       "      <td>...</td>\n",
       "    </tr>\n",
       "    <tr>\n",
       "      <th>1063</th>\n",
       "      <td>processed_ATL03_20200606211436_11050701_005_01</td>\n",
       "      <td>gt1l</td>\n",
       "      <td>1105</td>\n",
       "      <td>2020-06-06</td>\n",
       "      <td>strong</td>\n",
       "      <td>209501</td>\n",
       "      <td>3.120823</td>\n",
       "      <td>2726.849695</td>\n",
       "      <td>0.000000</td>\n",
       "      <td>2851.411856</td>\n",
       "      <td>LINESTRING (-158.20881 21.57528, -158.21371 21...</td>\n",
       "      <td>oahu7</td>\n",
       "    </tr>\n",
       "    <tr>\n",
       "      <th>1159</th>\n",
       "      <td>processed_ATL03_20200606211436_11050701_005_01</td>\n",
       "      <td>gt1l</td>\n",
       "      <td>1105</td>\n",
       "      <td>2020-06-06</td>\n",
       "      <td>strong</td>\n",
       "      <td>850030</td>\n",
       "      <td>3.120823</td>\n",
       "      <td>2727.128385</td>\n",
       "      <td>0.000000</td>\n",
       "      <td>9954.309631</td>\n",
       "      <td>LINESTRING (-158.17409 21.37328, -158.18971 21...</td>\n",
       "      <td>oahu8</td>\n",
       "    </tr>\n",
       "    <tr>\n",
       "      <th>1051</th>\n",
       "      <td>processed_ATL03_20190915220417_12190407_005_01</td>\n",
       "      <td>gt1l</td>\n",
       "      <td>1219</td>\n",
       "      <td>2019-09-15</td>\n",
       "      <td>weak</td>\n",
       "      <td>255324</td>\n",
       "      <td>0.000000</td>\n",
       "      <td>2882.606555</td>\n",
       "      <td>0.000000</td>\n",
       "      <td>3234.898573</td>\n",
       "      <td>LINESTRING (-158.16393 21.57320, -158.16248 21...</td>\n",
       "      <td>oahu7</td>\n",
       "    </tr>\n",
       "    <tr>\n",
       "      <th>1163</th>\n",
       "      <td>processed_ATL03_20200606211436_11050701_005_01</td>\n",
       "      <td>gt3l</td>\n",
       "      <td>1105</td>\n",
       "      <td>2020-06-06</td>\n",
       "      <td>strong</td>\n",
       "      <td>216092</td>\n",
       "      <td>2.836104</td>\n",
       "      <td>3122.430442</td>\n",
       "      <td>0.000000</td>\n",
       "      <td>2382.689088</td>\n",
       "      <td>LINESTRING (-158.10246 21.31773, -158.10621 21...</td>\n",
       "      <td>oahu8</td>\n",
       "    </tr>\n",
       "    <tr>\n",
       "      <th>1164</th>\n",
       "      <td>processed_ATL03_20200606211436_11050701_005_01</td>\n",
       "      <td>gt3r</td>\n",
       "      <td>1105</td>\n",
       "      <td>2020-06-06</td>\n",
       "      <td>weak</td>\n",
       "      <td>428990</td>\n",
       "      <td>0.000000</td>\n",
       "      <td>3317.211961</td>\n",
       "      <td>0.000287</td>\n",
       "      <td>3964.142371</td>\n",
       "      <td>LINESTRING (-158.10273 21.30812, -158.10897 21...</td>\n",
       "      <td>oahu8</td>\n",
       "    </tr>\n",
       "  </tbody>\n",
       "</table>\n",
       "<p>1415 rows × 12 columns</p>\n",
       "</div>"
      ],
      "text/plain": [
       "                                                file  beam   rgt        date  \\\n",
       "898   processed_ATL03_20190115094052_02740207_005_01  gt1l   274  2019-01-15   \n",
       "583   processed_ATL03_20200713073941_02740807_005_01  gt2r   274  2020-07-13   \n",
       "1200  processed_ATL03_20210507051755_06631101_005_01  gt3r   663  2021-05-07   \n",
       "510   processed_ATL03_20220531053325_10561501_005_02  gt2l  1056  2022-05-31   \n",
       "570   processed_ATL03_20200413115954_02740707_005_01  gt3l   274  2020-04-13   \n",
       "...                                              ...   ...   ...         ...   \n",
       "1063  processed_ATL03_20200606211436_11050701_005_01  gt1l  1105  2020-06-06   \n",
       "1159  processed_ATL03_20200606211436_11050701_005_01  gt1l  1105  2020-06-06   \n",
       "1051  processed_ATL03_20190915220417_12190407_005_01  gt1l  1219  2019-09-15   \n",
       "1163  processed_ATL03_20200606211436_11050701_005_01  gt3l  1105  2020-06-06   \n",
       "1164  processed_ATL03_20200606211436_11050701_005_01  gt3r  1105  2020-06-06   \n",
       "\n",
       "     beam_type  n_photons    p_hconf   avg_ph_cou  avg_fsat        length  \\\n",
       "898     strong          5  96.328679     1.000000  0.000000    184.521091   \n",
       "583       weak         34  95.260816     1.147059  0.000000   6218.042512   \n",
       "1200    strong         20  96.302326     1.150000  0.000000    638.312852   \n",
       "510     strong        216  96.222648     1.310185  0.000000  14332.084721   \n",
       "570       weak         55  95.813700     1.327273  0.000000   6129.874607   \n",
       "...        ...        ...        ...          ...       ...           ...   \n",
       "1063    strong     209501   3.120823  2726.849695  0.000000   2851.411856   \n",
       "1159    strong     850030   3.120823  2727.128385  0.000000   9954.309631   \n",
       "1051      weak     255324   0.000000  2882.606555  0.000000   3234.898573   \n",
       "1163    strong     216092   2.836104  3122.430442  0.000000   2382.689088   \n",
       "1164      weak     428990   0.000000  3317.211961  0.000287   3964.142371   \n",
       "\n",
       "                                               geometry          site  \n",
       "898   LINESTRING (-157.83223 21.56362, -157.83208 21...         oahu5  \n",
       "583   LINESTRING (-157.95395 21.27779, -157.95125 21...         oahu1  \n",
       "1200  LINESTRING (-158.28003 21.55493, -158.28069 21...         oahu8  \n",
       "510   LINESTRING (-81.14391 24.61500, -81.15778 24.7...  florida_keys  \n",
       "570   LINESTRING (-157.97985 21.27356, -157.97778 21...         oahu1  \n",
       "...                                                 ...           ...  \n",
       "1063  LINESTRING (-158.20881 21.57528, -158.21371 21...         oahu7  \n",
       "1159  LINESTRING (-158.17409 21.37328, -158.18971 21...         oahu8  \n",
       "1051  LINESTRING (-158.16393 21.57320, -158.16248 21...         oahu7  \n",
       "1163  LINESTRING (-158.10246 21.31773, -158.10621 21...         oahu8  \n",
       "1164  LINESTRING (-158.10273 21.30812, -158.10897 21...         oahu8  \n",
       "\n",
       "[1415 rows x 12 columns]"
      ]
     },
     "execution_count": 6,
     "metadata": {},
     "output_type": "execute_result"
    }
   ],
   "source": [
    "# tracklines_dflist = [gpd.read_file(file) for file in glob('../data/test_sites/*/tracklines')]\n",
    "\n",
    "tracklinesdflist = []\n",
    "for file in glob(\"../data/test_sites/*/tracklines\"):\n",
    "    # get the name of each site\n",
    "    sitename = file.split(\"/\")[3]\n",
    "    df = gpd.read_file(file)\n",
    "    df[\"site\"] = sitename\n",
    "    tracklinesdflist.append(df)\n",
    "\n",
    "tracklines_combined = pd.concat(tracklinesdflist).reset_index(drop=True)\n",
    "tracklines_combined = tracklines_combined.assign(\n",
    "    date=pd.to_datetime(tracklines_combined.date).dt.date\n",
    ")\n",
    "\n",
    "tracklines_combined.sort_values('avg_ph_cou')"
   ]
  },
  {
   "cell_type": "code",
   "execution_count": 7,
   "id": "f7cb2f22-26b1-48f1-b846-df55ae1054bd",
   "metadata": {},
   "outputs": [
    {
     "ename": "NameError",
     "evalue": "name 'bathy_pts_df' is not defined",
     "output_type": "error",
     "traceback": [
      "\u001b[0;31m---------------------------------------------------------------------------\u001b[0m",
      "\u001b[0;31mNameError\u001b[0m                                 Traceback (most recent call last)",
      "Input \u001b[0;32mIn [7]\u001b[0m, in \u001b[0;36m<cell line: 1>\u001b[0;34m()\u001b[0m\n\u001b[0;32m----> 1\u001b[0m \u001b[43mbathy_pts_df\u001b[49m\u001b[38;5;241m.\u001b[39msort_values(\u001b[38;5;124m'\u001b[39m\u001b[38;5;124mph_count\u001b[39m\u001b[38;5;124m'\u001b[39m)\u001b[38;5;241m.\u001b[39mph_count\n",
      "\u001b[0;31mNameError\u001b[0m: name 'bathy_pts_df' is not defined"
     ]
    }
   ],
   "source": [
    "bathy_pts_df.sort_values('ph_count').ph_count"
   ]
  },
  {
   "cell_type": "markdown",
   "id": "be4ce332-833b-4efa-8a86-a8f84b7b360e",
   "metadata": {},
   "source": [
    "# Concatenate all bathymetry points from all sites"
   ]
  },
  {
   "cell_type": "code",
   "execution_count": null,
   "id": "38b9af17-3b09-4b22-b7dc-fb10c02c59af",
   "metadata": {},
   "outputs": [],
   "source": [
    "dflist = []\n",
    "for file in glob(\"../data/test_sites/*/all_bathy_pts.gpkg\"):\n",
    "    # get the name of each site\n",
    "    sitename = file.split(\"/\")[3]\n",
    "    df = gpd.read_file(file)\n",
    "    df[\"site\"] = sitename\n",
    "    dflist.append(df)\n",
    "\n",
    "bathy_pts_df = pd.concat(dflist).reset_index(drop=True).dropna()\n",
    "\n",
    "bathy_pts_df = bathy_pts_df.assign(date=pd.to_datetime(bathy_pts_df.delta_time).dt.date)"
   ]
  },
  {
   "cell_type": "markdown",
   "id": "bbdbef52-503f-4c8e-bc5d-00f3a34ef187",
   "metadata": {},
   "source": [
    "# looking into refraction correction"
   ]
  },
  {
   "cell_type": "code",
   "execution_count": null,
   "id": "5804f3cc-709e-47c2-9f69-174c97758181",
   "metadata": {},
   "outputs": [],
   "source": [
    "fig, ax = plt.subplots()\n",
    "\n",
    "az_vecs = np.linspace(-3, 3, 1000)\n",
    "elev_vecs = np.linspace(1.47, 1.58, 1000)\n",
    "azgrid, elevgrid = np.meshgrid(az_vecs, elev_vecs)\n",
    "xcorr, ycorr, zcorr = correct_refr(5, azgrid, elevgrid)\n",
    "\n",
    "ax.contour(elevgrid, azgrid, zcorr)\n",
    "bathy_pts_df.plot.scatter(x=\"p_vec_elev\", y=\"p_vec_az\", ax=ax)"
   ]
  },
  {
   "cell_type": "code",
   "execution_count": null,
   "id": "86eb1918-1bc5-4410-a08b-0ae00f83e9a2",
   "metadata": {},
   "outputs": [],
   "source": [
    "el1 = bathy_pts_df.p_vec_elev.max()\n",
    "az1 = bathy_pts_df.p_vec_az.iloc[bathy_pts_df.p_vec_elev.idxmax()]"
   ]
  },
  {
   "cell_type": "code",
   "execution_count": null,
   "id": "9c46f38b-8594-437a-8579-0fc8b53a294b",
   "metadata": {},
   "outputs": [],
   "source": [
    "correct_refr(10, el1, az1)"
   ]
  },
  {
   "cell_type": "markdown",
   "id": "26560f58-0969-4e1a-b4e4-5eb2bf9ea0f6",
   "metadata": {},
   "source": [
    "## Some stats about all the total batymetry points found\n",
    "\n",
    "do we see a spike around 2.3 or 4.2 due to ringing?\n"
   ]
  },
  {
   "cell_type": "code",
   "execution_count": null,
   "id": "54037248-704c-4d8c-8768-56674d144c5b",
   "metadata": {},
   "outputs": [],
   "source": [
    "# set bin edges to encapsulate the location where ringing occurs\n",
    "binedges = np.arange(-25.05, 0.6, 0.1)\n",
    "# 2.3 or 4.2 m"
   ]
  },
  {
   "cell_type": "code",
   "execution_count": null,
   "id": "bc99b964-470b-48a6-ae5f-58bedbba379b",
   "metadata": {},
   "outputs": [],
   "source": [
    "ax = bathy_pts_df.sf_elev_MSL.plot.hist(\n",
    "    bins=binedges,\n",
    "    histtype=\"step\",\n",
    "    density=True,\n",
    "    label=\"ICESat-2 Estimate\",\n",
    "    figsize=(20, 10),\n",
    ")\n",
    "bathy_pts_df.true_elevation.plot.hist(\n",
    "    ax=ax, bins=binedges, histtype=\"step\", density=True, label=\"Actual Value\"\n",
    ")\n",
    "# ax.set_xlim((-25,0))\n",
    "ax.axvline(-2.3)\n",
    "ax.axvline(-4.2)\n",
    "ax.legend(loc=\"upper left\")"
   ]
  },
  {
   "cell_type": "code",
   "execution_count": null,
   "id": "535a354f-50f2-4f6f-92a2-25f4060c982c",
   "metadata": {},
   "outputs": [],
   "source": [
    "error_by_site = bathy_pts_df.groupby(\"site\").agg(**unpackable_error_dict).round(2)\n",
    "error_by_site"
   ]
  },
  {
   "cell_type": "markdown",
   "id": "1ddbbdfc-311c-480b-b74b-a10592f0ce01",
   "metadata": {},
   "source": [
    "based on the graph above we do not see significant deviation from the overall distribution of true bathymetry."
   ]
  },
  {
   "cell_type": "markdown",
   "id": "2cb864de-a02e-40e7-81e8-2586c134d19c",
   "metadata": {},
   "source": [
    "# Sites by Secchi Depth"
   ]
  },
  {
   "cell_type": "code",
   "execution_count": null,
   "id": "dc6d36bc-c3e6-464c-84ee-7b46bbc855bb",
   "metadata": {
    "tags": []
   },
   "outputs": [],
   "source": [
    "secchi_pt_combined = secchi_pt_combined.assign(\n",
    "    gebco_elev=query_raster(\n",
    "        secchi_pt_combined.assign(\n",
    "            X=secchi_pt_combined.geometry.x, Y=secchi_pt_combined.geometry.y\n",
    "        ),\n",
    "        \"../data/GEBCO/GEBCO_2021_sub_ice_topo.nc\",\n",
    "    )\n",
    ")\n",
    "# mask out values based on GEBCO elevation\n",
    "secchi_pt_combined = secchi_pt_combined[secchi_pt_combined.gebco_elev < 0]"
   ]
  },
  {
   "cell_type": "code",
   "execution_count": null,
   "id": "76d57333-0805-4e48-9ac1-eec211a25e00",
   "metadata": {},
   "outputs": [],
   "source": [
    "zsd_date_beam = (\n",
    "    secchi_pt_combined.dropna()\n",
    "    .groupby([\"site\", secchi_pt_combined.date, \"beam\"])\n",
    "    .median()\n",
    "    .reset_index()\n",
    ")"
   ]
  },
  {
   "cell_type": "code",
   "execution_count": null,
   "id": "320c5552-2b26-4d2e-88f2-5c5137d15260",
   "metadata": {},
   "outputs": [],
   "source": [
    "fig, ax = plt.subplots(figsize=set_size())\n",
    "ax = secchi_pt_combined.boxplot(column=\"zsd\", by=\"site\", ax=ax)\n",
    "_ = ax.set_xticklabels(ax.get_xticklabels(), rotation=45)\n",
    "ax.set_ylabel(\"Secchi Depth [m]\")\n",
    "ax.set_title(\"Distribution of $Z_{sd}$ at test sites\")\n",
    "fig.suptitle(None)"
   ]
  },
  {
   "cell_type": "code",
   "execution_count": null,
   "id": "698e15a0-2430-426b-acd8-b510e28cb43a",
   "metadata": {},
   "outputs": [],
   "source": [
    "fig.savefig(\"../document/figures/secchi_by_site_boxplot.pdf\")\n",
    "# fig.savefig('../document/figures/secchi_by_site_boxplot.pgf',backend='pgf')"
   ]
  },
  {
   "cell_type": "code",
   "execution_count": null,
   "id": "2c581a49-dea4-4e54-a039-b49a737dc8c3",
   "metadata": {},
   "outputs": [],
   "source": [
    "secchi_pt_combined.groupby(\"site\").median().merge(\n",
    "    error_by_site, left_index=True, right_index=True\n",
    ")"
   ]
  },
  {
   "cell_type": "markdown",
   "id": "8650d2f3-fab9-468d-b1d5-43816580f1a3",
   "metadata": {},
   "source": [
    "The code below makes the table prettier by dropping extraneous columns, renaming the sites to actual names instead of filenames, and adding latex formatted table anmes"
   ]
  },
  {
   "cell_type": "code",
   "execution_count": null,
   "id": "06c1c59b-eb35-412a-bc0f-3744b8f2ed80",
   "metadata": {},
   "outputs": [],
   "source": [
    "# tracklines_by_site = tracklines_combined.groupby([\"site\"]).median()\n",
    "tracklines_by_site = (\n",
    "    secchi_pt_combined.groupby(\"site\")\n",
    "    .median()\n",
    "    .merge(error_by_site, left_index=True, right_index=True)\n",
    "    .drop(columns=[\"X\", \"Y\", \"gebco_elev\", \"diff_atten\", \"diff_atten_unc\"])\n",
    ")\n",
    "namelist = [\n",
    "    \"Big Island\",\n",
    "    \"Charlotte Amalie\",\n",
    "    \"Florida Keys\",\n",
    "    \"Oahu 1\",\n",
    "    \"Oahu 2\",\n",
    "    \"Oahu 3\",\n",
    "    \"Oahu 4\",\n",
    "    \"Oahu 5\",\n",
    "    \"Oahu 6\",\n",
    "    \"Oahu 7\",\n",
    "    \"Oahu 8\",\n",
    "    \"St. Croix\",\n",
    "]\n",
    "\n",
    "tracklines_by_site[\"Site Name\"] = namelist\n",
    "output_table = (\n",
    "    tracklines_by_site.round(4)\n",
    "    .set_index(\"Site Name\")\n",
    "    .rename(\n",
    "        columns={\n",
    "            \"zsd\": \"$Zsd_{50}$[m]\",\n",
    "            \"sigma_zsd\": \"$Zsd_{50}$ uncertainty\",\n",
    "            \"diff_atten\": \"Median $Kd_{490}$\",\n",
    "            \"diff_atten_unc\": \"median $Kd_{490}$ uncertainty\",\n",
    "        }\n",
    "    )\n",
    ")\n",
    "output_table"
   ]
  },
  {
   "cell_type": "code",
   "execution_count": null,
   "id": "db28c2d8-e50a-40a2-92ec-f14ce0378079",
   "metadata": {},
   "outputs": [],
   "source": [
    "output_table.to_latex(\n",
    "    \"../document/tables/secchi_site.tex\",\n",
    "    float_format=\"%.2f\",\n",
    "    escape=False,\n",
    "    label=\"tab:ocean_color_summary_by_site\",\n",
    "    caption=\"Secchi Depth and RMSE for each site\",\n",
    ")"
   ]
  },
  {
   "cell_type": "markdown",
   "id": "e649f60f-ce43-4cdf-b898-2b3bb5b27478",
   "metadata": {
    "tags": []
   },
   "source": [
    "# Analysis of tracklines by site\n",
    "going to start from scratch"
   ]
  },
  {
   "cell_type": "code",
   "execution_count": null,
   "id": "6f668395-e94e-4aca-b478-b4723d991feb",
   "metadata": {},
   "outputs": [],
   "source": [
    "bathy_pts_df.groupby([\"site\", \"date\", \"beam\"]).agg(np.mean)"
   ]
  },
  {
   "cell_type": "code",
   "execution_count": null,
   "id": "a9d9d49a-f431-4017-9710-7f95149dddca",
   "metadata": {},
   "outputs": [],
   "source": [
    "error_by_transect = bathy_pts_df.groupby([\"site\", \"date\", \"beam\"]).agg(\n",
    "    **unpackable_error_dict\n",
    ")\n",
    "error_by_transect"
   ]
  },
  {
   "cell_type": "code",
   "execution_count": null,
   "id": "aa4bf2d1-53af-4bb2-9a1a-504966df75b9",
   "metadata": {},
   "outputs": [],
   "source": [
    "final_trackline_summary = tracklines_combined.merge(\n",
    "    error_by_transect, on=[\"site\", \"date\", \"beam\"], how=\"left\"\n",
    ").replace({\"n bathy points\": np.NaN}, value=0)\n",
    "\n",
    "final_trackline_summary['ph_per_m']=final_trackline_summary.n_photons/final_trackline_summary['length']"
   ]
  },
  {
   "cell_type": "code",
   "execution_count": null,
   "id": "cf991a6a-ff5e-41d2-b8d2-1998f6b46fba",
   "metadata": {},
   "outputs": [],
   "source": [
    "bathy_pts_df.groupby(\"beamtype\").agg(**unpackable_error_dict)"
   ]
  },
  {
   "cell_type": "code",
   "execution_count": null,
   "id": "b563b05f-0cb1-4806-8dc6-1a55db1f436f",
   "metadata": {},
   "outputs": [],
   "source": [
    "final_trackline_summary.groupby(\n",
    "    final_trackline_summary[\"n bathy points\"]==0\n",
    ").mean()"
   ]
  },
  {
   "cell_type": "code",
   "execution_count": null,
   "id": "f33fc698-1623-4f44-aa35-c4e315ec08bd",
   "metadata": {},
   "outputs": [],
   "source": [
    "final_trackline_summary"
   ]
  },
  {
   "cell_type": "code",
   "execution_count": null,
   "id": "af30b218-4702-409a-ac8a-1f42216094ce",
   "metadata": {},
   "outputs": [],
   "source": [
    "final_trackline_summary.plot.scatter(y='RMS Error [m]',x='avg_ph_cou',figsize=set_size(fraction=2),ylim=(0,5))"
   ]
  },
  {
   "cell_type": "code",
   "execution_count": null,
   "id": "5eb31b0e-424d-45d3-928c-98f2883dacb2",
   "metadata": {
    "tags": []
   },
   "outputs": [],
   "source": [
    "final_trackline_summary.plot.scatter(y='n bathy points',x='avg_ph_cou',figsize=set_size(fraction=2))"
   ]
  },
  {
   "cell_type": "code",
   "execution_count": null,
   "id": "3f177f7c-ed68-444f-b967-2f1790cba8b1",
   "metadata": {
    "tags": []
   },
   "outputs": [],
   "source": [
    "final_trackline_summary.plot.scatter(y='n bathy points',x='ph_per_m',figsize=set_size(fraction=2))"
   ]
  },
  {
   "cell_type": "code",
   "execution_count": null,
   "id": "2f0c69ad-4a56-4cb5-b0a3-5f03916468e0",
   "metadata": {
    "tags": []
   },
   "outputs": [],
   "source": [
    "final_trackline_summary.plot.scatter(y='n bathy points',x='p_hconf',figsize=set_size(fraction=2))"
   ]
  },
  {
   "cell_type": "code",
   "execution_count": null,
   "id": "7c93e58b-396d-4e31-86da-e60636c7243e",
   "metadata": {
    "tags": []
   },
   "outputs": [],
   "source": [
    "final_trackline_summary.plot.scatter(y='n bathy points',x='avg_fsat',figsize=set_size(fraction=2))"
   ]
  },
  {
   "cell_type": "code",
   "execution_count": null,
   "id": "b5c705f1-f8d2-42fb-9273-c0941ea2983c",
   "metadata": {
    "tags": []
   },
   "outputs": [],
   "source": [
    "final_trackline_summary.plot.scatter(y='RMS Error [m]',x='p_hconf',figsize=set_size(fraction=2),ylim=(0,5))"
   ]
  },
  {
   "cell_type": "code",
   "execution_count": null,
   "id": "c3364da7-28d0-4a98-b41b-cb9ef7ea0a3b",
   "metadata": {},
   "outputs": [],
   "source": [
    "final_trackline_summary.plot.scatter(y='RMS Error [m]',x='avg_fsat',figsize=set_size(fraction=2),ylim=(0,5))"
   ]
  },
  {
   "cell_type": "code",
   "execution_count": null,
   "id": "616dc07a-37f6-4d4a-b084-b06bb8d0c744",
   "metadata": {},
   "outputs": [],
   "source": [
    "final_trackline_summary.plot.scatter(y='RMS Error [m]',x='ph_per_m',figsize=set_size(fraction=2),ylim=(0,5))"
   ]
  },
  {
   "cell_type": "code",
   "execution_count": null,
   "id": "783b9af7-b167-42c0-99fe-f810141d860a",
   "metadata": {
    "tags": []
   },
   "outputs": [],
   "source": [
    "final_trackline_summary.corr()"
   ]
  },
  {
   "cell_type": "code",
   "execution_count": null,
   "id": "0de13d3a-a8d5-4e31-aa01-bc804ba66ae5",
   "metadata": {},
   "outputs": [],
   "source": [
    "final_trackline_summary.cov()"
   ]
  },
  {
   "cell_type": "code",
   "execution_count": null,
   "id": "346847e2-46a3-4a7d-ab27-eaf928679a12",
   "metadata": {},
   "outputs": [],
   "source": [
    "final_trackline_summary.columns"
   ]
  },
  {
   "cell_type": "code",
   "execution_count": null,
   "id": "ff348287-c945-4dbb-830e-0afb077da20c",
   "metadata": {},
   "outputs": [],
   "source": [
    "from sklearn.preprocessing import StandardScaler\n",
    "from sklearn.decomposition import PCA,TruncatedSVD"
   ]
  },
  {
   "cell_type": "code",
   "execution_count": null,
   "id": "ebc16ec3-34ce-4e0f-a979-b59c3b3af71d",
   "metadata": {},
   "outputs": [],
   "source": [
    "final_trackline_summary.count()"
   ]
  },
  {
   "cell_type": "code",
   "execution_count": null,
   "id": "1d01f67f-3aa3-4d55-844f-bc547eb550d7",
   "metadata": {},
   "outputs": [],
   "source": [
    "# get the dependant variables and standardize them from 0-1\n",
    "x = final_trackline_summary.loc[:,['n_photons', 'p_hconf','avg_ph_cou','length', 'n bathy points', 'ph_per_m']].to_numpy()\n",
    "x = StandardScaler().fit_transform(x)\n",
    "\n",
    "# get the dependant variable\n",
    "y = final_trackline_summary.loc[:,'n bathy points'].to_numpy()<=5\n",
    "\n",
    "pcs = PCA(n_components=2,).fit_transform(x)"
   ]
  },
  {
   "cell_type": "code",
   "execution_count": null,
   "id": "c1938d01-9e53-4f1e-83f1-b5b9573013a7",
   "metadata": {},
   "outputs": [],
   "source": [
    "fig,ax = plt.subplots(figsize=set_size(fraction=3))\n",
    "\n",
    "ax.scatter(pcs[:,0],pcs[:,1],c=y)"
   ]
  },
  {
   "cell_type": "markdown",
   "id": "b92a8d29-2d8c-49e4-82c1-5dbdb34124fb",
   "metadata": {},
   "source": [
    "# PCA for each point to identify error"
   ]
  },
  {
   "cell_type": "code",
   "execution_count": null,
   "id": "91ed9e08-f0c2-4926-be8c-b867eb867c49",
   "metadata": {},
   "outputs": [],
   "source": [
    "columns_of_interest = ['ph_count','gebco_elev',\n",
    "       'sea_level_interp', 'sea_level_std_dev','kde_val', 'beamtype',\n",
    "       'oc_hconf_perc', 'n_subsurf_points', 'n_total_points']\n",
    "\n",
    "x = bathy_pts_df.assign(beamtype=(bathy_pts_df.beamtype == 'weak').astype('int')).loc[:,columns_of_interest].to_numpy()\n",
    "x = StandardScaler().fit_transform(x)\n",
    "\n",
    "# get the dependant variable\n",
    "y = bathy_pts_df.loc[:,'error_abs'].to_numpy()"
   ]
  },
  {
   "cell_type": "code",
   "execution_count": null,
   "id": "e8e642fb-3120-46f6-a3a4-50894484dd38",
   "metadata": {},
   "outputs": [],
   "source": [
    "pcs = TruncatedSVD(n_components=2).fit_transform(x)\n",
    "\n",
    "fig,ax = plt.subplots(figsize=set_size(fraction=3))\n",
    "\n",
    "ax.scatter(pcs[:,0],pcs[:,1],c=y,s=2,vmax=1)"
   ]
  },
  {
   "cell_type": "code",
   "execution_count": null,
   "id": "8d3070f1-1a94-4ec4-8a15-1db5ddb00dd4",
   "metadata": {},
   "outputs": [],
   "source": [
    "pcs = TruncatedSVD(n_components=1).fit_transform(x)\n",
    "\n",
    "fig,ax = plt.subplots(figsize=set_size(fraction=3))\n",
    "\n",
    "ax.scatter(pcs,y,c=y,s=2,vmax=1)\n",
    "ax.set_ylim(0,1)"
   ]
  },
  {
   "cell_type": "markdown",
   "id": "77923f58-0778-4b6b-b300-82ffa16a6ebd",
   "metadata": {},
   "source": [
    "# Bias plot of all sites"
   ]
  },
  {
   "cell_type": "code",
   "execution_count": null,
   "id": "13200620-733f-47e8-9c3a-2d2f28d76595",
   "metadata": {},
   "outputs": [],
   "source": []
  },
  {
   "cell_type": "code",
   "execution_count": null,
   "id": "2e2783ea-f558-4b70-ad29-9bdf17245356",
   "metadata": {},
   "outputs": [],
   "source": [
    "error_lidar_pt_vs_truth_pt(bathy_pts_df,'All Sites',"
   ]
  }
 ],
 "metadata": {
  "kernelspec": {
   "display_name": "Python 3 (ipykernel)",
   "language": "python",
   "name": "python3"
  },
  "language_info": {
   "codemirror_mode": {
    "name": "ipython",
    "version": 3
   },
   "file_extension": ".py",
   "mimetype": "text/x-python",
   "name": "python",
   "nbconvert_exporter": "python",
   "pygments_lexer": "ipython3",
   "version": "3.9.10"
  },
  "vscode": {
   "interpreter": {
    "hash": "ec7c7d4d013ec650dc8eb8b9310ce197f2a724f68d99fdc157fb921cb8b4fa41"
   }
  }
 },
 "nbformat": 4,
 "nbformat_minor": 5
}
