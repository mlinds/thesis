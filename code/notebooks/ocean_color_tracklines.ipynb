{
 "cells": [
  {
   "cell_type": "code",
   "execution_count": 14,
   "metadata": {},
   "outputs": [],
   "source": [
    "import pandas as pd\n",
    "import geopandas as gpd\n",
    "from glob import glob"
   ]
  },
  {
   "cell_type": "code",
   "execution_count": 7,
   "metadata": {},
   "outputs": [
    {
     "name": "stdout",
     "output_type": "stream",
     "text": [
      "/mnt/c/Users/XCB/OneDrive - Van Oord/Documents/thesis\n"
     ]
    }
   ],
   "source": [
    "%cd .."
   ]
  },
  {
   "cell_type": "code",
   "execution_count": 12,
   "metadata": {},
   "outputs": [],
   "source": [
    "shapefiles = [filepath for filepath in glob(\"./data/test_sites/*/tracklines/\")]\n",
    "trackline_gpkgs = [filepath for filepath in glob(\"./data/test_sites/*/tracklines.gpkg\")]"
   ]
  },
  {
   "cell_type": "code",
   "execution_count": 20,
   "metadata": {},
   "outputs": [
    {
     "data": {
      "text/plain": [
       "['./data/test_sites/big_island/tracklines.gpkg',\n",
       " './data/test_sites/keys2/tracklines.gpkg',\n",
       " './data/test_sites/maasvlakte/tracklines.gpkg',\n",
       " './data/test_sites/maldives1/tracklines.gpkg',\n",
       " './data/test_sites/maldives2/tracklines.gpkg',\n",
       " './data/test_sites/mutur/tracklines.gpkg',\n",
       " './data/test_sites/MV2/tracklines.gpkg',\n",
       " './data/test_sites/oahu/tracklines.gpkg',\n",
       " './data/test_sites/petten/tracklines.gpkg',\n",
       " './data/test_sites/texel/tracklines.gpkg']"
      ]
     },
     "execution_count": 20,
     "metadata": {},
     "output_type": "execute_result"
    }
   ],
   "source": [
    "trackline_gpkgs"
   ]
  },
  {
   "cell_type": "code",
   "execution_count": 17,
   "metadata": {},
   "outputs": [],
   "source": [
    "trackline_gdfs = [gpd.read_file(file) for file in shapefiles] + [\n",
    "    gpd.read_file(file) for file in trackline_gpkgs\n",
    "]"
   ]
  },
  {
   "cell_type": "code",
   "execution_count": 21,
   "metadata": {},
   "outputs": [],
   "source": [
    "combo_df = pd.concat(trackline_gdfs)"
   ]
  },
  {
   "cell_type": "code",
   "execution_count": 22,
   "metadata": {},
   "outputs": [
    {
     "name": "stderr",
     "output_type": "stream",
     "text": [
      "/home/mlinds/mambaforge/envs/thesis_env/lib/python3.9/site-packages/geopandas/io/file.py:362: FutureWarning: pandas.Int64Index is deprecated and will be removed from pandas in a future version. Use pandas.Index with the appropriate dtype instead.\n",
      "  pd.Int64Index,\n"
     ]
    }
   ],
   "source": [
    "combo_df.to_file(\"./data/derived/all_tracklines.gpkg\")"
   ]
  },
  {
   "cell_type": "code",
   "execution_count": null,
   "metadata": {},
   "outputs": [],
   "source": []
  }
 ],
 "metadata": {
  "kernelspec": {
   "display_name": "Python 3 (ipykernel)",
   "language": "python",
   "name": "python3"
  },
  "language_info": {
   "codemirror_mode": {
    "name": "ipython",
    "version": 3
   },
   "file_extension": ".py",
   "mimetype": "text/x-python",
   "name": "python",
   "nbconvert_exporter": "python",
   "pygments_lexer": "ipython3",
   "version": "3.9.10"
  },
  "vscode": {
   "interpreter": {
    "hash": "ec7c7d4d013ec650dc8eb8b9310ce197f2a724f68d99fdc157fb921cb8b4fa41"
   }
  }
 },
 "nbformat": 4,
 "nbformat_minor": 4
}
