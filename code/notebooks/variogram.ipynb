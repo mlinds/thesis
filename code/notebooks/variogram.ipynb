{
 "cells": [
  {
   "cell_type": "code",
   "execution_count": 4,
   "id": "39fbdb11-e9d9-402d-adac-7d73c4b83ad6",
   "metadata": {},
   "outputs": [
    {
     "name": "stdout",
     "output_type": "stream",
     "text": [
      "/mnt/c/Users/maxli/OneDrive - Van Oord/Documents/thesis/code\n"
     ]
    }
   ],
   "source": [
    "%cd .."
   ]
  },
  {
   "cell_type": "code",
   "execution_count": 83,
   "id": "7dd6ddca-0315-4e57-aa54-8761a5aa12d5",
   "metadata": {},
   "outputs": [],
   "source": [
    "import numpy as np\n",
    "import gstools as gs\n",
    "import geopandas as gpd\n",
    "from glob import glob\n",
    "import pandas as pd"
   ]
  },
  {
   "cell_type": "code",
   "execution_count": 99,
   "id": "88f15513-8edf-43b5-93f4-4715484942d2",
   "metadata": {},
   "outputs": [],
   "source": [
    "pts_gdf = gpd.read_file(\"../data/test_sites/florida_keys/kriging_pts/\")"
   ]
  },
  {
   "cell_type": "code",
   "execution_count": 100,
   "id": "eb1950f9-1da6-45e4-b9e1-09cf66c1b4d7",
   "metadata": {},
   "outputs": [],
   "source": [
    "# pts_gdf = pd.concat([gpd.read_file(file) for file in glob('../data/test_sites/*/kriging_pts/')])"
   ]
  },
  {
   "cell_type": "code",
   "execution_count": 101,
   "id": "1194206c-3e1a-40e9-821c-3debfd0ef01a",
   "metadata": {},
   "outputs": [],
   "source": [
    "x_loc = pts_gdf.geometry.x.to_numpy()\n",
    "y_loc = pts_gdf.geometry.y.to_numpy()\n",
    "z_elev = pts_gdf.Z.to_numpy()"
   ]
  },
  {
   "cell_type": "code",
   "execution_count": 102,
   "id": "6da08bde-4f4e-4c92-9458-4bd41c02f84a",
   "metadata": {},
   "outputs": [],
   "source": [
    "# model = gs.Exponential(dim=2, var=2, len_scale=8)\n",
    "model = gs.Circular(dim=2)"
   ]
  },
  {
   "cell_type": "code",
   "execution_count": 103,
   "id": "4b61fafb-a7ee-4131-96e3-138a3973c226",
   "metadata": {},
   "outputs": [],
   "source": [
    "bins = np.arange(100)\n",
    "bin_center, gamma = gs.vario_estimate((x_loc, y_loc), z_elev, bins)"
   ]
  },
  {
   "cell_type": "code",
   "execution_count": 104,
   "id": "f8a832b3-acd1-4306-af45-cabc200ec3df",
   "metadata": {},
   "outputs": [
    {
     "name": "stdout",
     "output_type": "stream",
     "text": [
      "Circular(dim=2, var=3.95, len_scale=4.31e+03, nugget=0.0)\n"
     ]
    }
   ],
   "source": [
    "fit_model = gs.Circular(dim=2)\n",
    "fit_model.fit_variogram(bin_center, gamma, nugget=False)\n",
    "print(fit_model)"
   ]
  },
  {
   "cell_type": "code",
   "execution_count": 107,
   "id": "b42dd464-bfe3-45ca-a71a-24ec78eb662a",
   "metadata": {},
   "outputs": [
    {
     "data": {
      "text/plain": [
       "(0.0, 0.2)"
      ]
     },
     "execution_count": 107,
     "metadata": {},
     "output_type": "execute_result"
    },
    {
     "data": {
      "image/png": "[encoded data removed]",
      "text/plain": [
       "<Figure size 432x288 with 1 Axes>"
      ]
     },
     "metadata": {
      "needs_background": "light"
     },
     "output_type": "display_data"
    }
   ],
   "source": [
    "ax = fit_model.plot(x_max=100)\n",
    "ax.scatter(bin_center, gamma)\n",
    "ax.set_ylim(0, 0.2)"
   ]
  },
  {
   "cell_type": "code",
   "execution_count": null,
   "id": "10f2e352-f49e-46c3-9d37-5c89bccfdc3a",
   "metadata": {},
   "outputs": [],
   "source": []
  },
  {
   "cell_type": "code",
   "execution_count": null,
   "id": "1e918b59-7a4f-48cb-bc4d-673f81ca47a1",
   "metadata": {},
   "outputs": [],
   "source": []
  }
 ],
 "metadata": {
  "kernelspec": {
   "display_name": "Python 3 (ipykernel)",
   "language": "python",
   "name": "python3"
  },
  "language_info": {
   "codemirror_mode": {
    "name": "ipython",
    "version": 3
   },
   "file_extension": ".py",
   "mimetype": "text/x-python",
   "name": "python",
   "nbconvert_exporter": "python",
   "pygments_lexer": "ipython3",
   "version": "3.9.10"
  }
 },
 "nbformat": 4,
 "nbformat_minor": 5
}
