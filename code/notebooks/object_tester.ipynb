{
 "cells": [
  {
   "cell_type": "code",
   "execution_count": null,
   "id": "4eb2d8c0-5265-4406-a877-4f4353da4106",
   "metadata": {},
   "outputs": [],
   "source": [
    "from atl_module import GebcoUpscaler\n",
    "import pandas as pd\n",
    "from sklearn.metrics import mean_squared_error"
   ]
  },
  {
   "cell_type": "code",
   "execution_count": null,
   "id": "d228498b",
   "metadata": {},
   "outputs": [],
   "source": [
    "%cd .."
   ]
  },
  {
   "cell_type": "code",
   "execution_count": null,
   "id": "ca2f1597-75ca-428e-8ffe-6fa0b64d0c1d",
   "metadata": {
    "tags": []
   },
   "outputs": [],
   "source": [
    "site = GebcoUpscaler(\"oahu\",\n",
    "                     '../data/test_sites/oahu/in-situ-DEM/truth.vrt'\n",
    "                    )"
   ]
  },
  {
   "cell_type": "code",
   "execution_count": null,
   "id": "4ef457e6",
   "metadata": {
    "tags": []
   },
   "outputs": [],
   "source": [
    "# site.download_ATL03()"
   ]
  },
  {
   "cell_type": "code",
   "execution_count": null,
   "id": "ead2e46e-9598-441e-ad72-5383cecab19d",
   "metadata": {},
   "outputs": [],
   "source": [
    "# site.recalc_tracklines_gdf()"
   ]
  },
  {
   "cell_type": "code",
   "execution_count": null,
   "id": "51e3a4c3-836e-4d70-823a-bc3db0e3bdc4",
   "metadata": {},
   "outputs": [],
   "source": [
    "# site.subset_gebco(hres=50)"
   ]
  },
  {
   "cell_type": "code",
   "execution_count": null,
   "id": "f47e471e-488e-4b2b-8221-12daeec339ce",
   "metadata": {
    "jupyter": {
     "source_hidden": true
    },
    "tags": []
   },
   "outputs": [],
   "source": [
    "# from itertools import product\n",
    "# # setup result dictionary\n",
    "# result = {}\n",
    "# # make an empty list for each result\n",
    "# result['window']=[]\n",
    "# result['perc_hconf']=[]\n",
    "# result['min_kde']=[]\n",
    "# result['rmse']=[]\n",
    "# result['MAE']=[]\n",
    "\n",
    "# # loop over the inner product of the \n",
    "# for window,perc_h,kde_min in product([100,200],[20,40,60],[0.0,0.1,0.2]):\n",
    "#     result['window'].append(window)\n",
    "#     result['perc_hconf'].append(perc_h)\n",
    "#     result['min_kde'].append(kde_min)\n",
    "#     site.find_bathy_from_icesat(\n",
    "#     window=window,\n",
    "#     threshold_val=0.0,\n",
    "#     req_perc_hconf=perc_h,\n",
    "#     window_meters=None,\n",
    "#     min_photons=None,\n",
    "#     min_kde=kde_min,\n",
    "#     save_result=False\n",
    "#     )\n",
    "#     site.lidar_rmse()\n",
    "#     result['rmse'].append(site.rmse_icesat)\n",
    "#     result['MAE'].append(site.mae_icesat)\n",
    "#     print(result)\n",
    "\n",
    "# pd.DataFrame(result).to_csv(f'../data/test_sites/{site.site}/error_stats.csv')"
   ]
  },
  {
   "cell_type": "code",
   "execution_count": null,
   "id": "9ff8e76c-e6da-4091-b02e-c16ebd91f6a8",
   "metadata": {
    "tags": []
   },
   "outputs": [],
   "source": [
    "site.find_bathy_from_icesat(\n",
    "    window=100,\n",
    "    threshold_val=0.0,\n",
    "    req_perc_hconf=40,\n",
    "    window_meters=None,\n",
    "    min_photons=None,\n",
    "    min_kde=0.1\n",
    ")\n",
    "site.lidar_error()"
   ]
  },
  {
   "cell_type": "code",
   "execution_count": null,
   "id": "b6cf430c-9049-4492-b85a-ce1e3c71ed34",
   "metadata": {},
   "outputs": [],
   "source": [
    "site.bathy_pts_gdf = site.bathy_pts_gdf.assign(z_kde = site.bathy_pts_gdf.z_kde - site.bathy_pts_gdf.dac_corr  + site.bathy_pts_gdf.tide_ocean_corr)"
   ]
  },
  {
   "cell_type": "code",
   "execution_count": null,
   "id": "bb6df787",
   "metadata": {
    "tags": []
   },
   "outputs": [],
   "source": [
    "%%time\n",
    "site.kriging(\n",
    "    npts=3000,\n",
    "    samplemethod='dart',\n",
    "    # variogram_parameters={'range':33000,'nugget':0.7,'sill':23},\n",
    "\n",
    ")"
   ]
  },
  {
   "cell_type": "code",
   "execution_count": null,
   "id": "8dce0194-dce1-4cf3-86fb-11c6677b361a",
   "metadata": {
    "tags": []
   },
   "outputs": [],
   "source": [
    "site.kalman_update(1.5)\n",
    "site.raster_rmse()"
   ]
  },
  {
   "cell_type": "code",
   "execution_count": null,
   "id": "b616181e",
   "metadata": {},
   "outputs": [],
   "source": [
    "date_indexed_tracklines  = site.tracklines.assign(date = pd.to_datetime(site.tracklines.date).dt.date).reset_index().set_index(['date','beam'])\n",
    "df = site.bathy_pts_gdf.eval('error=z_kde-true_elevation').eval('error_abs=abs(z_kde-true_elevation)').groupby([pd.to_datetime(site.bathy_pts_gdf.rename(columns={'delta_time':'date'}).date).dt.date,'beam']).mean().sort_values('error',ascending=False)\n",
    "# \n",
    "df = df.merge(date_indexed_tracklines,how='left',left_index=True,right_index=True)\n"
   ]
  },
  {
   "cell_type": "code",
   "execution_count": null,
   "id": "0a064403-fce7-4292-b879-c962eadf55dc",
   "metadata": {},
   "outputs": [],
   "source": [
    "site.bathy_pts_gdf.eval('error=z_kde-true_elevation').plot.scatter(x='error',y='sea_level_interp')"
   ]
  },
  {
   "cell_type": "code",
   "execution_count": null,
   "id": "9e43651b-5743-4141-b5b3-9f85e53cd4a9",
   "metadata": {},
   "outputs": [],
   "source": [
    "site.bathy_pts_gdf.eval('error=(z_kde-true_elevation)').plot.scatter(x='error',y='kde_val')"
   ]
  },
  {
   "cell_type": "code",
   "execution_count": null,
   "id": "aba1a86c-8447-49e5-869e-3916485c5333",
   "metadata": {},
   "outputs": [],
   "source": [
    "ax = site.bathy_pts_gdf.plot.scatter(x='true_elevation',y='z_kde',xlabel='True Elevation [m +MSL]',ylabel='Calculated Elevation [m +MSL]')\n",
    "\n",
    "ax.plot((-17.5,0),(-17.5,0),c='red')\n",
    "ax.get_figure().savefig(f'../document/figures/{site.site}_estimated_vs_truth.jpg',facecolor='white',bbox_inches='tight',dpi=800)"
   ]
  },
  {
   "cell_type": "code",
   "execution_count": null,
   "id": "c54933b0",
   "metadata": {},
   "outputs": [],
   "source": [
    "df.plot.scatter(y='error',x='oc_sig_conf')"
   ]
  },
  {
   "cell_type": "code",
   "execution_count": null,
   "id": "ccc9f249-3219-4fc0-8202-f673840b7b28",
   "metadata": {},
   "outputs": [],
   "source": [
    "df.plot.scatter(y='error',x='oc_hconf_perc')"
   ]
  },
  {
   "cell_type": "code",
   "execution_count": null,
   "id": "3fa64e5d",
   "metadata": {},
   "outputs": [],
   "source": [
    "df.plot.scatter(y='error',x='secchi_depth')"
   ]
  },
  {
   "cell_type": "code",
   "execution_count": null,
   "id": "989f98ae-ee0d-416c-b23c-49a3ead2eab0",
   "metadata": {},
   "outputs": [],
   "source": [
    "df.plot.scatter(y='error',x='tide_ocean_corr')"
   ]
  },
  {
   "cell_type": "code",
   "execution_count": null,
   "id": "59063ce7",
   "metadata": {},
   "outputs": [],
   "source": [
    "df.plot.scatter(y='error',x='dac_corr')"
   ]
  },
  {
   "cell_type": "code",
   "execution_count": null,
   "id": "516de409-402b-438b-b31a-4f401d58250a",
   "metadata": {},
   "outputs": [],
   "source": [
    "df.plot.scatter(y='error',x='kde_val')"
   ]
  },
  {
   "cell_type": "code",
   "execution_count": null,
   "id": "45b430a8-3245-419b-912b-9d662fc1a80a",
   "metadata": {},
   "outputs": [],
   "source": [
    "df.plot.scatter(y='error',x='sea_level_interp')"
   ]
  },
  {
   "cell_type": "code",
   "execution_count": null,
   "id": "c9ec7d81-8546-4fd8-8dab-26c8579fa417",
   "metadata": {},
   "outputs": [],
   "source": [
    "site.bathy_pts_gdf.eval('error=z_kde-true_elevation').corr()['error'].sort_values()"
   ]
  },
  {
   "cell_type": "code",
   "execution_count": null,
   "id": "e9d80c08",
   "metadata": {},
   "outputs": [],
   "source": [
    "df.corr()['error'].sort_values()"
   ]
  },
  {
   "cell_type": "code",
   "execution_count": null,
   "id": "49ec95d6-290d-41a6-8fb5-1b0e8e366bae",
   "metadata": {},
   "outputs": [],
   "source": [
    "site.bathy_pts_gdf[site.bathy_pts_gdf.Z_geoid>-50].dropna().eval('error=(z_kde-true_elevation)**2').error.mean()**(0.5)"
   ]
  },
  {
   "cell_type": "code",
   "execution_count": null,
   "id": "272d99cd-d4bd-4ea2-98dd-95bd9c6ee73b",
   "metadata": {},
   "outputs": [],
   "source": [
    "site.bathy_pts_gdf.eval('error=z_kde-true_elevation').error.mean()"
   ]
  },
  {
   "cell_type": "code",
   "execution_count": null,
   "id": "55a05a0b-ca21-4c64-ab15-44cb68b716d2",
   "metadata": {},
   "outputs": [],
   "source": [
    "dac_tide = site.bathy_pts_gdf.z_kde  - site.bathy_pts_gdf.dac_corr  + site.bathy_pts_gdf.tide_ocean_corr\n",
    "site.bathy_pts_gdf.assign(dac_tide=dac_tide).eval('error=(dac_tide-true_elevation)**2').error.mean()**(0.5)"
   ]
  },
  {
   "cell_type": "code",
   "execution_count": null,
   "id": "2a739697-e476-4d8e-bad1-0d02a28d0487",
   "metadata": {},
   "outputs": [],
   "source": [
    "site.bathy_pts_gdf.assign(dac_tide=dac_tide).eval('error=dac_tide-true_elevation').error.mean()"
   ]
  },
  {
   "cell_type": "code",
   "execution_count": null,
   "id": "f47a7816-2181-4964-92f1-d5a5de825efa",
   "metadata": {},
   "outputs": [],
   "source": [
    "site.bathy_pts_gdf[site.bathy_pts_gdf.Z_geoid>-50].sea_level_interp"
   ]
  },
  {
   "cell_type": "code",
   "execution_count": null,
   "id": "68c695c5-2961-4df5-9f30-673e20536847",
   "metadata": {},
   "outputs": [],
   "source": [
    "df.secchi_depth.mean()"
   ]
  },
  {
   "cell_type": "markdown",
   "id": "13f0ac89-6631-4897-bcd8-1995e74002a7",
   "metadata": {},
   "source": [
    "## "
   ]
  }
 ],
 "metadata": {
  "kernelspec": {
   "display_name": "Python 3 (ipykernel)",
   "language": "python",
   "name": "python3"
  },
  "language_info": {
   "codemirror_mode": {
    "name": "ipython",
    "version": 3
   },
   "file_extension": ".py",
   "mimetype": "text/x-python",
   "name": "python",
   "nbconvert_exporter": "python",
   "pygments_lexer": "ipython3",
   "version": "3.9.10"
  },
  "vscode": {
   "interpreter": {
    "hash": "ec7c7d4d013ec650dc8eb8b9310ce197f2a724f68d99fdc157fb921cb8b4fa41"
   }
  }
 },
 "nbformat": 4,
 "nbformat_minor": 5
}
