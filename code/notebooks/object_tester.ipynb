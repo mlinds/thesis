{
 "cells": [
  {
   "cell_type": "code",
   "execution_count": 1,
   "id": "4eb2d8c0-5265-4406-a877-4f4353da4106",
   "metadata": {},
   "outputs": [],
   "source": [
    "from atl_module import GebcoUpscaler\n",
    "# from atl_module import ocean_color\n",
    "# from atl_module import error_calc\n",
    "# from atl_module.ocean_color import add_secchi_depth_to_tracklines"
   ]
  },
  {
   "cell_type": "code",
   "execution_count": 2,
   "id": "d228498b",
   "metadata": {},
   "outputs": [
    {
     "name": "stdout",
     "output_type": "stream",
     "text": [
      "/mnt/c/Users/XCB/OneDrive - Van Oord/Documents/thesis/code\n"
     ]
    }
   ],
   "source": [
    "%cd .."
   ]
  },
  {
   "cell_type": "code",
   "execution_count": 12,
   "id": "ca2f1597-75ca-428e-8ffe-6fa0b64d0c1d",
   "metadata": {
    "tags": []
   },
   "outputs": [],
   "source": [
    "site = GebcoUpscaler(\"../data/test_sites/oahu\",\n",
    "                     '../data/test_sites/oahu/in-situ-DEM/truth.vrt'\n",
    "                    )\n",
    "# site.get_tracklines_geom()"
   ]
  },
  {
   "cell_type": "code",
   "execution_count": 13,
   "id": "4ef457e6",
   "metadata": {
    "tags": []
   },
   "outputs": [],
   "source": [
    "import pandas as pd\n",
    "site.tracklines  = site.tracklines.assign(date = pd.to_datetime(site.tracklines.date).dt.date).reset_index().set_index(['date','beam'])\n"
   ]
  },
  {
   "cell_type": "code",
   "execution_count": 9,
   "id": "51e3a4c3-836e-4d70-823a-bc3db0e3bdc4",
   "metadata": {},
   "outputs": [
    {
     "name": "stderr",
     "output_type": "stream",
     "text": [
      "[D 220722 14:25:53 raster_interaction:119] GEBCO subset raster written to ../data/test_sites/oahu/bilinear.tif, with CRS EPSG:32604\n"
     ]
    }
   ],
   "source": [
    "site.subset_gebco(hres=50)"
   ]
  },
  {
   "cell_type": "code",
   "execution_count": 10,
   "id": "0781903d-7a86-40bd-893c-0a498ee93b86",
   "metadata": {
    "collapsed": true,
    "jupyter": {
     "outputs_hidden": true
    },
    "tags": []
   },
   "outputs": [
    {
     "name": "stderr",
     "output_type": "stream",
     "text": [
      "[I 220722 14:25:54 core:82] Starting bathymetry signal finding with parameters:\n",
      "[I 220722 14:25:54 core:83] {'window_size_photons': 200, 'threshhold value': 0.0, 'Required percentage high confidence ocean photons': 0, 'minimum photons in distance window': None, 'window_horizontal': None}\n"
     ]
    },
    {
     "ename": "KeyboardInterrupt",
     "evalue": "",
     "output_type": "error",
     "traceback": [
      "\u001b[0;31m---------------------------------------------------------------------------\u001b[0m",
      "\u001b[0;31mKeyboardInterrupt\u001b[0m                         Traceback (most recent call last)",
      "Input \u001b[0;32mIn [10]\u001b[0m, in \u001b[0;36m<cell line: 1>\u001b[0;34m()\u001b[0m\n\u001b[0;32m----> 1\u001b[0m \u001b[43msite\u001b[49m\u001b[38;5;241;43m.\u001b[39;49m\u001b[43mfind_bathy_from_icesat\u001b[49m\u001b[43m(\u001b[49m\n\u001b[1;32m      2\u001b[0m \u001b[43m    \u001b[49m\u001b[43mwindow\u001b[49m\u001b[38;5;241;43m=\u001b[39;49m\u001b[38;5;241;43m200\u001b[39;49m\u001b[43m,\u001b[49m\n\u001b[1;32m      3\u001b[0m \u001b[43m    \u001b[49m\u001b[43mthreshold_val\u001b[49m\u001b[38;5;241;43m=\u001b[39;49m\u001b[38;5;241;43m0.0\u001b[39;49m\u001b[43m,\u001b[49m\n\u001b[1;32m      4\u001b[0m \u001b[43m    \u001b[49m\u001b[43mreq_perc_hconf\u001b[49m\u001b[38;5;241;43m=\u001b[39;49m\u001b[38;5;241;43m0\u001b[39;49m\u001b[43m,\u001b[49m\n\u001b[1;32m      5\u001b[0m \u001b[43m    \u001b[49m\u001b[43mwindow_meters\u001b[49m\u001b[38;5;241;43m=\u001b[39;49m\u001b[38;5;28;43;01mNone\u001b[39;49;00m\u001b[43m,\u001b[49m\n\u001b[1;32m      6\u001b[0m \u001b[43m    \u001b[49m\u001b[43mmin_photons\u001b[49m\u001b[38;5;241;43m=\u001b[39;49m\u001b[38;5;28;43;01mNone\u001b[39;49;00m\u001b[43m,\u001b[49m\n\u001b[1;32m      7\u001b[0m \u001b[43m)\u001b[49m\n",
      "File \u001b[0;32m/mnt/c/Users/XCB/OneDrive - Van Oord/Documents/thesis/code/atl_module/core.py:92\u001b[0m, in \u001b[0;36mGebcoUpscaler.find_bathy_from_icesat\u001b[0;34m(self, window, threshold_val, req_perc_hconf, min_photons, window_meters)\u001b[0m\n\u001b[1;32m     82\u001b[0m run_logger\u001b[38;5;241m.\u001b[39minfo(\u001b[38;5;124m\"\u001b[39m\u001b[38;5;124mStarting bathymetry signal finding with parameters:\u001b[39m\u001b[38;5;124m\"\u001b[39m)\n\u001b[1;32m     83\u001b[0m run_logger\u001b[38;5;241m.\u001b[39minfo(\n\u001b[1;32m     84\u001b[0m     {\n\u001b[1;32m     85\u001b[0m         \u001b[38;5;124m\"\u001b[39m\u001b[38;5;124mwindow_size_photons\u001b[39m\u001b[38;5;124m\"\u001b[39m: window,\n\u001b[0;32m   (...)\u001b[0m\n\u001b[1;32m     90\u001b[0m     },\n\u001b[1;32m     91\u001b[0m )\n\u001b[0;32m---> 92\u001b[0m bathy_pts \u001b[38;5;241m=\u001b[39m \u001b[43micesat_bathymetry\u001b[49m\u001b[38;5;241;43m.\u001b[39;49m\u001b[43mbathy_from_all_tracks_parallel\u001b[49m\u001b[43m(\u001b[49m\n\u001b[1;32m     93\u001b[0m \u001b[43m    \u001b[49m\u001b[38;5;28;43mself\u001b[39;49m\u001b[38;5;241;43m.\u001b[39;49m\u001b[43mfolderpath\u001b[49m\u001b[43m,\u001b[49m\n\u001b[1;32m     94\u001b[0m \u001b[43m    \u001b[49m\u001b[43mwindow\u001b[49m\u001b[38;5;241;43m=\u001b[39;49m\u001b[43mwindow\u001b[49m\u001b[43m,\u001b[49m\n\u001b[1;32m     95\u001b[0m \u001b[43m    \u001b[49m\u001b[43mthreshold_val\u001b[49m\u001b[38;5;241;43m=\u001b[39;49m\u001b[43mthreshold_val\u001b[49m\u001b[43m,\u001b[49m\n\u001b[1;32m     96\u001b[0m \u001b[43m    \u001b[49m\u001b[43mreq_perc_hconf\u001b[49m\u001b[38;5;241;43m=\u001b[39;49m\u001b[43mreq_perc_hconf\u001b[49m\u001b[43m,\u001b[49m\n\u001b[1;32m     97\u001b[0m \u001b[43m    \u001b[49m\u001b[43mmin_photons\u001b[49m\u001b[38;5;241;43m=\u001b[39;49m\u001b[43mmin_photons\u001b[49m\u001b[43m,\u001b[49m\n\u001b[1;32m     98\u001b[0m \u001b[43m    \u001b[49m\u001b[43mwindow_meters\u001b[49m\u001b[38;5;241;43m=\u001b[39;49m\u001b[43mwindow_meters\u001b[49m\u001b[43m,\u001b[49m\n\u001b[1;32m     99\u001b[0m \u001b[43m\u001b[49m\u001b[43m)\u001b[49m\n\u001b[1;32m    100\u001b[0m bathy_gdf \u001b[38;5;241m=\u001b[39m to_refr_corrected_gdf(bathy_pts, crs\u001b[38;5;241m=\u001b[39m\u001b[38;5;28mself\u001b[39m\u001b[38;5;241m.\u001b[39mcrs)\n\u001b[1;32m    101\u001b[0m \u001b[38;5;66;03m# if there is no truth data, just assign, otherwise add the true elevation then add it\u001b[39;00m\n",
      "File \u001b[0;32m/mnt/c/Users/XCB/OneDrive - Van Oord/Documents/thesis/code/atl_module/bathymetry_extraction/icesat_bathymetry.py:179\u001b[0m, in \u001b[0;36mbathy_from_all_tracks_parallel\u001b[0;34m(folderpath, window, threshold_val, req_perc_hconf, window_meters, min_photons)\u001b[0m\n\u001b[1;32m    168\u001b[0m filenamelist \u001b[38;5;241m=\u001b[39m \u001b[38;5;28mlist\u001b[39m(\n\u001b[1;32m    169\u001b[0m     \u001b[38;5;28mzip\u001b[39m(\n\u001b[1;32m    170\u001b[0m         iglob(folderpath \u001b[38;5;241m+\u001b[39m \u001b[38;5;124m\"\u001b[39m\u001b[38;5;124m/ATL03/*.nc\u001b[39m\u001b[38;5;124m\"\u001b[39m),\n\u001b[0;32m   (...)\u001b[0m\n\u001b[1;32m    176\u001b[0m     )\n\u001b[1;32m    177\u001b[0m )\n\u001b[1;32m    178\u001b[0m \u001b[38;5;28;01mwith\u001b[39;00m Pool() \u001b[38;5;28;01mas\u001b[39;00m pool:\n\u001b[0;32m--> 179\u001b[0m     result \u001b[38;5;241m=\u001b[39m \u001b[43mpool\u001b[49m\u001b[38;5;241;43m.\u001b[39;49m\u001b[43mstarmap\u001b[49m\u001b[43m(\u001b[49m\u001b[43mget_all_bathy_from_granule\u001b[49m\u001b[43m,\u001b[49m\u001b[43m \u001b[49m\u001b[43mfilenamelist\u001b[49m\u001b[43m)\u001b[49m\n\u001b[1;32m    180\u001b[0m \u001b[38;5;66;03m# catch the case where there is no bathymetry found in the granule\u001b[39;00m\n\u001b[1;32m    181\u001b[0m \u001b[38;5;28;01mif\u001b[39;00m \u001b[38;5;28mlen\u001b[39m(result) \u001b[38;5;241m>\u001b[39m \u001b[38;5;241m1\u001b[39m:\n",
      "File \u001b[0;32m~/mambaforge/envs/thesis_env/lib/python3.9/multiprocessing/pool.py:372\u001b[0m, in \u001b[0;36mPool.starmap\u001b[0;34m(self, func, iterable, chunksize)\u001b[0m\n\u001b[1;32m    366\u001b[0m \u001b[38;5;28;01mdef\u001b[39;00m \u001b[38;5;21mstarmap\u001b[39m(\u001b[38;5;28mself\u001b[39m, func, iterable, chunksize\u001b[38;5;241m=\u001b[39m\u001b[38;5;28;01mNone\u001b[39;00m):\n\u001b[1;32m    367\u001b[0m     \u001b[38;5;124;03m'''\u001b[39;00m\n\u001b[1;32m    368\u001b[0m \u001b[38;5;124;03m    Like `map()` method but the elements of the `iterable` are expected to\u001b[39;00m\n\u001b[1;32m    369\u001b[0m \u001b[38;5;124;03m    be iterables as well and will be unpacked as arguments. Hence\u001b[39;00m\n\u001b[1;32m    370\u001b[0m \u001b[38;5;124;03m    `func` and (a, b) becomes func(a, b).\u001b[39;00m\n\u001b[1;32m    371\u001b[0m \u001b[38;5;124;03m    '''\u001b[39;00m\n\u001b[0;32m--> 372\u001b[0m     \u001b[38;5;28;01mreturn\u001b[39;00m \u001b[38;5;28;43mself\u001b[39;49m\u001b[38;5;241;43m.\u001b[39;49m\u001b[43m_map_async\u001b[49m\u001b[43m(\u001b[49m\u001b[43mfunc\u001b[49m\u001b[43m,\u001b[49m\u001b[43m \u001b[49m\u001b[43miterable\u001b[49m\u001b[43m,\u001b[49m\u001b[43m \u001b[49m\u001b[43mstarmapstar\u001b[49m\u001b[43m,\u001b[49m\u001b[43m \u001b[49m\u001b[43mchunksize\u001b[49m\u001b[43m)\u001b[49m\u001b[38;5;241;43m.\u001b[39;49m\u001b[43mget\u001b[49m\u001b[43m(\u001b[49m\u001b[43m)\u001b[49m\n",
      "File \u001b[0;32m~/mambaforge/envs/thesis_env/lib/python3.9/multiprocessing/pool.py:765\u001b[0m, in \u001b[0;36mApplyResult.get\u001b[0;34m(self, timeout)\u001b[0m\n\u001b[1;32m    764\u001b[0m \u001b[38;5;28;01mdef\u001b[39;00m \u001b[38;5;21mget\u001b[39m(\u001b[38;5;28mself\u001b[39m, timeout\u001b[38;5;241m=\u001b[39m\u001b[38;5;28;01mNone\u001b[39;00m):\n\u001b[0;32m--> 765\u001b[0m     \u001b[38;5;28;43mself\u001b[39;49m\u001b[38;5;241;43m.\u001b[39;49m\u001b[43mwait\u001b[49m\u001b[43m(\u001b[49m\u001b[43mtimeout\u001b[49m\u001b[43m)\u001b[49m\n\u001b[1;32m    766\u001b[0m     \u001b[38;5;28;01mif\u001b[39;00m \u001b[38;5;129;01mnot\u001b[39;00m \u001b[38;5;28mself\u001b[39m\u001b[38;5;241m.\u001b[39mready():\n\u001b[1;32m    767\u001b[0m         \u001b[38;5;28;01mraise\u001b[39;00m \u001b[38;5;167;01mTimeoutError\u001b[39;00m\n",
      "File \u001b[0;32m~/mambaforge/envs/thesis_env/lib/python3.9/multiprocessing/pool.py:762\u001b[0m, in \u001b[0;36mApplyResult.wait\u001b[0;34m(self, timeout)\u001b[0m\n\u001b[1;32m    761\u001b[0m \u001b[38;5;28;01mdef\u001b[39;00m \u001b[38;5;21mwait\u001b[39m(\u001b[38;5;28mself\u001b[39m, timeout\u001b[38;5;241m=\u001b[39m\u001b[38;5;28;01mNone\u001b[39;00m):\n\u001b[0;32m--> 762\u001b[0m     \u001b[38;5;28;43mself\u001b[39;49m\u001b[38;5;241;43m.\u001b[39;49m\u001b[43m_event\u001b[49m\u001b[38;5;241;43m.\u001b[39;49m\u001b[43mwait\u001b[49m\u001b[43m(\u001b[49m\u001b[43mtimeout\u001b[49m\u001b[43m)\u001b[49m\n",
      "File \u001b[0;32m~/mambaforge/envs/thesis_env/lib/python3.9/threading.py:574\u001b[0m, in \u001b[0;36mEvent.wait\u001b[0;34m(self, timeout)\u001b[0m\n\u001b[1;32m    572\u001b[0m signaled \u001b[38;5;241m=\u001b[39m \u001b[38;5;28mself\u001b[39m\u001b[38;5;241m.\u001b[39m_flag\n\u001b[1;32m    573\u001b[0m \u001b[38;5;28;01mif\u001b[39;00m \u001b[38;5;129;01mnot\u001b[39;00m signaled:\n\u001b[0;32m--> 574\u001b[0m     signaled \u001b[38;5;241m=\u001b[39m \u001b[38;5;28;43mself\u001b[39;49m\u001b[38;5;241;43m.\u001b[39;49m\u001b[43m_cond\u001b[49m\u001b[38;5;241;43m.\u001b[39;49m\u001b[43mwait\u001b[49m\u001b[43m(\u001b[49m\u001b[43mtimeout\u001b[49m\u001b[43m)\u001b[49m\n\u001b[1;32m    575\u001b[0m \u001b[38;5;28;01mreturn\u001b[39;00m signaled\n",
      "File \u001b[0;32m~/mambaforge/envs/thesis_env/lib/python3.9/threading.py:312\u001b[0m, in \u001b[0;36mCondition.wait\u001b[0;34m(self, timeout)\u001b[0m\n\u001b[1;32m    310\u001b[0m \u001b[38;5;28;01mtry\u001b[39;00m:    \u001b[38;5;66;03m# restore state no matter what (e.g., KeyboardInterrupt)\u001b[39;00m\n\u001b[1;32m    311\u001b[0m     \u001b[38;5;28;01mif\u001b[39;00m timeout \u001b[38;5;129;01mis\u001b[39;00m \u001b[38;5;28;01mNone\u001b[39;00m:\n\u001b[0;32m--> 312\u001b[0m         \u001b[43mwaiter\u001b[49m\u001b[38;5;241;43m.\u001b[39;49m\u001b[43macquire\u001b[49m\u001b[43m(\u001b[49m\u001b[43m)\u001b[49m\n\u001b[1;32m    313\u001b[0m         gotit \u001b[38;5;241m=\u001b[39m \u001b[38;5;28;01mTrue\u001b[39;00m\n\u001b[1;32m    314\u001b[0m     \u001b[38;5;28;01melse\u001b[39;00m:\n",
      "\u001b[0;31mKeyboardInterrupt\u001b[0m: "
     ]
    }
   ],
   "source": [
    "# site.find_bathy_from_icesat(\n",
    "#     window=200,\n",
    "#     threshold_val=0.0,\n",
    "#     req_perc_hconf=0,\n",
    "#     window_meters=None,\n",
    "#     min_photons=None,\n",
    "# )"
   ]
  },
  {
   "cell_type": "code",
   "execution_count": null,
   "id": "bb6df787",
   "metadata": {},
   "outputs": [
    {
     "name": "stderr",
     "output_type": "stream",
     "text": [
      "[I 220720 17:18:49 core:110] Kriging using 2000 points with crs epsg:32617\n",
      "[D 220720 17:19:21 kriging:26] 2000 points remaining after relaxation dart throwing culling\n",
      "[D 220720 17:19:21 kriging:37] 2000 Points written to output LAZ and geopackage files\n"
     ]
    },
    {
     "name": "stdout",
     "output_type": "stream",
     "text": [
      "Adjusting data for anisotropy...\n",
      "Initializing variogram model...\n",
      "Using 'spherical' Variogram Model\n",
      "Partial Sill: 9.92045672757883\n",
      "Full Sill: 10.25219629713992\n",
      "Range: 34271.506297566135\n",
      "Nugget: 0.331739569561089 \n",
      "\n",
      "Calculating statistics on variogram model fit...\n"
     ]
    }
   ],
   "source": [
    "# site.kriging(npts=2000)"
   ]
  },
  {
   "cell_type": "code",
   "execution_count": 14,
   "id": "326838fa-0280-4afc-a191-05fad4b9539b",
   "metadata": {},
   "outputs": [
    {
     "name": "stderr",
     "output_type": "stream",
     "text": [
      "[I 220722 14:26:45 core:139] Truth data added to Bathymetric Points dataframe\n"
     ]
    }
   ],
   "source": [
    "site.add_truth_data()"
   ]
  },
  {
   "cell_type": "code",
   "execution_count": 15,
   "id": "6402a5fe",
   "metadata": {},
   "outputs": [
    {
     "name": "stderr",
     "output_type": "stream",
     "text": [
      "[I 220722 14:27:34 core:131] RMSE btween icesat and truth 555.7465997757755\n"
     ]
    }
   ],
   "source": [
    "# site.kalman(1.5)\n",
    "site.lidar_rmse()\n",
    "# site.raster_rmse()"
   ]
  },
  {
   "cell_type": "code",
   "execution_count": 16,
   "id": "b616181e",
   "metadata": {},
   "outputs": [
    {
     "data": {
      "text/plain": [
       "23.063949769930105"
      ]
     },
     "execution_count": 16,
     "metadata": {},
     "output_type": "execute_result"
    }
   ],
   "source": [
    "df = site.bathy_pts_gdf.eval('error=abs(z_kde-tide_ocean_corr-true_elevation)').groupby([site.bathy_pts_gdf.rename(columns={'delta_time':'date'}).date.dt.date,'beam']).mean()\n",
    "# df.sort_values('error',ascending=False)\n",
    "df.error.pow(2).mean()**0.5"
   ]
  },
  {
   "cell_type": "code",
   "execution_count": 17,
   "id": "9c017930",
   "metadata": {},
   "outputs": [
    {
     "data": {
      "text/plain": [
       "date        beam\n",
       "2018-10-16  gt1r    35.707355\n",
       "            gt2r    36.124050\n",
       "            gt3r    36.391811\n",
       "2018-11-07  gt1l    15.512530\n",
       "            gt1r    15.512530\n",
       "                      ...    \n",
       "2022-01-09  gt3r          NaN\n",
       "2022-04-02  gt2l          NaN\n",
       "            gt2r          NaN\n",
       "            gt3l          NaN\n",
       "            gt3r          NaN\n",
       "Name: secchi_depth, Length: 202, dtype: float64"
      ]
     },
     "execution_count": 17,
     "metadata": {},
     "output_type": "execute_result"
    }
   ],
   "source": [
    "site.tracklines.secchi_depth"
   ]
  },
  {
   "cell_type": "code",
   "execution_count": 18,
   "id": "399f07b4-b248-4b17-817b-e83ef8572d7d",
   "metadata": {},
   "outputs": [
    {
     "data": {
      "text/html": [
       "<div>\n",
       "<style scoped>\n",
       "    .dataframe tbody tr th:only-of-type {\n",
       "        vertical-align: middle;\n",
       "    }\n",
       "\n",
       "    .dataframe tbody tr th {\n",
       "        vertical-align: top;\n",
       "    }\n",
       "\n",
       "    .dataframe thead th {\n",
       "        text-align: right;\n",
       "    }\n",
       "</style>\n",
       "<table border=\"1\" class=\"dataframe\">\n",
       "  <thead>\n",
       "    <tr style=\"text-align: right;\">\n",
       "      <th></th>\n",
       "      <th></th>\n",
       "      <th>X</th>\n",
       "      <th>Y</th>\n",
       "      <th>Z_ellip</th>\n",
       "      <th>Z_geoid</th>\n",
       "      <th>geoid_corr</th>\n",
       "      <th>tide_ocean_corr</th>\n",
       "      <th>geof2m_corr</th>\n",
       "      <th>oc_sig_conf</th>\n",
       "      <th>land_sig_conf</th>\n",
       "      <th>p_vec_az</th>\n",
       "      <th>...</th>\n",
       "      <th>gebco_elev</th>\n",
       "      <th>sea_level_interp</th>\n",
       "      <th>Z_refr</th>\n",
       "      <th>easting_corr</th>\n",
       "      <th>northing_corr</th>\n",
       "      <th>z_kde</th>\n",
       "      <th>kde_val</th>\n",
       "      <th>oc_hconf_perc</th>\n",
       "      <th>true_elevation</th>\n",
       "      <th>error</th>\n",
       "    </tr>\n",
       "    <tr>\n",
       "      <th>date</th>\n",
       "      <th>beam</th>\n",
       "      <th></th>\n",
       "      <th></th>\n",
       "      <th></th>\n",
       "      <th></th>\n",
       "      <th></th>\n",
       "      <th></th>\n",
       "      <th></th>\n",
       "      <th></th>\n",
       "      <th></th>\n",
       "      <th></th>\n",
       "      <th></th>\n",
       "      <th></th>\n",
       "      <th></th>\n",
       "      <th></th>\n",
       "      <th></th>\n",
       "      <th></th>\n",
       "      <th></th>\n",
       "      <th></th>\n",
       "      <th></th>\n",
       "      <th></th>\n",
       "      <th></th>\n",
       "    </tr>\n",
       "  </thead>\n",
       "  <tbody>\n",
       "    <tr>\n",
       "      <th rowspan=\"3\" valign=\"top\">2018-11-07</th>\n",
       "      <th>gt1l</th>\n",
       "      <td>-157.682302</td>\n",
       "      <td>21.366422</td>\n",
       "      <td>-113.140621</td>\n",
       "      <td>-129.031910</td>\n",
       "      <td>15.725544</td>\n",
       "      <td>0.110643</td>\n",
       "      <td>0.077624</td>\n",
       "      <td>0.496513</td>\n",
       "      <td>0.469317</td>\n",
       "      <td>2.584551</td>\n",
       "      <td>...</td>\n",
       "      <td>-15.513947</td>\n",
       "      <td>-110.990995</td>\n",
       "      <td>-124.455988</td>\n",
       "      <td>0.237169</td>\n",
       "      <td>-0.380652</td>\n",
       "      <td>-122.039865</td>\n",
       "      <td>0.049185</td>\n",
       "      <td>2.461168</td>\n",
       "      <td>-13.394112</td>\n",
       "      <td>108.855541</td>\n",
       "    </tr>\n",
       "    <tr>\n",
       "      <th>gt1r</th>\n",
       "      <td>-157.682976</td>\n",
       "      <td>21.361211</td>\n",
       "      <td>-108.570891</td>\n",
       "      <td>-124.475050</td>\n",
       "      <td>15.738049</td>\n",
       "      <td>0.110889</td>\n",
       "      <td>0.077647</td>\n",
       "      <td>0.704382</td>\n",
       "      <td>1.049520</td>\n",
       "      <td>2.532580</td>\n",
       "      <td>...</td>\n",
       "      <td>-13.215186</td>\n",
       "      <td>-111.282361</td>\n",
       "      <td>-121.127738</td>\n",
       "      <td>0.172031</td>\n",
       "      <td>-0.246337</td>\n",
       "      <td>-118.428749</td>\n",
       "      <td>0.080247</td>\n",
       "      <td>68.050636</td>\n",
       "      <td>-9.488555</td>\n",
       "      <td>108.504709</td>\n",
       "    </tr>\n",
       "    <tr>\n",
       "      <th>gt2r</th>\n",
       "      <td>-157.646784</td>\n",
       "      <td>21.324872</td>\n",
       "      <td>-108.787823</td>\n",
       "      <td>-124.444438</td>\n",
       "      <td>15.486452</td>\n",
       "      <td>0.114003</td>\n",
       "      <td>0.077814</td>\n",
       "      <td>0.122449</td>\n",
       "      <td>0.034014</td>\n",
       "      <td>2.667806</td>\n",
       "      <td>...</td>\n",
       "      <td>-38.346939</td>\n",
       "      <td>-111.063246</td>\n",
       "      <td>-121.048586</td>\n",
       "      <td>0.130286</td>\n",
       "      <td>-0.254101</td>\n",
       "      <td>-117.972818</td>\n",
       "      <td>0.052543</td>\n",
       "      <td>67.608030</td>\n",
       "      <td>-36.606347</td>\n",
       "      <td>81.480474</td>\n",
       "    </tr>\n",
       "    <tr>\n",
       "      <th>2019-01-07</th>\n",
       "      <th>gt3l</th>\n",
       "      <td>-157.889536</td>\n",
       "      <td>21.596803</td>\n",
       "      <td>4.451736</td>\n",
       "      <td>-10.025323</td>\n",
       "      <td>14.572023</td>\n",
       "      <td>-0.082443</td>\n",
       "      <td>0.076569</td>\n",
       "      <td>1.143434</td>\n",
       "      <td>1.565657</td>\n",
       "      <td>2.825862</td>\n",
       "      <td>...</td>\n",
       "      <td>-2.515152</td>\n",
       "      <td>0.845032</td>\n",
       "      <td>-7.279603</td>\n",
       "      <td>0.146092</td>\n",
       "      <td>-0.447223</td>\n",
       "      <td>-2.177058</td>\n",
       "      <td>0.085510</td>\n",
       "      <td>24.969629</td>\n",
       "      <td>-3.571245</td>\n",
       "      <td>1.578165</td>\n",
       "    </tr>\n",
       "    <tr>\n",
       "      <th>2019-01-15</th>\n",
       "      <th>gt1l</th>\n",
       "      <td>-157.834294</td>\n",
       "      <td>21.516209</td>\n",
       "      <td>13.894988</td>\n",
       "      <td>-1.592599</td>\n",
       "      <td>15.322932</td>\n",
       "      <td>0.148816</td>\n",
       "      <td>0.076938</td>\n",
       "      <td>3.669023</td>\n",
       "      <td>3.981289</td>\n",
       "      <td>0.261060</td>\n",
       "      <td>...</td>\n",
       "      <td>-1.871933</td>\n",
       "      <td>0.436796</td>\n",
       "      <td>-1.079827</td>\n",
       "      <td>0.022048</td>\n",
       "      <td>0.082537</td>\n",
       "      <td>-0.822019</td>\n",
       "      <td>0.697312</td>\n",
       "      <td>96.328679</td>\n",
       "      <td>-1.121654</td>\n",
       "      <td>0.207972</td>\n",
       "    </tr>\n",
       "    <tr>\n",
       "      <th>...</th>\n",
       "      <th>...</th>\n",
       "      <td>...</td>\n",
       "      <td>...</td>\n",
       "      <td>...</td>\n",
       "      <td>...</td>\n",
       "      <td>...</td>\n",
       "      <td>...</td>\n",
       "      <td>...</td>\n",
       "      <td>...</td>\n",
       "      <td>...</td>\n",
       "      <td>...</td>\n",
       "      <td>...</td>\n",
       "      <td>...</td>\n",
       "      <td>...</td>\n",
       "      <td>...</td>\n",
       "      <td>...</td>\n",
       "      <td>...</td>\n",
       "      <td>...</td>\n",
       "      <td>...</td>\n",
       "      <td>...</td>\n",
       "      <td>...</td>\n",
       "      <td>...</td>\n",
       "    </tr>\n",
       "    <tr>\n",
       "      <th>2022-01-01</th>\n",
       "      <th>gt1r</th>\n",
       "      <td>-157.819256</td>\n",
       "      <td>21.517570</td>\n",
       "      <td>3.621844</td>\n",
       "      <td>-11.630178</td>\n",
       "      <td>15.202754</td>\n",
       "      <td>-0.013919</td>\n",
       "      <td>0.076932</td>\n",
       "      <td>0.749392</td>\n",
       "      <td>0.805353</td>\n",
       "      <td>1.136478</td>\n",
       "      <td>...</td>\n",
       "      <td>-6.834550</td>\n",
       "      <td>0.534963</td>\n",
       "      <td>-8.538420</td>\n",
       "      <td>0.040964</td>\n",
       "      <td>0.019001</td>\n",
       "      <td>-4.618498</td>\n",
       "      <td>0.075414</td>\n",
       "      <td>38.139427</td>\n",
       "      <td>-5.533162</td>\n",
       "      <td>0.986210</td>\n",
       "    </tr>\n",
       "    <tr>\n",
       "      <th rowspan=\"4\" valign=\"top\">2022-01-09</th>\n",
       "      <th>gt1l</th>\n",
       "      <td>-157.778983</td>\n",
       "      <td>21.458061</td>\n",
       "      <td>10.894583</td>\n",
       "      <td>-4.888987</td>\n",
       "      <td>15.747430</td>\n",
       "      <td>-0.007315</td>\n",
       "      <td>0.077204</td>\n",
       "      <td>0.956113</td>\n",
       "      <td>3.670846</td>\n",
       "      <td>-1.177533</td>\n",
       "      <td>...</td>\n",
       "      <td>-3.231975</td>\n",
       "      <td>0.776227</td>\n",
       "      <td>-3.449182</td>\n",
       "      <td>-0.019995</td>\n",
       "      <td>0.008295</td>\n",
       "      <td>-2.412335</td>\n",
       "      <td>0.195529</td>\n",
       "      <td>97.732918</td>\n",
       "      <td>-3.436816</td>\n",
       "      <td>0.911484</td>\n",
       "    </tr>\n",
       "    <tr>\n",
       "      <th>gt1r</th>\n",
       "      <td>-157.780712</td>\n",
       "      <td>21.450153</td>\n",
       "      <td>14.976436</td>\n",
       "      <td>-0.907146</td>\n",
       "      <td>15.847406</td>\n",
       "      <td>-0.007251</td>\n",
       "      <td>0.077240</td>\n",
       "      <td>1.000000</td>\n",
       "      <td>4.000000</td>\n",
       "      <td>-1.816667</td>\n",
       "      <td>...</td>\n",
       "      <td>-4.000000</td>\n",
       "      <td>0.763357</td>\n",
       "      <td>-0.482591</td>\n",
       "      <td>-0.006137</td>\n",
       "      <td>-0.001540</td>\n",
       "      <td>-2.039447</td>\n",
       "      <td>0.085365</td>\n",
       "      <td>97.729265</td>\n",
       "      <td>-0.740731</td>\n",
       "      <td>1.291464</td>\n",
       "    </tr>\n",
       "    <tr>\n",
       "      <th>gt3l</th>\n",
       "      <td>-157.839517</td>\n",
       "      <td>21.471449</td>\n",
       "      <td>9.809662</td>\n",
       "      <td>-6.097793</td>\n",
       "      <td>15.871139</td>\n",
       "      <td>-0.007094</td>\n",
       "      <td>0.077143</td>\n",
       "      <td>0.818182</td>\n",
       "      <td>3.204545</td>\n",
       "      <td>1.203729</td>\n",
       "      <td>...</td>\n",
       "      <td>-1.579545</td>\n",
       "      <td>0.760704</td>\n",
       "      <td>-4.354685</td>\n",
       "      <td>0.019019</td>\n",
       "      <td>0.007312</td>\n",
       "      <td>-0.820756</td>\n",
       "      <td>0.101121</td>\n",
       "      <td>97.583474</td>\n",
       "      <td>-1.001551</td>\n",
       "      <td>0.245308</td>\n",
       "    </tr>\n",
       "    <tr>\n",
       "      <th>gt3r</th>\n",
       "      <td>-157.840491</td>\n",
       "      <td>21.470031</td>\n",
       "      <td>4.289110</td>\n",
       "      <td>-11.634462</td>\n",
       "      <td>15.887244</td>\n",
       "      <td>-0.007078</td>\n",
       "      <td>0.077149</td>\n",
       "      <td>0.680000</td>\n",
       "      <td>2.400000</td>\n",
       "      <td>2.035938</td>\n",
       "      <td>...</td>\n",
       "      <td>-1.440000</td>\n",
       "      <td>0.770187</td>\n",
       "      <td>-8.481779</td>\n",
       "      <td>0.032534</td>\n",
       "      <td>-0.016328</td>\n",
       "      <td>-1.267568</td>\n",
       "      <td>0.080659</td>\n",
       "      <td>97.450857</td>\n",
       "      <td>-0.817867</td>\n",
       "      <td>0.442623</td>\n",
       "    </tr>\n",
       "  </tbody>\n",
       "</table>\n",
       "<p>61 rows × 25 columns</p>\n",
       "</div>"
      ],
      "text/plain": [
       "                          X          Y     Z_ellip     Z_geoid  geoid_corr  \\\n",
       "date       beam                                                              \n",
       "2018-11-07 gt1l -157.682302  21.366422 -113.140621 -129.031910   15.725544   \n",
       "           gt1r -157.682976  21.361211 -108.570891 -124.475050   15.738049   \n",
       "           gt2r -157.646784  21.324872 -108.787823 -124.444438   15.486452   \n",
       "2019-01-07 gt3l -157.889536  21.596803    4.451736  -10.025323   14.572023   \n",
       "2019-01-15 gt1l -157.834294  21.516209   13.894988   -1.592599   15.322932   \n",
       "...                     ...        ...         ...         ...         ...   \n",
       "2022-01-01 gt1r -157.819256  21.517570    3.621844  -11.630178   15.202754   \n",
       "2022-01-09 gt1l -157.778983  21.458061   10.894583   -4.888987   15.747430   \n",
       "           gt1r -157.780712  21.450153   14.976436   -0.907146   15.847406   \n",
       "           gt3l -157.839517  21.471449    9.809662   -6.097793   15.871139   \n",
       "           gt3r -157.840491  21.470031    4.289110  -11.634462   15.887244   \n",
       "\n",
       "                 tide_ocean_corr  geof2m_corr  oc_sig_conf  land_sig_conf  \\\n",
       "date       beam                                                             \n",
       "2018-11-07 gt1l         0.110643     0.077624     0.496513       0.469317   \n",
       "           gt1r         0.110889     0.077647     0.704382       1.049520   \n",
       "           gt2r         0.114003     0.077814     0.122449       0.034014   \n",
       "2019-01-07 gt3l        -0.082443     0.076569     1.143434       1.565657   \n",
       "2019-01-15 gt1l         0.148816     0.076938     3.669023       3.981289   \n",
       "...                          ...          ...          ...            ...   \n",
       "2022-01-01 gt1r        -0.013919     0.076932     0.749392       0.805353   \n",
       "2022-01-09 gt1l        -0.007315     0.077204     0.956113       3.670846   \n",
       "           gt1r        -0.007251     0.077240     1.000000       4.000000   \n",
       "           gt3l        -0.007094     0.077143     0.818182       3.204545   \n",
       "           gt3r        -0.007078     0.077149     0.680000       2.400000   \n",
       "\n",
       "                 p_vec_az  ...  gebco_elev  sea_level_interp      Z_refr  \\\n",
       "date       beam            ...                                             \n",
       "2018-11-07 gt1l  2.584551  ...  -15.513947       -110.990995 -124.455988   \n",
       "           gt1r  2.532580  ...  -13.215186       -111.282361 -121.127738   \n",
       "           gt2r  2.667806  ...  -38.346939       -111.063246 -121.048586   \n",
       "2019-01-07 gt3l  2.825862  ...   -2.515152          0.845032   -7.279603   \n",
       "2019-01-15 gt1l  0.261060  ...   -1.871933          0.436796   -1.079827   \n",
       "...                   ...  ...         ...               ...         ...   \n",
       "2022-01-01 gt1r  1.136478  ...   -6.834550          0.534963   -8.538420   \n",
       "2022-01-09 gt1l -1.177533  ...   -3.231975          0.776227   -3.449182   \n",
       "           gt1r -1.816667  ...   -4.000000          0.763357   -0.482591   \n",
       "           gt3l  1.203729  ...   -1.579545          0.760704   -4.354685   \n",
       "           gt3r  2.035938  ...   -1.440000          0.770187   -8.481779   \n",
       "\n",
       "                 easting_corr  northing_corr       z_kde   kde_val  \\\n",
       "date       beam                                                      \n",
       "2018-11-07 gt1l      0.237169      -0.380652 -122.039865  0.049185   \n",
       "           gt1r      0.172031      -0.246337 -118.428749  0.080247   \n",
       "           gt2r      0.130286      -0.254101 -117.972818  0.052543   \n",
       "2019-01-07 gt3l      0.146092      -0.447223   -2.177058  0.085510   \n",
       "2019-01-15 gt1l      0.022048       0.082537   -0.822019  0.697312   \n",
       "...                       ...            ...         ...       ...   \n",
       "2022-01-01 gt1r      0.040964       0.019001   -4.618498  0.075414   \n",
       "2022-01-09 gt1l     -0.019995       0.008295   -2.412335  0.195529   \n",
       "           gt1r     -0.006137      -0.001540   -2.039447  0.085365   \n",
       "           gt3l      0.019019       0.007312   -0.820756  0.101121   \n",
       "           gt3r      0.032534      -0.016328   -1.267568  0.080659   \n",
       "\n",
       "                 oc_hconf_perc  true_elevation       error  \n",
       "date       beam                                             \n",
       "2018-11-07 gt1l       2.461168      -13.394112  108.855541  \n",
       "           gt1r      68.050636       -9.488555  108.504709  \n",
       "           gt2r      67.608030      -36.606347   81.480474  \n",
       "2019-01-07 gt3l      24.969629       -3.571245    1.578165  \n",
       "2019-01-15 gt1l      96.328679       -1.121654    0.207972  \n",
       "...                        ...             ...         ...  \n",
       "2022-01-01 gt1r      38.139427       -5.533162    0.986210  \n",
       "2022-01-09 gt1l      97.732918       -3.436816    0.911484  \n",
       "           gt1r      97.729265       -0.740731    1.291464  \n",
       "           gt3l      97.583474       -1.001551    0.245308  \n",
       "           gt3r      97.450857       -0.817867    0.442623  \n",
       "\n",
       "[61 rows x 25 columns]"
      ]
     },
     "execution_count": 18,
     "metadata": {},
     "output_type": "execute_result"
    }
   ],
   "source": [
    "df"
   ]
  },
  {
   "cell_type": "code",
   "execution_count": 19,
   "id": "a073618d",
   "metadata": {},
   "outputs": [
    {
     "data": {
      "text/html": [
       "<div>\n",
       "<style scoped>\n",
       "    .dataframe tbody tr th:only-of-type {\n",
       "        vertical-align: middle;\n",
       "    }\n",
       "\n",
       "    .dataframe tbody tr th {\n",
       "        vertical-align: top;\n",
       "    }\n",
       "\n",
       "    .dataframe thead th {\n",
       "        text-align: right;\n",
       "    }\n",
       "</style>\n",
       "<table border=\"1\" class=\"dataframe\">\n",
       "  <thead>\n",
       "    <tr style=\"text-align: right;\">\n",
       "      <th></th>\n",
       "      <th></th>\n",
       "      <th>X</th>\n",
       "      <th>Y</th>\n",
       "      <th>Z_ellip</th>\n",
       "      <th>Z_geoid</th>\n",
       "      <th>geoid_corr</th>\n",
       "      <th>tide_ocean_corr</th>\n",
       "      <th>geof2m_corr</th>\n",
       "      <th>oc_sig_conf</th>\n",
       "      <th>land_sig_conf</th>\n",
       "      <th>p_vec_az</th>\n",
       "      <th>...</th>\n",
       "      <th>sea_level_interp</th>\n",
       "      <th>Z_refr</th>\n",
       "      <th>easting_corr</th>\n",
       "      <th>northing_corr</th>\n",
       "      <th>z_kde</th>\n",
       "      <th>kde_val</th>\n",
       "      <th>oc_hconf_perc</th>\n",
       "      <th>true_elevation</th>\n",
       "      <th>error</th>\n",
       "      <th>secchi_depth</th>\n",
       "    </tr>\n",
       "    <tr>\n",
       "      <th>date</th>\n",
       "      <th>beam</th>\n",
       "      <th></th>\n",
       "      <th></th>\n",
       "      <th></th>\n",
       "      <th></th>\n",
       "      <th></th>\n",
       "      <th></th>\n",
       "      <th></th>\n",
       "      <th></th>\n",
       "      <th></th>\n",
       "      <th></th>\n",
       "      <th></th>\n",
       "      <th></th>\n",
       "      <th></th>\n",
       "      <th></th>\n",
       "      <th></th>\n",
       "      <th></th>\n",
       "      <th></th>\n",
       "      <th></th>\n",
       "      <th></th>\n",
       "      <th></th>\n",
       "      <th></th>\n",
       "    </tr>\n",
       "  </thead>\n",
       "  <tbody>\n",
       "    <tr>\n",
       "      <th rowspan=\"3\" valign=\"top\">2018-11-07</th>\n",
       "      <th>gt1l</th>\n",
       "      <td>-157.682302</td>\n",
       "      <td>21.366422</td>\n",
       "      <td>-113.140621</td>\n",
       "      <td>-129.031910</td>\n",
       "      <td>15.725544</td>\n",
       "      <td>0.110643</td>\n",
       "      <td>0.077624</td>\n",
       "      <td>0.496513</td>\n",
       "      <td>0.469317</td>\n",
       "      <td>2.584551</td>\n",
       "      <td>...</td>\n",
       "      <td>-110.990995</td>\n",
       "      <td>-124.455988</td>\n",
       "      <td>0.237169</td>\n",
       "      <td>-0.380652</td>\n",
       "      <td>-122.039865</td>\n",
       "      <td>0.049185</td>\n",
       "      <td>2.461168</td>\n",
       "      <td>-13.394112</td>\n",
       "      <td>108.855541</td>\n",
       "      <td>15.512530</td>\n",
       "    </tr>\n",
       "    <tr>\n",
       "      <th>gt1r</th>\n",
       "      <td>-157.682976</td>\n",
       "      <td>21.361211</td>\n",
       "      <td>-108.570891</td>\n",
       "      <td>-124.475050</td>\n",
       "      <td>15.738049</td>\n",
       "      <td>0.110889</td>\n",
       "      <td>0.077647</td>\n",
       "      <td>0.704382</td>\n",
       "      <td>1.049520</td>\n",
       "      <td>2.532580</td>\n",
       "      <td>...</td>\n",
       "      <td>-111.282361</td>\n",
       "      <td>-121.127738</td>\n",
       "      <td>0.172031</td>\n",
       "      <td>-0.246337</td>\n",
       "      <td>-118.428749</td>\n",
       "      <td>0.080247</td>\n",
       "      <td>68.050636</td>\n",
       "      <td>-9.488555</td>\n",
       "      <td>108.504709</td>\n",
       "      <td>15.512530</td>\n",
       "    </tr>\n",
       "    <tr>\n",
       "      <th>gt2r</th>\n",
       "      <td>-157.646784</td>\n",
       "      <td>21.324872</td>\n",
       "      <td>-108.787823</td>\n",
       "      <td>-124.444438</td>\n",
       "      <td>15.486452</td>\n",
       "      <td>0.114003</td>\n",
       "      <td>0.077814</td>\n",
       "      <td>0.122449</td>\n",
       "      <td>0.034014</td>\n",
       "      <td>2.667806</td>\n",
       "      <td>...</td>\n",
       "      <td>-111.063246</td>\n",
       "      <td>-121.048586</td>\n",
       "      <td>0.130286</td>\n",
       "      <td>-0.254101</td>\n",
       "      <td>-117.972818</td>\n",
       "      <td>0.052543</td>\n",
       "      <td>67.608030</td>\n",
       "      <td>-36.606347</td>\n",
       "      <td>81.480474</td>\n",
       "      <td>30.510798</td>\n",
       "    </tr>\n",
       "    <tr>\n",
       "      <th>2019-01-07</th>\n",
       "      <th>gt3l</th>\n",
       "      <td>-157.889536</td>\n",
       "      <td>21.596803</td>\n",
       "      <td>4.451736</td>\n",
       "      <td>-10.025323</td>\n",
       "      <td>14.572023</td>\n",
       "      <td>-0.082443</td>\n",
       "      <td>0.076569</td>\n",
       "      <td>1.143434</td>\n",
       "      <td>1.565657</td>\n",
       "      <td>2.825862</td>\n",
       "      <td>...</td>\n",
       "      <td>0.845032</td>\n",
       "      <td>-7.279603</td>\n",
       "      <td>0.146092</td>\n",
       "      <td>-0.447223</td>\n",
       "      <td>-2.177058</td>\n",
       "      <td>0.085510</td>\n",
       "      <td>24.969629</td>\n",
       "      <td>-3.571245</td>\n",
       "      <td>1.578165</td>\n",
       "      <td>NaN</td>\n",
       "    </tr>\n",
       "    <tr>\n",
       "      <th>2019-01-15</th>\n",
       "      <th>gt1l</th>\n",
       "      <td>-157.834294</td>\n",
       "      <td>21.516209</td>\n",
       "      <td>13.894988</td>\n",
       "      <td>-1.592599</td>\n",
       "      <td>15.322932</td>\n",
       "      <td>0.148816</td>\n",
       "      <td>0.076938</td>\n",
       "      <td>3.669023</td>\n",
       "      <td>3.981289</td>\n",
       "      <td>0.261060</td>\n",
       "      <td>...</td>\n",
       "      <td>0.436796</td>\n",
       "      <td>-1.079827</td>\n",
       "      <td>0.022048</td>\n",
       "      <td>0.082537</td>\n",
       "      <td>-0.822019</td>\n",
       "      <td>0.697312</td>\n",
       "      <td>96.328679</td>\n",
       "      <td>-1.121654</td>\n",
       "      <td>0.207972</td>\n",
       "      <td>NaN</td>\n",
       "    </tr>\n",
       "    <tr>\n",
       "      <th>...</th>\n",
       "      <th>...</th>\n",
       "      <td>...</td>\n",
       "      <td>...</td>\n",
       "      <td>...</td>\n",
       "      <td>...</td>\n",
       "      <td>...</td>\n",
       "      <td>...</td>\n",
       "      <td>...</td>\n",
       "      <td>...</td>\n",
       "      <td>...</td>\n",
       "      <td>...</td>\n",
       "      <td>...</td>\n",
       "      <td>...</td>\n",
       "      <td>...</td>\n",
       "      <td>...</td>\n",
       "      <td>...</td>\n",
       "      <td>...</td>\n",
       "      <td>...</td>\n",
       "      <td>...</td>\n",
       "      <td>...</td>\n",
       "      <td>...</td>\n",
       "      <td>...</td>\n",
       "    </tr>\n",
       "    <tr>\n",
       "      <th>2022-01-01</th>\n",
       "      <th>gt1r</th>\n",
       "      <td>-157.819256</td>\n",
       "      <td>21.517570</td>\n",
       "      <td>3.621844</td>\n",
       "      <td>-11.630178</td>\n",
       "      <td>15.202754</td>\n",
       "      <td>-0.013919</td>\n",
       "      <td>0.076932</td>\n",
       "      <td>0.749392</td>\n",
       "      <td>0.805353</td>\n",
       "      <td>1.136478</td>\n",
       "      <td>...</td>\n",
       "      <td>0.534963</td>\n",
       "      <td>-8.538420</td>\n",
       "      <td>0.040964</td>\n",
       "      <td>0.019001</td>\n",
       "      <td>-4.618498</td>\n",
       "      <td>0.075414</td>\n",
       "      <td>38.139427</td>\n",
       "      <td>-5.533162</td>\n",
       "      <td>0.986210</td>\n",
       "      <td>28.349047</td>\n",
       "    </tr>\n",
       "    <tr>\n",
       "      <th rowspan=\"4\" valign=\"top\">2022-01-09</th>\n",
       "      <th>gt1l</th>\n",
       "      <td>-157.778983</td>\n",
       "      <td>21.458061</td>\n",
       "      <td>10.894583</td>\n",
       "      <td>-4.888987</td>\n",
       "      <td>15.747430</td>\n",
       "      <td>-0.007315</td>\n",
       "      <td>0.077204</td>\n",
       "      <td>0.956113</td>\n",
       "      <td>3.670846</td>\n",
       "      <td>-1.177533</td>\n",
       "      <td>...</td>\n",
       "      <td>0.776227</td>\n",
       "      <td>-3.449182</td>\n",
       "      <td>-0.019995</td>\n",
       "      <td>0.008295</td>\n",
       "      <td>-2.412335</td>\n",
       "      <td>0.195529</td>\n",
       "      <td>97.732918</td>\n",
       "      <td>-3.436816</td>\n",
       "      <td>0.911484</td>\n",
       "      <td>20.539553</td>\n",
       "    </tr>\n",
       "    <tr>\n",
       "      <th>gt1r</th>\n",
       "      <td>-157.780712</td>\n",
       "      <td>21.450153</td>\n",
       "      <td>14.976436</td>\n",
       "      <td>-0.907146</td>\n",
       "      <td>15.847406</td>\n",
       "      <td>-0.007251</td>\n",
       "      <td>0.077240</td>\n",
       "      <td>1.000000</td>\n",
       "      <td>4.000000</td>\n",
       "      <td>-1.816667</td>\n",
       "      <td>...</td>\n",
       "      <td>0.763357</td>\n",
       "      <td>-0.482591</td>\n",
       "      <td>-0.006137</td>\n",
       "      <td>-0.001540</td>\n",
       "      <td>-2.039447</td>\n",
       "      <td>0.085365</td>\n",
       "      <td>97.729265</td>\n",
       "      <td>-0.740731</td>\n",
       "      <td>1.291464</td>\n",
       "      <td>20.539553</td>\n",
       "    </tr>\n",
       "    <tr>\n",
       "      <th>gt3l</th>\n",
       "      <td>-157.839517</td>\n",
       "      <td>21.471449</td>\n",
       "      <td>9.809662</td>\n",
       "      <td>-6.097793</td>\n",
       "      <td>15.871139</td>\n",
       "      <td>-0.007094</td>\n",
       "      <td>0.077143</td>\n",
       "      <td>0.818182</td>\n",
       "      <td>3.204545</td>\n",
       "      <td>1.203729</td>\n",
       "      <td>...</td>\n",
       "      <td>0.760704</td>\n",
       "      <td>-4.354685</td>\n",
       "      <td>0.019019</td>\n",
       "      <td>0.007312</td>\n",
       "      <td>-0.820756</td>\n",
       "      <td>0.101121</td>\n",
       "      <td>97.583474</td>\n",
       "      <td>-1.001551</td>\n",
       "      <td>0.245308</td>\n",
       "      <td>NaN</td>\n",
       "    </tr>\n",
       "    <tr>\n",
       "      <th>gt3r</th>\n",
       "      <td>-157.840491</td>\n",
       "      <td>21.470031</td>\n",
       "      <td>4.289110</td>\n",
       "      <td>-11.634462</td>\n",
       "      <td>15.887244</td>\n",
       "      <td>-0.007078</td>\n",
       "      <td>0.077149</td>\n",
       "      <td>0.680000</td>\n",
       "      <td>2.400000</td>\n",
       "      <td>2.035938</td>\n",
       "      <td>...</td>\n",
       "      <td>0.770187</td>\n",
       "      <td>-8.481779</td>\n",
       "      <td>0.032534</td>\n",
       "      <td>-0.016328</td>\n",
       "      <td>-1.267568</td>\n",
       "      <td>0.080659</td>\n",
       "      <td>97.450857</td>\n",
       "      <td>-0.817867</td>\n",
       "      <td>0.442623</td>\n",
       "      <td>NaN</td>\n",
       "    </tr>\n",
       "  </tbody>\n",
       "</table>\n",
       "<p>61 rows × 26 columns</p>\n",
       "</div>"
      ],
      "text/plain": [
       "                          X          Y     Z_ellip     Z_geoid  geoid_corr  \\\n",
       "date       beam                                                              \n",
       "2018-11-07 gt1l -157.682302  21.366422 -113.140621 -129.031910   15.725544   \n",
       "           gt1r -157.682976  21.361211 -108.570891 -124.475050   15.738049   \n",
       "           gt2r -157.646784  21.324872 -108.787823 -124.444438   15.486452   \n",
       "2019-01-07 gt3l -157.889536  21.596803    4.451736  -10.025323   14.572023   \n",
       "2019-01-15 gt1l -157.834294  21.516209   13.894988   -1.592599   15.322932   \n",
       "...                     ...        ...         ...         ...         ...   \n",
       "2022-01-01 gt1r -157.819256  21.517570    3.621844  -11.630178   15.202754   \n",
       "2022-01-09 gt1l -157.778983  21.458061   10.894583   -4.888987   15.747430   \n",
       "           gt1r -157.780712  21.450153   14.976436   -0.907146   15.847406   \n",
       "           gt3l -157.839517  21.471449    9.809662   -6.097793   15.871139   \n",
       "           gt3r -157.840491  21.470031    4.289110  -11.634462   15.887244   \n",
       "\n",
       "                 tide_ocean_corr  geof2m_corr  oc_sig_conf  land_sig_conf  \\\n",
       "date       beam                                                             \n",
       "2018-11-07 gt1l         0.110643     0.077624     0.496513       0.469317   \n",
       "           gt1r         0.110889     0.077647     0.704382       1.049520   \n",
       "           gt2r         0.114003     0.077814     0.122449       0.034014   \n",
       "2019-01-07 gt3l        -0.082443     0.076569     1.143434       1.565657   \n",
       "2019-01-15 gt1l         0.148816     0.076938     3.669023       3.981289   \n",
       "...                          ...          ...          ...            ...   \n",
       "2022-01-01 gt1r        -0.013919     0.076932     0.749392       0.805353   \n",
       "2022-01-09 gt1l        -0.007315     0.077204     0.956113       3.670846   \n",
       "           gt1r        -0.007251     0.077240     1.000000       4.000000   \n",
       "           gt3l        -0.007094     0.077143     0.818182       3.204545   \n",
       "           gt3r        -0.007078     0.077149     0.680000       2.400000   \n",
       "\n",
       "                 p_vec_az  ...  sea_level_interp      Z_refr  easting_corr  \\\n",
       "date       beam            ...                                               \n",
       "2018-11-07 gt1l  2.584551  ...       -110.990995 -124.455988      0.237169   \n",
       "           gt1r  2.532580  ...       -111.282361 -121.127738      0.172031   \n",
       "           gt2r  2.667806  ...       -111.063246 -121.048586      0.130286   \n",
       "2019-01-07 gt3l  2.825862  ...          0.845032   -7.279603      0.146092   \n",
       "2019-01-15 gt1l  0.261060  ...          0.436796   -1.079827      0.022048   \n",
       "...                   ...  ...               ...         ...           ...   \n",
       "2022-01-01 gt1r  1.136478  ...          0.534963   -8.538420      0.040964   \n",
       "2022-01-09 gt1l -1.177533  ...          0.776227   -3.449182     -0.019995   \n",
       "           gt1r -1.816667  ...          0.763357   -0.482591     -0.006137   \n",
       "           gt3l  1.203729  ...          0.760704   -4.354685      0.019019   \n",
       "           gt3r  2.035938  ...          0.770187   -8.481779      0.032534   \n",
       "\n",
       "                 northing_corr       z_kde   kde_val  oc_hconf_perc  \\\n",
       "date       beam                                                       \n",
       "2018-11-07 gt1l      -0.380652 -122.039865  0.049185       2.461168   \n",
       "           gt1r      -0.246337 -118.428749  0.080247      68.050636   \n",
       "           gt2r      -0.254101 -117.972818  0.052543      67.608030   \n",
       "2019-01-07 gt3l      -0.447223   -2.177058  0.085510      24.969629   \n",
       "2019-01-15 gt1l       0.082537   -0.822019  0.697312      96.328679   \n",
       "...                        ...         ...       ...            ...   \n",
       "2022-01-01 gt1r       0.019001   -4.618498  0.075414      38.139427   \n",
       "2022-01-09 gt1l       0.008295   -2.412335  0.195529      97.732918   \n",
       "           gt1r      -0.001540   -2.039447  0.085365      97.729265   \n",
       "           gt3l       0.007312   -0.820756  0.101121      97.583474   \n",
       "           gt3r      -0.016328   -1.267568  0.080659      97.450857   \n",
       "\n",
       "                 true_elevation       error  secchi_depth  \n",
       "date       beam                                            \n",
       "2018-11-07 gt1l      -13.394112  108.855541     15.512530  \n",
       "           gt1r       -9.488555  108.504709     15.512530  \n",
       "           gt2r      -36.606347   81.480474     30.510798  \n",
       "2019-01-07 gt3l       -3.571245    1.578165           NaN  \n",
       "2019-01-15 gt1l       -1.121654    0.207972           NaN  \n",
       "...                         ...         ...           ...  \n",
       "2022-01-01 gt1r       -5.533162    0.986210     28.349047  \n",
       "2022-01-09 gt1l       -3.436816    0.911484     20.539553  \n",
       "           gt1r       -0.740731    1.291464     20.539553  \n",
       "           gt3l       -1.001551    0.245308           NaN  \n",
       "           gt3r       -0.817867    0.442623           NaN  \n",
       "\n",
       "[61 rows x 26 columns]"
      ]
     },
     "execution_count": 19,
     "metadata": {},
     "output_type": "execute_result"
    }
   ],
   "source": [
    "df = df.merge(site.tracklines.secchi_depth,how='left',left_index=True,right_index=True)\n",
    "df"
   ]
  },
  {
   "cell_type": "code",
   "execution_count": 20,
   "id": "c54933b0",
   "metadata": {},
   "outputs": [
    {
     "data": {
      "text/plain": [
       "<AxesSubplot:xlabel='oc_sig_conf', ylabel='error'>"
      ]
     },
     "execution_count": 20,
     "metadata": {},
     "output_type": "execute_result"
    },
    {
     "data": {
      "image/png": "[encoded data removed]",
      "text/plain": [
       "<Figure size 432x288 with 1 Axes>"
      ]
     },
     "metadata": {
      "needs_background": "light"
     },
     "output_type": "display_data"
    }
   ],
   "source": [
    "df.plot.scatter(y='error',x='oc_sig_conf')\n"
   ]
  },
  {
   "cell_type": "code",
   "execution_count": 21,
   "id": "ccc9f249-3219-4fc0-8202-f673840b7b28",
   "metadata": {},
   "outputs": [
    {
     "data": {
      "text/plain": [
       "<AxesSubplot:xlabel='oc_hconf_perc', ylabel='error'>"
      ]
     },
     "execution_count": 21,
     "metadata": {},
     "output_type": "execute_result"
    },
    {
     "data": {
      "image/png": "[encoded data removed]",
      "text/plain": [
       "<Figure size 432x288 with 1 Axes>"
      ]
     },
     "metadata": {
      "needs_background": "light"
     },
     "output_type": "display_data"
    }
   ],
   "source": [
    "df.plot.scatter(y='error',x='oc_hconf_perc')"
   ]
  },
  {
   "cell_type": "code",
   "execution_count": 22,
   "id": "3fa64e5d",
   "metadata": {},
   "outputs": [
    {
     "data": {
      "text/plain": [
       "<AxesSubplot:xlabel='secchi_depth', ylabel='error'>"
      ]
     },
     "execution_count": 22,
     "metadata": {},
     "output_type": "execute_result"
    },
    {
     "data": {
      "image/png": "[encoded data removed]",
      "text/plain": [
       "<Figure size 432x288 with 1 Axes>"
      ]
     },
     "metadata": {
      "needs_background": "light"
     },
     "output_type": "display_data"
    }
   ],
   "source": [
    "df.plot.scatter(y='error',x='secchi_depth')"
   ]
  },
  {
   "cell_type": "code",
   "execution_count": 23,
   "id": "989f98ae-ee0d-416c-b23c-49a3ead2eab0",
   "metadata": {},
   "outputs": [
    {
     "data": {
      "text/plain": [
       "<AxesSubplot:xlabel='tide_ocean_corr', ylabel='error'>"
      ]
     },
     "execution_count": 23,
     "metadata": {},
     "output_type": "execute_result"
    },
    {
     "data": {
      "image/png": "[encoded data removed]",
      "text/plain": [
       "<Figure size 432x288 with 1 Axes>"
      ]
     },
     "metadata": {
      "needs_background": "light"
     },
     "output_type": "display_data"
    }
   ],
   "source": [
    "df.plot.scatter(y='error',x='tide_ocean_corr')"
   ]
  },
  {
   "cell_type": "code",
   "execution_count": 24,
   "id": "294ad61f-b941-4ee2-a908-373c60eb0450",
   "metadata": {},
   "outputs": [
    {
     "data": {
      "text/plain": [
       "<AxesSubplot:xlabel='easting', ylabel='error'>"
      ]
     },
     "execution_count": 24,
     "metadata": {},
     "output_type": "execute_result"
    },
    {
     "data": {
      "image/png": "[encoded data removed]",
      "text/plain": [
       "<Figure size 432x288 with 1 Axes>"
      ]
     },
     "metadata": {
      "needs_background": "light"
     },
     "output_type": "display_data"
    }
   ],
   "source": [
    "df.plot.scatter(y='error',x='easting')"
   ]
  },
  {
   "cell_type": "code",
   "execution_count": 25,
   "id": "59063ce7",
   "metadata": {},
   "outputs": [
    {
     "data": {
      "text/plain": [
       "<AxesSubplot:xlabel='dac_corr', ylabel='error'>"
      ]
     },
     "execution_count": 25,
     "metadata": {},
     "output_type": "execute_result"
    },
    {
     "data": {
      "image/png": "[encoded data removed]",
      "text/plain": [
       "<Figure size 432x288 with 1 Axes>"
      ]
     },
     "metadata": {
      "needs_background": "light"
     },
     "output_type": "display_data"
    }
   ],
   "source": [
    "df.plot.scatter(y='error',x='dac_corr')"
   ]
  },
  {
   "cell_type": "code",
   "execution_count": 27,
   "id": "c9ec7d81-8546-4fd8-8dab-26c8579fa417",
   "metadata": {},
   "outputs": [
    {
     "data": {
      "text/plain": [
       "sea_level_interp   -0.975851\n",
       "z_kde              -0.963185\n",
       "Z_refr             -0.933226\n",
       "Z_geoid            -0.902695\n",
       "Z_ellip            -0.902206\n",
       "gebco_elev         -0.333329\n",
       "true_elevation     -0.301526\n",
       "Y                  -0.214900\n",
       "northing           -0.214787\n",
       "northing_corr      -0.196346\n",
       "dist_or            -0.157520\n",
       "oc_sig_conf        -0.148801\n",
       "land_sig_conf      -0.143931\n",
       "kde_val            -0.112899\n",
       "oc_hconf_perc      -0.016514\n",
       "geoid_corr          0.038653\n",
       "p_vec_elev          0.046334\n",
       "easting_corr        0.075234\n",
       "tide_ocean_corr     0.135608\n",
       "geof2m_corr         0.215664\n",
       "X                   0.220733\n",
       "easting             0.220820\n",
       "p_vec_az            0.305794\n",
       "dac_corr            0.333239\n",
       "error               1.000000\n",
       "Name: error, dtype: float64"
      ]
     },
     "execution_count": 27,
     "metadata": {},
     "output_type": "execute_result"
    }
   ],
   "source": [
    "site.bathy_pts_gdf.eval('error=abs(z_kde-true_elevation)').corr()['error'].sort_values()"
   ]
  },
  {
   "cell_type": "code",
   "execution_count": 34,
   "id": "e9d80c08",
   "metadata": {},
   "outputs": [
    {
     "data": {
      "text/plain": [
       "Z_refr             -0.958664\n",
       "Z_geoid            -0.954681\n",
       "Z_ellip            -0.954644\n",
       "sea_level_interp   -0.953285\n",
       "z_kde              -0.944036\n",
       "gebco_elev         -0.428244\n",
       "true_elevation     -0.407894\n",
       "land_sig_conf      -0.300079\n",
       "Y                  -0.264598\n",
       "northing           -0.264441\n",
       "oc_sig_conf        -0.242771\n",
       "northing_corr      -0.225267\n",
       "dist_or            -0.201132\n",
       "kde_val            -0.183894\n",
       "oc_hconf_perc      -0.148680\n",
       "secchi_depth        0.002132\n",
       "easting_corr        0.044509\n",
       "geoid_corr          0.076486\n",
       "p_vec_elev          0.080797\n",
       "tide_ocean_corr     0.207242\n",
       "geof2m_corr         0.265160\n",
       "p_vec_az            0.270153\n",
       "X                   0.277322\n",
       "easting             0.277360\n",
       "dac_corr            0.362398\n",
       "error               1.000000\n",
       "Name: error, dtype: float64"
      ]
     },
     "execution_count": 34,
     "metadata": {},
     "output_type": "execute_result"
    }
   ],
   "source": [
    "df.corr()['error'].sort_values()"
   ]
  }
 ],
 "metadata": {
  "kernelspec": {
   "display_name": "Python 3 (ipykernel)",
   "language": "python",
   "name": "python3"
  },
  "language_info": {
   "codemirror_mode": {
    "name": "ipython",
    "version": 3
   },
   "file_extension": ".py",
   "mimetype": "text/x-python",
   "name": "python",
   "nbconvert_exporter": "python",
   "pygments_lexer": "ipython3",
   "version": "3.9.10"
  },
  "vscode": {
   "interpreter": {
    "hash": "ec7c7d4d013ec650dc8eb8b9310ce197f2a724f68d99fdc157fb921cb8b4fa41"
   }
  }
 },
 "nbformat": 4,
 "nbformat_minor": 5
}
