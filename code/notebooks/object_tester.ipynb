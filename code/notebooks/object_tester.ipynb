{
 "cells": [
  {
   "cell_type": "code",
   "execution_count": null,
   "id": "4eb2d8c0-5265-4406-a877-4f4353da4106",
   "metadata": {},
   "outputs": [],
   "source": [
    "from atl_module import GebcoUpscaler\n",
    "import pandas as pd"
   ]
  },
  {
   "cell_type": "code",
   "execution_count": null,
   "id": "d228498b",
   "metadata": {},
   "outputs": [],
   "source": [
    "%cd .."
   ]
  },
  {
   "cell_type": "code",
   "execution_count": null,
   "id": "ca2f1597-75ca-428e-8ffe-6fa0b64d0c1d",
   "metadata": {
    "tags": []
   },
   "outputs": [],
   "source": [
    "sitename = 'niiahu'\n",
    "site = GebcoUpscaler(sitename,\n",
    "                     f'../data/test_sites/niiahu/in-situ-DEM/truth.vrt'\n",
    "                    )"
   ]
  },
  {
   "cell_type": "code",
   "execution_count": null,
   "id": "4ef457e6",
   "metadata": {
    "tags": []
   },
   "outputs": [],
   "source": [
    "# site.download_ATL03()"
   ]
  },
  {
   "cell_type": "code",
   "execution_count": null,
   "id": "ead2e46e-9598-441e-ad72-5383cecab19d",
   "metadata": {
    "tags": []
   },
   "outputs": [],
   "source": [
    "# site.recalc_tracklines_gdf()"
   ]
  },
  {
   "cell_type": "code",
   "execution_count": null,
   "id": "f47e471e-488e-4b2b-8221-12daeec339ce",
   "metadata": {
    "jupyter": {
     "source_hidden": true
    },
    "tags": []
   },
   "outputs": [],
   "source": [
    "# from itertools import product\n",
    "# # setup result dictionary\n",
    "# result = {}\n",
    "# # make an empty list for each result\n",
    "# result['window']=[]\n",
    "# result['perc_hconf']=[]\n",
    "# result['min_kde']=[]\n",
    "# result['rmse']=[]\n",
    "# result['MAE']=[]\n",
    "\n",
    "# # loop over the inner product of the \n",
    "# for window,perc_h,kde_min in product([100,150,200],[20,40,60],[0.0,0.1,0.2]):\n",
    "#     result['window'].append(window)\n",
    "#     result['perc_hconf'].append(perc_h)\n",
    "#     result['min_kde'].append(kde_min)\n",
    "#     site.find_bathy_from_icesat(\n",
    "#     window=window,\n",
    "#     threshold_val=0.0,\n",
    "#     req_perc_hconf=perc_h,\n",
    "#     window_meters=None,\n",
    "#     min_photons=None,\n",
    "#     min_kde=kde_min,\n",
    "#     save_result=False\n",
    "#     )\n",
    "#     site.lidar_rmse()\n",
    "#     result['rmse'].append(site.rmse_icesat)\n",
    "#     result['MAE'].append(site.mae_icesat)\n",
    "#     print(result)\n",
    "\n",
    "# pd.DataFrame(result).to_csv(f'../data/test_sites/{site.site}/error_stats.csv')"
   ]
  },
  {
   "cell_type": "code",
   "execution_count": null,
   "id": "94c0d97e-1c51-4f85-8709-91963478def2",
   "metadata": {
    "tags": []
   },
   "outputs": [],
   "source": [
    "site.find_bathy_from_icesat(\n",
    "    window=200,\n",
    "    threshold_val=0.0,\n",
    "    req_perc_hconf=0,\n",
    "    window_meters=None,\n",
    "    min_photons=None,\n",
    "    min_kde=0.05,\n",
    "    low_limit=-30,\n",
    "    high_limit=2,\n",
    "    rolling_window=200,\n",
    "    max_sea_surf_elev=2,\n",
    "    filter_below_z=-60,\n",
    "    filter_below_depth=-60,\n",
    "    n=1,\n",
    "    max_geoid_high_z=5,\n",
    "    min_ph_count=0\n",
    ")\n",
    "# # site.add_truth_data()\n",
    "site.subset_gebco(hres=50)\n",
    "site.lidar_error()\n"
   ]
  },
  {
   "cell_type": "code",
   "execution_count": null,
   "id": "2d7b0bab",
   "metadata": {},
   "outputs": [],
   "source": [
    "site.plot_lidar_error()"
   ]
  },
  {
   "cell_type": "code",
   "execution_count": null,
   "id": "b6cf430c-9049-4492-b85a-ce1e3c71ed34",
   "metadata": {},
   "outputs": [],
   "source": [
    "# site.bathy_pts_gdf = site.bathy_pts_gdf.assign(z_kde = site.bathy_pts_gdf.z_kde - site.bathy_pts_gdf.dac_corr  + site.bathy_pts_gdf.tide_ocean_corr)"
   ]
  },
  {
   "cell_type": "code",
   "execution_count": null,
   "id": "bb6df787",
   "metadata": {
    "tags": []
   },
   "outputs": [],
   "source": [
    "%%time\n",
    "site.kriging(\n",
    "    npts=1600,\n",
    "    kr_model = 'uk',\n",
    "    samplemethod='dart',\n",
    "    # variogram_parameters={'range':33000,'nugget':0.7,'sill':23},\n",
    "\n",
    ")"
   ]
  },
  {
   "cell_type": "code",
   "execution_count": null,
   "id": "8dce0194-dce1-4cf3-86fb-11c6677b361a",
   "metadata": {
    "tags": []
   },
   "outputs": [],
   "source": [
    "site.kalman_update(2)\n",
    "site.raster_rmse()"
   ]
  },
  {
   "cell_type": "code",
   "execution_count": null,
   "id": "b616181e",
   "metadata": {},
   "outputs": [],
   "source": [
    "date_indexed_tracklines  = site.tracklines.assign(date = pd.to_datetime(site.tracklines.date).dt.date).reset_index().set_index(['date','beam'])\n",
    "df = site.bathy_pts_gdf.groupby([pd.to_datetime(site.bathy_pts_gdf.rename(columns={'delta_time':'date'}).date).dt.date,'beam']).mean().sort_values('error',ascending=False)\n",
    "# \n",
    "df = df.merge(date_indexed_tracklines,how='left',left_index=True,right_index=True)\n"
   ]
  },
  {
   "cell_type": "code",
   "execution_count": null,
   "id": "1d8a7675",
   "metadata": {},
   "outputs": [],
   "source": [
    "from atl_module.geospatial_utils.raster_interaction import query_raster\n",
    "\n",
    "noNA = site.bathy_pts_gdf.loc[:,['X','Y','sf_elev_MSL','true_elevation']].dropna()\n",
    "krigedvalue = query_raster(noNA,f'../data/test_sites/{sitename}/kriging_output.tif')\n",
    "noNA = noNA.assign(krigedval = krigedvalue).dropna()"
   ]
  },
  {
   "cell_type": "code",
   "execution_count": null,
   "id": "631e79e6",
   "metadata": {},
   "outputs": [],
   "source": [
    "ax = noNA.plot.scatter(x='sf_elev_MSL',y='krigedval',figsize=(10,10))\n",
    "ax.plot((-14,0),(-14,0),color='r')"
   ]
  },
  {
   "cell_type": "code",
   "execution_count": null,
   "id": "249443cd",
   "metadata": {},
   "outputs": [],
   "source": [
    "sqaured_error = (noNA.sf_elev_MSL.values - noNA.krigedval.values)**2\n",
    "rms_icesat_kriging = sqaured_error.mean()**0.5\n",
    "print(f'RMSE error bt icesat and kriged raster: {rms_icesat_kriging}')"
   ]
  },
  {
   "cell_type": "code",
   "execution_count": null,
   "id": "136842ae",
   "metadata": {},
   "outputs": [],
   "source": [
    "sqaured_error = (noNA.true_elevation.values - noNA.krigedval.values)**2\n",
    "rms_truth_kriging = sqaured_error.mean()**0.5\n",
    "print(f'RMSE error bt kriged raster and true elevation: {rms_truth_kriging}')"
   ]
  },
  {
   "cell_type": "code",
   "execution_count": null,
   "id": "cc11f8d7-0405-4ff8-a218-ad5261482e97",
   "metadata": {},
   "outputs": [],
   "source": [
    "site.bathy_pts_gdf.plot.scatter(x='error',y='true_elevation')"
   ]
  },
  {
   "cell_type": "code",
   "execution_count": null,
   "id": "0a064403-fce7-4292-b879-c962eadf55dc",
   "metadata": {},
   "outputs": [],
   "source": [
    "site.bathy_pts_gdf.plot.scatter(x='error',y='sea_level_interp')"
   ]
  },
  {
   "cell_type": "code",
   "execution_count": null,
   "id": "3b6fbc1d",
   "metadata": {},
   "outputs": [],
   "source": [
    "site.bathy_pts_gdf.plot.scatter(x='error_abs',y='kde_val')"
   ]
  },
  {
   "cell_type": "code",
   "execution_count": null,
   "id": "d874425b-c98e-42e6-b188-d3dfb02388bf",
   "metadata": {},
   "outputs": [],
   "source": [
    "site.bathy_pts_gdf.plot.scatter(x='error_abs',y='gebco_elev')"
   ]
  },
  {
   "cell_type": "code",
   "execution_count": null,
   "id": "9e43651b-5743-4141-b5b3-9f85e53cd4a9",
   "metadata": {},
   "outputs": [],
   "source": [
    "site.bathy_pts_gdf.plot.scatter(x='error_abs',y='ph_count')"
   ]
  },
  {
   "cell_type": "code",
   "execution_count": null,
   "id": "c54933b0",
   "metadata": {},
   "outputs": [],
   "source": [
    "df.plot.scatter(y='error_abs',x='oc_sig_conf')"
   ]
  },
  {
   "cell_type": "code",
   "execution_count": null,
   "id": "ccc9f249-3219-4fc0-8202-f673840b7b28",
   "metadata": {},
   "outputs": [],
   "source": [
    "df.plot.scatter(y='error_abs',x='oc_hconf_perc')"
   ]
  },
  {
   "cell_type": "code",
   "execution_count": null,
   "id": "3fa64e5d",
   "metadata": {
    "tags": []
   },
   "outputs": [],
   "source": [
    "df.plot.scatter(y='error_abs',x='secchi_dep')"
   ]
  },
  {
   "cell_type": "code",
   "execution_count": null,
   "id": "989f98ae-ee0d-416c-b23c-49a3ead2eab0",
   "metadata": {},
   "outputs": [],
   "source": [
    "df.plot.scatter(y='error_abs',x='tide_ocean_corr')"
   ]
  },
  {
   "cell_type": "code",
   "execution_count": null,
   "id": "59063ce7",
   "metadata": {},
   "outputs": [],
   "source": [
    "df.plot.scatter(y='error_abs',x='dac_corr')"
   ]
  },
  {
   "cell_type": "code",
   "execution_count": null,
   "id": "6ab52ee5-ef9e-42e4-8e11-807fb993a6b4",
   "metadata": {},
   "outputs": [],
   "source": [
    "df.plot.scatter(y='error_abs',x='ph_count')"
   ]
  },
  {
   "cell_type": "code",
   "execution_count": null,
   "id": "516de409-402b-438b-b31a-4f401d58250a",
   "metadata": {},
   "outputs": [],
   "source": [
    "df.plot.scatter(y='error_abs',x='kde_val')"
   ]
  },
  {
   "cell_type": "code",
   "execution_count": null,
   "id": "45b430a8-3245-419b-912b-9d662fc1a80a",
   "metadata": {},
   "outputs": [],
   "source": [
    "df.plot.scatter(y='error_abs',x='sea_level_interp')"
   ]
  },
  {
   "cell_type": "code",
   "execution_count": null,
   "id": "e6c882a8-fc3b-4d8a-b8ea-6a9ba7e4223b",
   "metadata": {},
   "outputs": [],
   "source": [
    "site.bathy_pts_gdf.groupby('beamtype').mean()"
   ]
  },
  {
   "cell_type": "code",
   "execution_count": null,
   "id": "c9ec7d81-8546-4fd8-8dab-26c8579fa417",
   "metadata": {},
   "outputs": [],
   "source": [
    "site.bathy_pts_gdf = site.bathy_pts_gdf.eval('ph_count = abs(ph_count)')\n",
    "site.bathy_pts_gdf.corr('spearman')['error'].sort_values()"
   ]
  },
  {
   "cell_type": "code",
   "execution_count": null,
   "id": "e9d80c08",
   "metadata": {},
   "outputs": [],
   "source": [
    "df.corr()['error'].sort_values()"
   ]
  },
  {
   "cell_type": "code",
   "execution_count": null,
   "id": "49ec95d6-290d-41a6-8fb5-1b0e8e366bae",
   "metadata": {},
   "outputs": [],
   "source": [
    "site.bathy_pts_gdf[site.bathy_pts_gdf.Z_geoid>-50].dropna().error.pow(2).mean()**(0.5)"
   ]
  },
  {
   "cell_type": "code",
   "execution_count": null,
   "id": "272d99cd-d4bd-4ea2-98dd-95bd9c6ee73b",
   "metadata": {},
   "outputs": [],
   "source": [
    "site.bathy_pts_gdf.error.mean()"
   ]
  },
  {
   "cell_type": "code",
   "execution_count": null,
   "id": "55a05a0b-ca21-4c64-ab15-44cb68b716d2",
   "metadata": {},
   "outputs": [],
   "source": [
    "dac_tide = site.bathy_pts_gdf.z_kde  - site.bathy_pts_gdf.dac_corr  - site.bathy_pts_gdf.tide_ocean_corr\n",
    "site.bathy_pts_gdf.assign(dac_tide=dac_tide).eval('error=dac_tide - true_elevation').error.pow(2).mean()**(0.5)"
   ]
  },
  {
   "cell_type": "code",
   "execution_count": null,
   "id": "2a739697-e476-4d8e-bad1-0d02a28d0487",
   "metadata": {},
   "outputs": [],
   "source": [
    "site.bathy_pts_gdf.assign(dac_tide=dac_tide).error.mean()"
   ]
  },
  {
   "cell_type": "code",
   "execution_count": null,
   "id": "f47a7816-2181-4964-92f1-d5a5de825efa",
   "metadata": {},
   "outputs": [],
   "source": [
    "site.bathy_pts_gdf[site.bathy_pts_gdf.Z_geoid>-50].sea_level_interp"
   ]
  },
  {
   "cell_type": "markdown",
   "id": "13f0ac89-6631-4897-bcd8-1995e74002a7",
   "metadata": {},
   "source": [
    "## "
   ]
  },
  {
   "cell_type": "code",
   "execution_count": null,
   "id": "63a5f656-45c8-48a3-90c8-11a87380c9b3",
   "metadata": {},
   "outputs": [],
   "source": []
  },
  {
   "cell_type": "code",
   "execution_count": null,
   "id": "e981db97-2f83-48e2-afdf-1842dad7f72c",
   "metadata": {},
   "outputs": [],
   "source": []
  }
 ],
 "metadata": {
  "kernelspec": {
   "display_name": "Python 3 (ipykernel)",
   "language": "python",
   "name": "python3"
  },
  "language_info": {
   "codemirror_mode": {
    "name": "ipython",
    "version": 3
   },
   "file_extension": ".py",
   "mimetype": "text/x-python",
   "name": "python",
   "nbconvert_exporter": "python",
   "pygments_lexer": "ipython3",
   "version": "3.9.10"
  },
  "vscode": {
   "interpreter": {
    "hash": "ec7c7d4d013ec650dc8eb8b9310ce197f2a724f68d99fdc157fb921cb8b4fa41"
   }
  }
 },
 "nbformat": 4,
 "nbformat_minor": 5
}
