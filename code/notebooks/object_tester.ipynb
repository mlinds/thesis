{
 "cells": [
  {
   "cell_type": "code",
   "execution_count": 1,
   "id": "4eb2d8c0-5265-4406-a877-4f4353da4106",
   "metadata": {},
   "outputs": [],
   "source": [
    "from atl_module import GebcoUpscaler\n",
    "import pandas as pd\n",
    "from sklearn.metrics import mean_squared_error"
   ]
  },
  {
   "cell_type": "code",
   "execution_count": 2,
   "id": "d228498b",
   "metadata": {},
   "outputs": [
    {
     "name": "stdout",
     "output_type": "stream",
     "text": [
      "/mnt/c/Users/XCB/OneDrive - Van Oord/Documents/thesis/code\n"
     ]
    }
   ],
   "source": [
    "%cd .."
   ]
  },
  {
   "cell_type": "code",
   "execution_count": 3,
   "id": "ca2f1597-75ca-428e-8ffe-6fa0b64d0c1d",
   "metadata": {
    "tags": []
   },
   "outputs": [],
   "source": [
    "sitename = 'florida_keys'\n",
    "site = GebcoUpscaler(sitename,\n",
    "                     f'../data/test_sites/{sitename}/in-situ-DEM/truth.vrt'\n",
    "                    )"
   ]
  },
  {
   "cell_type": "code",
   "execution_count": 4,
   "id": "ffe716b4-391c-45f7-8864-3d8dadf0fd76",
   "metadata": {},
   "outputs": [],
   "source": [
    "# site.plot_lidar_error()"
   ]
  },
  {
   "cell_type": "code",
   "execution_count": 5,
   "id": "4ef457e6",
   "metadata": {
    "tags": []
   },
   "outputs": [],
   "source": [
    "# site.download_ATL03()"
   ]
  },
  {
   "cell_type": "code",
   "execution_count": 6,
   "id": "ead2e46e-9598-441e-ad72-5383cecab19d",
   "metadata": {},
   "outputs": [],
   "source": [
    "# site.recalc_tracklines_gdf()"
   ]
  },
  {
   "cell_type": "code",
   "execution_count": 7,
   "id": "f47e471e-488e-4b2b-8221-12daeec339ce",
   "metadata": {
    "tags": []
   },
   "outputs": [],
   "source": [
    "# from itertools import product\n",
    "# # setup result dictionary\n",
    "# result = {}\n",
    "# # make an empty list for each result\n",
    "# result['window']=[]\n",
    "# result['perc_hconf']=[]\n",
    "# result['min_kde']=[]\n",
    "# result['rmse']=[]\n",
    "# result['MAE']=[]\n",
    "\n",
    "# # loop over the inner product of the \n",
    "# for window,perc_h,kde_min in product([100,150,200],[20,40,60],[0.0,0.1,0.2]):\n",
    "#     result['window'].append(window)\n",
    "#     result['perc_hconf'].append(perc_h)\n",
    "#     result['min_kde'].append(kde_min)\n",
    "#     site.find_bathy_from_icesat(\n",
    "#     window=window,\n",
    "#     threshold_val=0.0,\n",
    "#     req_perc_hconf=perc_h,\n",
    "#     window_meters=None,\n",
    "#     min_photons=None,\n",
    "#     min_kde=kde_min,\n",
    "#     save_result=False\n",
    "#     )\n",
    "#     site.lidar_rmse()\n",
    "#     result['rmse'].append(site.rmse_icesat)\n",
    "#     result['MAE'].append(site.mae_icesat)\n",
    "#     print(result)\n",
    "\n",
    "# pd.DataFrame(result).to_csv(f'../data/test_sites/{site.site}/error_stats.csv')"
   ]
  },
  {
   "cell_type": "code",
   "execution_count": 8,
   "id": "9ff8e76c-e6da-4091-b02e-c16ebd91f6a8",
   "metadata": {
    "tags": []
   },
   "outputs": [
    {
     "name": "stderr",
     "output_type": "stream",
     "text": [
      "[I 220803 17:40:21 core:126] site: Florida_keys - Starting bathymetry signal finding with parameters: {'window_size_photons': 200, 'threshhold value': 0.0, 'Required percentage high confidence ocean photons': 60, 'minimum photons in distance window': None, 'window_horizontal': None, 'Minimum KDE to be considered': 0.0}\n",
      "[I 220803 17:43:03 core:204] Truth data added to Bathymetric Points dataframe for site: Florida_keys\n",
      "/home/mlinds/mambaforge/envs/thesis_env/lib/python3.9/site-packages/geopandas/io/file.py:362: FutureWarning: pandas.Int64Index is deprecated and will be removed from pandas in a future version. Use pandas.Index with the appropriate dtype instead.\n",
      "  pd.Int64Index,\n",
      "[I 220803 17:44:19 core:146] The bathymetry for Florida_keys was sucessfully calculated with {'window_size_photons': 200, 'threshhold value': 0.0, 'Required percentage high confidence ocean photons': 60, 'minimum photons in distance window': None, 'window_horizontal': None, 'Minimum KDE to be considered': 0.0} and saved to ../data/test_sites/florida_keys/all_bathy_pts.gpkg\n",
      "[I 220803 17:45:22 core:204] Truth data added to Bathymetric Points dataframe for site: Florida_keys\n",
      "[I 220803 17:45:22 core:189] Florida_keys: RMSE between icesat and truth 0.5683294959207996, MAE: 0.4631406286861041\n"
     ]
    },
    {
     "data": {
      "text/html": [
       "<div>\n",
       "<style scoped>\n",
       "    .dataframe tbody tr th:only-of-type {\n",
       "        vertical-align: middle;\n",
       "    }\n",
       "\n",
       "    .dataframe tbody tr th {\n",
       "        vertical-align: top;\n",
       "    }\n",
       "\n",
       "    .dataframe thead th {\n",
       "        text-align: right;\n",
       "    }\n",
       "</style>\n",
       "<table border=\"1\" class=\"dataframe\">\n",
       "  <thead>\n",
       "    <tr style=\"text-align: right;\">\n",
       "      <th></th>\n",
       "      <th>MAE</th>\n",
       "      <th>RMSE</th>\n",
       "    </tr>\n",
       "  </thead>\n",
       "  <tbody>\n",
       "    <tr>\n",
       "      <th>Florida_keys</th>\n",
       "      <td>0.463141</td>\n",
       "      <td>0.568329</td>\n",
       "    </tr>\n",
       "  </tbody>\n",
       "</table>\n",
       "</div>"
      ],
      "text/plain": [
       "                   MAE      RMSE\n",
       "Florida_keys  0.463141  0.568329"
      ]
     },
     "execution_count": 8,
     "metadata": {},
     "output_type": "execute_result"
    }
   ],
   "source": [
    "site.find_bathy_from_icesat(\n",
    "    window=200,\n",
    "    threshold_val=0.0,\n",
    "    req_perc_hconf=60,\n",
    "    window_meters=None,\n",
    "    min_photons=None,\n",
    "    min_kde=0.0,\n",
    "    # low_limit=-40,\n",
    "    # high_limit=2,\n",
    "    # rolling_window=200,\n",
    "    # max_sea_surf_elev=1000,\n",
    "    # filter_below_z=-40,\n",
    "    # filter_below_depth=-40,\n",
    "    # n=1,\n",
    "    # level=5,\n",
    ")\n",
    "site.add_truth_data()\n",
    "site.lidar_error()\n",
    "site.subset_gebco(hres=50)"
   ]
  },
  {
   "cell_type": "code",
   "execution_count": 13,
   "id": "3b7d6e96-065c-4bef-9c20-97c185895b86",
   "metadata": {},
   "outputs": [
    {
     "name": "stderr",
     "output_type": "stream",
     "text": [
      "[I 220803 17:47:29 core:256] Florida_keys: Saved lidar error plot to ../document/figures/Florida_keys_lidar_estimated_vs_truth.jpg\n"
     ]
    },
    {
     "data": {
      "image/png": "[encoded data removed]",
      "text/plain": [
       "<Figure size 360x360 with 1 Axes>"
      ]
     },
     "metadata": {
      "needs_background": "light"
     },
     "output_type": "display_data"
    }
   ],
   "source": [
    "site.plot_lidar_error()"
   ]
  },
  {
   "cell_type": "code",
   "execution_count": 10,
   "id": "b6cf430c-9049-4492-b85a-ce1e3c71ed34",
   "metadata": {},
   "outputs": [],
   "source": [
    "# site.bathy_pts_gdf = site.bathy_pts_gdf.assign(z_kde = site.bathy_pts_gdf.z_kde - site.bathy_pts_gdf.dac_corr  + site.bathy_pts_gdf.tide_ocean_corr)"
   ]
  },
  {
   "cell_type": "code",
   "execution_count": 11,
   "id": "bb6df787",
   "metadata": {
    "tags": []
   },
   "outputs": [],
   "source": [
    "# %%time\n",
    "# site.kriging(\n",
    "#     npts=2000,\n",
    "#     kr_model = 'ok',\n",
    "#     samplemethod='dart',\n",
    "#     variogram_parameters={'range':33000,'nugget':0.7,'sill':23},\n",
    "\n",
    "# )"
   ]
  },
  {
   "cell_type": "code",
   "execution_count": 12,
   "id": "8dce0194-dce1-4cf3-86fb-11c6677b361a",
   "metadata": {
    "tags": []
   },
   "outputs": [
    {
     "ename": "ValueError",
     "evalue": "operands could not be broadcast together with shapes (189,386) (531,606) ",
     "output_type": "error",
     "traceback": [
      "\u001b[0;31m---------------------------------------------------------------------------\u001b[0m",
      "\u001b[0;31mValueError\u001b[0m                                Traceback (most recent call last)",
      "Input \u001b[0;32mIn [12]\u001b[0m, in \u001b[0;36m<cell line: 1>\u001b[0;34m()\u001b[0m\n\u001b[0;32m----> 1\u001b[0m \u001b[43msite\u001b[49m\u001b[38;5;241;43m.\u001b[39;49m\u001b[43mkalman_update\u001b[49m\u001b[43m(\u001b[49m\u001b[38;5;241;43m0.75\u001b[39;49m\u001b[43m)\u001b[49m\n\u001b[1;32m      2\u001b[0m site\u001b[38;5;241m.\u001b[39mraster_rmse(error_out\u001b[38;5;241m=\u001b[39m\u001b[38;5;28;01mTrue\u001b[39;00m)\n",
      "File \u001b[0;32m/mnt/c/Users/XCB/OneDrive - Van Oord/Documents/thesis/code/atl_module/core.py:174\u001b[0m, in \u001b[0;36mGebcoUpscaler.kalman_update\u001b[0;34m(self, gebco_std)\u001b[0m\n\u001b[1;32m    168\u001b[0m \u001b[38;5;28;01mdef\u001b[39;00m \u001b[38;5;21mkalman_update\u001b[39m(\u001b[38;5;28mself\u001b[39m, gebco_std: \u001b[38;5;28mfloat\u001b[39m) \u001b[38;5;241m-\u001b[39m\u001b[38;5;241m>\u001b[39m \u001b[38;5;28;01mNone\u001b[39;00m:\n\u001b[1;32m    169\u001b[0m     \u001b[38;5;124;03m\"\"\"Performed a kalman update assuming a certain constant value for the standard deviation of GEBCO\u001b[39;00m\n\u001b[1;32m    170\u001b[0m \n\u001b[1;32m    171\u001b[0m \u001b[38;5;124;03m    Args:\u001b[39;00m\n\u001b[1;32m    172\u001b[0m \u001b[38;5;124;03m        gebco_std (float): The assumed measurement error (standard deviation in meters) of GEBCO data\u001b[39;00m\n\u001b[1;32m    173\u001b[0m \u001b[38;5;124;03m    \"\"\"\u001b[39;00m\n\u001b[0;32m--> 174\u001b[0m     \u001b[43mkalman\u001b[49m\u001b[38;5;241;43m.\u001b[39;49m\u001b[43mgridded_kalman_update\u001b[49m\u001b[43m(\u001b[49m\n\u001b[1;32m    175\u001b[0m \u001b[43m        \u001b[49m\u001b[38;5;28;43mself\u001b[39;49m\u001b[38;5;241;43m.\u001b[39;49m\u001b[43mkalman_update_raster_path\u001b[49m\u001b[43m,\u001b[49m\n\u001b[1;32m    176\u001b[0m \u001b[43m        \u001b[49m\u001b[38;5;28;43mself\u001b[39;49m\u001b[38;5;241;43m.\u001b[39;49m\u001b[43mbilinear_gebco_raster_path\u001b[49m\u001b[43m,\u001b[49m\n\u001b[1;32m    177\u001b[0m \u001b[43m        \u001b[49m\u001b[38;5;28;43mself\u001b[39;49m\u001b[38;5;241;43m.\u001b[39;49m\u001b[43mkriged_raster_path\u001b[49m\u001b[43m,\u001b[49m\n\u001b[1;32m    178\u001b[0m \u001b[43m        \u001b[49m\u001b[43mgebco_std\u001b[49m\u001b[43m,\u001b[49m\n\u001b[1;32m    179\u001b[0m \u001b[43m    \u001b[49m\u001b[43m)\u001b[49m\n\u001b[1;32m    180\u001b[0m     run_logger\u001b[38;5;241m.\u001b[39minfo(\n\u001b[1;32m    181\u001b[0m         \u001b[38;5;124mf\u001b[39m\u001b[38;5;124m\"\u001b[39m\u001b[38;5;124mSucessful Kalman update of GEBCO bathymetry for \u001b[39m\u001b[38;5;132;01m{\u001b[39;00m\u001b[38;5;28mself\u001b[39m\u001b[38;5;241m.\u001b[39msite_name\u001b[38;5;132;01m}\u001b[39;00m\u001b[38;5;124m using a gebco standard deviation of \u001b[39m\u001b[38;5;132;01m{\u001b[39;00mgebco_std\u001b[38;5;132;01m}\u001b[39;00m\u001b[38;5;124m saved to \u001b[39m\u001b[38;5;132;01m{\u001b[39;00m\u001b[38;5;28mself\u001b[39m\u001b[38;5;241m.\u001b[39mkalman_update_raster_path\u001b[38;5;132;01m}\u001b[39;00m\u001b[38;5;124m\"\u001b[39m\n\u001b[1;32m    182\u001b[0m     )\n",
      "File \u001b[0;32m/mnt/c/Users/XCB/OneDrive - Van Oord/Documents/thesis/code/atl_module/kalman.py:56\u001b[0m, in \u001b[0;36mgridded_kalman_update\u001b[0;34m(outputfile, start_raster_path, measrasterlist, gebco_uncertainty_in)\u001b[0m\n\u001b[1;32m     53\u001b[0m         \u001b[38;5;66;03m# convert variance to std dev\u001b[39;00m\n\u001b[1;32m     54\u001b[0m         measurement_sigma \u001b[38;5;241m=\u001b[39m np\u001b[38;5;241m.\u001b[39msqrt(measurement_raster_file\u001b[38;5;241m.\u001b[39mread(\u001b[38;5;241m2\u001b[39m))\n\u001b[0;32m---> 56\u001b[0m     kalman_depth, kalman_uncertainty \u001b[38;5;241m=\u001b[39m \u001b[43msimple_kalman\u001b[49m\u001b[43m(\u001b[49m\n\u001b[1;32m     57\u001b[0m \u001b[43m        \u001b[49m\u001b[43mkalman_depth\u001b[49m\u001b[43m,\u001b[49m\u001b[43m \u001b[49m\u001b[43mkalman_uncertainty\u001b[49m\u001b[43m,\u001b[49m\u001b[43m \u001b[49m\u001b[43mmeasurement_depths\u001b[49m\u001b[43m,\u001b[49m\u001b[43m \u001b[49m\u001b[43mmeasurement_sigma\u001b[49m\n\u001b[1;32m     58\u001b[0m \u001b[43m    \u001b[49m\u001b[43m)\u001b[49m\n\u001b[1;32m     60\u001b[0m \u001b[38;5;66;03m# write the output to a raster file\u001b[39;00m\n\u001b[1;32m     61\u001b[0m \u001b[38;5;28;01mwith\u001b[39;00m rasterio\u001b[38;5;241m.\u001b[39mopen(\n\u001b[1;32m     62\u001b[0m     outputfile,\n\u001b[1;32m     63\u001b[0m     mode\u001b[38;5;241m=\u001b[39m\u001b[38;5;124m\"\u001b[39m\u001b[38;5;124mw+\u001b[39m\u001b[38;5;124m\"\u001b[39m,\n\u001b[0;32m   (...)\u001b[0m\n\u001b[1;32m     70\u001b[0m     nodata\u001b[38;5;241m=\u001b[39mgebco_interp\u001b[38;5;241m.\u001b[39mnodata,\n\u001b[1;32m     71\u001b[0m ) \u001b[38;5;28;01mas\u001b[39;00m outras:\n",
      "File \u001b[0;32m/mnt/c/Users/XCB/OneDrive - Van Oord/Documents/thesis/code/atl_module/kalman.py:23\u001b[0m, in \u001b[0;36msimple_kalman\u001b[0;34m(z, sigma, z_meas, sigma_meas)\u001b[0m\n\u001b[1;32m     21\u001b[0m variance \u001b[38;5;241m=\u001b[39m sigma\u001b[38;5;241m*\u001b[39m\u001b[38;5;241m*\u001b[39m\u001b[38;5;241m2\u001b[39m\n\u001b[1;32m     22\u001b[0m variance_meas \u001b[38;5;241m=\u001b[39m sigma_meas\u001b[38;5;241m*\u001b[39m\u001b[38;5;241m*\u001b[39m\u001b[38;5;241m2\u001b[39m\n\u001b[0;32m---> 23\u001b[0m gain \u001b[38;5;241m=\u001b[39m variance \u001b[38;5;241m/\u001b[39m (\u001b[43mvariance\u001b[49m\u001b[43m \u001b[49m\u001b[38;5;241;43m+\u001b[39;49m\u001b[43m \u001b[49m\u001b[43mvariance_meas\u001b[49m)\n\u001b[1;32m     24\u001b[0m znew \u001b[38;5;241m=\u001b[39m z \u001b[38;5;241m+\u001b[39m gain \u001b[38;5;241m*\u001b[39m (z_meas \u001b[38;5;241m-\u001b[39m z)\n\u001b[1;32m     25\u001b[0m \u001b[38;5;66;03m# get the new variance and convert it to a standard deviation\u001b[39;00m\n",
      "File \u001b[0;32m~/mambaforge/envs/thesis_env/lib/python3.9/site-packages/numpy/ma/core.py:4139\u001b[0m, in \u001b[0;36mMaskedArray.__add__\u001b[0;34m(self, other)\u001b[0m\n\u001b[1;32m   4137\u001b[0m \u001b[38;5;28;01mif\u001b[39;00m \u001b[38;5;28mself\u001b[39m\u001b[38;5;241m.\u001b[39m_delegate_binop(other):\n\u001b[1;32m   4138\u001b[0m     \u001b[38;5;28;01mreturn\u001b[39;00m \u001b[38;5;28mNotImplemented\u001b[39m\n\u001b[0;32m-> 4139\u001b[0m \u001b[38;5;28;01mreturn\u001b[39;00m \u001b[43madd\u001b[49m\u001b[43m(\u001b[49m\u001b[38;5;28;43mself\u001b[39;49m\u001b[43m,\u001b[49m\u001b[43m \u001b[49m\u001b[43mother\u001b[49m\u001b[43m)\u001b[49m\n",
      "File \u001b[0;32m~/mambaforge/envs/thesis_env/lib/python3.9/site-packages/numpy/ma/core.py:1015\u001b[0m, in \u001b[0;36m_MaskedBinaryOperation.__call__\u001b[0;34m(self, a, b, *args, **kwargs)\u001b[0m\n\u001b[1;32m   1013\u001b[0m \u001b[38;5;28;01mwith\u001b[39;00m np\u001b[38;5;241m.\u001b[39merrstate():\n\u001b[1;32m   1014\u001b[0m     np\u001b[38;5;241m.\u001b[39mseterr(divide\u001b[38;5;241m=\u001b[39m\u001b[38;5;124m'\u001b[39m\u001b[38;5;124mignore\u001b[39m\u001b[38;5;124m'\u001b[39m, invalid\u001b[38;5;241m=\u001b[39m\u001b[38;5;124m'\u001b[39m\u001b[38;5;124mignore\u001b[39m\u001b[38;5;124m'\u001b[39m)\n\u001b[0;32m-> 1015\u001b[0m     result \u001b[38;5;241m=\u001b[39m \u001b[38;5;28;43mself\u001b[39;49m\u001b[38;5;241;43m.\u001b[39;49m\u001b[43mf\u001b[49m\u001b[43m(\u001b[49m\u001b[43mda\u001b[49m\u001b[43m,\u001b[49m\u001b[43m \u001b[49m\u001b[43mdb\u001b[49m\u001b[43m,\u001b[49m\u001b[43m \u001b[49m\u001b[38;5;241;43m*\u001b[39;49m\u001b[43margs\u001b[49m\u001b[43m,\u001b[49m\u001b[43m \u001b[49m\u001b[38;5;241;43m*\u001b[39;49m\u001b[38;5;241;43m*\u001b[39;49m\u001b[43mkwargs\u001b[49m\u001b[43m)\u001b[49m\n\u001b[1;32m   1016\u001b[0m \u001b[38;5;66;03m# Get the mask for the result\u001b[39;00m\n\u001b[1;32m   1017\u001b[0m (ma, mb) \u001b[38;5;241m=\u001b[39m (getmask(a), getmask(b))\n",
      "\u001b[0;31mValueError\u001b[0m: operands could not be broadcast together with shapes (189,386) (531,606) "
     ]
    }
   ],
   "source": [
    "site.kalman_update(0.75)\n",
    "site.raster_rmse(error_out=True)"
   ]
  },
  {
   "cell_type": "code",
   "execution_count": null,
   "id": "b616181e",
   "metadata": {},
   "outputs": [],
   "source": [
    "date_indexed_tracklines  = site.tracklines.assign(date = pd.to_datetime(site.tracklines.date).dt.date).reset_index().set_index(['date','beam'])\n",
    "df = site.bathy_pts_gdf.eval('error=z_kde-true_elevation').eval('error_abs=abs(z_kde-true_elevation)').groupby([pd.to_datetime(site.bathy_pts_gdf.rename(columns={'delta_time':'date'}).date).dt.date,'beam']).mean().sort_values('error',ascending=False)\n",
    "# \n",
    "df = df.merge(date_indexed_tracklines,how='left',left_index=True,right_index=True)\n"
   ]
  },
  {
   "cell_type": "code",
   "execution_count": null,
   "id": "0a064403-fce7-4292-b879-c962eadf55dc",
   "metadata": {},
   "outputs": [],
   "source": [
    "site.bathy_pts_gdf.eval('error=z_kde-true_elevation').plot.scatter(x='error',y='sea_level_interp')"
   ]
  },
  {
   "cell_type": "code",
   "execution_count": null,
   "id": "9e43651b-5743-4141-b5b3-9f85e53cd4a9",
   "metadata": {},
   "outputs": [],
   "source": [
    "site.bathy_pts_gdf.eval('error=(z_kde-true_elevation)').plot.scatter(x='error',y='kde_val')"
   ]
  },
  {
   "cell_type": "code",
   "execution_count": null,
   "id": "c54933b0",
   "metadata": {},
   "outputs": [],
   "source": [
    "df.plot.scatter(y='error',x='oc_sig_conf')"
   ]
  },
  {
   "cell_type": "code",
   "execution_count": null,
   "id": "ccc9f249-3219-4fc0-8202-f673840b7b28",
   "metadata": {},
   "outputs": [],
   "source": [
    "df.plot.scatter(y='error',x='oc_hconf_perc')"
   ]
  },
  {
   "cell_type": "code",
   "execution_count": null,
   "id": "3fa64e5d",
   "metadata": {},
   "outputs": [],
   "source": [
    "df.plot.scatter(y='error_abs',x='secchi_depth')"
   ]
  },
  {
   "cell_type": "code",
   "execution_count": null,
   "id": "989f98ae-ee0d-416c-b23c-49a3ead2eab0",
   "metadata": {},
   "outputs": [],
   "source": [
    "df.plot.scatter(y='error_abs',x='tide_ocean_corr')"
   ]
  },
  {
   "cell_type": "code",
   "execution_count": null,
   "id": "59063ce7",
   "metadata": {},
   "outputs": [],
   "source": [
    "df.plot.scatter(y='error_abs',x='dac_corr')"
   ]
  },
  {
   "cell_type": "code",
   "execution_count": null,
   "id": "516de409-402b-438b-b31a-4f401d58250a",
   "metadata": {},
   "outputs": [],
   "source": [
    "df.plot.scatter(y='error_abs',x='kde_val')"
   ]
  },
  {
   "cell_type": "code",
   "execution_count": null,
   "id": "45b430a8-3245-419b-912b-9d662fc1a80a",
   "metadata": {},
   "outputs": [],
   "source": [
    "df.plot.scatter(y='error_abs',x='sea_level_interp')"
   ]
  },
  {
   "cell_type": "code",
   "execution_count": null,
   "id": "c9ec7d81-8546-4fd8-8dab-26c8579fa417",
   "metadata": {},
   "outputs": [],
   "source": [
    "site.bathy_pts_gdf.eval('error=z_kde-true_elevation').corr()['error'].sort_values()"
   ]
  },
  {
   "cell_type": "code",
   "execution_count": null,
   "id": "e9d80c08",
   "metadata": {},
   "outputs": [],
   "source": [
    "df.corr()['error'].sort_values()"
   ]
  },
  {
   "cell_type": "code",
   "execution_count": null,
   "id": "49ec95d6-290d-41a6-8fb5-1b0e8e366bae",
   "metadata": {},
   "outputs": [],
   "source": [
    "site.bathy_pts_gdf[site.bathy_pts_gdf.Z_geoid>-50].dropna().eval('error=(z_kde-true_elevation)**2').error.mean()**(0.5)"
   ]
  },
  {
   "cell_type": "code",
   "execution_count": null,
   "id": "272d99cd-d4bd-4ea2-98dd-95bd9c6ee73b",
   "metadata": {},
   "outputs": [],
   "source": [
    "site.bathy_pts_gdf.eval('error=z_kde-true_elevation').error.mean()"
   ]
  },
  {
   "cell_type": "code",
   "execution_count": null,
   "id": "55a05a0b-ca21-4c64-ab15-44cb68b716d2",
   "metadata": {},
   "outputs": [],
   "source": [
    "dac_tide = site.bathy_pts_gdf.z_kde  - site.bathy_pts_gdf.dac_corr  + site.bathy_pts_gdf.tide_ocean_corr\n",
    "site.bathy_pts_gdf.assign(dac_tide=dac_tide).eval('error=(dac_tide-true_elevation)**2').error.mean()**(0.5)"
   ]
  },
  {
   "cell_type": "code",
   "execution_count": null,
   "id": "2a739697-e476-4d8e-bad1-0d02a28d0487",
   "metadata": {},
   "outputs": [],
   "source": [
    "site.bathy_pts_gdf.assign(dac_tide=dac_tide).eval('error=dac_tide-true_elevation').error.mean()"
   ]
  },
  {
   "cell_type": "code",
   "execution_count": null,
   "id": "f47a7816-2181-4964-92f1-d5a5de825efa",
   "metadata": {},
   "outputs": [],
   "source": [
    "site.bathy_pts_gdf[site.bathy_pts_gdf.Z_geoid>-50].sea_level_interp"
   ]
  },
  {
   "cell_type": "markdown",
   "id": "13f0ac89-6631-4897-bcd8-1995e74002a7",
   "metadata": {},
   "source": [
    "## "
   ]
  },
  {
   "cell_type": "code",
   "execution_count": null,
   "id": "58ca6de7-ea02-4e8f-bb1f-4cacb4a5071f",
   "metadata": {},
   "outputs": [],
   "source": [
    "site.bathy_pts_gdf.count()"
   ]
  },
  {
   "cell_type": "code",
   "execution_count": null,
   "id": "61a5e9e3-d75e-4885-93ed-5bd7dd8470a7",
   "metadata": {},
   "outputs": [],
   "source": [
    "df"
   ]
  },
  {
   "cell_type": "code",
   "execution_count": null,
   "id": "9445b069-89a9-44dc-9c3d-cacd0de11c8f",
   "metadata": {},
   "outputs": [],
   "source": []
  }
 ],
 "metadata": {
  "kernelspec": {
   "display_name": "Python 3 (ipykernel)",
   "language": "python",
   "name": "python3"
  },
  "language_info": {
   "codemirror_mode": {
    "name": "ipython",
    "version": 3
   },
   "file_extension": ".py",
   "mimetype": "text/x-python",
   "name": "python",
   "nbconvert_exporter": "python",
   "pygments_lexer": "ipython3",
   "version": "3.9.10"
  },
  "vscode": {
   "interpreter": {
    "hash": "ec7c7d4d013ec650dc8eb8b9310ce197f2a724f68d99fdc157fb921cb8b4fa41"
   }
  }
 },
 "nbformat": 4,
 "nbformat_minor": 5
}
