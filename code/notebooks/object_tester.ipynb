{
 "cells": [
  {
   "cell_type": "code",
   "execution_count": 1,
   "id": "4eb2d8c0-5265-4406-a877-4f4353da4106",
   "metadata": {},
   "outputs": [],
   "source": [
    "from atl_module import GebcoUpscaler\n",
    "from atl_module import ocean_color"
   ]
  },
  {
   "cell_type": "code",
   "execution_count": 5,
   "id": "ca2f1597-75ca-428e-8ffe-6fa0b64d0c1d",
   "metadata": {
    "tags": []
   },
   "outputs": [
    {
     "name": "stdout",
     "output_type": "stream",
     "text": [
      "Trackline geodata not found - recalculating from netcdf files\n"
     ]
    },
    {
     "name": "stderr",
     "output_type": "stream",
     "text": [
      "/mnt/c/Users/XCB/OneDrive - Van Oord/Documents/thesis/code/atl_module/ocean_color.py:90: UserWarning: Geometry is in a geographic CRS. Results from 'centroid' are likely incorrect. Use 'GeoSeries.to_crs()' to re-project geometries to a projected CRS before this operation.\n",
      "\n",
      "  xcoord=df_input.to_crs(\"EPSG:4326\").centroid.x,\n",
      "/mnt/c/Users/XCB/OneDrive - Van Oord/Documents/thesis/code/atl_module/ocean_color.py:91: UserWarning: Geometry is in a geographic CRS. Results from 'centroid' are likely incorrect. Use 'GeoSeries.to_crs()' to re-project geometries to a projected CRS before this operation.\n",
      "\n",
      "  ycoord=df_input.to_crs(\"EPSG:4326\").centroid.y,\n"
     ]
    },
    {
     "name": "stdout",
     "output_type": "stream",
     "text": [
      "Bathy Points geodata not found: run `find_bathy_from_icesat()`\n"
     ]
    }
   ],
   "source": [
    "site = GebcoUpscaler(\"../data/test_sites/mililani/\")\n",
    "# site.get_tracklines_geom()"
   ]
  },
  {
   "cell_type": "code",
   "execution_count": 4,
   "id": "0781903d-7a86-40bd-893c-0a498ee93b86",
   "metadata": {},
   "outputs": [],
   "source": [
    "site.find_bathy_from_icesat(\n",
    "    window=100,\n",
    "    threshold_val=0.0,\n",
    "    req_perc_hconf=60,\n",
    "    window_meters=None,\n",
    "    min_photons=None,\n",
    ")"
   ]
  },
  {
   "cell_type": "code",
   "execution_count": 36,
   "id": "ccc9f249-3219-4fc0-8202-f673840b7b28",
   "metadata": {},
   "outputs": [],
   "source": [
    "pts_gdf = site.tracklines"
   ]
  },
  {
   "cell_type": "code",
   "execution_count": 31,
   "id": "589e7268-a52c-4cc6-8a05-9b5fb632e746",
   "metadata": {},
   "outputs": [
    {
     "data": {
      "text/plain": [
       "Index(['file', 'beam', 'Reference Ground Track', 'date', 'beam_type',\n",
       "       'secchi_depth', 'secchi_depth_unc', 'geometry'],\n",
       "      dtype='object')"
      ]
     },
     "execution_count": 31,
     "metadata": {},
     "output_type": "execute_result"
    }
   ],
   "source": [
    "pts_gdf.columns"
   ]
  },
  {
   "cell_type": "code",
   "execution_count": 24,
   "id": "97ec7b0b-046e-4e5f-a0b8-d22ae79e8064",
   "metadata": {},
   "outputs": [
    {
     "data": {
      "text/html": [
       "<div>\n",
       "<style scoped>\n",
       "    .dataframe tbody tr th:only-of-type {\n",
       "        vertical-align: middle;\n",
       "    }\n",
       "\n",
       "    .dataframe tbody tr th {\n",
       "        vertical-align: top;\n",
       "    }\n",
       "\n",
       "    .dataframe thead th {\n",
       "        text-align: right;\n",
       "    }\n",
       "</style>\n",
       "<table border=\"1\" class=\"dataframe\">\n",
       "  <thead>\n",
       "    <tr style=\"text-align: right;\">\n",
       "      <th></th>\n",
       "      <th></th>\n",
       "      <th>file</th>\n",
       "      <th>Reference Ground Track</th>\n",
       "      <th>beam_type</th>\n",
       "      <th>secchi_depth</th>\n",
       "      <th>secchi_depth_unc</th>\n",
       "      <th>geometry</th>\n",
       "    </tr>\n",
       "    <tr>\n",
       "      <th>date</th>\n",
       "      <th>beam</th>\n",
       "      <th></th>\n",
       "      <th></th>\n",
       "      <th></th>\n",
       "      <th></th>\n",
       "      <th></th>\n",
       "      <th></th>\n",
       "    </tr>\n",
       "  </thead>\n",
       "  <tbody>\n",
       "    <tr>\n",
       "      <th rowspan=\"4\" valign=\"top\">2018-10-17T08:52:33.702031Z</th>\n",
       "      <th>gt2l</th>\n",
       "      <td>processed_ATL03_20181017085235_02860107_005_01</td>\n",
       "      <td>286</td>\n",
       "      <td>weak</td>\n",
       "      <td>14.269845</td>\n",
       "      <td>62.900002</td>\n",
       "      <td>LINESTRING (-80.89043 24.68074, -80.87399 24.8...</td>\n",
       "    </tr>\n",
       "    <tr>\n",
       "      <th>gt2r</th>\n",
       "      <td>processed_ATL03_20181017085235_02860107_005_01</td>\n",
       "      <td>286</td>\n",
       "      <td>strong</td>\n",
       "      <td>23.233147</td>\n",
       "      <td>57.970001</td>\n",
       "      <td>LINESTRING (-80.89415 24.65372, -80.87481 24.8...</td>\n",
       "    </tr>\n",
       "    <tr>\n",
       "      <th>gt3l</th>\n",
       "      <td>processed_ATL03_20181017085235_02860107_005_01</td>\n",
       "      <td>286</td>\n",
       "      <td>weak</td>\n",
       "      <td>23.233147</td>\n",
       "      <td>57.970001</td>\n",
       "      <td>LINESTRING (-80.92522 24.65173, -80.90573 24.8...</td>\n",
       "    </tr>\n",
       "    <tr>\n",
       "      <th>gt3r</th>\n",
       "      <td>processed_ATL03_20181017085235_02860107_005_01</td>\n",
       "      <td>286</td>\n",
       "      <td>strong</td>\n",
       "      <td>23.233147</td>\n",
       "      <td>57.970001</td>\n",
       "      <td>LINESTRING (-80.92613 24.65162, -80.90662 24.8...</td>\n",
       "    </tr>\n",
       "    <tr>\n",
       "      <th>2018-12-06T18:15:36.991948Z</th>\n",
       "      <th>gt1l</th>\n",
       "      <td>processed_ATL03_20181206181537_10560101_005_01</td>\n",
       "      <td>1056</td>\n",
       "      <td>weak</td>\n",
       "      <td>9.680401</td>\n",
       "      <td>55.150002</td>\n",
       "      <td>LINESTRING (-81.03773 24.65167, -81.05737 24.8...</td>\n",
       "    </tr>\n",
       "    <tr>\n",
       "      <th>...</th>\n",
       "      <th>...</th>\n",
       "      <td>...</td>\n",
       "      <td>...</td>\n",
       "      <td>...</td>\n",
       "      <td>...</td>\n",
       "      <td>...</td>\n",
       "      <td>...</td>\n",
       "    </tr>\n",
       "    <tr>\n",
       "      <th rowspan=\"5\" valign=\"top\">2022-01-10T00:30:25.505603Z</th>\n",
       "      <th>gt1r</th>\n",
       "      <td>processed_ATL03_20220110003025_02861407_005_01</td>\n",
       "      <td>286</td>\n",
       "      <td>weak</td>\n",
       "      <td>13.995566</td>\n",
       "      <td>53.639999</td>\n",
       "      <td>LINESTRING (-80.87019 24.65717, -80.86772 24.6...</td>\n",
       "    </tr>\n",
       "    <tr>\n",
       "      <th>gt2l</th>\n",
       "      <td>processed_ATL03_20220110003025_02861407_005_01</td>\n",
       "      <td>286</td>\n",
       "      <td>strong</td>\n",
       "      <td>12.636550</td>\n",
       "      <td>57.900002</td>\n",
       "      <td>LINESTRING (-80.90162 24.65187, -80.88206 24.8...</td>\n",
       "    </tr>\n",
       "    <tr>\n",
       "      <th>gt2r</th>\n",
       "      <td>processed_ATL03_20220110003025_02861407_005_01</td>\n",
       "      <td>286</td>\n",
       "      <td>weak</td>\n",
       "      <td>8.970924</td>\n",
       "      <td>60.970001</td>\n",
       "      <td>LINESTRING (-80.89234 24.74590, -80.88289 24.8...</td>\n",
       "    </tr>\n",
       "    <tr>\n",
       "      <th>gt3l</th>\n",
       "      <td>processed_ATL03_20220110003025_02861407_005_01</td>\n",
       "      <td>286</td>\n",
       "      <td>strong</td>\n",
       "      <td>10.257461</td>\n",
       "      <td>59.980000</td>\n",
       "      <td>LINESTRING (-80.93296 24.65516, -80.91387 24.8...</td>\n",
       "    </tr>\n",
       "    <tr>\n",
       "      <th>gt3r</th>\n",
       "      <td>processed_ATL03_20220110003025_02861407_005_01</td>\n",
       "      <td>286</td>\n",
       "      <td>weak</td>\n",
       "      <td>10.257461</td>\n",
       "      <td>59.980000</td>\n",
       "      <td>LINESTRING (-80.93029 24.68801, -80.91813 24.8...</td>\n",
       "    </tr>\n",
       "  </tbody>\n",
       "</table>\n",
       "<p>138 rows × 6 columns</p>\n",
       "</div>"
      ],
      "text/plain": [
       "                                                                            file  \\\n",
       "date                        beam                                                   \n",
       "2018-10-17T08:52:33.702031Z gt2l  processed_ATL03_20181017085235_02860107_005_01   \n",
       "                            gt2r  processed_ATL03_20181017085235_02860107_005_01   \n",
       "                            gt3l  processed_ATL03_20181017085235_02860107_005_01   \n",
       "                            gt3r  processed_ATL03_20181017085235_02860107_005_01   \n",
       "2018-12-06T18:15:36.991948Z gt1l  processed_ATL03_20181206181537_10560101_005_01   \n",
       "...                                                                          ...   \n",
       "2022-01-10T00:30:25.505603Z gt1r  processed_ATL03_20220110003025_02861407_005_01   \n",
       "                            gt2l  processed_ATL03_20220110003025_02861407_005_01   \n",
       "                            gt2r  processed_ATL03_20220110003025_02861407_005_01   \n",
       "                            gt3l  processed_ATL03_20220110003025_02861407_005_01   \n",
       "                            gt3r  processed_ATL03_20220110003025_02861407_005_01   \n",
       "\n",
       "                                 Reference Ground Track beam_type  \\\n",
       "date                        beam                                    \n",
       "2018-10-17T08:52:33.702031Z gt2l                    286      weak   \n",
       "                            gt2r                    286    strong   \n",
       "                            gt3l                    286      weak   \n",
       "                            gt3r                    286    strong   \n",
       "2018-12-06T18:15:36.991948Z gt1l                   1056      weak   \n",
       "...                                                 ...       ...   \n",
       "2022-01-10T00:30:25.505603Z gt1r                    286      weak   \n",
       "                            gt2l                    286    strong   \n",
       "                            gt2r                    286      weak   \n",
       "                            gt3l                    286    strong   \n",
       "                            gt3r                    286      weak   \n",
       "\n",
       "                                  secchi_depth  secchi_depth_unc  \\\n",
       "date                        beam                                   \n",
       "2018-10-17T08:52:33.702031Z gt2l     14.269845         62.900002   \n",
       "                            gt2r     23.233147         57.970001   \n",
       "                            gt3l     23.233147         57.970001   \n",
       "                            gt3r     23.233147         57.970001   \n",
       "2018-12-06T18:15:36.991948Z gt1l      9.680401         55.150002   \n",
       "...                                        ...               ...   \n",
       "2022-01-10T00:30:25.505603Z gt1r     13.995566         53.639999   \n",
       "                            gt2l     12.636550         57.900002   \n",
       "                            gt2r      8.970924         60.970001   \n",
       "                            gt3l     10.257461         59.980000   \n",
       "                            gt3r     10.257461         59.980000   \n",
       "\n",
       "                                                                           geometry  \n",
       "date                        beam                                                     \n",
       "2018-10-17T08:52:33.702031Z gt2l  LINESTRING (-80.89043 24.68074, -80.87399 24.8...  \n",
       "                            gt2r  LINESTRING (-80.89415 24.65372, -80.87481 24.8...  \n",
       "                            gt3l  LINESTRING (-80.92522 24.65173, -80.90573 24.8...  \n",
       "                            gt3r  LINESTRING (-80.92613 24.65162, -80.90662 24.8...  \n",
       "2018-12-06T18:15:36.991948Z gt1l  LINESTRING (-81.03773 24.65167, -81.05737 24.8...  \n",
       "...                                                                             ...  \n",
       "2022-01-10T00:30:25.505603Z gt1r  LINESTRING (-80.87019 24.65717, -80.86772 24.6...  \n",
       "                            gt2l  LINESTRING (-80.90162 24.65187, -80.88206 24.8...  \n",
       "                            gt2r  LINESTRING (-80.89234 24.74590, -80.88289 24.8...  \n",
       "                            gt3l  LINESTRING (-80.93296 24.65516, -80.91387 24.8...  \n",
       "                            gt3r  LINESTRING (-80.93029 24.68801, -80.91813 24.8...  \n",
       "\n",
       "[138 rows x 6 columns]"
      ]
     },
     "execution_count": 24,
     "metadata": {},
     "output_type": "execute_result"
    }
   ],
   "source": [
    "pts_gdf.set_index([\"date\", \"beam\"])"
   ]
  },
  {
   "cell_type": "code",
   "execution_count": null,
   "id": "540cd49c-bbaf-40d2-968e-65f397633161",
   "metadata": {},
   "outputs": [],
   "source": [
    "site"
   ]
  },
  {
   "cell_type": "code",
   "execution_count": 4,
   "id": "e5b55477-4087-4e3f-8f10-eecdd34d6966",
   "metadata": {},
   "outputs": [
    {
     "name": "stderr",
     "output_type": "stream",
     "text": [
      "/mnt/c/Users/maxli/OneDrive - Van Oord/Documents/thesis/code/atl_module/ocean_color.py:90: UserWarning: Geometry is in a geographic CRS. Results from 'centroid' are likely incorrect. Use 'GeoSeries.to_crs()' to re-project geometries to a projected CRS before this operation.\n",
      "\n",
      "  xcoord=df_input.to_crs(\"EPSG:4326\").centroid.x,\n",
      "/mnt/c/Users/maxli/OneDrive - Van Oord/Documents/thesis/code/atl_module/ocean_color.py:91: UserWarning: Geometry is in a geographic CRS. Results from 'centroid' are likely incorrect. Use 'GeoSeries.to_crs()' to re-project geometries to a projected CRS before this operation.\n",
      "\n",
      "  ycoord=df_input.to_crs(\"EPSG:4326\").centroid.y,\n"
     ]
    },
    {
     "ename": "TypeError",
     "evalue": "'<' not supported between instances of 'str' and 'Timestamp'",
     "output_type": "error",
     "traceback": [
      "\u001b[0;31m---------------------------------------------------------------------------\u001b[0m",
      "\u001b[0;31mTypeError\u001b[0m                                 Traceback (most recent call last)",
      "Input \u001b[0;32mIn [4]\u001b[0m, in \u001b[0;36m<cell line: 1>\u001b[0;34m()\u001b[0m\n\u001b[0;32m----> 1\u001b[0m \u001b[43mocean_color\u001b[49m\u001b[38;5;241;43m.\u001b[39;49m\u001b[43madd_secchi_depth_to_tracklines\u001b[49m\u001b[43m(\u001b[49m\u001b[43msite\u001b[49m\u001b[38;5;241;43m.\u001b[39;49m\u001b[43mtracklines\u001b[49m\u001b[43m)\u001b[49m\n",
      "File \u001b[0;32m/mnt/c/Users/maxli/OneDrive - Van Oord/Documents/thesis/code/atl_module/ocean_color.py:95\u001b[0m, in \u001b[0;36madd_secchi_depth_to_tracklines\u001b[0;34m(df_input)\u001b[0m\n\u001b[1;32m     89\u001b[0m temp \u001b[38;5;241m=\u001b[39m df_input\u001b[38;5;241m.\u001b[39massign(\n\u001b[1;32m     90\u001b[0m     xcoord\u001b[38;5;241m=\u001b[39mdf_input\u001b[38;5;241m.\u001b[39mto_crs(\u001b[38;5;124m\"\u001b[39m\u001b[38;5;124mEPSG:4326\u001b[39m\u001b[38;5;124m\"\u001b[39m)\u001b[38;5;241m.\u001b[39mcentroid\u001b[38;5;241m.\u001b[39mx,\n\u001b[1;32m     91\u001b[0m     ycoord\u001b[38;5;241m=\u001b[39mdf_input\u001b[38;5;241m.\u001b[39mto_crs(\u001b[38;5;124m\"\u001b[39m\u001b[38;5;124mEPSG:4326\u001b[39m\u001b[38;5;124m\"\u001b[39m)\u001b[38;5;241m.\u001b[39mcentroid\u001b[38;5;241m.\u001b[39my,\n\u001b[1;32m     92\u001b[0m     date\u001b[38;5;241m=\u001b[39mpd\u001b[38;5;241m.\u001b[39mto_datetime(df_input\u001b[38;5;241m.\u001b[39mdate)\u001b[38;5;241m.\u001b[39mdt\u001b[38;5;241m.\u001b[39mdate,\n\u001b[1;32m     93\u001b[0m )\n\u001b[1;32m     94\u001b[0m \u001b[38;5;66;03m# get a series of the depth and uncertainty values\u001b[39;00m\n\u001b[0;32m---> 95\u001b[0m zsd_vals,zsd_sigma_vals \u001b[38;5;241m=\u001b[39m \u001b[43mget_zsd_info\u001b[49m\u001b[43m(\u001b[49m\u001b[43mtemp\u001b[49m\u001b[38;5;241;43m.\u001b[39;49m\u001b[43mycoord\u001b[49m\u001b[38;5;241;43m.\u001b[39;49m\u001b[43mvalues\u001b[49m\u001b[43m,\u001b[49m\u001b[43mtemp\u001b[49m\u001b[38;5;241;43m.\u001b[39;49m\u001b[43mycoord\u001b[49m\u001b[38;5;241;43m.\u001b[39;49m\u001b[43mvalues\u001b[49m\u001b[43m,\u001b[49m\u001b[43mdf_input\u001b[49m\u001b[38;5;241;43m.\u001b[39;49m\u001b[43mdate\u001b[49m\u001b[38;5;241;43m.\u001b[39;49m\u001b[43mvalues\u001b[49m\u001b[43m)\u001b[49m\n\u001b[1;32m     96\u001b[0m \u001b[38;5;66;03m# add the series to the original dataframe and return\u001b[39;00m\n\u001b[1;32m     97\u001b[0m \u001b[38;5;28;01mreturn\u001b[39;00m df_input\u001b[38;5;241m.\u001b[39massign(\n\u001b[1;32m     98\u001b[0m     secchi_depth\u001b[38;5;241m=\u001b[39mzsd_vals,\n\u001b[1;32m     99\u001b[0m     secchi_depth_unc\u001b[38;5;241m=\u001b[39mzsd_sigma_vals,\n\u001b[1;32m    100\u001b[0m )\n",
      "File \u001b[0;32m/mnt/c/Users/maxli/OneDrive - Van Oord/Documents/thesis/code/atl_module/ocean_color.py:52\u001b[0m, in \u001b[0;36mget_zsd_info\u001b[0;34m(lat, lon, dates)\u001b[0m\n\u001b[1;32m     50\u001b[0m date_indexer \u001b[38;5;241m=\u001b[39m xr\u001b[38;5;241m.\u001b[39mDataArray(dates, dims\u001b[38;5;241m=\u001b[39m[\u001b[38;5;124m\"\u001b[39m\u001b[38;5;124mpoints\u001b[39m\u001b[38;5;124m\"\u001b[39m])\n\u001b[1;32m     51\u001b[0m \u001b[38;5;66;03m# load the nearest data within 0.2 degrees of the requested point\u001b[39;00m\n\u001b[0;32m---> 52\u001b[0m subset \u001b[38;5;241m=\u001b[39m \u001b[43mds\u001b[49m\u001b[38;5;241;43m.\u001b[39;49m\u001b[43msel\u001b[49m\u001b[43m(\u001b[49m\n\u001b[1;32m     53\u001b[0m \u001b[43m    \u001b[49m\u001b[43mlat\u001b[49m\u001b[38;5;241;43m=\u001b[39;49m\u001b[43mlat_indexer\u001b[49m\u001b[43m,\u001b[49m\u001b[43m \u001b[49m\u001b[43mlon\u001b[49m\u001b[38;5;241;43m=\u001b[39;49m\u001b[43mlon_indexer\u001b[49m\u001b[43m,\u001b[49m\u001b[43m \u001b[49m\u001b[43mmethod\u001b[49m\u001b[38;5;241;43m=\u001b[39;49m\u001b[38;5;124;43m\"\u001b[39;49m\u001b[38;5;124;43mnearest\u001b[39;49m\u001b[38;5;124;43m\"\u001b[39;49m\u001b[43m,\u001b[49m\u001b[43m \u001b[49m\u001b[43mtolerance\u001b[49m\u001b[38;5;241;43m=\u001b[39;49m\u001b[38;5;241;43m0.1\u001b[39;49m\n\u001b[1;32m     54\u001b[0m \u001b[43m\u001b[49m\u001b[43m)\u001b[49m\u001b[38;5;241;43m.\u001b[39;49m\u001b[43msel\u001b[49m\u001b[43m(\u001b[49m\n\u001b[1;32m     55\u001b[0m \u001b[43m    \u001b[49m\u001b[38;5;66;43;03m# load the nearest time within 2 days\u001b[39;49;00m\n\u001b[1;32m     56\u001b[0m \u001b[43m    \u001b[49m\u001b[43mtime\u001b[49m\u001b[38;5;241;43m=\u001b[39;49m\u001b[43mdate_indexer\u001b[49m\u001b[43m,\u001b[49m\n\u001b[1;32m     57\u001b[0m \u001b[43m    \u001b[49m\u001b[43mmethod\u001b[49m\u001b[38;5;241;43m=\u001b[39;49m\u001b[38;5;124;43m\"\u001b[39;49m\u001b[38;5;124;43mnearest\u001b[39;49m\u001b[38;5;124;43m\"\u001b[39;49m\u001b[43m,\u001b[49m\n\u001b[1;32m     58\u001b[0m \u001b[43m    \u001b[49m\u001b[43mtolerance\u001b[49m\u001b[38;5;241;43m=\u001b[39;49m\u001b[38;5;241;43m2\u001b[39;49m\u001b[43m,\u001b[49m\n\u001b[1;32m     59\u001b[0m \u001b[43m\u001b[49m\u001b[43m)\u001b[49m\n\u001b[1;32m     60\u001b[0m \u001b[38;5;66;03m# get an array of depth and uncertainty\u001b[39;00m\n\u001b[1;32m     61\u001b[0m secchi_depth_array \u001b[38;5;241m=\u001b[39m subset\u001b[38;5;241m.\u001b[39mZSD\u001b[38;5;241m.\u001b[39mto_numpy()\n",
      "File \u001b[0;32m~/mambaforge/envs/thesis_env/lib/python3.9/site-packages/xarray/core/dataset.py:2501\u001b[0m, in \u001b[0;36mDataset.sel\u001b[0;34m(self, indexers, method, tolerance, drop, **indexers_kwargs)\u001b[0m\n\u001b[1;32m   2440\u001b[0m \u001b[38;5;124;03m\"\"\"Returns a new dataset with each array indexed by tick labels\u001b[39;00m\n\u001b[1;32m   2441\u001b[0m \u001b[38;5;124;03malong the specified dimension(s).\u001b[39;00m\n\u001b[1;32m   2442\u001b[0m \n\u001b[0;32m   (...)\u001b[0m\n\u001b[1;32m   2498\u001b[0m \u001b[38;5;124;03mDataArray.sel\u001b[39;00m\n\u001b[1;32m   2499\u001b[0m \u001b[38;5;124;03m\"\"\"\u001b[39;00m\n\u001b[1;32m   2500\u001b[0m indexers \u001b[38;5;241m=\u001b[39m either_dict_or_kwargs(indexers, indexers_kwargs, \u001b[38;5;124m\"\u001b[39m\u001b[38;5;124msel\u001b[39m\u001b[38;5;124m\"\u001b[39m)\n\u001b[0;32m-> 2501\u001b[0m pos_indexers, new_indexes \u001b[38;5;241m=\u001b[39m \u001b[43mremap_label_indexers\u001b[49m\u001b[43m(\u001b[49m\n\u001b[1;32m   2502\u001b[0m \u001b[43m    \u001b[49m\u001b[38;5;28;43mself\u001b[39;49m\u001b[43m,\u001b[49m\u001b[43m \u001b[49m\u001b[43mindexers\u001b[49m\u001b[38;5;241;43m=\u001b[39;49m\u001b[43mindexers\u001b[49m\u001b[43m,\u001b[49m\u001b[43m \u001b[49m\u001b[43mmethod\u001b[49m\u001b[38;5;241;43m=\u001b[39;49m\u001b[43mmethod\u001b[49m\u001b[43m,\u001b[49m\u001b[43m \u001b[49m\u001b[43mtolerance\u001b[49m\u001b[38;5;241;43m=\u001b[39;49m\u001b[43mtolerance\u001b[49m\n\u001b[1;32m   2503\u001b[0m \u001b[43m\u001b[49m\u001b[43m)\u001b[49m\n\u001b[1;32m   2504\u001b[0m \u001b[38;5;66;03m# TODO: benbovy - flexible indexes: also use variables returned by Index.query\u001b[39;00m\n\u001b[1;32m   2505\u001b[0m \u001b[38;5;66;03m# (temporary dirty fix).\u001b[39;00m\n\u001b[1;32m   2506\u001b[0m new_indexes \u001b[38;5;241m=\u001b[39m {k: v[\u001b[38;5;241m0\u001b[39m] \u001b[38;5;28;01mfor\u001b[39;00m k, v \u001b[38;5;129;01min\u001b[39;00m new_indexes\u001b[38;5;241m.\u001b[39mitems()}\n",
      "File \u001b[0;32m~/mambaforge/envs/thesis_env/lib/python3.9/site-packages/xarray/core/coordinates.py:421\u001b[0m, in \u001b[0;36mremap_label_indexers\u001b[0;34m(obj, indexers, method, tolerance, **indexers_kwargs)\u001b[0m\n\u001b[1;32m    414\u001b[0m indexers \u001b[38;5;241m=\u001b[39m either_dict_or_kwargs(indexers, indexers_kwargs, \u001b[38;5;124m\"\u001b[39m\u001b[38;5;124mremap_label_indexers\u001b[39m\u001b[38;5;124m\"\u001b[39m)\n\u001b[1;32m    416\u001b[0m v_indexers \u001b[38;5;241m=\u001b[39m {\n\u001b[1;32m    417\u001b[0m     k: v\u001b[38;5;241m.\u001b[39mvariable\u001b[38;5;241m.\u001b[39mdata \u001b[38;5;28;01mif\u001b[39;00m \u001b[38;5;28misinstance\u001b[39m(v, DataArray) \u001b[38;5;28;01melse\u001b[39;00m v\n\u001b[1;32m    418\u001b[0m     \u001b[38;5;28;01mfor\u001b[39;00m k, v \u001b[38;5;129;01min\u001b[39;00m indexers\u001b[38;5;241m.\u001b[39mitems()\n\u001b[1;32m    419\u001b[0m }\n\u001b[0;32m--> 421\u001b[0m pos_indexers, new_indexes \u001b[38;5;241m=\u001b[39m \u001b[43mindexing\u001b[49m\u001b[38;5;241;43m.\u001b[39;49m\u001b[43mremap_label_indexers\u001b[49m\u001b[43m(\u001b[49m\n\u001b[1;32m    422\u001b[0m \u001b[43m    \u001b[49m\u001b[43mobj\u001b[49m\u001b[43m,\u001b[49m\u001b[43m \u001b[49m\u001b[43mv_indexers\u001b[49m\u001b[43m,\u001b[49m\u001b[43m \u001b[49m\u001b[43mmethod\u001b[49m\u001b[38;5;241;43m=\u001b[39;49m\u001b[43mmethod\u001b[49m\u001b[43m,\u001b[49m\u001b[43m \u001b[49m\u001b[43mtolerance\u001b[49m\u001b[38;5;241;43m=\u001b[39;49m\u001b[43mtolerance\u001b[49m\n\u001b[1;32m    423\u001b[0m \u001b[43m\u001b[49m\u001b[43m)\u001b[49m\n\u001b[1;32m    424\u001b[0m \u001b[38;5;66;03m# attach indexer's coordinate to pos_indexers\u001b[39;00m\n\u001b[1;32m    425\u001b[0m \u001b[38;5;28;01mfor\u001b[39;00m k, v \u001b[38;5;129;01min\u001b[39;00m indexers\u001b[38;5;241m.\u001b[39mitems():\n",
      "File \u001b[0;32m~/mambaforge/envs/thesis_env/lib/python3.9/site-packages/xarray/core/indexing.py:121\u001b[0m, in \u001b[0;36mremap_label_indexers\u001b[0;34m(data_obj, indexers, method, tolerance)\u001b[0m\n\u001b[1;32m    119\u001b[0m \u001b[38;5;28;01mfor\u001b[39;00m dim, index \u001b[38;5;129;01min\u001b[39;00m indexes\u001b[38;5;241m.\u001b[39mitems():\n\u001b[1;32m    120\u001b[0m     labels \u001b[38;5;241m=\u001b[39m grouped_indexers[dim]\n\u001b[0;32m--> 121\u001b[0m     idxr, new_idx \u001b[38;5;241m=\u001b[39m \u001b[43mindex\u001b[49m\u001b[38;5;241;43m.\u001b[39;49m\u001b[43mquery\u001b[49m\u001b[43m(\u001b[49m\u001b[43mlabels\u001b[49m\u001b[43m,\u001b[49m\u001b[43m \u001b[49m\u001b[43mmethod\u001b[49m\u001b[38;5;241;43m=\u001b[39;49m\u001b[43mmethod\u001b[49m\u001b[43m,\u001b[49m\u001b[43m \u001b[49m\u001b[43mtolerance\u001b[49m\u001b[38;5;241;43m=\u001b[39;49m\u001b[43mtolerance\u001b[49m\u001b[43m)\u001b[49m\n\u001b[1;32m    122\u001b[0m     pos_indexers[dim] \u001b[38;5;241m=\u001b[39m idxr\n\u001b[1;32m    123\u001b[0m     \u001b[38;5;28;01mif\u001b[39;00m new_idx \u001b[38;5;129;01mis\u001b[39;00m \u001b[38;5;129;01mnot\u001b[39;00m \u001b[38;5;28;01mNone\u001b[39;00m:\n",
      "File \u001b[0;32m~/mambaforge/envs/thesis_env/lib/python3.9/site-packages/xarray/core/indexes.py:245\u001b[0m, in \u001b[0;36mPandasIndex.query\u001b[0;34m(self, labels, method, tolerance)\u001b[0m\n\u001b[1;32m    243\u001b[0m     indexer \u001b[38;5;241m=\u001b[39m label\n\u001b[1;32m    244\u001b[0m \u001b[38;5;28;01melse\u001b[39;00m:\n\u001b[0;32m--> 245\u001b[0m     indexer \u001b[38;5;241m=\u001b[39m \u001b[43mget_indexer_nd\u001b[49m\u001b[43m(\u001b[49m\u001b[38;5;28;43mself\u001b[39;49m\u001b[38;5;241;43m.\u001b[39;49m\u001b[43mindex\u001b[49m\u001b[43m,\u001b[49m\u001b[43m \u001b[49m\u001b[43mlabel\u001b[49m\u001b[43m,\u001b[49m\u001b[43m \u001b[49m\u001b[43mmethod\u001b[49m\u001b[43m,\u001b[49m\u001b[43m \u001b[49m\u001b[43mtolerance\u001b[49m\u001b[43m)\u001b[49m\n\u001b[1;32m    246\u001b[0m     \u001b[38;5;28;01mif\u001b[39;00m np\u001b[38;5;241m.\u001b[39many(indexer \u001b[38;5;241m<\u001b[39m \u001b[38;5;241m0\u001b[39m):\n\u001b[1;32m    247\u001b[0m         \u001b[38;5;28;01mraise\u001b[39;00m \u001b[38;5;167;01mKeyError\u001b[39;00m(\u001b[38;5;124mf\u001b[39m\u001b[38;5;124m\"\u001b[39m\u001b[38;5;124mnot all values found in index \u001b[39m\u001b[38;5;132;01m{\u001b[39;00mcoord_name\u001b[38;5;132;01m!r}\u001b[39;00m\u001b[38;5;124m\"\u001b[39m)\n",
      "File \u001b[0;32m~/mambaforge/envs/thesis_env/lib/python3.9/site-packages/xarray/core/indexes.py:142\u001b[0m, in \u001b[0;36mget_indexer_nd\u001b[0;34m(index, labels, method, tolerance)\u001b[0m\n\u001b[1;32m    138\u001b[0m \u001b[38;5;124;03m\"\"\"Wrapper around :meth:`pandas.Index.get_indexer` supporting n-dimensional\u001b[39;00m\n\u001b[1;32m    139\u001b[0m \u001b[38;5;124;03mlabels\u001b[39;00m\n\u001b[1;32m    140\u001b[0m \u001b[38;5;124;03m\"\"\"\u001b[39;00m\n\u001b[1;32m    141\u001b[0m flat_labels \u001b[38;5;241m=\u001b[39m np\u001b[38;5;241m.\u001b[39mravel(labels)\n\u001b[0;32m--> 142\u001b[0m flat_indexer \u001b[38;5;241m=\u001b[39m \u001b[43mindex\u001b[49m\u001b[38;5;241;43m.\u001b[39;49m\u001b[43mget_indexer\u001b[49m\u001b[43m(\u001b[49m\u001b[43mflat_labels\u001b[49m\u001b[43m,\u001b[49m\u001b[43m \u001b[49m\u001b[43mmethod\u001b[49m\u001b[38;5;241;43m=\u001b[39;49m\u001b[43mmethod\u001b[49m\u001b[43m,\u001b[49m\u001b[43m \u001b[49m\u001b[43mtolerance\u001b[49m\u001b[38;5;241;43m=\u001b[39;49m\u001b[43mtolerance\u001b[49m\u001b[43m)\u001b[49m\n\u001b[1;32m    143\u001b[0m indexer \u001b[38;5;241m=\u001b[39m flat_indexer\u001b[38;5;241m.\u001b[39mreshape(labels\u001b[38;5;241m.\u001b[39mshape)\n\u001b[1;32m    144\u001b[0m \u001b[38;5;28;01mreturn\u001b[39;00m indexer\n",
      "File \u001b[0;32m~/mambaforge/envs/thesis_env/lib/python3.9/site-packages/pandas/core/indexes/base.py:3780\u001b[0m, in \u001b[0;36mIndex.get_indexer\u001b[0;34m(self, target, method, limit, tolerance)\u001b[0m\n\u001b[1;32m   3778\u001b[0m     this \u001b[38;5;241m=\u001b[39m \u001b[38;5;28mself\u001b[39m\u001b[38;5;241m.\u001b[39mastype(dtype, copy\u001b[38;5;241m=\u001b[39m\u001b[38;5;28;01mFalse\u001b[39;00m)\n\u001b[1;32m   3779\u001b[0m     target \u001b[38;5;241m=\u001b[39m target\u001b[38;5;241m.\u001b[39mastype(dtype, copy\u001b[38;5;241m=\u001b[39m\u001b[38;5;28;01mFalse\u001b[39;00m)\n\u001b[0;32m-> 3780\u001b[0m     \u001b[38;5;28;01mreturn\u001b[39;00m \u001b[43mthis\u001b[49m\u001b[38;5;241;43m.\u001b[39;49m\u001b[43m_get_indexer\u001b[49m\u001b[43m(\u001b[49m\n\u001b[1;32m   3781\u001b[0m \u001b[43m        \u001b[49m\u001b[43mtarget\u001b[49m\u001b[43m,\u001b[49m\u001b[43m \u001b[49m\u001b[43mmethod\u001b[49m\u001b[38;5;241;43m=\u001b[39;49m\u001b[43mmethod\u001b[49m\u001b[43m,\u001b[49m\u001b[43m \u001b[49m\u001b[43mlimit\u001b[49m\u001b[38;5;241;43m=\u001b[39;49m\u001b[43mlimit\u001b[49m\u001b[43m,\u001b[49m\u001b[43m \u001b[49m\u001b[43mtolerance\u001b[49m\u001b[38;5;241;43m=\u001b[39;49m\u001b[43mtolerance\u001b[49m\n\u001b[1;32m   3782\u001b[0m \u001b[43m    \u001b[49m\u001b[43m)\u001b[49m\n\u001b[1;32m   3784\u001b[0m \u001b[38;5;28;01mreturn\u001b[39;00m \u001b[38;5;28mself\u001b[39m\u001b[38;5;241m.\u001b[39m_get_indexer(target, method, limit, tolerance)\n",
      "File \u001b[0;32m~/mambaforge/envs/thesis_env/lib/python3.9/site-packages/pandas/core/indexes/base.py:3799\u001b[0m, in \u001b[0;36mIndex._get_indexer\u001b[0;34m(self, target, method, limit, tolerance)\u001b[0m\n\u001b[1;32m   3797\u001b[0m     indexer \u001b[38;5;241m=\u001b[39m \u001b[38;5;28mself\u001b[39m\u001b[38;5;241m.\u001b[39m_get_fill_indexer(target, method, limit, tolerance)\n\u001b[1;32m   3798\u001b[0m \u001b[38;5;28;01melif\u001b[39;00m method \u001b[38;5;241m==\u001b[39m \u001b[38;5;124m\"\u001b[39m\u001b[38;5;124mnearest\u001b[39m\u001b[38;5;124m\"\u001b[39m:\n\u001b[0;32m-> 3799\u001b[0m     indexer \u001b[38;5;241m=\u001b[39m \u001b[38;5;28;43mself\u001b[39;49m\u001b[38;5;241;43m.\u001b[39;49m\u001b[43m_get_nearest_indexer\u001b[49m\u001b[43m(\u001b[49m\u001b[43mtarget\u001b[49m\u001b[43m,\u001b[49m\u001b[43m \u001b[49m\u001b[43mlimit\u001b[49m\u001b[43m,\u001b[49m\u001b[43m \u001b[49m\u001b[43mtolerance\u001b[49m\u001b[43m)\u001b[49m\n\u001b[1;32m   3800\u001b[0m \u001b[38;5;28;01melse\u001b[39;00m:\n\u001b[1;32m   3801\u001b[0m     tgt_values \u001b[38;5;241m=\u001b[39m target\u001b[38;5;241m.\u001b[39m_get_engine_target()\n",
      "File \u001b[0;32m~/mambaforge/envs/thesis_env/lib/python3.9/site-packages/pandas/core/indexes/base.py:3950\u001b[0m, in \u001b[0;36mIndex._get_nearest_indexer\u001b[0;34m(self, target, limit, tolerance)\u001b[0m\n\u001b[1;32m   3947\u001b[0m \u001b[38;5;28;01mif\u001b[39;00m \u001b[38;5;129;01mnot\u001b[39;00m \u001b[38;5;28mlen\u001b[39m(\u001b[38;5;28mself\u001b[39m):\n\u001b[1;32m   3948\u001b[0m     \u001b[38;5;28;01mreturn\u001b[39;00m \u001b[38;5;28mself\u001b[39m\u001b[38;5;241m.\u001b[39m_get_fill_indexer(target, \u001b[38;5;124m\"\u001b[39m\u001b[38;5;124mpad\u001b[39m\u001b[38;5;124m\"\u001b[39m)\n\u001b[0;32m-> 3950\u001b[0m left_indexer \u001b[38;5;241m=\u001b[39m \u001b[38;5;28;43mself\u001b[39;49m\u001b[38;5;241;43m.\u001b[39;49m\u001b[43mget_indexer\u001b[49m\u001b[43m(\u001b[49m\u001b[43mtarget\u001b[49m\u001b[43m,\u001b[49m\u001b[43m \u001b[49m\u001b[38;5;124;43m\"\u001b[39;49m\u001b[38;5;124;43mpad\u001b[39;49m\u001b[38;5;124;43m\"\u001b[39;49m\u001b[43m,\u001b[49m\u001b[43m \u001b[49m\u001b[43mlimit\u001b[49m\u001b[38;5;241;43m=\u001b[39;49m\u001b[43mlimit\u001b[49m\u001b[43m)\u001b[49m\n\u001b[1;32m   3951\u001b[0m right_indexer \u001b[38;5;241m=\u001b[39m \u001b[38;5;28mself\u001b[39m\u001b[38;5;241m.\u001b[39mget_indexer(target, \u001b[38;5;124m\"\u001b[39m\u001b[38;5;124mbackfill\u001b[39m\u001b[38;5;124m\"\u001b[39m, limit\u001b[38;5;241m=\u001b[39mlimit)\n\u001b[1;32m   3953\u001b[0m left_distances \u001b[38;5;241m=\u001b[39m \u001b[38;5;28mself\u001b[39m\u001b[38;5;241m.\u001b[39m_difference_compat(target, left_indexer)\n",
      "File \u001b[0;32m~/mambaforge/envs/thesis_env/lib/python3.9/site-packages/pandas/core/indexes/base.py:3784\u001b[0m, in \u001b[0;36mIndex.get_indexer\u001b[0;34m(self, target, method, limit, tolerance)\u001b[0m\n\u001b[1;32m   3779\u001b[0m     target \u001b[38;5;241m=\u001b[39m target\u001b[38;5;241m.\u001b[39mastype(dtype, copy\u001b[38;5;241m=\u001b[39m\u001b[38;5;28;01mFalse\u001b[39;00m)\n\u001b[1;32m   3780\u001b[0m     \u001b[38;5;28;01mreturn\u001b[39;00m this\u001b[38;5;241m.\u001b[39m_get_indexer(\n\u001b[1;32m   3781\u001b[0m         target, method\u001b[38;5;241m=\u001b[39mmethod, limit\u001b[38;5;241m=\u001b[39mlimit, tolerance\u001b[38;5;241m=\u001b[39mtolerance\n\u001b[1;32m   3782\u001b[0m     )\n\u001b[0;32m-> 3784\u001b[0m \u001b[38;5;28;01mreturn\u001b[39;00m \u001b[38;5;28;43mself\u001b[39;49m\u001b[38;5;241;43m.\u001b[39;49m\u001b[43m_get_indexer\u001b[49m\u001b[43m(\u001b[49m\u001b[43mtarget\u001b[49m\u001b[43m,\u001b[49m\u001b[43m \u001b[49m\u001b[43mmethod\u001b[49m\u001b[43m,\u001b[49m\u001b[43m \u001b[49m\u001b[43mlimit\u001b[49m\u001b[43m,\u001b[49m\u001b[43m \u001b[49m\u001b[43mtolerance\u001b[49m\u001b[43m)\u001b[49m\n",
      "File \u001b[0;32m~/mambaforge/envs/thesis_env/lib/python3.9/site-packages/pandas/core/indexes/base.py:3797\u001b[0m, in \u001b[0;36mIndex._get_indexer\u001b[0;34m(self, target, method, limit, tolerance)\u001b[0m\n\u001b[1;32m   3794\u001b[0m     tolerance \u001b[38;5;241m=\u001b[39m \u001b[38;5;28mself\u001b[39m\u001b[38;5;241m.\u001b[39m_convert_tolerance(tolerance, target)\n\u001b[1;32m   3796\u001b[0m \u001b[38;5;28;01mif\u001b[39;00m method \u001b[38;5;129;01min\u001b[39;00m [\u001b[38;5;124m\"\u001b[39m\u001b[38;5;124mpad\u001b[39m\u001b[38;5;124m\"\u001b[39m, \u001b[38;5;124m\"\u001b[39m\u001b[38;5;124mbackfill\u001b[39m\u001b[38;5;124m\"\u001b[39m]:\n\u001b[0;32m-> 3797\u001b[0m     indexer \u001b[38;5;241m=\u001b[39m \u001b[38;5;28;43mself\u001b[39;49m\u001b[38;5;241;43m.\u001b[39;49m\u001b[43m_get_fill_indexer\u001b[49m\u001b[43m(\u001b[49m\u001b[43mtarget\u001b[49m\u001b[43m,\u001b[49m\u001b[43m \u001b[49m\u001b[43mmethod\u001b[49m\u001b[43m,\u001b[49m\u001b[43m \u001b[49m\u001b[43mlimit\u001b[49m\u001b[43m,\u001b[49m\u001b[43m \u001b[49m\u001b[43mtolerance\u001b[49m\u001b[43m)\u001b[49m\n\u001b[1;32m   3798\u001b[0m \u001b[38;5;28;01melif\u001b[39;00m method \u001b[38;5;241m==\u001b[39m \u001b[38;5;124m\"\u001b[39m\u001b[38;5;124mnearest\u001b[39m\u001b[38;5;124m\"\u001b[39m:\n\u001b[1;32m   3799\u001b[0m     indexer \u001b[38;5;241m=\u001b[39m \u001b[38;5;28mself\u001b[39m\u001b[38;5;241m.\u001b[39m_get_nearest_indexer(target, limit, tolerance)\n",
      "File \u001b[0;32m~/mambaforge/envs/thesis_env/lib/python3.9/site-packages/pandas/core/indexes/base.py:3894\u001b[0m, in \u001b[0;36mIndex._get_fill_indexer\u001b[0;34m(self, target, method, limit, tolerance)\u001b[0m\n\u001b[1;32m   3891\u001b[0m own_values \u001b[38;5;241m=\u001b[39m \u001b[38;5;28mself\u001b[39m\u001b[38;5;241m.\u001b[39m_get_engine_target()\n\u001b[1;32m   3893\u001b[0m \u001b[38;5;28;01mif\u001b[39;00m method \u001b[38;5;241m==\u001b[39m \u001b[38;5;124m\"\u001b[39m\u001b[38;5;124mpad\u001b[39m\u001b[38;5;124m\"\u001b[39m:\n\u001b[0;32m-> 3894\u001b[0m     indexer \u001b[38;5;241m=\u001b[39m \u001b[43mlibalgos\u001b[49m\u001b[38;5;241;43m.\u001b[39;49m\u001b[43mpad\u001b[49m\u001b[43m(\u001b[49m\u001b[43mown_values\u001b[49m\u001b[43m,\u001b[49m\u001b[43m \u001b[49m\u001b[43mtarget_values\u001b[49m\u001b[43m,\u001b[49m\u001b[43m \u001b[49m\u001b[43mlimit\u001b[49m\u001b[38;5;241;43m=\u001b[39;49m\u001b[43mlimit\u001b[49m\u001b[43m)\u001b[49m\n\u001b[1;32m   3895\u001b[0m \u001b[38;5;28;01melse\u001b[39;00m:\n\u001b[1;32m   3896\u001b[0m     \u001b[38;5;66;03m# i.e. \"backfill\"\u001b[39;00m\n\u001b[1;32m   3897\u001b[0m     indexer \u001b[38;5;241m=\u001b[39m libalgos\u001b[38;5;241m.\u001b[39mbackfill(own_values, target_values, limit\u001b[38;5;241m=\u001b[39mlimit)\n",
      "File \u001b[0;32m~/mambaforge/envs/thesis_env/lib/python3.9/site-packages/pandas/_libs/algos.pyx:529\u001b[0m, in \u001b[0;36mpandas._libs.algos.pad\u001b[0;34m()\u001b[0m\n",
      "\u001b[0;31mTypeError\u001b[0m: '<' not supported between instances of 'str' and 'Timestamp'"
     ]
    }
   ],
   "source": [
    "ocean_color.add_secchi_depth_to_tracklines(site.tracklines)"
   ]
  },
  {
   "cell_type": "code",
   "execution_count": null,
   "id": "8d8d6634-12f9-4b08-9874-ea1a018f04ee",
   "metadata": {},
   "outputs": [],
   "source": []
  }
 ],
 "metadata": {
  "kernelspec": {
   "display_name": "Python 3 (ipykernel)",
   "language": "python",
   "name": "python3"
  },
  "language_info": {
   "codemirror_mode": {
    "name": "ipython",
    "version": 3
   },
   "file_extension": ".py",
   "mimetype": "text/x-python",
   "name": "python",
   "nbconvert_exporter": "python",
   "pygments_lexer": "ipython3",
   "version": "3.9.10"
  },
  "vscode": {
   "interpreter": {
    "hash": "ec7c7d4d013ec650dc8eb8b9310ce197f2a724f68d99fdc157fb921cb8b4fa41"
   }
  }
 },
 "nbformat": 4,
 "nbformat_minor": 5
}
