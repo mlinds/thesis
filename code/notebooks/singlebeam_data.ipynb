{
 "cells": [
  {
   "cell_type": "code",
   "execution_count": 23,
   "id": "f47454ea-6290-445e-927d-6d9c89cb67fa",
   "metadata": {},
   "outputs": [],
   "source": [
    "import pandas as pd\n",
    "import geopandas as gpd\n",
    "from glob import glob"
   ]
  },
  {
   "cell_type": "code",
   "execution_count": 19,
   "id": "f0ee4d7a-35d7-487a-9290-f1f38a66c815",
   "metadata": {},
   "outputs": [],
   "source": [
    "df = pd.read_csv(\"../data/test_sites/florida_keys/singlebeam/19930016.m77t\", sep=\"\\t\")\n",
    "gdf = gpd.GeoDataFrame(df, geometry=gpd.points_from_xy(df.LON, df.LAT, df.CORR_DEPTH))"
   ]
  },
  {
   "cell_type": "code",
   "execution_count": 43,
   "id": "721ee0bb-8315-4ac7-9874-040edbba9df3",
   "metadata": {},
   "outputs": [],
   "source": [
    "combined_df = pd.concat(\n",
    "    [\n",
    "        pd.read_csv(\n",
    "            m77tfile,\n",
    "            sep=\"\\t\",\n",
    "            usecols=[\"SURVEY_ID\", \"DATE\", \"LAT\", \"LON\", \"CORR_DEPTH\"],\n",
    "        )\n",
    "        for m77tfile in glob(\"../data/test_sites/florida_keys/singlebeam/*.m77t\")\n",
    "    ]\n",
    ").dropna()\n",
    "gdf = gpd.GeoDataFrame(\n",
    "    combined_df,\n",
    "    geometry=gpd.points_from_xy(\n",
    "        combined_df.LON, combined_df.LAT, combined_df.CORR_DEPTH, crs=\"EPSG:4326\"\n",
    "    ),\n",
    ")"
   ]
  },
  {
   "cell_type": "code",
   "execution_count": 44,
   "id": "026b746a-c492-461f-8cc0-6ef596c1c169",
   "metadata": {},
   "outputs": [],
   "source": [
    "gdf.to_file(\"../data/test_sites/florida_keys/singlebeam/testtract.shp\")"
   ]
  },
  {
   "cell_type": "code",
   "execution_count": null,
   "id": "6d3f6d66-0c1e-40d3-a023-8ce0dd8bdbdd",
   "metadata": {},
   "outputs": [],
   "source": []
  },
  {
   "cell_type": "code",
   "execution_count": null,
   "id": "181bd0e3-5491-437e-bab3-c709a51c12a1",
   "metadata": {},
   "outputs": [],
   "source": []
  }
 ],
 "metadata": {
  "kernelspec": {
   "display_name": "Python 3.9.10 ('thesis_env')",
   "language": "python",
   "name": "python3"
  },
  "language_info": {
   "codemirror_mode": {
    "name": "ipython",
    "version": 3
   },
   "file_extension": ".py",
   "mimetype": "text/x-python",
   "name": "python",
   "nbconvert_exporter": "python",
   "pygments_lexer": "ipython3",
   "version": "3.9.10"
  },
  "vscode": {
   "interpreter": {
    "hash": "ec7c7d4d013ec650dc8eb8b9310ce197f2a724f68d99fdc157fb921cb8b4fa41"
   }
  }
 },
 "nbformat": 4,
 "nbformat_minor": 5
}
