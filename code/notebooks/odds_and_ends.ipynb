{
 "cells": [
  {
   "cell_type": "code",
   "execution_count": 1,
   "metadata": {},
   "outputs": [
    {
     "name": "stdout",
     "output_type": "stream",
     "text": [
      "/mnt/c/Users/XCB/OneDrive - Van Oord/Documents/thesis/code\n"
     ]
    }
   ],
   "source": [
    "%cd .."
   ]
  },
  {
   "cell_type": "code",
   "execution_count": 12,
   "metadata": {},
   "outputs": [],
   "source": [
    "from atl_module.io import atl03_netcdf_loading\n",
    "from atl_module.geospatial_utils.geospatial_functions import add_track_dist_meters\n",
    "import pandas as pd\n",
    "import geopandas as gpd\n",
    "from netCDF4 import Dataset\n",
    "import contextily as cx"
   ]
  },
  {
   "cell_type": "code",
   "execution_count": 17,
   "metadata": {},
   "outputs": [],
   "source": [
    "netcdf_path = '../data/test_sites/oahu7/ATL03/processed_ATL03_20190908101513_11050401_005_01.nc'\n",
    "# netcdf_path = '../data/test_sites/florida_keys/ATL03/processed_ATL03_20190307135537_10560201_005_01.nc'\n",
    "\n",
    "beam = 'gt3l'\n",
    "ds = Dataset(netcdf_path)\n",
    "ref_ph_lats = ds.groups[beam].groups['geolocation'].variables['reference_photon_lat'][:]\n",
    "ref_ph_lons = ds.groups[beam].groups['geolocation'].variables['reference_photon_lon'][:]"
   ]
  },
  {
   "cell_type": "code",
   "execution_count": 18,
   "metadata": {},
   "outputs": [],
   "source": [
    "allpts = atl03_netcdf_loading.load_beam_array_ncds(netcdf_path,beam)"
   ]
  },
  {
   "cell_type": "code",
   "execution_count": 19,
   "metadata": {},
   "outputs": [
    {
     "data": {
      "text/plain": [
       "72040"
      ]
     },
     "execution_count": 19,
     "metadata": {},
     "output_type": "execute_result"
    }
   ],
   "source": [
    "len(allpts)"
   ]
  },
  {
   "cell_type": "code",
   "execution_count": 53,
   "metadata": {},
   "outputs": [
    {
     "name": "stdout",
     "output_type": "stream",
     "text": [
      "delta_time\n",
      "2019-03-07 14:02:02.607835     1.0\n",
      "2019-03-07 14:02:02.607835     2.0\n",
      "2019-03-07 14:02:02.607835     3.0\n",
      "2019-03-07 14:02:02.607835     4.0\n",
      "2019-03-07 14:02:02.607935     5.0\n",
      "                              ... \n",
      "2019-03-07 14:02:04.882235    64.0\n",
      "2019-03-07 14:02:04.882235    65.0\n",
      "2019-03-07 14:02:04.882235    66.0\n",
      "2019-03-07 14:02:04.882335    67.0\n",
      "2019-03-07 14:02:04.882335    68.0\n",
      "Name: dist_or, Length: 72040, dtype: float64\n"
     ]
    },
    {
     "data": {
      "text/plain": [
       "<AxesSubplot:ylabel='Frequency'>"
      ]
     },
     "execution_count": 53,
     "metadata": {},
     "output_type": "execute_result"
    },
    {
     "data": {
      "image/png": "[encoded data removed]",
      "text/plain": [
       "<Figure size 432x288 with 1 Axes>"
      ]
     },
     "metadata": {
      "needs_background": "light"
     },
     "output_type": "display_data"
    }
   ],
   "source": [
    "df_dist = add_track_dist_meters(allpts)\n",
    "\n",
    "countdf = df_dist.set_index('delta_time').dist_or.rolling(window='3ms').count()\n",
    "print(countdf)\n",
    "countdf.plot.hist()"
   ]
  },
  {
   "cell_type": "code",
   "execution_count": 11,
   "metadata": {},
   "outputs": [
    {
     "data": {
      "text/html": [
       "<div>\n",
       "<style scoped>\n",
       "    .dataframe tbody tr th:only-of-type {\n",
       "        vertical-align: middle;\n",
       "    }\n",
       "\n",
       "    .dataframe tbody tr th {\n",
       "        vertical-align: top;\n",
       "    }\n",
       "\n",
       "    .dataframe thead th {\n",
       "        text-align: right;\n",
       "    }\n",
       "</style>\n",
       "<table border=\"1\" class=\"dataframe\">\n",
       "  <thead>\n",
       "    <tr style=\"text-align: right;\">\n",
       "      <th></th>\n",
       "      <th>X</th>\n",
       "      <th>Y</th>\n",
       "      <th>Z_ellip</th>\n",
       "      <th>Z_geoid</th>\n",
       "      <th>geoid_corr</th>\n",
       "      <th>tide_ocean_corr</th>\n",
       "      <th>geof2m_corr</th>\n",
       "      <th>delta_time</th>\n",
       "      <th>oc_sig_conf</th>\n",
       "      <th>land_sig_conf</th>\n",
       "      <th>p_vec_az</th>\n",
       "      <th>p_vec_elev</th>\n",
       "      <th>dac_corr</th>\n",
       "      <th>ph_count</th>\n",
       "      <th>full_sat</th>\n",
       "    </tr>\n",
       "  </thead>\n",
       "  <tbody>\n",
       "    <tr>\n",
       "      <th>0</th>\n",
       "      <td>-158.143271</td>\n",
       "      <td>21.571775</td>\n",
       "      <td>20.773375</td>\n",
       "      <td>5.671177</td>\n",
       "      <td>15.104998</td>\n",
       "      <td>-0.079483</td>\n",
       "      <td>0.076683</td>\n",
       "      <td>2019-09-08 10:20:44.489461</td>\n",
       "      <td>4</td>\n",
       "      <td>4</td>\n",
       "      <td>2.818083</td>\n",
       "      <td>1.476433</td>\n",
       "      <td>-0.050594</td>\n",
       "      <td>12</td>\n",
       "      <td>0.0</td>\n",
       "    </tr>\n",
       "    <tr>\n",
       "      <th>1</th>\n",
       "      <td>-158.143273</td>\n",
       "      <td>21.571781</td>\n",
       "      <td>20.280296</td>\n",
       "      <td>5.178099</td>\n",
       "      <td>15.104998</td>\n",
       "      <td>-0.079483</td>\n",
       "      <td>0.076683</td>\n",
       "      <td>2019-09-08 10:20:44.489561</td>\n",
       "      <td>4</td>\n",
       "      <td>4</td>\n",
       "      <td>2.818083</td>\n",
       "      <td>1.476433</td>\n",
       "      <td>-0.050594</td>\n",
       "      <td>12</td>\n",
       "      <td>0.0</td>\n",
       "    </tr>\n",
       "    <tr>\n",
       "      <th>2</th>\n",
       "      <td>-158.143275</td>\n",
       "      <td>21.571793</td>\n",
       "      <td>21.030863</td>\n",
       "      <td>5.928665</td>\n",
       "      <td>15.104998</td>\n",
       "      <td>-0.079483</td>\n",
       "      <td>0.076683</td>\n",
       "      <td>2019-09-08 10:20:44.489761</td>\n",
       "      <td>4</td>\n",
       "      <td>4</td>\n",
       "      <td>2.818083</td>\n",
       "      <td>1.476433</td>\n",
       "      <td>-0.050594</td>\n",
       "      <td>12</td>\n",
       "      <td>0.0</td>\n",
       "    </tr>\n",
       "    <tr>\n",
       "      <th>3</th>\n",
       "      <td>-158.143282</td>\n",
       "      <td>21.571815</td>\n",
       "      <td>-5.616828</td>\n",
       "      <td>-20.719025</td>\n",
       "      <td>15.104998</td>\n",
       "      <td>-0.079483</td>\n",
       "      <td>0.076683</td>\n",
       "      <td>2019-09-08 10:20:44.489761</td>\n",
       "      <td>0</td>\n",
       "      <td>0</td>\n",
       "      <td>2.818083</td>\n",
       "      <td>1.476433</td>\n",
       "      <td>-0.050594</td>\n",
       "      <td>12</td>\n",
       "      <td>0.0</td>\n",
       "    </tr>\n",
       "    <tr>\n",
       "      <th>4</th>\n",
       "      <td>-158.143278</td>\n",
       "      <td>21.571812</td>\n",
       "      <td>20.524511</td>\n",
       "      <td>5.422314</td>\n",
       "      <td>15.104998</td>\n",
       "      <td>-0.079483</td>\n",
       "      <td>0.076683</td>\n",
       "      <td>2019-09-08 10:20:44.490061</td>\n",
       "      <td>4</td>\n",
       "      <td>4</td>\n",
       "      <td>2.818083</td>\n",
       "      <td>1.476433</td>\n",
       "      <td>-0.050594</td>\n",
       "      <td>12</td>\n",
       "      <td>0.0</td>\n",
       "    </tr>\n",
       "    <tr>\n",
       "      <th>...</th>\n",
       "      <td>...</td>\n",
       "      <td>...</td>\n",
       "      <td>...</td>\n",
       "      <td>...</td>\n",
       "      <td>...</td>\n",
       "      <td>...</td>\n",
       "      <td>...</td>\n",
       "      <td>...</td>\n",
       "      <td>...</td>\n",
       "      <td>...</td>\n",
       "      <td>...</td>\n",
       "      <td>...</td>\n",
       "      <td>...</td>\n",
       "      <td>...</td>\n",
       "      <td>...</td>\n",
       "    </tr>\n",
       "    <tr>\n",
       "      <th>1419</th>\n",
       "      <td>-158.148067</td>\n",
       "      <td>21.600182</td>\n",
       "      <td>599.455811</td>\n",
       "      <td>584.756165</td>\n",
       "      <td>14.703639</td>\n",
       "      <td>-0.080568</td>\n",
       "      <td>0.076552</td>\n",
       "      <td>2019-09-08 10:20:44.952361</td>\n",
       "      <td>0</td>\n",
       "      <td>0</td>\n",
       "      <td>2.813288</td>\n",
       "      <td>1.476473</td>\n",
       "      <td>-0.050708</td>\n",
       "      <td>2</td>\n",
       "      <td>0.0</td>\n",
       "    </tr>\n",
       "    <tr>\n",
       "      <th>1420</th>\n",
       "      <td>-158.148302</td>\n",
       "      <td>21.601022</td>\n",
       "      <td>14.804587</td>\n",
       "      <td>0.115039</td>\n",
       "      <td>14.693594</td>\n",
       "      <td>-0.080594</td>\n",
       "      <td>0.076549</td>\n",
       "      <td>2019-09-08 10:20:44.958261</td>\n",
       "      <td>3</td>\n",
       "      <td>4</td>\n",
       "      <td>2.813205</td>\n",
       "      <td>1.476470</td>\n",
       "      <td>-0.050710</td>\n",
       "      <td>1</td>\n",
       "      <td>0.0</td>\n",
       "    </tr>\n",
       "    <tr>\n",
       "      <th>1421</th>\n",
       "      <td>-158.148420</td>\n",
       "      <td>21.601713</td>\n",
       "      <td>16.443354</td>\n",
       "      <td>1.753805</td>\n",
       "      <td>14.693594</td>\n",
       "      <td>-0.080594</td>\n",
       "      <td>0.076549</td>\n",
       "      <td>2019-09-08 10:20:44.969361</td>\n",
       "      <td>0</td>\n",
       "      <td>2</td>\n",
       "      <td>2.813205</td>\n",
       "      <td>1.476470</td>\n",
       "      <td>-0.050710</td>\n",
       "      <td>1</td>\n",
       "      <td>0.0</td>\n",
       "    </tr>\n",
       "    <tr>\n",
       "      <th>1422</th>\n",
       "      <td>-158.148431</td>\n",
       "      <td>21.601776</td>\n",
       "      <td>15.402128</td>\n",
       "      <td>0.723553</td>\n",
       "      <td>14.682652</td>\n",
       "      <td>-0.080623</td>\n",
       "      <td>0.076545</td>\n",
       "      <td>2019-09-08 10:20:44.970361</td>\n",
       "      <td>0</td>\n",
       "      <td>3</td>\n",
       "      <td>2.813080</td>\n",
       "      <td>1.476471</td>\n",
       "      <td>-0.050712</td>\n",
       "      <td>2</td>\n",
       "      <td>0.0</td>\n",
       "    </tr>\n",
       "    <tr>\n",
       "      <th>1423</th>\n",
       "      <td>-158.148453</td>\n",
       "      <td>21.602821</td>\n",
       "      <td>1040.037964</td>\n",
       "      <td>1025.374390</td>\n",
       "      <td>14.667652</td>\n",
       "      <td>-0.080664</td>\n",
       "      <td>0.076541</td>\n",
       "      <td>2019-09-08 10:20:45.000361</td>\n",
       "      <td>0</td>\n",
       "      <td>0</td>\n",
       "      <td>2.812766</td>\n",
       "      <td>1.476488</td>\n",
       "      <td>-0.050715</td>\n",
       "      <td>1</td>\n",
       "      <td>0.0</td>\n",
       "    </tr>\n",
       "  </tbody>\n",
       "</table>\n",
       "<p>1424 rows × 15 columns</p>\n",
       "</div>"
      ],
      "text/plain": [
       "               X          Y      Z_ellip      Z_geoid  geoid_corr  \\\n",
       "0    -158.143271  21.571775    20.773375     5.671177   15.104998   \n",
       "1    -158.143273  21.571781    20.280296     5.178099   15.104998   \n",
       "2    -158.143275  21.571793    21.030863     5.928665   15.104998   \n",
       "3    -158.143282  21.571815    -5.616828   -20.719025   15.104998   \n",
       "4    -158.143278  21.571812    20.524511     5.422314   15.104998   \n",
       "...          ...        ...          ...          ...         ...   \n",
       "1419 -158.148067  21.600182   599.455811   584.756165   14.703639   \n",
       "1420 -158.148302  21.601022    14.804587     0.115039   14.693594   \n",
       "1421 -158.148420  21.601713    16.443354     1.753805   14.693594   \n",
       "1422 -158.148431  21.601776    15.402128     0.723553   14.682652   \n",
       "1423 -158.148453  21.602821  1040.037964  1025.374390   14.667652   \n",
       "\n",
       "      tide_ocean_corr  geof2m_corr                 delta_time  oc_sig_conf  \\\n",
       "0           -0.079483     0.076683 2019-09-08 10:20:44.489461            4   \n",
       "1           -0.079483     0.076683 2019-09-08 10:20:44.489561            4   \n",
       "2           -0.079483     0.076683 2019-09-08 10:20:44.489761            4   \n",
       "3           -0.079483     0.076683 2019-09-08 10:20:44.489761            0   \n",
       "4           -0.079483     0.076683 2019-09-08 10:20:44.490061            4   \n",
       "...               ...          ...                        ...          ...   \n",
       "1419        -0.080568     0.076552 2019-09-08 10:20:44.952361            0   \n",
       "1420        -0.080594     0.076549 2019-09-08 10:20:44.958261            3   \n",
       "1421        -0.080594     0.076549 2019-09-08 10:20:44.969361            0   \n",
       "1422        -0.080623     0.076545 2019-09-08 10:20:44.970361            0   \n",
       "1423        -0.080664     0.076541 2019-09-08 10:20:45.000361            0   \n",
       "\n",
       "      land_sig_conf  p_vec_az  p_vec_elev  dac_corr  ph_count  full_sat  \n",
       "0                 4  2.818083    1.476433 -0.050594        12       0.0  \n",
       "1                 4  2.818083    1.476433 -0.050594        12       0.0  \n",
       "2                 4  2.818083    1.476433 -0.050594        12       0.0  \n",
       "3                 0  2.818083    1.476433 -0.050594        12       0.0  \n",
       "4                 4  2.818083    1.476433 -0.050594        12       0.0  \n",
       "...             ...       ...         ...       ...       ...       ...  \n",
       "1419              0  2.813288    1.476473 -0.050708         2       0.0  \n",
       "1420              4  2.813205    1.476470 -0.050710         1       0.0  \n",
       "1421              2  2.813205    1.476470 -0.050710         1       0.0  \n",
       "1422              3  2.813080    1.476471 -0.050712         2       0.0  \n",
       "1423              0  2.812766    1.476488 -0.050715         1       0.0  \n",
       "\n",
       "[1424 rows x 15 columns]"
      ]
     },
     "execution_count": 11,
     "metadata": {},
     "output_type": "execute_result"
    }
   ],
   "source": [
    "pd.DataFrame(allpts)"
   ]
  },
  {
   "cell_type": "code",
   "execution_count": 10,
   "metadata": {},
   "outputs": [
    {
     "name": "stderr",
     "output_type": "stream",
     "text": [
      "/home/mlinds/mambaforge/envs/thesis_env/lib/python3.9/site-packages/geopandas/io/file.py:362: FutureWarning: pandas.Int64Index is deprecated and will be removed from pandas in a future version. Use pandas.Index with the appropriate dtype instead.\n",
      "  pd.Int64Index,\n"
     ]
    },
    {
     "ename": "TypeError",
     "evalue": "object of type 'int' has no len()",
     "output_type": "error",
     "traceback": [
      "\u001b[0;31m---------------------------------------------------------------------------\u001b[0m",
      "\u001b[0;31mTypeError\u001b[0m                                 Traceback (most recent call last)",
      "Input \u001b[0;32mIn [10]\u001b[0m, in \u001b[0;36m<cell line: 4>\u001b[0;34m()\u001b[0m\n\u001b[1;32m      2\u001b[0m all_ph \u001b[38;5;241m=\u001b[39mall_ph\u001b[38;5;241m.\u001b[39mto_crs(all_ph\u001b[38;5;241m.\u001b[39mestimate_utm_crs())\n\u001b[1;32m      3\u001b[0m ref_ph \u001b[38;5;241m=\u001b[39m gpd\u001b[38;5;241m.\u001b[39mGeoDataFrame(geometry\u001b[38;5;241m=\u001b[39mgpd\u001b[38;5;241m.\u001b[39mpoints_from_xy(ref_ph_lons,ref_ph_lats),crs\u001b[38;5;241m=\u001b[39m\u001b[38;5;124m'\u001b[39m\u001b[38;5;124mEPSG:4326\u001b[39m\u001b[38;5;124m'\u001b[39m)\u001b[38;5;241m.\u001b[39mto_crs(all_ph\u001b[38;5;241m.\u001b[39mestimate_utm_crs())\n\u001b[0;32m----> 4\u001b[0m \u001b[43mall_ph\u001b[49m\u001b[38;5;241;43m.\u001b[39;49m\u001b[43mto_file\u001b[49m\u001b[43m(\u001b[49m\u001b[38;5;124;43m'\u001b[39;49m\u001b[38;5;124;43m../data/derived/example_photons\u001b[39;49m\u001b[38;5;124;43m'\u001b[39;49m\u001b[43m)\u001b[49m\n\u001b[1;32m      5\u001b[0m ref_ph\u001b[38;5;241m.\u001b[39mto_file(\u001b[38;5;124m'\u001b[39m\u001b[38;5;124m../data/derived/reference_photons\u001b[39m\u001b[38;5;124m'\u001b[39m)\n",
      "File \u001b[0;32m~/mambaforge/envs/thesis_env/lib/python3.9/site-packages/geopandas/geodataframe.py:1114\u001b[0m, in \u001b[0;36mGeoDataFrame.to_file\u001b[0;34m(self, filename, driver, schema, index, **kwargs)\u001b[0m\n\u001b[1;32m   1053\u001b[0m \u001b[38;5;124;03m\"\"\"Write the ``GeoDataFrame`` to a file.\u001b[39;00m\n\u001b[1;32m   1054\u001b[0m \n\u001b[1;32m   1055\u001b[0m \u001b[38;5;124;03mBy default, an ESRI shapefile is written, but any OGR data source\u001b[39;00m\n\u001b[0;32m   (...)\u001b[0m\n\u001b[1;32m   1110\u001b[0m \u001b[38;5;124;03m>>> gdf.to_file('dataframe.shp', mode=\"a\")  # doctest: +SKIP\u001b[39;00m\n\u001b[1;32m   1111\u001b[0m \u001b[38;5;124;03m\"\"\"\u001b[39;00m\n\u001b[1;32m   1112\u001b[0m \u001b[38;5;28;01mfrom\u001b[39;00m \u001b[38;5;21;01mgeopandas\u001b[39;00m\u001b[38;5;21;01m.\u001b[39;00m\u001b[38;5;21;01mio\u001b[39;00m\u001b[38;5;21;01m.\u001b[39;00m\u001b[38;5;21;01mfile\u001b[39;00m \u001b[38;5;28;01mimport\u001b[39;00m _to_file\n\u001b[0;32m-> 1114\u001b[0m \u001b[43m_to_file\u001b[49m\u001b[43m(\u001b[49m\u001b[38;5;28;43mself\u001b[39;49m\u001b[43m,\u001b[49m\u001b[43m \u001b[49m\u001b[43mfilename\u001b[49m\u001b[43m,\u001b[49m\u001b[43m \u001b[49m\u001b[43mdriver\u001b[49m\u001b[43m,\u001b[49m\u001b[43m \u001b[49m\u001b[43mschema\u001b[49m\u001b[43m,\u001b[49m\u001b[43m \u001b[49m\u001b[43mindex\u001b[49m\u001b[43m,\u001b[49m\u001b[43m \u001b[49m\u001b[38;5;241;43m*\u001b[39;49m\u001b[38;5;241;43m*\u001b[39;49m\u001b[43mkwargs\u001b[49m\u001b[43m)\u001b[49m\n",
      "File \u001b[0;32m~/mambaforge/envs/thesis_env/lib/python3.9/site-packages/geopandas/io/file.py:376\u001b[0m, in \u001b[0;36m_to_file\u001b[0;34m(df, filename, driver, schema, index, mode, crs, **kwargs)\u001b[0m\n\u001b[1;32m    373\u001b[0m \u001b[38;5;28;01mif\u001b[39;00m driver \u001b[38;5;129;01mis\u001b[39;00m \u001b[38;5;28;01mNone\u001b[39;00m:\n\u001b[1;32m    374\u001b[0m     driver \u001b[38;5;241m=\u001b[39m _detect_driver(filename)\n\u001b[0;32m--> 376\u001b[0m \u001b[38;5;28;01mif\u001b[39;00m driver \u001b[38;5;241m==\u001b[39m \u001b[38;5;124m\"\u001b[39m\u001b[38;5;124mESRI Shapefile\u001b[39m\u001b[38;5;124m\"\u001b[39m \u001b[38;5;129;01mand\u001b[39;00m \u001b[38;5;28many\u001b[39m([\u001b[38;5;28mlen\u001b[39m(c) \u001b[38;5;241m>\u001b[39m \u001b[38;5;241m10\u001b[39m \u001b[38;5;28;01mfor\u001b[39;00m c \u001b[38;5;129;01min\u001b[39;00m df\u001b[38;5;241m.\u001b[39mcolumns\u001b[38;5;241m.\u001b[39mtolist()]):\n\u001b[1;32m    377\u001b[0m     warnings\u001b[38;5;241m.\u001b[39mwarn(\n\u001b[1;32m    378\u001b[0m         \u001b[38;5;124m\"\u001b[39m\u001b[38;5;124mColumn names longer than 10 characters will be truncated when saved to \u001b[39m\u001b[38;5;124m\"\u001b[39m\n\u001b[1;32m    379\u001b[0m         \u001b[38;5;124m\"\u001b[39m\u001b[38;5;124mESRI Shapefile.\u001b[39m\u001b[38;5;124m\"\u001b[39m,\n\u001b[1;32m    380\u001b[0m         stacklevel\u001b[38;5;241m=\u001b[39m\u001b[38;5;241m3\u001b[39m,\n\u001b[1;32m    381\u001b[0m     )\n\u001b[1;32m    383\u001b[0m \u001b[38;5;28;01mwith\u001b[39;00m fiona_env():\n",
      "File \u001b[0;32m~/mambaforge/envs/thesis_env/lib/python3.9/site-packages/geopandas/io/file.py:376\u001b[0m, in \u001b[0;36m<listcomp>\u001b[0;34m(.0)\u001b[0m\n\u001b[1;32m    373\u001b[0m \u001b[38;5;28;01mif\u001b[39;00m driver \u001b[38;5;129;01mis\u001b[39;00m \u001b[38;5;28;01mNone\u001b[39;00m:\n\u001b[1;32m    374\u001b[0m     driver \u001b[38;5;241m=\u001b[39m _detect_driver(filename)\n\u001b[0;32m--> 376\u001b[0m \u001b[38;5;28;01mif\u001b[39;00m driver \u001b[38;5;241m==\u001b[39m \u001b[38;5;124m\"\u001b[39m\u001b[38;5;124mESRI Shapefile\u001b[39m\u001b[38;5;124m\"\u001b[39m \u001b[38;5;129;01mand\u001b[39;00m \u001b[38;5;28many\u001b[39m([\u001b[38;5;28;43mlen\u001b[39;49m\u001b[43m(\u001b[49m\u001b[43mc\u001b[49m\u001b[43m)\u001b[49m \u001b[38;5;241m>\u001b[39m \u001b[38;5;241m10\u001b[39m \u001b[38;5;28;01mfor\u001b[39;00m c \u001b[38;5;129;01min\u001b[39;00m df\u001b[38;5;241m.\u001b[39mcolumns\u001b[38;5;241m.\u001b[39mtolist()]):\n\u001b[1;32m    377\u001b[0m     warnings\u001b[38;5;241m.\u001b[39mwarn(\n\u001b[1;32m    378\u001b[0m         \u001b[38;5;124m\"\u001b[39m\u001b[38;5;124mColumn names longer than 10 characters will be truncated when saved to \u001b[39m\u001b[38;5;124m\"\u001b[39m\n\u001b[1;32m    379\u001b[0m         \u001b[38;5;124m\"\u001b[39m\u001b[38;5;124mESRI Shapefile.\u001b[39m\u001b[38;5;124m\"\u001b[39m,\n\u001b[1;32m    380\u001b[0m         stacklevel\u001b[38;5;241m=\u001b[39m\u001b[38;5;241m3\u001b[39m,\n\u001b[1;32m    381\u001b[0m     )\n\u001b[1;32m    383\u001b[0m \u001b[38;5;28;01mwith\u001b[39;00m fiona_env():\n",
      "\u001b[0;31mTypeError\u001b[0m: object of type 'int' has no len()"
     ]
    }
   ],
   "source": [
    "all_ph = gpd.GeoDataFrame(geometry=gpd.points_from_xy(allpts['X'],allpts['Y']),crs='EPSG:4326')\n",
    "all_ph =all_ph.to_crs(all_ph.estimate_utm_crs())\n",
    "ref_ph = gpd.GeoDataFrame(geometry=gpd.points_from_xy(ref_ph_lons,ref_ph_lats),crs='EPSG:4326').to_crs(all_ph.estimate_utm_crs())\n",
    "all_ph.to_file('../data/derived/example_photons')\n",
    "ref_ph.to_file('../data/derived/reference_photons')"
   ]
  },
  {
   "cell_type": "code",
   "execution_count": 7,
   "metadata": {},
   "outputs": [],
   "source": [
    "from matplotlib_scalebar.scalebar import ScaleBar\n",
    "from matplotlib.patches import Rectangle\n"
   ]
  },
  {
   "cell_type": "code",
   "execution_count": 9,
   "metadata": {},
   "outputs": [
    {
     "name": "stderr",
     "output_type": "stream",
     "text": [
      "/home/mlinds/mambaforge/envs/thesis_env/lib/python3.9/site-packages/contextily/tile.py:581: UserWarning: The inferred zoom level of 20 is not valid for the current tile provider (valid zooms: 0 - 17).\n",
      "  warnings.warn(msg)\n"
     ]
    },
    {
     "data": {
      "image/png": "[encoded data removed]",
      "text/plain": [
       "<Figure size 540x540 with 1 Axes>"
      ]
     },
     "metadata": {
      "needs_background": "light"
     },
     "output_type": "display_data"
    }
   ],
   "source": [
    "ax = all_ph.plot(figsize=(7.5,7.5))\n",
    "ref_ph.plot(ax=ax)\n",
    "ax.set_ylim((2386800,2386900))\n",
    "ax.set_xlim((588450,588550))\n",
    "# , -158.1449944,\n",
    "\n",
    "\n",
    "# TODO add a scale bar\n",
    "cx.add_basemap(ax=ax,source=cx.providers.OpenTopoMap,crs=all_ph.crs)\n",
    "ax.add_artist(ScaleBar(1))\n",
    "ax.set_xlabel(f'Easting (meters in {all_ph.crs.name})')\n",
    "ax.set_ylabel(f'Northing (meters in {all_ph.crs.name})')\n",
    "\n",
    "y = (2386800+2386900)/2 - 10\n",
    "x= (588450+588550)/2 +1\n",
    "mrguy = Rectangle((x,y),5,20,edgecolor='black',fill=False,angle=10,label='Reference photon area')\n",
    "mrguy2 = Rectangle((x-3.5,y+20),5,20,edgecolor='black',fill=False,angle=10)\n",
    "mrguy3 = Rectangle((x+3.5,y-20),5,20,edgecolor='black',fill=False,angle=10)\n",
    "mrguy4 = Rectangle((x+3.5*2,y-20*2),5,20,edgecolor='black',fill=False,angle=10)\n",
    "mrguy5 = Rectangle((x-3.5*2,y+20*2),5,20,edgecolor='black',fill=False,angle=10)\n",
    "\n",
    "ax.add_patch(mrguy)\n",
    "ax.add_patch(mrguy2)\n",
    "ax.add_patch(mrguy3)\n",
    "ax.add_patch(mrguy4)\n",
    "ax.add_patch(mrguy5)\n",
    "ax.annotate(text='Segment-rate values are assigned based \\n on the nearest reference photon',xy=(588500,2386875))\n",
    "ax.annotate(\"Segment-rate variables: \\n DAC \\n Ocean Tide \\n tide-free geoid \\n tide-free to mean tide \",xy=(x,y+10),xytext=(x-40,y-20),arrowprops=dict(arrowstyle=\"->\"))\n",
    "ax.legend(['All Photons','Reference Photons','20m Segment Areas'],loc='upper left')\n",
    "ax.get_figure().savefig('../document/figures/reference_photon_plot.pdf',dpi=500,bbox_inches='tight')"
   ]
  },
  {
   "cell_type": "code",
   "execution_count": null,
   "metadata": {},
   "outputs": [],
   "source": []
  }
 ],
 "metadata": {
  "kernelspec": {
   "display_name": "Python 3 (ipykernel)",
   "language": "python",
   "name": "python3"
  },
  "language_info": {
   "codemirror_mode": {
    "name": "ipython",
    "version": 3
   },
   "file_extension": ".py",
   "mimetype": "text/x-python",
   "name": "python",
   "nbconvert_exporter": "python",
   "pygments_lexer": "ipython3",
   "version": "3.9.10"
  },
  "vscode": {
   "interpreter": {
    "hash": "ec7c7d4d013ec650dc8eb8b9310ce197f2a724f68d99fdc157fb921cb8b4fa41"
   }
  }
 },
 "nbformat": 4,
 "nbformat_minor": 4
}
