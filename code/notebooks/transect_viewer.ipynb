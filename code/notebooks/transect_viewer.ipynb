{
 "cells": [
  {
   "cell_type": "code",
   "execution_count": null,
   "metadata": {},
   "outputs": [],
   "source": [
    "from importlib import reload\n",
    "\n",
    "%load_ext autoreload\n",
    "%autoreload 2"
   ]
  },
  {
   "cell_type": "code",
   "execution_count": null,
   "metadata": {},
   "outputs": [],
   "source": [
    "import ipywidgets\n",
    "from glob import glob\n",
    "from os import walk\n",
    "import os\n",
    "import numpy as np\n",
    "\n",
    "from scipy.ndimage import gaussian_filter1d\n",
    "\n",
    "from atl_module.io.atl03_netcdf_loading import get_beams, load_beam_array_ncds\n",
    "from atl_module.bathymetry_extraction import icesat_bathymetry\n",
    "from atl_module.geospatial_utils.raster_interaction import query_raster\n",
    "from atl_module.error_calc import icesat_error_rms_mae\n",
    "\n",
    "from bokeh.io import output_notebook\n",
    "from bokeh.palettes import Spectral5\n",
    "from bokeh.plotting import figure, show\n",
    "from bokeh.transform import factor_cmap\n",
    "\n",
    "output_notebook()\n",
    "TOOLS = \"hover,crosshair,pan,wheel_zoom,zoom_in,zoom_out,box_zoom,undo,redo,reset,tap,save,box_select,poly_select,lasso_select,\"\n",
    "\n",
    "# TODO abstract the graph into smaller functions, then combine into one \"evaluate transect\" function that can be run as callback with the widgets"
   ]
  },
  {
   "cell_type": "code",
   "execution_count": null,
   "metadata": {},
   "outputs": [],
   "source": [
    "%cd .."
   ]
  },
  {
   "cell_type": "code",
   "execution_count": null,
   "metadata": {},
   "outputs": [],
   "source": [
    "# little weird but it works :)\n",
    "\n",
    "# create emtpy globals to update\n",
    "site_granules = \"\"\n",
    "beam = \"\"\n",
    "granchooser = ipywidgets.Select()\n",
    "beamchooser = ipywidgets.Select()"
   ]
  },
  {
   "cell_type": "code",
   "execution_count": null,
   "metadata": {},
   "outputs": [],
   "source": [
    "outlist = list(walk(\"../data/test_sites\"))\n",
    "subdirlist = outlist[0][1]\n",
    "sitechooser = ipywidgets.Select(options=subdirlist, description=\"Choose a test site\")"
   ]
  },
  {
   "cell_type": "code",
   "execution_count": null,
   "metadata": {},
   "outputs": [],
   "source": [
    "def spgaussfilter(arrayin):\n",
    "    gaussout = gaussian_filter1d(arrayin, sigma=20)\n",
    "    return gaussout[int(len(gaussout) / 2)]"
   ]
  },
  {
   "cell_type": "code",
   "execution_count": null,
   "metadata": {
    "tags": []
   },
   "outputs": [],
   "source": [
    "def show_transect():\n",
    "    beamdata = load_beam_array_ncds(chosen_granule, beam)\n",
    "    print(beamdata.dtype.metadata)\n",
    "    # convert the numpy array into a dataframe\n",
    "    raw_data = icesat_bathymetry.add_along_track_dist(beamdata)\n",
    "    points_after_filtering = icesat_bathymetry._filter_points(\n",
    "        raw_data,\n",
    "        low_limit=-30,\n",
    "        high_limit=2,\n",
    "        rolling_window=200,\n",
    "        max_sea_surf_elev=2,\n",
    "        filter_below_z=-60,\n",
    "        filter_below_depth=-60,\n",
    "        n=1,\n",
    "        max_geoid_high_z=5,\n",
    "    )\n",
    "    raw_data_plot = figure(\n",
    "        tools=TOOLS,\n",
    "        sizing_mode=\"scale_width\",\n",
    "        height=200,\n",
    "        title=\"Raw Photons on transect\",\n",
    "    )\n",
    "    raw_data[\"oc_sig_conf\"] = raw_data.oc_sig_conf.astype(\"str\")\n",
    "    signal_conf_cmap = factor_cmap(\n",
    "        \"oc_sig_conf\",\n",
    "        palette=Spectral5,\n",
    "        factors=sorted(raw_data.oc_sig_conf.unique().astype(\"str\")),\n",
    "    )\n",
    "    raw_data_plot.scatter(\n",
    "        source=raw_data,\n",
    "        x=\"dist_or\",\n",
    "        y=\"Z_geoid\",\n",
    "        color=signal_conf_cmap,\n",
    "        legend_field=\"oc_sig_conf\",\n",
    "    )\n",
    "\n",
    "    show(raw_data_plot)\n",
    "    filtered_plot = figure(\n",
    "        tools=TOOLS,\n",
    "        sizing_mode=\"scale_width\",\n",
    "        height=200,\n",
    "        title=\"Points After Filtering\",\n",
    "    )\n",
    "\n",
    "    filtered_plot.scatter(source=raw_data, x=\"dist_or\", y=\"Z_geoid\", alpha=0.1)\n",
    "    filtered_plot.scatter(\n",
    "        source=points_after_filtering, x=\"dist_or\", y=\"Z_geoid\", color=\"red\", alpha=0.5\n",
    "    )\n",
    "    filtered_plot.line(\n",
    "        source=points_after_filtering, x=\"dist_or\", y=\"sea_level_interp\", color=\"orange\"\n",
    "    )\n",
    "    filtered_plot.line(\n",
    "        source=points_after_filtering, x=\"dist_or\", y=\"gebco_elev\", color=\"blue\"\n",
    "    )\n",
    "    show(filtered_plot)\n",
    "    bathy_df = icesat_bathymetry.add_rolling_kde(\n",
    "        points_after_filtering, window=100, window_meters=None, min_photons=None\n",
    "    )\n",
    "    # bathy_df = points_after_filtering.assign(z_kde=points_after_filtering.Z_g.rolling(window=200,center=True).apply(spgaussfilter,raw=True))\n",
    "\n",
    "    thresholdval = max(bathy_df.kde_val.median() - 0 * bathy_df.kde_val.std(), 0.1)\n",
    "    print(thresholdval)\n",
    "    bathy_df.loc[(bathy_df.kde_val < thresholdval), \"z_kde\"] = np.NaN\n",
    "    kde_seafloor_plot = figure(\n",
    "        tools=TOOLS,\n",
    "        sizing_mode=\"scale_width\",\n",
    "        height=200,\n",
    "        title=\"Assumed Seafloor Pre-correction\",\n",
    "    )\n",
    "\n",
    "    kde_seafloor_plot.scatter(source=bathy_df, x=\"dist_or\", y=\"Z_geoid\", alpha=0.5)\n",
    "    kde_seafloor_plot.line(source=bathy_df, x=\"dist_or\", y=\"z_kde\", color=\"red\")\n",
    "    # kde_seafloor_plot.line(source=bathy_df.eval('kde_val = kde_val*100'),x='dist_or',y='kde_val',color='red')\n",
    "    show(kde_seafloor_plot)\n",
    "    true_bathy = query_raster(\n",
    "        bathy_df, src=\"../data/test_sites/niiahu/in-situ-DEM/truth.vrt\"\n",
    "    )\n",
    "    bathy_df = bathy_df.assign(fema_elev=true_bathy, error=bathy_df.z_kde - true_bathy)\n",
    "    truth_comp_plot = figure(\n",
    "        tools=TOOLS,\n",
    "        sizing_mode=\"scale_width\",\n",
    "        height=200,\n",
    "        title=\"Seafloor calculated from ICESat using KDE\",\n",
    "    )\n",
    "\n",
    "    truth_comp_plot.line(source=bathy_df, x=\"dist_or\", y=\"z_kde\")\n",
    "    truth_comp_plot.line(source=bathy_df, x=\"dist_or\", y=\"fema_elev\", color=\"red\")\n",
    "\n",
    "    show(truth_comp_plot)\n",
    "    bathy_df.plot.scatter(\n",
    "        x=\"fema_elev\",\n",
    "        y=\"error\",\n",
    "        xlim=[0, -12],\n",
    "        figsize=(15, 15),\n",
    "        c=\"kde_val\",\n",
    "        cmap=\"viridis\",\n",
    "    )\n",
    "    bathy_df.plot.scatter(\n",
    "        x=\"fema_elev\",\n",
    "        y=\"z_kde\",\n",
    "        xlim=[0, -12],\n",
    "        ylim=[0, -12],\n",
    "        figsize=(15, 15),\n",
    "        c=\"kde_val\",\n",
    "        cmap=\"viridis\",\n",
    "    )\n",
    "    fig = bathy_df.plot.scatter(x=\"error\", y=\"kde_val\")\n",
    "    fig.axhline(bathy_df.kde_val.median(), color=\"red\")\n",
    "    fig.axhline(thresholdval, color=\"green\")\n",
    "    return bathy_df, raw_data"
   ]
  },
  {
   "cell_type": "code",
   "execution_count": null,
   "metadata": {},
   "outputs": [],
   "source": [
    "# these callbacks call one other another\n",
    "def list_netcdf_granules(foldername):\n",
    "    granlist = list(glob(f\"../data/test_sites/{foldername}/ATL03/*.nc\"))\n",
    "    global site_granules\n",
    "    site_granules = granlist\n",
    "    global granchooser\n",
    "    granchooser = ipywidgets.Select(options=granlist)\n",
    "    print(foldername, \"has been selected\")\n",
    "    ipywidgets.interact(set_granule_file, file=granchooser)\n",
    "    return None\n",
    "\n",
    "\n",
    "def set_granule_file(file):\n",
    "    global chosen_granule\n",
    "    chosen_granule = file\n",
    "    beamlist = get_beams(chosen_granule)\n",
    "    global beamchooser\n",
    "    beamchooser = ipywidgets.Select(options=beamlist)\n",
    "    print(f\"Granule {chosen_granule} selected\")\n",
    "    ipywidgets.interact(set_chosen_beam, beamname=beamchooser)\n",
    "    return None\n",
    "\n",
    "\n",
    "def set_chosen_beam(beamname):\n",
    "    global beam\n",
    "    beam = beamname\n",
    "    return None"
   ]
  },
  {
   "cell_type": "code",
   "execution_count": null,
   "metadata": {
    "tags": []
   },
   "outputs": [],
   "source": [
    "ipywidgets.interact(list_netcdf_granules, foldername=sitechooser)"
   ]
  },
  {
   "cell_type": "code",
   "execution_count": null,
   "metadata": {},
   "outputs": [],
   "source": [
    "df_out, raw_df = show_transect()"
   ]
  },
  {
   "cell_type": "code",
   "execution_count": null,
   "metadata": {},
   "outputs": [],
   "source": [
    "df_out.assign(errorabs=abs(df_out.error)).corr()[\"errorabs\"].sort_values()"
   ]
  },
  {
   "cell_type": "code",
   "execution_count": null,
   "metadata": {},
   "outputs": [],
   "source": [
    "print(df_out.error.pow(2).mean() ** (0.5))\n",
    "print(df_out.error.abs().mean())"
   ]
  },
  {
   "cell_type": "code",
   "execution_count": null,
   "metadata": {},
   "outputs": [],
   "source": [
    "dac_tide_msl = (\n",
    "    df_out.z_kde - df_out.sea_level_interp - df_out.dac_corr - df_out.tide_ocean_corr\n",
    ")\n",
    "print(\n",
    "    df_out.assign(dac_tide_msl=dac_tide_msl)\n",
    "    .eval(\"error=(dac_tide_msl-fema_elev)**2\")\n",
    "    .error.mean()\n",
    "    ** (0.5)\n",
    ")\n",
    "print(\n",
    "    df_out.assign(dac_tide_msl=dac_tide_msl)\n",
    "    .eval(\"error=dac_tide_msl-fema_elev\")\n",
    "    .error.abs()\n",
    "    .mean()\n",
    ")\n",
    "# df_out.assign(dac_tide_msl=dac_tide_msl).eval('error=dac_tide_msl-fema_elev').assign(errorabs = abs(df_out.error)).corr()['errorabs'].sort_values()"
   ]
  },
  {
   "cell_type": "code",
   "execution_count": null,
   "metadata": {},
   "outputs": [],
   "source": [
    "df_out.loc[\n",
    "    :,\n",
    "    [\n",
    "        \"p_vec_az\",\n",
    "        \"p_vec_elev\",\n",
    "        \"easting_corr\",\n",
    "        \"northing_corr\",\n",
    "        \"Z_geoid\",\n",
    "        \"Z_refr\",\n",
    "        \"sea_level_interp\",\n",
    "    ],\n",
    "]"
   ]
  },
  {
   "cell_type": "code",
   "execution_count": null,
   "metadata": {},
   "outputs": [],
   "source": []
  },
  {
   "cell_type": "code",
   "execution_count": null,
   "metadata": {},
   "outputs": [],
   "source": []
  }
 ],
 "metadata": {
  "interpreter": {
   "hash": "ec7c7d4d013ec650dc8eb8b9310ce197f2a724f68d99fdc157fb921cb8b4fa41"
  },
  "kernelspec": {
   "display_name": "Python 3 (ipykernel)",
   "language": "python",
   "name": "python3"
  },
  "language_info": {
   "codemirror_mode": {
    "name": "ipython",
    "version": 3
   },
   "file_extension": ".py",
   "mimetype": "text/x-python",
   "name": "python",
   "nbconvert_exporter": "python",
   "pygments_lexer": "ipython3",
   "version": "3.9.10"
  }
 },
 "nbformat": 4,
 "nbformat_minor": 4
}
