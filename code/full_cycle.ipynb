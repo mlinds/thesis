{
 "cells": [
  {
   "cell_type": "code",
   "execution_count": null,
   "id": "6369fdb2-4861-449f-b9b7-4125feeae805",
   "metadata": {},
   "outputs": [],
   "source": [
    "from atl_module import icesat_bathymetry\n",
    "from atl_module import kriging\n",
    "from atl_module import kalman\n",
    "from atl_module.geospatial_functions import to_refr_corrected_gdf\n",
    "from atl_module import error_calc\n",
    "import geopandas as gpd\n",
    "import contextily as cx\n",
    "import xyzservices.providers as xyz\n",
    "import matplotlib.pyplot as plt\n",
    "import rasterio\n",
    "from rasterio.plot import show as rastershow\n",
    "import cartopy\n",
    "from importlib import reload \n",
    "import pandas as pd"
   ]
  },
  {
   "cell_type": "markdown",
   "id": "1326313f-8a1b-4683-a750-c2fb76b576bc",
   "metadata": {},
   "source": [
    "# Kalman Updating of GEBCO via ICESat-2 data\n",
    "\n",
    "This notebook walks through the full process, from raw ATL03 granules to the error checking.\n",
    "\n",
    "To run this notebook, the data for the test site is downloaded . The data downloaded will consists of granules that are subset just to our spatial AOI. Each granule contains a single satellite pass of the area, and it contains up to 6 beams. These granules will will contain all photon returns, including those with significant noise. They will also include returns from the ground, tree canopies, and the ocean surface. \n",
    "\n",
    "## Study site\n",
    "The study site chosen to test the methods initially was an area of the Florida Keys, an archipelago in Florida, USA. \n",
    "### ICESat-2 data at the study site\n",
    "The study site, along with the tracklines of the ICESat-2 tracks, as shown below:"
   ]
  },
  {
   "cell_type": "code",
   "execution_count": null,
   "id": "cee849bb-ec49-4689-9b5e-9b8475486fec",
   "metadata": {},
   "outputs": [],
   "source": [
    "tracklines = gpd.read_file('../data/test_sites/florida_keys/atl03_tracks.gpkg',)\n",
    "ax = tracklines.plot(figsize=(20,10))\n",
    "cx.add_basemap(ax,source=cx.providers.Esri.WorldImagery,crs=tracklines.crs)\n",
    "ax.set_xlabel(f'Easting in {tracklines.crs.name}')\n",
    "ax.set_ylabel(f'Northing in {tracklines.crs.name}')\n",
    "ax.set_title('Study site and tracklines')\n",
    "ax.get_figure().savefig('../document/figures/study_site_tracklines.jpg',dpi=300,facecolor='white',bbox_inches='tight')"
   ]
  },
  {
   "cell_type": "markdown",
   "id": "0a876a97-fa23-4e82-824c-534f13b3d4db",
   "metadata": {},
   "source": [
    "### Test data used for Comparison"
   ]
  },
  {
   "cell_type": "code",
   "execution_count": null,
   "id": "240f104d-f450-4eac-8490-0ffbfad64874",
   "metadata": {},
   "outputs": [],
   "source": [
    "# TODO add basemap, currently causing a bug\n",
    "with rasterio.open('../data/test_sites/florida_keys/in-situ-DEM/2019_irma.vrt') as femaras:\n",
    "    fig, ax = plt.subplots(figsize=(20,17))\n",
    "    ax.set_xlabel(f'Degrees longitude in {femaras.crs}')\n",
    "    ax.set_ylabel(f'Degrees latitude in {femaras.crs}')\n",
    "    ax.set_title('FEMA 2019 post-Irma topobathymetric Lidar data')\n",
    "    # cx.add_basemap(ax,source=cx.providers.OpenTopoMap,crs=femaras.crs)\n",
    "    image_hidden = ax.imshow(femaras.read(1,masked=True), \n",
    "                         cmap='inferno',)\n",
    "    rastershow(femaras,cmap='inferno',ax=ax)\n",
    "    \n",
    "\n",
    "    fig.colorbar(image_hidden,ax=ax)"
   ]
  },
  {
   "cell_type": "code",
   "execution_count": null,
   "id": "5bcb7dd6-8073-4513-b142-5711dbe32f17",
   "metadata": {},
   "outputs": [],
   "source": [
    "fig.savefig('../document/figures/florida_keys_ras.jpg',dpi=500,facecolor='white',bbox_inches='tight')"
   ]
  },
  {
   "cell_type": "code",
   "execution_count": null,
   "id": "1025a249",
   "metadata": {},
   "outputs": [],
   "source": [
    "kalman.crs.wkt"
   ]
  },
  {
   "cell_type": "code",
   "execution_count": null,
   "id": "8878784f",
   "metadata": {},
   "outputs": [],
   "source": [
    "with rasterio.open('../data/test_sites/florida_keys/bilinear.tif') as bilinear_raster:\n",
    "    fig, ax = plt.subplots(figsize=(20,10))\n",
    "    ax.set_xlabel(f'Easting UTM 17N')\n",
    "    ax.set_ylabel(f'Northing UTM 17N')\n",
    "    ax.set_title('GEBCO 50m bilinear interpolation')\n",
    "    # cx.add_basemap(ax,source=cx.providers.OpenTopoMap,crs=bilinear_raster.crs)\n",
    "    image_hidden = ax.imshow(bilinear_raster.read(1,masked=True), \n",
    "                         cmap='inferno',)\n",
    "    rastershow(bilinear_raster,cmap='inferno',ax=ax)\n",
    "    \n",
    "\n",
    "    fig.colorbar(image_hidden,ax=ax)\n",
    "    fig.savefig(fname='../document/figures/florida_bilinear_raster.jpg',bbox_inches='tight',facecolor='white',dpi=500)"
   ]
  },
  {
   "cell_type": "code",
   "execution_count": null,
   "id": "942476fd",
   "metadata": {},
   "outputs": [],
   "source": [
    "with rasterio.open('../data/test_sites/florida_keys/error.tif') as error_ras:\n",
    "    fig, ax = plt.subplots(figsize=(20,10))\n",
    "    ax.set_xlabel(f'Degrees longitude in {error_ras.crs}')\n",
    "    ax.set_ylabel(f'Degrees latitude in {error_ras.crs}')\n",
    "    ax.set_title('GEBCO + ICESat-2 combined')\n",
    "    image_hidden = ax.imshow(error_ras.read(1,masked=True), \n",
    "                         cmap='bwr',vmin=-5,vmax=5)\n",
    "    rastershow(error_ras,cmap='bwr',ax=ax,vmin=-5,vmax=5)\n",
    "    \n",
    "    fig.colorbar(image_hidden,ax=ax)\n",
    "    fig.savefig(fname='../document/figures/kalman_error.jpg',bbox_inches='tight',facecolor='white',dpi=500)"
   ]
  },
  {
   "cell_type": "code",
   "execution_count": null,
   "metadata": {},
   "outputs": [],
   "source": [
    "with rasterio.open('../data/test_sites/florida_keys/kalman_updated.tif') as kalman:\n",
    "    fig, ax = plt.subplots(figsize=(20,10))\n",
    "    ax.set_xlabel(f'Easting UTM 17N')\n",
    "    ax.set_ylabel(f'Northing UTM 17N')\n",
    "    ax.set_title('GEBCO + ICESat-2 combined')\n",
    "    # cx.add_basemap(ax,source=cx.providers.OpenTopoMap,crs=kalman.crs)\n",
    "    image_hidden = ax.imshow(kalman.read(1,masked=True), \n",
    "                         cmap='inferno',)\n",
    "    rastershow(kalman,cmap='inferno',ax=ax)\n",
    "    \n",
    "\n",
    "    fig.colorbar(image_hidden,ax=ax)\n",
    "    fig.savefig(fname='../document/figures/florida_kalman_updating.jpg',bbox_inches='tight',facecolor='white',dpi=500)"
   ]
  },
  {
   "cell_type": "markdown",
   "id": "3a16c504-0dac-43f9-a3c4-9cf729484aec",
   "metadata": {
    "tags": []
   },
   "source": [
    "## Step 1: Scan all beams in all granules for bathymetry points\n",
    "\n",
    "### Run KDE function\n",
    "The function below runs the KDE algorithm, and plots the resulting points"
   ]
  },
  {
   "cell_type": "code",
   "execution_count": null,
   "id": "5aeaefe6-686d-41c9-8f79-480b2878b3f9",
   "metadata": {},
   "outputs": [],
   "source": [
    "site_path = '../data/test_sites/florida_keys/'"
   ]
  },
  {
   "cell_type": "code",
   "execution_count": null,
   "id": "7e80f722-0017-4424-a540-24503294e0e9",
   "metadata": {},
   "outputs": [],
   "source": [
    "bathy_pts = icesat_bathymetry.bathy_from_all_tracks_parallel(\n",
    "    site_path,\n",
    "    window=200,\n",
    "    threshold_val=0.0,\n",
    "    req_perc_hconf=65,\n",
    ")"
   ]
  },
  {
   "cell_type": "code",
   "execution_count": null,
   "id": "35be1eef-7a9f-42ca-98a4-6545fd77c1e6",
   "metadata": {},
   "outputs": [],
   "source": [
    "gdf = to_refr_corrected_gdf(bathy_pts, crs=\"EPSG:32752\")\n",
    "gdf.to_file(site_path + \"/all_bathy_pts.gpkg\", overwrite=True)\n"
   ]
  },
  {
   "cell_type": "code",
   "execution_count": null,
   "id": "cd6ec845-5f88-403b-8089-6a1197389cd0",
   "metadata": {},
   "outputs": [],
   "source": [
    "gdf = gpd.read_file(site_path + \"/all_bathy_pts.gpkg\")\n",
    "gdf = error_calc.add_true_elevation(gdf,'../data/test_sites/florida_keys/in-situ-DEM/2019_irma.vrt')"
   ]
  },
  {
   "cell_type": "markdown",
   "id": "efc6c8ac-86da-47b5-98d4-a8993e892909",
   "metadata": {},
   "source": [
    "### Results"
   ]
  },
  {
   "cell_type": "code",
   "execution_count": null,
   "id": "305f4b98-8e2e-4622-9853-d4444f177f65",
   "metadata": {},
   "outputs": [],
   "source": [
    "ax = gdf.plot(figsize=(20,10),column='z_kde',cmap='inferno',legend=True,legend_kwds={'label':'Depth estimate using only ICESat-2 [m +MSL]'})\n",
    "cx.add_basemap(ax,source=cx.providers.OpenTopoMap,crs=gdf.crs)\n",
    "\n",
    "ax.set_xlabel(f'Easting in {gdf.crs.name}')\n",
    "ax.set_ylabel(f'Northing in {gdf.crs.name}')\n",
    "ax.set_title('Bathymetric photons identified by rolling-window KDE')\n",
    "ax.get_figure().savefig('../document/figures/florida_test_site_photon_map.jpg',dpi=400,bbox_inches='tight',facecolor='white')"
   ]
  },
  {
   "cell_type": "markdown",
   "id": "ed5a6151-df84-409f-ae57-fa16d1d9274d",
   "metadata": {
    "tags": []
   },
   "source": [
    "### Error between Lidar Data and Test data\n",
    "\n",
    "To test the accuracy of the algorithm that extracts signal from the ICESat-2 Granule, the Root mean sqaure error (RMSE) and the Mean average Error (MAE)"
   ]
  },
  {
   "cell_type": "code",
   "execution_count": null,
   "id": "9d6c1f55-063b-49a1-81b0-aa575c4a76ed",
   "metadata": {},
   "outputs": [],
   "source": [
    "overall_rmse = error_calc.calc_rms_error(gdf,['true_elevation'])['true_elevation_error']\n",
    "print(f'RMS error between photons and ground truth data is {overall_rmse}')"
   ]
  },
  {
   "cell_type": "code",
   "execution_count": null,
   "id": "7259763a-40ba-4b99-908f-b4d5165445fb",
   "metadata": {},
   "outputs": [],
   "source": [
    "# find a way to group by unique track ID\n",
    "error_by_type = gdf.groupby('beamtype').apply(lambda x:error_calc.calc_rms_error(x,['true_elevation'])['true_elevation_error']**(0.5))\n",
    "error_by_atmostpheric_profile = gdf.groupby('atm_profile').apply(lambda x:error_calc.calc_rms_error(x,['true_elevation'])['true_elevation_error']**(0.5))"
   ]
  },
  {
   "cell_type": "code",
   "execution_count": null,
   "id": "daac7b47-ddfd-4aa6-a2db-b8efbb39213d",
   "metadata": {},
   "outputs": [],
   "source": [
    "pd.DataFrame.from_dict({'RMS error':error_by_type}).style.to_latex(buf='../document/tables/rms_by_type.tex',caption='Beam Strength vs Error')\n",
    "pd.DataFrame.from_dict({'RMS Error':error_by_atmostpheric_profile}).style.to_latex(buf='../document/tables/rms_by_atm.tex',caption='Atmospheric Profile vs error')"
   ]
  },
  {
   "cell_type": "markdown",
   "id": "8a399418-f805-43cb-98ad-9cd9604f7255",
   "metadata": {},
   "source": [
    "## Step 2: Interpolate the resulting points using geostatistics"
   ]
  },
  {
   "cell_type": "code",
   "execution_count": null,
   "id": "37c36fd7-9a8a-4b66-8fc5-a641181d1760",
   "metadata": {},
   "outputs": [],
   "source": [
    "kriging.krige_bathy(krmodel=kriging.UniversalKriging,\n",
    "        initial_raster_path=f'{site_path}/bilinear.tif',\n",
    "        pointfolder_path=site_path,\n",
    "        npts=2000,\n",
    "        variogram_model='spherical',\n",
    "        outraster_path=f'{site_path}/kriged.tif')"
   ]
  },
  {
   "cell_type": "markdown",
   "id": "21975f70-ba34-4be4-b081-e2977406ad76",
   "metadata": {},
   "source": [
    "## Step 3: Run the Kalman updating "
   ]
  },
  {
   "cell_type": "code",
   "execution_count": null,
   "id": "d2950c3d-1e90-4594-b4ae-bc32c21481e9",
   "metadata": {},
   "outputs": [],
   "source": [
    "kalman.gridded_kalman_update(\"../data/test_sites/florida_keys/kalman_updated.tif\",\n",
    "        \"../data/test_sites/florida_keys/bilinear.tif\",\n",
    "        \"../data/test_sites/florida_keys/kriging_output.tif\",\n",
    "        1\n",
    "    )"
   ]
  },
  {
   "cell_type": "markdown",
   "id": "a61cc950-d3a4-4588-bbff-854d413b106f",
   "metadata": {},
   "source": [
    "## Step 4: Find error"
   ]
  },
  {
   "cell_type": "code",
   "execution_count": null,
   "id": "ba3c20df-45b4-4aa0-acfa-84728b03e32a",
   "metadata": {},
   "outputs": [],
   "source": [
    "rmse_error_kalman = error_calc.raster_RMSE(\"../data/test_sites/florida_keys/in-situ-DEM/2019_irma.vrt\",\n",
    "        \"../data/test_sites/florida_keys/kalman_updated.tif\",)\n"
   ]
  },
  {
   "cell_type": "code",
   "execution_count": null,
   "id": "a045f004",
   "metadata": {},
   "outputs": [],
   "source": [
    "rmse_error_naive = error_calc.raster_RMSE(\"../data/test_sites/florida_keys/in-situ-DEM/2019_irma.vrt\",\n",
    "        \"../data/test_sites/florida_keys/bilinear.tif\",)"
   ]
  },
  {
   "cell_type": "code",
   "execution_count": null,
   "id": "3504daf5-cfa8-4e6b-bece-b89700ae3619",
   "metadata": {},
   "outputs": [],
   "source": [
    "raster_summary = pd.DataFrame.from_dict({'Naive Bilinear Interpolation':rmse_error_naive,'Kalman Updated Raster':rmse_error_kalman},orient='index')\n",
    "raster_summary"
   ]
  },
  {
   "cell_type": "code",
   "execution_count": null,
   "id": "da8fb662-2c24-49dc-874c-1476d24d0bb8",
   "metadata": {},
   "outputs": [],
   "source": [
    "raster_summary.style.to_latex(buf='../document/tables/total_raster_error_kalman_vs_bi.tex',label='raster_rmse_comparison',position='h!',hrules=True,caption='Comparison of the error metrics between the Kalman updating and a simple bilinear interpolaton of GEBCO data')"
   ]
  },
  {
   "cell_type": "code",
   "execution_count": null,
   "id": "a0b3649a-c0b2-4445-9eaf-dd1541a4203e",
   "metadata": {},
   "outputs": [],
   "source": []
  }
 ],
 "metadata": {
  "kernelspec": {
   "display_name": "Python 3 (ipykernel)",
   "language": "python",
   "name": "python3"
  },
  "language_info": {
   "codemirror_mode": {
    "name": "ipython",
    "version": 3
   },
   "file_extension": ".py",
   "mimetype": "text/x-python",
   "name": "python",
   "nbconvert_exporter": "python",
   "pygments_lexer": "ipython3",
   "version": "3.9.10"
  },
  "vscode": {
   "interpreter": {
    "hash": "ec7c7d4d013ec650dc8eb8b9310ce197f2a724f68d99fdc157fb921cb8b4fa41"
   }
  }
 },
 "nbformat": 4,
 "nbformat_minor": 5
}
