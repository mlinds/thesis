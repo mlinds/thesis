{
 "cells": [
  {
   "cell_type": "code",
   "execution_count": 1,
   "metadata": {},
   "outputs": [],
   "source": [
    "import pdal"
   ]
  },
  {
   "cell_type": "code",
   "execution_count": 10,
   "metadata": {},
   "outputs": [],
   "source": [
    "h5filepath = '../data/Outputsns_test/processed_ATL03_20181017085235_02860107_005_01.h5'\n",
    "\n",
    "def load_beam_array(filename, beam):\n",
    "    \"\"\"Generate a structured numpy array from a netcdf file for a given beam\n",
    "\n",
    "    Args:\n",
    "        filename (Pathlike): Path to netCDF file\n",
    "        beam (str): beam name\n",
    "\n",
    "    Returns:\n",
    "        np.ndarray: numpy structured array of individual points\n",
    "    \"\"\"\n",
    "    dimensions_dist = {\n",
    "        \"X\": f\"{beam}/heights/lon_ph\",\n",
    "        \"Y\": f\"{beam}/heights/lat_ph\",\n",
    "        \"Z\": f\"{beam}/heights/h_ph\",\n",
    "        # \"tr_d\": f\"{beam}/heights/dist_ph_along\",\n",
    "        # \"time\":f\"{beam}/heights/delta_time\",\n",
    "    }\n",
    "    pipelineobject = pdal.Reader.hdf(\n",
    "        filename=filename, dimensions=dimensions_dist\n",
    "    ).pipeline()\n",
    "    try:\n",
    "        pipelineobject.execute()\n",
    "        return pipelineobject.arrays[0]\n",
    "    except KeyError:\n",
    "        print(f\"Beam {beam} missing from {filename}\")\n",
    "        return None\n"
   ]
  },
  {
   "cell_type": "code",
   "execution_count": 11,
   "metadata": {},
   "outputs": [
    {
     "name": "stdout",
     "output_type": "stream",
     "text": [
      "38.1 ms ± 2.95 ms per loop (mean ± std. dev. of 7 runs, 10 loops each)\n"
     ]
    }
   ],
   "source": [
    "%%timeit\n",
    "array = load_beam_array(h5filepath,'gt1r')"
   ]
  },
  {
   "cell_type": "code",
   "execution_count": 8,
   "metadata": {},
   "outputs": [
    {
     "data": {
      "text/plain": [
       "dtype([('X', '<f8'), ('Y', '<f8'), ('Z', '<f8'), ('tr_d', '<f4')])"
      ]
     },
     "execution_count": 8,
     "metadata": {},
     "output_type": "execute_result"
    }
   ],
   "source": [
    "array.dtype"
   ]
  },
  {
   "cell_type": "code",
   "execution_count": null,
   "metadata": {},
   "outputs": [],
   "source": []
  }
 ],
 "metadata": {
  "interpreter": {
   "hash": "d4d1e4263499bec80672ea0156c357c1ee493ec2b1c70f0acce89fc37c4a6abe"
  },
  "kernelspec": {
   "display_name": "Python 3.9.10 ('base')",
   "language": "python",
   "name": "python3"
  },
  "language_info": {
   "codemirror_mode": {
    "name": "ipython",
    "version": 3
   },
   "file_extension": ".py",
   "mimetype": "text/x-python",
   "name": "python",
   "nbconvert_exporter": "python",
   "pygments_lexer": "ipython3",
   "version": "3.9.10"
  },
  "orig_nbformat": 4
 },
 "nbformat": 4,
 "nbformat_minor": 2
}
