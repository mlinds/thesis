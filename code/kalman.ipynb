{
 "cells": [
  {
   "cell_type": "code",
   "execution_count": 1,
   "metadata": {},
   "outputs": [],
   "source": [
    "from filterpy.kalman import predict,update\n",
    "import numpy as np"
   ]
  },
  {
   "cell_type": "markdown",
   "metadata": {},
   "source": [
    "From website:\n",
    "\n",
    "- state : ndarray (dim_state, 1), default = [0,0,0…0]\n",
    "filter state estimate\n",
    "- P : ndarray (dim_state, dim_state), default eye(dim_x)\n",
    "covariance matrix\n",
    "- R : ndarray (dim_measured_value, dim_z), default eye(dim_x)\n",
    "measurement uncertainty/noise\n",
    "- measurement_func, : ndarray (dim_measured_value, dim_x)\n",
    "measurement function\n",
    "- B : ndarray (dim_state, dim_u), default 0\n",
    "control transition matrix\n",
    "\n",
    "\n",
    "- `dim_x` is the size of the state vector\n",
    "- `dim_z` is the size of the measurement vector\n",
    "- `dim_u` is the size of the control input?\n",
    "  - What is this?\n",
    "\n",
    "\n",
    "Use as a function, from docs\n",
    "```python\n",
    "while True:\n",
    "    measured_value, R = read_sensor()\n",
    "    state, cov_mat = predict(state, cov_mat, F, Q)\n",
    "    state, cov_mat = update(state, cov_mat, measured_value, measurement_noise, measurement_func,)\n",
    "```"
   ]
  },
  {
   "cell_type": "markdown",
   "metadata": {},
   "source": [
    "state,cov_mat = update(state, cov_mat, measured_value, measurement_noise, measurement_func,)"
   ]
  },
  {
   "cell_type": "code",
   "execution_count": 2,
   "metadata": {},
   "outputs": [
    {
     "name": "stdout",
     "output_type": "stream",
     "text": [
      "x = state, shape : (2,)\n",
      "P = covariance, shape : (2, 2)\n",
      "z = measured_value, shape : (2,)\n",
      "R = measurement_noise, shape : (2, 2)\n"
     ]
    }
   ],
   "source": [
    "# function that take arrsys measurements and uncertainties, applies the kalman filter\n",
    "\n",
    "state = np.array([1,10])\n",
    "covariance = np.eye(len(state))\n",
    "measured_value = np.array([50,10])\n",
    "measurement_noise  = 5*np.ones_like(covariance)\n",
    "\n",
    "print('x = state, shape :',state.shape)\n",
    "print('P = covariance, shape :',covariance.shape)\n",
    "print('z = measured_value, shape :',measured_value.shape)\n",
    "print('R = measurement_noise, shape :',measurement_noise.shape)\n",
    "n=1"
   ]
  },
  {
   "cell_type": "code",
   "execution_count": 3,
   "metadata": {},
   "outputs": [
    {
     "name": "stdout",
     "output_type": "stream",
     "text": [
      "predicted state:  [ 1 10]\n",
      "measured state:  [50 10]\n",
      "1\n"
     ]
    }
   ],
   "source": [
    "# print('covariance: ',covariance)\n",
    "\n",
    "\n",
    "print('predicted state: ',state)\n",
    "print('measured state: ',measured_value)\n",
    "print(n)\n",
    "n+=1\n",
    "state, covariance = predict(state, covariance, np.zeros_like(covariance), np.eye(len(state)))\n",
    "\n",
    "# state,covariance = update(\n",
    "#     x=state,\n",
    "#     P=covariance,\n",
    "#     z=measured_value,\n",
    "#     R=measurement_noise,\n",
    "#     H=np.ones(shape=(2,2)),\n",
    "#     # return_all=True\n",
    "# )"
   ]
  },
  {
   "cell_type": "code",
   "execution_count": 4,
   "metadata": {},
   "outputs": [],
   "source": [
    "def kalman_bathymetry(gebco,cov,measurements,measurement_uncertainties):\n",
    "    pass"
   ]
  },
  {
   "cell_type": "code",
   "execution_count": 5,
   "metadata": {},
   "outputs": [],
   "source": [
    "x=4\n",
    "P=1"
   ]
  },
  {
   "cell_type": "code",
   "execution_count": 6,
   "metadata": {},
   "outputs": [],
   "source": [
    "x,P = predict(x,P,0,0)\n",
    "\n",
    "x,P = update(\n",
    "    x=x,\n",
    "    P=P,\n",
    "    z=6.0,\n",
    "    R=0.1,\n",
    "    # H=0.0,\n",
    "    # return_all=True\n",
    ")"
   ]
  },
  {
   "cell_type": "code",
   "execution_count": 7,
   "metadata": {},
   "outputs": [
    {
     "name": "stdout",
     "output_type": "stream",
     "text": [
      "1.4.5\n"
     ]
    }
   ],
   "source": [
    "import filterpy\n",
    "print(filterpy.__version__)"
   ]
  },
  {
   "cell_type": "code",
   "execution_count": 8,
   "metadata": {},
   "outputs": [],
   "source": [
    "def simple_kalman(z,sigma,z_meas,sigma_meas):\n",
    "    variance = sigma**2\n",
    "    variance_meas= sigma_meas**2\n",
    "    gain = variance/(variance+variance_meas)\n",
    "    znew = z +gain*(z_meas-z)\n",
    "    # get the new variance and convert it to a standard deviation\n",
    "    sigmanew = ((1-gain)*variance)**0.5\n",
    "    return znew,sigmanew\n",
    "\n"
   ]
  },
  {
   "cell_type": "code",
   "execution_count": 9,
   "metadata": {},
   "outputs": [
    {
     "name": "stdout",
     "output_type": "stream",
     "text": [
      "predicted value is -10, standard deviation is 0.2\n",
      "predicted value is -9.03448275862069, standard deviation is 0.1856953381770519\n",
      "predicted value is -8.303030303030303, standard deviation is 0.17407765595569785\n",
      "predicted value is -7.72972972972973, standard deviation is 0.1643989873053573\n",
      "predicted value is -7.2682926829268295, standard deviation is 0.15617376188860607\n",
      "predicted value is -6.888888888888889, standard deviation is 0.14907119849998599\n",
      "predicted value is -6.571428571428572, standard deviation is 0.14285714285714288\n",
      "predicted value is -6.301886792452831, standard deviation is 0.13736056394868904\n",
      "predicted value is -6.070175438596492, standard deviation is 0.13245323570650439\n",
      "predicted value is -5.868852459016394, standard deviation is 0.128036879932896\n"
     ]
    }
   ],
   "source": [
    "z=-10\n",
    "sigma=0.2\n",
    "for i in range(10):\n",
    "    print(f'predicted value is {z}, standard deviation is {sigma}')\n",
    "    z,sigma=simple_kalman(z,sigma,-3,0.5)"
   ]
  },
  {
   "cell_type": "code",
   "execution_count": 10,
   "metadata": {},
   "outputs": [
    {
     "data": {
      "text/plain": [
       "(array([[1., 1., 1., 1.],\n",
       "        [1., 1., 1., 1.],\n",
       "        [1., 1., 1., 1.],\n",
       "        [1., 1., 1., 1.]]),\n",
       " array([[0.70710678, 0.70710678, 0.70710678, 0.70710678],\n",
       "        [0.70710678, 0.70710678, 0.70710678, 0.70710678],\n",
       "        [0.70710678, 0.70710678, 0.70710678, 0.70710678],\n",
       "        [0.70710678, 0.70710678, 0.70710678, 0.70710678]]))"
      ]
     },
     "execution_count": 10,
     "metadata": {},
     "output_type": "execute_result"
    }
   ],
   "source": [
    "# does it work as-is as a vector function?\n",
    "testval = 1*np.ones((4,4))\n",
    "meas,uncertainty = simple_kalman(testval,testval,testval,testval)\n",
    "meas,uncertainty\n",
    "# yes it does!"
   ]
  },
  {
   "cell_type": "code",
   "execution_count": 11,
   "metadata": {},
   "outputs": [],
   "source": [
    "import rasterio"
   ]
  },
  {
   "cell_type": "code",
   "execution_count": 12,
   "metadata": {},
   "outputs": [],
   "source": [
    "# load the results of the \n",
    "krige_results = rasterio.open('../data/resample_test/interp.tif')\n",
    "gebco_interp = rasterio.open('../data/resample_test/bilinear.tif')"
   ]
  },
  {
   "cell_type": "code",
   "execution_count": 48,
   "metadata": {},
   "outputs": [],
   "source": [
    "gebco_depth = gebco_interp.read(1)\n",
    "kriged_depth = krige_results.read(1)\n",
    "kriged_std = np.sqrt(krige_results.read(2))\n",
    "gebco_uncertainty = np.full_like(gebco_depth,3)"
   ]
  },
  {
   "cell_type": "code",
   "execution_count": 49,
   "metadata": {},
   "outputs": [
    {
     "data": {
      "text/plain": [
       "array([[2.487534 , 2.4828882, 2.4783094, ..., 2.3669076, 2.371185 ,\n",
       "        2.3756516],\n",
       "       [2.4835677, 2.4788415, 2.4741786, ..., 2.3618693, 2.3663156,\n",
       "        2.3709447],\n",
       "       [2.479702 , 2.4748948, 2.4701457, ..., 2.3569684, 2.3615975,\n",
       "        2.3663986],\n",
       "       ...,\n",
       "       [2.584009 , 2.5796428, 2.5752923, ..., 2.5851161, 2.5879111,\n",
       "        2.5907304],\n",
       "       [2.587557 , 2.583212 , 2.5788825, ..., 2.589569 , 2.5923598,\n",
       "        2.5951743],\n",
       "       [2.5911367, 2.5868125, 2.582504 , ..., 2.5940225, 2.5968087,\n",
       "        2.599619 ]], dtype=float32)"
      ]
     },
     "execution_count": 49,
     "metadata": {},
     "output_type": "execute_result"
    }
   ],
   "source": [
    "kriged_std"
   ]
  },
  {
   "cell_type": "code",
   "execution_count": 50,
   "metadata": {},
   "outputs": [],
   "source": [
    "updated_depth_grid,updated_uncertainty_grid = simple_kalman(gebco_depth,gebco_uncertainty,kriged_depth,kriged_std)"
   ]
  },
  {
   "cell_type": "code",
   "execution_count": 51,
   "metadata": {},
   "outputs": [],
   "source": [
    "import matplotlib.pyplot as plt"
   ]
  },
  {
   "cell_type": "code",
   "execution_count": 53,
   "metadata": {},
   "outputs": [
    {
     "data": {
      "text/plain": [
       "<matplotlib.legend.Legend at 0x7f9bdfb24e80>"
      ]
     },
     "execution_count": 53,
     "metadata": {},
     "output_type": "execute_result"
    },
    {
     "data": {
      "image/png": "[encoded data removed]",
      "text/plain": [
       "<Figure size 1440x720 with 2 Axes>"
      ]
     },
     "metadata": {
      "needs_background": "light"
     },
     "output_type": "display_data"
    }
   ],
   "source": [
    "row = 100\n",
    "fig,(ax1,ax2) = plt.subplots(2,1,figsize=(20,10))\n",
    "for grid in [gebco_depth,kriged_depth,updated_depth_grid,]:\n",
    "    ax1.plot(grid[:,row])\n",
    "for uncertaintygrid in [gebco_uncertainty,kriged_std,updated_uncertainty_grid]:\n",
    "    ax2.plot(uncertaintygrid[:,row])\n",
    "    \n",
    "ax1.legend(['gebco','kriging','final'])"
   ]
  },
  {
   "cell_type": "code",
   "execution_count": null,
   "metadata": {},
   "outputs": [],
   "source": []
  }
 ],
 "metadata": {
  "interpreter": {
   "hash": "ec7c7d4d013ec650dc8eb8b9310ce197f2a724f68d99fdc157fb921cb8b4fa41"
  },
  "kernelspec": {
   "display_name": "Python 3 (ipykernel)",
   "language": "python",
   "name": "python3"
  },
  "language_info": {
   "codemirror_mode": {
    "name": "ipython",
    "version": 3
   },
   "file_extension": ".py",
   "mimetype": "text/x-python",
   "name": "python",
   "nbconvert_exporter": "python",
   "pygments_lexer": "ipython3",
   "version": "3.9.10"
  }
 },
 "nbformat": 4,
 "nbformat_minor": 4
}
